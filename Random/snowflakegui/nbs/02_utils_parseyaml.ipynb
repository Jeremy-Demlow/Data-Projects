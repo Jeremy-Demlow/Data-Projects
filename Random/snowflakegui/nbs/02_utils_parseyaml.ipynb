{
 "cells": [
  {
   "cell_type": "code",
   "execution_count": null,
   "metadata": {},
   "outputs": [],
   "source": [
    "#default_exp utils.parseyaml"
   ]
  },
  {
   "cell_type": "code",
   "execution_count": null,
   "metadata": {},
   "outputs": [],
   "source": [
    "#hide\n",
    "from nbdev.showdoc import *"
   ]
  },
  {
   "cell_type": "code",
   "execution_count": null,
   "metadata": {},
   "outputs": [
    {
     "name": "stdout",
     "output_type": "stream",
     "text": [
      "Converted 00_core.ipynb.\n",
      "Converted 01_azure.ipynb.\n",
      "Converted 02_utils_parseyaml.ipynb.\n",
      "Converted 03_utils_dataframes.ipynb.\n",
      "Converted 04_dstools_preparedata.ipynb.\n",
      "Converted 05_snowflake_query.ipynb.\n",
      "Converted 06_snowflake_copyinto.ipynb.\n",
      "Converted index.ipynb.\n"
     ]
    }
   ],
   "source": [
    "#hide\n",
    "from nbdev.export import notebook2script\n",
    "notebook2script()"
   ]
  },
  {
   "cell_type": "code",
   "execution_count": null,
   "metadata": {},
   "outputs": [],
   "source": [
    "#export\n",
    "from easymigration.imports import *"
   ]
  },
  {
   "cell_type": "markdown",
   "metadata": {},
   "source": [
    "# ``ParseYaml`` & ``yml_reader``"
   ]
  },
  {
   "cell_type": "code",
   "execution_count": null,
   "metadata": {},
   "outputs": [],
   "source": [
    "#export\n",
    "class ParseYaml:\n",
    "    \"\"\"\n",
    "    Simple Parser from project yamls\n",
    "    Reading the yaml file\n",
    "\n",
    "    :param path: path to the yaml file\n",
    "    \"\"\"\n",
    "\n",
    "    def __init__(self, path: str, f_logger=logging.getLogger(__name__)):\n",
    "        self._logger = f_logger\n",
    "        if os.path.exists(path):\n",
    "            self.yaml_file = yml_reader(path, self._logger)\n",
    "        else:\n",
    "            self.yaml_file = None\n",
    "            self._logger.info(f'yaml file {path} does not exisit')\n",
    "\n",
    "    def get_yaml(self, data_list: list = None):\n",
    "        \"\"\"\n",
    "        Return Yaml Query Info\n",
    "\n",
    "        :param data_list: Optional if None returns full yaml\n",
    "        allows user to index into yaml file as far as they\n",
    "        want and index allows.\n",
    "\n",
    "        Return: specific yaml section\n",
    "        \"\"\"\n",
    "        if not data_list:\n",
    "            return self.yaml_file\n",
    "        yaml_key = self.yaml_file.get(f'{data_list[0]}')\n",
    "        if len(data_list) > 1:\n",
    "            for level in data_list[1:]:\n",
    "                yaml_key = yaml_key.get(f'{level}')\n",
    "        return yaml_key"
   ]
  },
  {
   "cell_type": "code",
   "execution_count": null,
   "metadata": {},
   "outputs": [],
   "source": [
    "#export\n",
    "def yml_reader(yml_filepath: str, logger: logging = None):\n",
    "    \"\"\"\n",
    "    Reading the yaml file.\n",
    "\n",
    "    :param yml_filepath: path to the yamlfile\n",
    "    :param logger: logging\n",
    "\n",
    "    Return: Dictionary of yaml file contents\n",
    "    \"\"\"\n",
    "    _logger = logger if logger is not None else logging.getLogger(__name__)\n",
    "    if os.path.exists(yml_filepath):\n",
    "        with open(yml_filepath) as stream:\n",
    "            yml = YAML(typ=\"safe\")\n",
    "            yml_dict = yml.load(stream)\n",
    "        return yml_dict\n",
    "    else:\n",
    "        _logger.info(f\"yml_filepath ({yml_filepath}) doesn't exisit\")"
   ]
  },
  {
   "cell_type": "markdown",
   "metadata": {},
   "source": [
    "# How to Use"
   ]
  },
  {
   "cell_type": "code",
   "execution_count": null,
   "metadata": {},
   "outputs": [
    {
     "data": {
      "text/markdown": [
       "<h2 id=\"ParseYaml\" class=\"doc_header\"><code>class</code> <code>ParseYaml</code><a href=\"\" class=\"source_link\" style=\"float:right\">[source]</a></h2>\n",
       "\n",
       "> <code>ParseYaml</code>(**`path`**:`str`, **`f_logger`**=*`<Logger __main__ (INFO)>`*)\n",
       "\n",
       "Simple Parser from project yamls\n",
       "Reading the yaml file\n",
       "\n",
       ":param path: path to the yaml file"
      ],
      "text/plain": [
       "<IPython.core.display.Markdown object>"
      ]
     },
     "metadata": {},
     "output_type": "display_data"
    }
   ],
   "source": [
    "show_doc(ParseYaml)"
   ]
  },
  {
   "cell_type": "code",
   "execution_count": null,
   "metadata": {},
   "outputs": [],
   "source": [
    "yaml_file = \"./files/test.yaml\"\n",
    "\n",
    "test_parser = ParseYaml(yaml_file)\n",
    "assert test_parser is not None, f\"parser_yaml should be a parser object {test_parser}\"\n",
    "assert test_parser.yaml_file == test_parser.get_yaml(), 'get_yaml default is to grab the yaml_file in __init__'"
   ]
  },
  {
   "cell_type": "code",
   "execution_count": null,
   "metadata": {},
   "outputs": [],
   "source": [
    "yaml_dict = test_parser.yaml_file\n",
    "assert type(yaml_dict) is dict, f\"parser_yaml.yaml_file should be a dict, found {type(yaml_dict)}\""
   ]
  },
  {
   "cell_type": "code",
   "execution_count": null,
   "metadata": {},
   "outputs": [],
   "source": [
    "yml_dict = test_parser.get_yaml(['local', 'query'])\n",
    "keys = []\n",
    "values = []\n",
    "for k, v in yml_dict.items():\n",
    "    keys.append(k)\n",
    "    values.append(v)\n",
    "assert len(keys) == 6, f\"length is 6 length shown f'{len(keys)}'\"\n",
    "assert len(values) == 6, f\"length is 6 length shown f'{len(v)}'\""
   ]
  },
  {
   "cell_type": "code",
   "execution_count": null,
   "metadata": {},
   "outputs": [],
   "source": [
    "account_name = test_parser.get_yaml(['local', 'query', 'account_name'])\n",
    "assert account_name == 'easymigratioon', f\"Looking for easymigratioon got {account_name}\""
   ]
  },
  {
   "cell_type": "code",
   "execution_count": null,
   "metadata": {},
   "outputs": [],
   "source": [
    "assert os.path.exists(yaml_file), f\"yaml file does not exist: {yaml_file}\"\n",
    "parser_yaml = ParseYaml(yaml_file)\n",
    "assert parser_yaml is not None, f\"parser_yaml should be a parser object {parser_yaml}\"\n",
    "yaml = parser_yaml.yaml_file\n",
    "assert type(yaml) is dict, f\"parser_yaml.yaml_file should be a dict, found {type(yaml)}\""
   ]
  },
  {
   "cell_type": "code",
   "execution_count": null,
   "metadata": {},
   "outputs": [],
   "source": [
    "#hide\n",
    "from nbdev.export import notebook2script\n",
    "notebook2script()"
   ]
  }
 ],
 "metadata": {
  "kernelspec": {
   "display_name": "Python 3",
   "language": "python",
   "name": "python3"
  }
 },
 "nbformat": 4,
 "nbformat_minor": 4
}
