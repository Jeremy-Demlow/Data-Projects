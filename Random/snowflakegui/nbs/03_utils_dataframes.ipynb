{
 "cells": [
  {
   "cell_type": "code",
   "execution_count": null,
   "metadata": {},
   "outputs": [],
   "source": [
    "#default_exp utils.dataframes"
   ]
  },
  {
   "cell_type": "code",
   "execution_count": null,
   "metadata": {},
   "outputs": [],
   "source": [
    "#hide\n",
    "from nbdev.showdoc import *"
   ]
  },
  {
   "cell_type": "code",
   "execution_count": null,
   "metadata": {},
   "outputs": [
    {
     "name": "stdout",
     "output_type": "stream",
     "text": [
      "Converted 00_core.ipynb.\n",
      "Converted 01_azure.ipynb.\n",
      "Converted 02_utils_parseyaml.ipynb.\n",
      "Converted 03_utils_dataframes.ipynb.\n",
      "Converted 04_dstools_preparedata.ipynb.\n",
      "Converted 05_snowflake_query.ipynb.\n",
      "Converted 06_snowflake_copyinto.ipynb.\n",
      "Converted index.ipynb.\n"
     ]
    }
   ],
   "source": [
    "#hide\n",
    "from nbdev.export import notebook2script\n",
    "notebook2script()"
   ]
  },
  {
   "cell_type": "markdown",
   "metadata": {},
   "source": [
    "# Dataframes"
   ]
  },
  {
   "cell_type": "code",
   "execution_count": null,
   "metadata": {},
   "outputs": [],
   "source": [
    "#export\n",
    "from easymigration.imports import *"
   ]
  },
  {
   "cell_type": "code",
   "execution_count": null,
   "metadata": {},
   "outputs": [],
   "source": [
    "# export\n",
    "def join_df(left, right, left_on: list, right_on=None, suffix='_y', how='left'):\n",
    "    \"\"\"helper for pd.merge\"\"\"\n",
    "    if right_on is None:\n",
    "        right_on = left_on\n",
    "    return left.merge(right, how=how, left_on=left_on, right_on=right_on, suffixes=(\"\", suffix))\n",
    "\n",
    "\n",
    "def display_all(df):\n",
    "    \"\"\"see more of the data frame\"\"\"\n",
    "    with pd.option_context(\"display.max_rows\", 1000):\n",
    "        with pd.option_context(\"display.max_columns\", 1000):\n",
    "            display(df)"
   ]
  },
  {
   "cell_type": "markdown",
   "metadata": {},
   "source": [
    "# How to Use"
   ]
  },
  {
   "cell_type": "code",
   "execution_count": null,
   "metadata": {},
   "outputs": [
    {
     "data": {
      "text/markdown": [
       "<h4 id=\"join_df\" class=\"doc_header\"><code>join_df</code><a href=\"__main__.py#L2\" class=\"source_link\" style=\"float:right\">[source]</a></h4>\n",
       "\n",
       "> <code>join_df</code>(**`left`**, **`right`**, **`left_on`**:`list`, **`right_on`**=*`None`*, **`suffix`**=*`'_y'`*, **`how`**=*`'left'`*)\n",
       "\n",
       "helper for pd.merge"
      ],
      "text/plain": [
       "<IPython.core.display.Markdown object>"
      ]
     },
     "metadata": {},
     "output_type": "display_data"
    }
   ],
   "source": [
    "show_doc(join_df)"
   ]
  },
  {
   "cell_type": "code",
   "execution_count": null,
   "metadata": {},
   "outputs": [],
   "source": [
    "dict1 = [{'ecid': 150, 'state': 'CA', 'year': 2010, 'visits': 10},\n",
    "         {'ecid': 151, 'state': 'LA', 'month': 2, 'visits': 0},\n",
    "         {'ecid': 160, 'state': 'CO', 'month': 1, 'visits': 2},\n",
    "         {'ecid': None, 'month': 'june', 'visits': 123}]\n",
    "\n",
    "dict2 = [{'ecid': 150, 'home': 'CA', 'avg_visits': 0.20, 'LTR': 6},\n",
    "         {'ecid': 151, 'home': 'LA', 'avg_visits': 2.68, 'LTR': 2},\n",
    "         {'ecid': 160, 'home': 'CO', 'avg_visits': 0.56, 'LTR': 4},\n",
    "         {'ecid': 100, 'home': 'LA', 'avg_visits': 2.0, 'LTR': 3}]\n",
    "\n",
    "dict3 = [{'ecid': 150, 'state': 'CA', 'home': 'CA', 'avg_visits': 0.20, 'LTR': 6},\n",
    "         {'ecid': 150, 'state': 'CO', 'home': 'AZ', 'avg_visits': 0.20, 'LTR': 6},\n",
    "         {'ecid': 151, 'home': 'LA', 'avg_visits': 2.68, 'LTR': 2},\n",
    "         {'ecid': 160, 'home': 'CO', 'avg_visits': 0.56, 'LTR': 4},\n",
    "         {'ecid': 100, 'home': 'LA', 'avg_visits': 2.0, 'LTR': 3}]\n",
    "\n",
    "df = pd.DataFrame(dict1)\n",
    "df2 = pd.DataFrame(dict2)\n",
    "df3 = pd.DataFrame(dict3)"
   ]
  },
  {
   "cell_type": "code",
   "execution_count": null,
   "metadata": {},
   "outputs": [],
   "source": [
    "join = join_df(df, df2, left_on=['ecid'])\n",
    "assert int(int(df.shape[1]) + int(df2.shape[1])) - 1 == join.shape[1]"
   ]
  },
  {
   "cell_type": "code",
   "execution_count": null,
   "metadata": {},
   "outputs": [],
   "source": [
    "join = join_df(df2, df, left_on=['ecid'], how='right')\n",
    "assert int(int(df.shape[1]) + int(df2.shape[1])) - 1 == join.shape[1]"
   ]
  },
  {
   "cell_type": "code",
   "execution_count": null,
   "metadata": {},
   "outputs": [],
   "source": [
    "join = join_df(df, df2, left_on=['ecid'], how='inner')\n",
    "assert join.shape[0] == 3, f\"expecting 3 rows (150, 151, 160), found {join}\"\n",
    "assert set(join.ecid) == {150, 151, 160}, f\"expecting 3 rows (150, 151, 160), found {join}\""
   ]
  },
  {
   "cell_type": "code",
   "execution_count": null,
   "metadata": {},
   "outputs": [],
   "source": [
    "join = join_df(df, df3, left_on=['ecid', 'state'], how='inner')\n",
    "assert join.shape[0] == 1, f\"only 1 row should match in {join}\""
   ]
  },
  {
   "cell_type": "code",
   "execution_count": null,
   "metadata": {},
   "outputs": [],
   "source": [
    "#hide\n",
    "from nbdev.export import notebook2script\n",
    "notebook2script()"
   ]
  }
 ],
 "metadata": {
  "kernelspec": {
   "display_name": "Python 3",
   "language": "python",
   "name": "python3"
  }
 },
 "nbformat": 4,
 "nbformat_minor": 4
}
