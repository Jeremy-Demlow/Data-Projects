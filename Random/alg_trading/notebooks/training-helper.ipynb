{
 "cells": [
  {
   "cell_type": "markdown",
   "metadata": {},
   "source": [
    "# Multiple Stock Training Helper"
   ]
  },
  {
   "cell_type": "code",
   "execution_count": 2,
   "metadata": {
    "ExecuteTime": {
     "end_time": "2020-12-23T16:35:02.742241Z",
     "start_time": "2020-12-23T16:35:02.284849Z"
    }
   },
   "outputs": [],
   "source": [
    "%reload_ext autoreload\n",
    "%autoreload 2\n",
    "%matplotlib inline\n",
    "\n",
    "import sys\n",
    "sys.path.insert(1, './..')"
   ]
  },
  {
   "cell_type": "code",
   "execution_count": 3,
   "metadata": {
    "ExecuteTime": {
     "end_time": "2020-12-23T16:35:03.892581Z",
     "start_time": "2020-12-23T16:35:02.819499Z"
    }
   },
   "outputs": [],
   "source": [
    "from quantML import scrape\n",
    "from quantML import preprocess\n",
    "from quantML import ml\n",
    "from quantML import production\n",
    "\n",
    "import pandas as pd\n",
    "import numpy as np\n",
    "from matplotlib import pyplot as plt\n",
    "import pickle\n",
    "\n",
    "from sklearn.decomposition import PCA\n",
    "from sklearn.model_selection import train_test_split\n",
    "from sklearn.ensemble import RandomForestRegressor\n",
    "from sklearn import metrics\n",
    "from sklearn.model_selection import RandomizedSearchCV\n",
    "from sklearn.model_selection import GridSearchCV\n",
    "from sklearn.preprocessing import StandardScaler"
   ]
  },
  {
   "cell_type": "markdown",
   "metadata": {},
   "source": [
    "## Data Loading"
   ]
  },
  {
   "cell_type": "code",
   "execution_count": 8,
   "metadata": {
    "ExecuteTime": {
     "end_time": "2020-12-23T17:05:09.991456Z",
     "start_time": "2020-12-23T17:05:09.176298Z"
    }
   },
   "outputs": [],
   "source": [
    "price_df = pd.read_parquet('stock-data/historical-scrape-2013-2019.snappy.parquet')"
   ]
  },
  {
   "cell_type": "code",
   "execution_count": 37,
   "metadata": {
    "ExecuteTime": {
     "end_time": "2020-12-23T17:39:43.874989Z",
     "start_time": "2020-12-23T17:39:43.799578Z"
    }
   },
   "outputs": [],
   "source": [
    "rand_ticks = price_df.ticker.unique()[np.random.randint(0,500,size=(30,))]"
   ]
  },
  {
   "cell_type": "markdown",
   "metadata": {},
   "source": [
    "## Model Training"
   ]
  },
  {
   "cell_type": "code",
   "execution_count": 39,
   "metadata": {
    "ExecuteTime": {
     "end_time": "2020-12-23T20:03:10.124342Z",
     "start_time": "2020-12-23T17:44:39.458712Z"
    },
    "scrolled": true
   },
   "outputs": [
    {
     "name": "stdout",
     "output_type": "stream",
     "text": [
      "HUM - 1 out of 30\n",
      "Average Weekly Return 0.41\n",
      "Weekly Return on Threshold 1.47\n",
      "JBHT - 2 out of 30\n",
      "Average Weekly Return 0.02\n",
      "Weekly Return on Threshold 1.38\n",
      "JNJ - 3 out of 30\n",
      "Average Weekly Return 0.28\n",
      "Weekly Return on Threshold 1.27\n",
      "LB - 4 out of 30\n",
      "Average Weekly Return -0.05\n",
      "Weekly Return on Threshold 0.62\n",
      "GPC - 5 out of 30\n",
      "Average Weekly Return 0.25\n",
      "Weekly Return on Threshold 1.39\n",
      "LH - 6 out of 30\n",
      "Average Weekly Return 0.18\n",
      "Weekly Return on Threshold 1.00\n",
      "LEG - 7 out of 30\n",
      "Average Weekly Return 0.04\n",
      "Weekly Return on Threshold 0.94\n",
      "FOXA - 8 out of 30\n",
      "Average Weekly Return 0.67\n",
      "Weekly Return on Threshold 1.75\n",
      "PVH - 9 out of 30\n",
      "Average Weekly Return 0.08\n",
      "Weekly Return on Threshold 1.23\n",
      "WMT - 10 out of 30\n",
      "Average Weekly Return 0.10\n",
      "Weekly Return on Threshold 0.59\n",
      "KO - 11 out of 30\n",
      "Average Weekly Return 0.08\n",
      "Weekly Return on Threshold 0.81\n",
      "PNW - 12 out of 30\n",
      "Average Weekly Return 0.13\n",
      "Weekly Return on Threshold 1.02\n",
      "FB - 13 out of 30\n",
      "Average Weekly Return 0.76\n",
      "Weekly Return on Threshold 1.71\n",
      "F - 14 out of 30\n",
      "Average Weekly Return -0.14\n",
      "Weekly Return on Threshold 1.32\n",
      "CME - 15 out of 30\n",
      "Average Weekly Return 0.49\n",
      "Weekly Return on Threshold 1.57\n",
      "WMB - 16 out of 30\n",
      "Average Weekly Return -0.30\n",
      "Weekly Return on Threshold 0.38\n",
      "AVB - 17 out of 30\n",
      "Average Weekly Return -0.03\n",
      "Weekly Return on Threshold 0.95\n",
      "BR - 18 out of 30\n",
      "Average Weekly Return 0.26\n",
      "Weekly Return on Threshold 1.12\n",
      "GOOGL - 19 out of 30\n",
      "Average Weekly Return 0.43\n",
      "Weekly Return on Threshold 1.08\n",
      "ORLY - 20 out of 30\n",
      "Average Weekly Return 0.60\n",
      "Weekly Return on Threshold 1.72\n",
      "SYY - 21 out of 30\n",
      "Average Weekly Return 0.26\n",
      "Weekly Return on Threshold 0.82\n",
      "INFO - 22 out of 30\n",
      "Average Weekly Return 0.42\n",
      "Weekly Return on Threshold 1.09\n",
      "KMI - 23 out of 30\n",
      "Average Weekly Return -0.26\n",
      "Weekly Return on Threshold 1.91\n",
      "GE - 24 out of 30\n",
      "Average Weekly Return -0.20\n",
      "Weekly Return on Threshold -0.21\n",
      "SCHW - 25 out of 30\n",
      "Average Weekly Return 0.46\n",
      "Weekly Return on Threshold 1.85\n",
      "MSFT - 26 out of 30\n",
      "Average Weekly Return 0.53\n",
      "Weekly Return on Threshold 1.18\n",
      "MRK - 27 out of 30\n",
      "Average Weekly Return 0.17\n",
      "Weekly Return on Threshold 0.82\n",
      "IP - 28 out of 30\n",
      "Average Weekly Return 0.06\n",
      "Weekly Return on Threshold 1.15\n",
      "RTX - 29 out of 30\n",
      "Average Weekly Return 0.07\n",
      "Weekly Return on Threshold 0.95\n",
      "AVY - 30 out of 30\n",
      "Average Weekly Return 0.20\n",
      "Weekly Return on Threshold 1.09\n"
     ]
    }
   ],
   "source": [
    "tot = rand_ticks.shape[0]\n",
    "i = 1\n",
    "for ticker in rand_ticks:\n",
    "    print(f'{ticker} - {i} out of {tot}')\n",
    "    mod = production.ModelTrain(ticker=ticker, price_df=price_df, file_path='modelfiles/tabularML', feat_days=5, pred_days=5)\n",
    "    mod.preprocess_data()\n",
    "    mod.reduce_dimensions()\n",
    "    mod.hypertune()\n",
    "    mod.generate_model()\n",
    "    mod.save_model_files()\n",
    "    i+=1"
   ]
  },
  {
   "cell_type": "code",
   "execution_count": 40,
   "metadata": {
    "ExecuteTime": {
     "end_time": "2020-12-23T20:04:36.657546Z",
     "start_time": "2020-12-23T20:04:36.589129Z"
    }
   },
   "outputs": [
    {
     "data": {
      "text/plain": [
       "array(['HUM', 'JBHT', 'JNJ', 'LB', 'GPC', 'LH', 'LEG', 'FOXA', 'PVH',\n",
       "       'WMT', 'KO', 'PNW', 'FB', 'F', 'CME', 'WMB', 'AVB', 'BR', 'GOOGL',\n",
       "       'ORLY', 'SYY', 'INFO', 'KMI', 'GE', 'SCHW', 'MSFT', 'MRK', 'IP',\n",
       "       'RTX', 'AVY'], dtype=object)"
      ]
     },
     "execution_count": 40,
     "metadata": {},
     "output_type": "execute_result"
    }
   ],
   "source": [
    "rand_ticks"
   ]
  },
  {
   "cell_type": "code",
   "execution_count": null,
   "metadata": {},
   "outputs": [],
   "source": []
  }
 ],
 "metadata": {
  "kernelspec": {
   "display_name": "Python 3",
   "language": "python",
   "name": "python3"
  },
  "language_info": {
   "codemirror_mode": {
    "name": "ipython",
    "version": 3
   },
   "file_extension": ".py",
   "mimetype": "text/x-python",
   "name": "python",
   "nbconvert_exporter": "python",
   "pygments_lexer": "ipython3",
   "version": "3.8.3"
  },
  "toc": {
   "base_numbering": 1,
   "nav_menu": {},
   "number_sections": true,
   "sideBar": true,
   "skip_h1_title": false,
   "title_cell": "Table of Contents",
   "title_sidebar": "Contents",
   "toc_cell": false,
   "toc_position": {},
   "toc_section_display": true,
   "toc_window_display": false
  }
 },
 "nbformat": 4,
 "nbformat_minor": 4
}
