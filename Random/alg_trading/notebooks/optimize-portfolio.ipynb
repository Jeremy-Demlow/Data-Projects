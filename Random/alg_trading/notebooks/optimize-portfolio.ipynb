{
 "cells": [
  {
   "cell_type": "markdown",
   "metadata": {},
   "source": [
    "# Portfolio Optimization"
   ]
  },
  {
   "cell_type": "code",
   "execution_count": 1,
   "metadata": {
    "ExecuteTime": {
     "end_time": "2020-12-23T16:25:08.821208Z",
     "start_time": "2020-12-23T16:25:08.339201Z"
    }
   },
   "outputs": [],
   "source": [
    "%reload_ext autoreload\n",
    "%autoreload 2\n",
    "%matplotlib inline\n",
    "\n",
    "import sys\n",
    "sys.path.insert(1, './..')"
   ]
  },
  {
   "cell_type": "code",
   "execution_count": 2,
   "metadata": {
    "ExecuteTime": {
     "end_time": "2020-12-23T16:25:09.439703Z",
     "start_time": "2020-12-23T16:25:08.823757Z"
    }
   },
   "outputs": [],
   "source": [
    "from quantML import scrape\n",
    "from quantML import optimize\n",
    "\n",
    "import scipy\n",
    "import numpy as np\n",
    "import pandas as pd\n",
    "from scipy.optimize import minimize"
   ]
  },
  {
   "cell_type": "markdown",
   "metadata": {},
   "source": [
    "## Fake Data"
   ]
  },
  {
   "cell_type": "code",
   "execution_count": 3,
   "metadata": {
    "ExecuteTime": {
     "end_time": "2020-12-23T16:25:24.257134Z",
     "start_time": "2020-12-23T16:25:09.442644Z"
    }
   },
   "outputs": [
    {
     "name": "stderr",
     "output_type": "stream",
     "text": [
      "INFO:quantML.scrape:Scraping MMM - 1 out of 20 tickers\n",
      "INFO:quantML.scrape:Scraping LNT - 2 out of 20 tickers\n",
      "INFO:quantML.scrape:Scraping ANSS - 3 out of 20 tickers\n",
      "INFO:quantML.scrape:Scraping BLL - 4 out of 20 tickers\n",
      "INFO:quantML.scrape:Scraping COG - 5 out of 20 tickers\n",
      "INFO:quantML.scrape:Scraping CVX - 6 out of 20 tickers\n",
      "INFO:quantML.scrape:Scraping CXO - 7 out of 20 tickers\n",
      "INFO:quantML.scrape:Scraping DVN - 8 out of 20 tickers\n",
      "INFO:quantML.scrape:Scraping ETN - 9 out of 20 tickers\n",
      "INFO:quantML.scrape:Scraping EXPD - 10 out of 20 tickers\n",
      "INFO:quantML.scrape:Scraping FBHS - 11 out of 20 tickers\n",
      "INFO:quantML.scrape:Scraping HIG - 12 out of 20 tickers\n",
      "INFO:quantML.scrape:Scraping IEX - 13 out of 20 tickers\n",
      "INFO:quantML.scrape:Scraping J - 14 out of 20 tickers\n",
      "INFO:quantML.scrape:Scraping LRCX - 15 out of 20 tickers\n",
      "INFO:quantML.scrape:Scraping MAR - 16 out of 20 tickers\n",
      "INFO:quantML.scrape:Scraping MDLZ - 17 out of 20 tickers\n",
      "INFO:quantML.scrape:Scraping NTRS - 18 out of 20 tickers\n",
      "INFO:quantML.scrape:Scraping PYPL - 19 out of 20 tickers\n",
      "INFO:quantML.scrape:Scraping PEG - 20 out of 20 tickers\n"
     ]
    }
   ],
   "source": [
    "tickers = np.array(scrape.get_sp500_tickers()[0:400:20])\n",
    "price_df = scrape.get_prices(tickers, '2015-01-01', '2020-12-21',)\n",
    "means = price_df.groupby('ticker').mean()\n",
    "tickers = np.array(means.index)"
   ]
  },
  {
   "cell_type": "code",
   "execution_count": 4,
   "metadata": {
    "ExecuteTime": {
     "end_time": "2020-12-23T16:25:24.291516Z",
     "start_time": "2020-12-23T16:25:24.259984Z"
    }
   },
   "outputs": [],
   "source": [
    "pred_move = np.random.normal(0.0, 0.01, size=(tickers.shape))*100\n",
    "costs = means.to_numpy().T[0]\n",
    "positions = np.random.uniform(0,1,size=(tickers.shape))\n",
    "positions = positions / np.sum(positions)"
   ]
  },
  {
   "cell_type": "markdown",
   "metadata": {},
   "source": [
    "## Formulation\n",
    "\n",
    "Objective Function - Maximize expected return while maintaining diversity in stocks\n",
    "\n",
    "Constraints - Bounded percentages, constrained total positions"
   ]
  },
  {
   "cell_type": "code",
   "execution_count": 5,
   "metadata": {
    "ExecuteTime": {
     "end_time": "2020-12-23T16:25:24.331432Z",
     "start_time": "2020-12-23T16:25:24.293724Z"
    }
   },
   "outputs": [],
   "source": [
    "corr = price_df.pivot(index='date', columns='ticker', values='close').corr().to_numpy()\n",
    "\n",
    "def get_adjusted_correlation(corr, positions):\n",
    "    return scipy.linalg.norm(np.triu(corr)@positions, ord=2)\n",
    "\n",
    "def objective(x, pred_move=pred_move):\n",
    "    positions = x\n",
    "    expected_return = pred_move@positions\n",
    "    adjusted_correlation = get_adjusted_correlation(corr, positions)\n",
    "    return -(expected_return / adjusted_correlation / np.std(positions))\n",
    "\n",
    "bnds = [(0,1) for i in pred_move] # no short positions\n",
    "cons = ({'type': 'eq', 'fun': lambda x:  1-sum(x)},) # fractions add up to 0"
   ]
  },
  {
   "cell_type": "markdown",
   "metadata": {},
   "source": [
    "## Implementation"
   ]
  },
  {
   "cell_type": "code",
   "execution_count": 6,
   "metadata": {
    "ExecuteTime": {
     "end_time": "2020-12-23T16:25:24.441270Z",
     "start_time": "2020-12-23T16:25:24.333703Z"
    }
   },
   "outputs": [
    {
     "name": "stdout",
     "output_type": "stream",
     "text": [
      "Status - True\n",
      "\n",
      "Original\n",
      "Expected Return: -0.0263951624060954\n",
      "Diversification: 1.1499058121557857\n",
      "\n",
      "Model Final\n",
      "Expected Return: 1.1329151735605247\n",
      "Diversification: 0.45799028984081575\n",
      "\n",
      "ML Adjusted Final\n",
      "Expected Return: 1.2017728507176098\n",
      "Diversification: 0.46913199693665514\n"
     ]
    },
    {
     "data": {
      "text/html": [
       "<div>\n",
       "<style scoped>\n",
       "    .dataframe tbody tr th:only-of-type {\n",
       "        vertical-align: middle;\n",
       "    }\n",
       "\n",
       "    .dataframe tbody tr th {\n",
       "        vertical-align: top;\n",
       "    }\n",
       "\n",
       "    .dataframe thead th {\n",
       "        text-align: right;\n",
       "    }\n",
       "</style>\n",
       "<table border=\"1\" class=\"dataframe\">\n",
       "  <thead>\n",
       "    <tr style=\"text-align: right;\">\n",
       "      <th></th>\n",
       "      <th>cost</th>\n",
       "      <th>ml_pred_weekly_movement</th>\n",
       "      <th>opt_fractional_position</th>\n",
       "    </tr>\n",
       "  </thead>\n",
       "  <tbody>\n",
       "    <tr>\n",
       "      <th>COG</th>\n",
       "      <td>23.062746</td>\n",
       "      <td>1.882418</td>\n",
       "      <td>2.777954e-01</td>\n",
       "    </tr>\n",
       "    <tr>\n",
       "      <th>ANSS</th>\n",
       "      <td>159.431011</td>\n",
       "      <td>1.180008</td>\n",
       "      <td>1.966983e-01</td>\n",
       "    </tr>\n",
       "    <tr>\n",
       "      <th>BLL</th>\n",
       "      <td>48.780243</td>\n",
       "      <td>0.886481</td>\n",
       "      <td>1.727404e-01</td>\n",
       "    </tr>\n",
       "    <tr>\n",
       "      <th>FBHS</th>\n",
       "      <td>57.457926</td>\n",
       "      <td>1.247746</td>\n",
       "      <td>1.472019e-01</td>\n",
       "    </tr>\n",
       "    <tr>\n",
       "      <th>DVN</th>\n",
       "      <td>33.907560</td>\n",
       "      <td>0.533263</td>\n",
       "      <td>1.350094e-01</td>\n",
       "    </tr>\n",
       "    <tr>\n",
       "      <th>LNT</th>\n",
       "      <td>41.953404</td>\n",
       "      <td>0.844951</td>\n",
       "      <td>3.714131e-02</td>\n",
       "    </tr>\n",
       "    <tr>\n",
       "      <th>EXPD</th>\n",
       "      <td>62.784714</td>\n",
       "      <td>0.078011</td>\n",
       "      <td>2.735141e-02</td>\n",
       "    </tr>\n",
       "    <tr>\n",
       "      <th>PEG</th>\n",
       "      <td>49.110864</td>\n",
       "      <td>0.730255</td>\n",
       "      <td>6.061864e-03</td>\n",
       "    </tr>\n",
       "    <tr>\n",
       "      <th>LRCX</th>\n",
       "      <td>171.296410</td>\n",
       "      <td>0.419036</td>\n",
       "      <td>2.321576e-12</td>\n",
       "    </tr>\n",
       "    <tr>\n",
       "      <th>NTRS</th>\n",
       "      <td>85.709136</td>\n",
       "      <td>-1.041542</td>\n",
       "      <td>0.000000e+00</td>\n",
       "    </tr>\n",
       "    <tr>\n",
       "      <th>MMM</th>\n",
       "      <td>180.120146</td>\n",
       "      <td>-0.479626</td>\n",
       "      <td>0.000000e+00</td>\n",
       "    </tr>\n",
       "    <tr>\n",
       "      <th>MDLZ</th>\n",
       "      <td>45.876676</td>\n",
       "      <td>-1.503653</td>\n",
       "      <td>0.000000e+00</td>\n",
       "    </tr>\n",
       "    <tr>\n",
       "      <th>MAR</th>\n",
       "      <td>101.928417</td>\n",
       "      <td>-0.302024</td>\n",
       "      <td>0.000000e+00</td>\n",
       "    </tr>\n",
       "    <tr>\n",
       "      <th>IEX</th>\n",
       "      <td>122.505944</td>\n",
       "      <td>-0.359790</td>\n",
       "      <td>0.000000e+00</td>\n",
       "    </tr>\n",
       "    <tr>\n",
       "      <th>J</th>\n",
       "      <td>64.211476</td>\n",
       "      <td>-0.022461</td>\n",
       "      <td>0.000000e+00</td>\n",
       "    </tr>\n",
       "    <tr>\n",
       "      <th>HIG</th>\n",
       "      <td>48.037580</td>\n",
       "      <td>-0.668439</td>\n",
       "      <td>0.000000e+00</td>\n",
       "    </tr>\n",
       "    <tr>\n",
       "      <th>ETN</th>\n",
       "      <td>75.957188</td>\n",
       "      <td>-0.706800</td>\n",
       "      <td>0.000000e+00</td>\n",
       "    </tr>\n",
       "    <tr>\n",
       "      <th>CXO</th>\n",
       "      <td>108.616702</td>\n",
       "      <td>-0.259068</td>\n",
       "      <td>0.000000e+00</td>\n",
       "    </tr>\n",
       "    <tr>\n",
       "      <th>CVX</th>\n",
       "      <td>106.042207</td>\n",
       "      <td>-1.646072</td>\n",
       "      <td>0.000000e+00</td>\n",
       "    </tr>\n",
       "    <tr>\n",
       "      <th>PYPL</th>\n",
       "      <td>83.142674</td>\n",
       "      <td>-0.148524</td>\n",
       "      <td>0.000000e+00</td>\n",
       "    </tr>\n",
       "  </tbody>\n",
       "</table>\n",
       "</div>"
      ],
      "text/plain": [
       "            cost  ml_pred_weekly_movement  opt_fractional_position\n",
       "COG    23.062746                 1.882418             2.777954e-01\n",
       "ANSS  159.431011                 1.180008             1.966983e-01\n",
       "BLL    48.780243                 0.886481             1.727404e-01\n",
       "FBHS   57.457926                 1.247746             1.472019e-01\n",
       "DVN    33.907560                 0.533263             1.350094e-01\n",
       "LNT    41.953404                 0.844951             3.714131e-02\n",
       "EXPD   62.784714                 0.078011             2.735141e-02\n",
       "PEG    49.110864                 0.730255             6.061864e-03\n",
       "LRCX  171.296410                 0.419036             2.321576e-12\n",
       "NTRS   85.709136                -1.041542             0.000000e+00\n",
       "MMM   180.120146                -0.479626             0.000000e+00\n",
       "MDLZ   45.876676                -1.503653             0.000000e+00\n",
       "MAR   101.928417                -0.302024             0.000000e+00\n",
       "IEX   122.505944                -0.359790             0.000000e+00\n",
       "J      64.211476                -0.022461             0.000000e+00\n",
       "HIG    48.037580                -0.668439             0.000000e+00\n",
       "ETN    75.957188                -0.706800             0.000000e+00\n",
       "CXO   108.616702                -0.259068             0.000000e+00\n",
       "CVX   106.042207                -1.646072             0.000000e+00\n",
       "PYPL   83.142674                -0.148524             0.000000e+00"
      ]
     },
     "execution_count": 6,
     "metadata": {},
     "output_type": "execute_result"
    }
   ],
   "source": [
    "res = minimize(objective, positions, method='SLSQP', constraints=cons, bounds=bnds, options={'maxiter': 10000})\n",
    "final = pd.DataFrame(costs); final.columns = ['cost']; final['ml_pred_weekly_movement'] = pred_move\n",
    "final['opt_fractional_position'] = res.x; final.index = tickers\n",
    "final.loc[final.ml_pred_weekly_movement < 0, 'opt_fractional_position'] = 0\n",
    "final['opt_fractional_position'] = final['opt_fractional_position'] / final['opt_fractional_position'].sum()\n",
    "\n",
    "print(f'Status - {res.success}\\n')\n",
    "print('Original')\n",
    "print(f'Expected Return: {pred_move@positions}')\n",
    "print(f'Diversification: {scipy.linalg.norm(np.triu(corr)@positions)}')\n",
    "print()\n",
    "print('Model Final')\n",
    "print(f'Expected Return: {pred_move@res.x}')\n",
    "print(f'Diversification: {scipy.linalg.norm(np.triu(corr)@res.x)}')\n",
    "print()\n",
    "print('ML Adjusted Final')\n",
    "r = pred_move@final['opt_fractional_position']\n",
    "print(f'Expected Return: {r}')\n",
    "d = scipy.linalg.norm(np.triu(corr)@final['opt_fractional_position'])\n",
    "print(f'Diversification: {d}')\n",
    "\n",
    "final.sort_values(by='opt_fractional_position', ascending=False)"
   ]
  },
  {
   "cell_type": "code",
   "execution_count": null,
   "metadata": {},
   "outputs": [],
   "source": []
  }
 ],
 "metadata": {
  "kernelspec": {
   "display_name": "Python 3",
   "language": "python",
   "name": "python3"
  },
  "language_info": {
   "codemirror_mode": {
    "name": "ipython",
    "version": 3
   },
   "file_extension": ".py",
   "mimetype": "text/x-python",
   "name": "python",
   "nbconvert_exporter": "python",
   "pygments_lexer": "ipython3",
   "version": "3.8.3"
  },
  "toc": {
   "base_numbering": 1,
   "nav_menu": {},
   "number_sections": true,
   "sideBar": true,
   "skip_h1_title": false,
   "title_cell": "Table of Contents",
   "title_sidebar": "Contents",
   "toc_cell": false,
   "toc_position": {},
   "toc_section_display": true,
   "toc_window_display": false
  }
 },
 "nbformat": 4,
 "nbformat_minor": 4
}
