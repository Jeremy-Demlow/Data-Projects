{
 "cells": [
  {
   "cell_type": "markdown",
   "metadata": {},
   "source": [
    "# Backtesting"
   ]
  },
  {
   "cell_type": "code",
   "execution_count": 3,
   "metadata": {
    "ExecuteTime": {
     "end_time": "2020-12-24T20:27:45.520028Z",
     "start_time": "2020-12-24T20:27:45.420576Z"
    }
   },
   "outputs": [],
   "source": [
    "%reload_ext autoreload\n",
    "%autoreload 2\n",
    "%matplotlib inline\n",
    "\n",
    "import sys\n",
    "sys.path.insert(1, './..')"
   ]
  },
  {
   "cell_type": "code",
   "execution_count": 4,
   "metadata": {
    "ExecuteTime": {
     "end_time": "2020-12-24T20:27:45.907901Z",
     "start_time": "2020-12-24T20:27:45.814198Z"
    }
   },
   "outputs": [],
   "source": [
    "from quantML import scrape\n",
    "from quantML import preprocess\n",
    "from quantML import ml\n",
    "from quantML import production\n",
    "from quantML import backtesting\n",
    "\n",
    "import pandas as pd\n",
    "import numpy as np\n",
    "old_settings = np.seterr(all='ignore')\n",
    "from matplotlib import pyplot as plt\n",
    "import pickle\n",
    "import datetime as dt"
   ]
  },
  {
   "cell_type": "markdown",
   "metadata": {},
   "source": [
    "## Data"
   ]
  },
  {
   "cell_type": "code",
   "execution_count": 5,
   "metadata": {
    "ExecuteTime": {
     "end_time": "2020-12-24T20:27:47.550828Z",
     "start_time": "2020-12-24T20:27:47.331713Z"
    }
   },
   "outputs": [],
   "source": [
    "price_df = pd.read_parquet('stock-data/historical/latest-scrape-2020.snappy.parquet')\n",
    "dfml = pd.read_parquet('stock-data/features/featureDF-2020.snappy.parquet')"
   ]
  },
  {
   "cell_type": "markdown",
   "metadata": {},
   "source": [
    "## Preprocess"
   ]
  },
  {
   "cell_type": "code",
   "execution_count": 6,
   "metadata": {
    "ExecuteTime": {
     "end_time": "2020-12-24T20:27:48.755052Z",
     "start_time": "2020-12-24T20:27:48.677580Z"
    }
   },
   "outputs": [],
   "source": [
    "try:\n",
    "    dfml.loc[0]\n",
    "except:\n",
    "    full_df = preprocess.create_feats_and_preds(price_df, feat_days, pred_days)\n",
    "    dfml = preprocess.generate_testing_matrix(full_df, feat_days)"
   ]
  },
  {
   "cell_type": "markdown",
   "metadata": {},
   "source": [
    "## Model Loading, Predictions, and Prices"
   ]
  },
  {
   "cell_type": "code",
   "execution_count": 351,
   "metadata": {
    "ExecuteTime": {
     "end_time": "2020-12-24T17:00:16.591791Z",
     "start_time": "2020-12-24T17:00:16.562175Z"
    }
   },
   "outputs": [],
   "source": [
    "file_path = 'modelfiles/tabularML'\n",
    "tickers = ['HUM', 'JBHT', 'JNJ', 'LB', 'GPC', 'LH', 'LEG', 'FOXA', 'PVH',\n",
    "       'WMT', 'KO', 'PNW', 'FB', 'F', 'CME', 'WMB', 'AVB', 'BR', 'GOOGL',\n",
    "       'ORLY', 'SYY', 'INFO', 'KMI', 'GE', 'SCHW', 'MSFT', 'MRK', 'IP',\n",
    "       'RTX', 'AVY']\n",
    "low_threshold = 0.02\n",
    "high_threshold = 0.1"
   ]
  },
  {
   "cell_type": "code",
   "execution_count": 352,
   "metadata": {
    "ExecuteTime": {
     "end_time": "2020-12-24T17:00:16.985811Z",
     "start_time": "2020-12-24T17:00:16.952905Z"
    }
   },
   "outputs": [],
   "source": [
    "buy_cols = [f'{i}_buy' for i in tickers]\n",
    "pred_cols = [f'{i}_pred' for i in tickers]\n",
    "price_cols = [f'{i}_close' for i in tickers]\n",
    "fut_cols = [f'{i}_close_fut' for i in tickers]\n",
    "result_cols = [f'{i}_percent_change' for i in tickers]\n",
    "date_cols = ['current_date', 'prediction_date']"
   ]
  },
  {
   "cell_type": "code",
   "execution_count": 353,
   "metadata": {
    "ExecuteTime": {
     "end_time": "2020-12-24T17:00:18.203409Z",
     "start_time": "2020-12-24T17:00:17.315085Z"
    }
   },
   "outputs": [],
   "source": [
    "pred_df = backtesting.generate_predictions(tickers, dfml, file_path, \n",
    "                                           low_threshold=low_threshold,\n",
    "                                           high_threshold=high_threshold,)\n",
    "pred_df = backtesting.merge_prices_and_predictions(price_df, pred_df, tickers).iloc[::5, :]"
   ]
  },
  {
   "cell_type": "code",
   "execution_count": 354,
   "metadata": {
    "ExecuteTime": {
     "end_time": "2020-12-24T17:00:18.266842Z",
     "start_time": "2020-12-24T17:00:18.205497Z"
    }
   },
   "outputs": [],
   "source": [
    "for ticker in tickers:\n",
    "    col = f'{ticker}_percent_change'\n",
    "    pred_df[col] = (pred_df[f'{ticker}_close_fut'] - pred_df[f'{ticker}_close']) / pred_df[f'{ticker}_close']"
   ]
  },
  {
   "cell_type": "markdown",
   "metadata": {},
   "source": [
    "## Testing"
   ]
  },
  {
   "cell_type": "code",
   "execution_count": 355,
   "metadata": {
    "ExecuteTime": {
     "end_time": "2020-12-24T17:00:18.590473Z",
     "start_time": "2020-12-24T17:00:18.532525Z"
    }
   },
   "outputs": [
    {
     "name": "stdout",
     "output_type": "stream",
     "text": [
      "14.81% Algorithmic Return over 2020\n",
      "6.66% Baseline Return over 2020\n"
     ]
    }
   ],
   "source": [
    "returns = pd.DataFrame(pred_df[buy_cols].to_numpy() * pred_df[result_cols].to_numpy())\n",
    "returns = returns.sum(axis=1)\n",
    "totalbuys = pred_df[buy_cols].sum(axis=1)\n",
    "totalreturn = (pd.Series(returns.to_numpy() / totalbuys.to_numpy()).fillna(0) + 1).to_numpy()\n",
    "pred_df['totalreturn'] = totalreturn\n",
    "\n",
    "finalreturn = (pred_df['totalreturn'].cumprod().iloc[-1] - 1) *100\n",
    "print(f'{finalreturn:.2f}% Algorithmic Return over 2020')\n",
    "\n",
    "basereturn = ((pred_df[result_cols].sum(axis=1) / pred_df[result_cols].shape[1] + 1).cumprod().iloc[-1] - 1) *100\n",
    "print(f'{basereturn:.2f}% Baseline Return over 2020')"
   ]
  },
  {
   "cell_type": "code",
   "execution_count": null,
   "metadata": {},
   "outputs": [],
   "source": []
  }
 ],
 "metadata": {
  "kernelspec": {
   "display_name": "Python 3",
   "language": "python",
   "name": "python3"
  },
  "language_info": {
   "codemirror_mode": {
    "name": "ipython",
    "version": 3
   },
   "file_extension": ".py",
   "mimetype": "text/x-python",
   "name": "python",
   "nbconvert_exporter": "python",
   "pygments_lexer": "ipython3",
   "version": "3.8.3"
  },
  "toc": {
   "base_numbering": 1,
   "nav_menu": {},
   "number_sections": true,
   "sideBar": true,
   "skip_h1_title": false,
   "title_cell": "Table of Contents",
   "title_sidebar": "Contents",
   "toc_cell": false,
   "toc_position": {},
   "toc_section_display": true,
   "toc_window_display": false
  }
 },
 "nbformat": 4,
 "nbformat_minor": 4
}
