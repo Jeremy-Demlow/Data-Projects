{
 "cells": [
  {
   "cell_type": "markdown",
   "metadata": {},
   "source": [
    "# Stock Data Prep"
   ]
  },
  {
   "cell_type": "code",
   "execution_count": 1,
   "metadata": {
    "ExecuteTime": {
     "end_time": "2020-12-22T23:54:55.632110Z",
     "start_time": "2020-12-22T23:54:55.354041Z"
    }
   },
   "outputs": [],
   "source": [
    "%reload_ext autoreload\n",
    "%autoreload 2\n",
    "%matplotlib inline\n",
    "\n",
    "import sys\n",
    "sys.path.insert(1, './..')"
   ]
  },
  {
   "cell_type": "code",
   "execution_count": 178,
   "metadata": {
    "ExecuteTime": {
     "end_time": "2020-12-23T03:12:23.400061Z",
     "start_time": "2020-12-23T03:12:23.364857Z"
    }
   },
   "outputs": [],
   "source": [
    "from quantML import scrape\n",
    "from quantML import preprocess\n",
    "from quantML import ml\n",
    "\n",
    "import pandas as pd\n",
    "import numpy as np\n",
    "from matplotlib import pyplot as plt\n",
    "import pickle\n",
    "\n",
    "from sklearn.decomposition import PCA\n",
    "from sklearn.model_selection import train_test_split\n",
    "from sklearn.ensemble import RandomForestRegressor\n",
    "from sklearn import metrics\n",
    "from sklearn.model_selection import RandomizedSearchCV\n",
    "from sklearn.model_selection import GridSearchCV\n",
    "from sklearn.preprocessing import StandardScaler"
   ]
  },
  {
   "cell_type": "markdown",
   "metadata": {},
   "source": [
    "## Scraping"
   ]
  },
  {
   "cell_type": "code",
   "execution_count": 42,
   "metadata": {
    "ExecuteTime": {
     "end_time": "2020-12-23T00:44:42.240913Z",
     "start_time": "2020-12-23T00:32:00.607659Z"
    },
    "scrolled": true
   },
   "outputs": [
    {
     "name": "stderr",
     "output_type": "stream",
     "text": [
      "INFO:quantML.scrape:Scraping MMM - 1 out of 505 tickers\n",
      "INFO:quantML.scrape:Scraping ABT - 2 out of 505 tickers\n",
      "INFO:quantML.scrape:Scraping ABBV - 3 out of 505 tickers\n",
      "INFO:quantML.scrape:Scraping ABMD - 4 out of 505 tickers\n",
      "INFO:quantML.scrape:Scraping ACN - 5 out of 505 tickers\n",
      "INFO:quantML.scrape:Scraping ATVI - 6 out of 505 tickers\n",
      "INFO:quantML.scrape:Scraping ADBE - 7 out of 505 tickers\n",
      "INFO:quantML.scrape:Scraping AMD - 8 out of 505 tickers\n",
      "INFO:quantML.scrape:Scraping AAP - 9 out of 505 tickers\n",
      "INFO:quantML.scrape:Scraping AES - 10 out of 505 tickers\n",
      "INFO:quantML.scrape:Scraping AFL - 11 out of 505 tickers\n",
      "INFO:quantML.scrape:Scraping A - 12 out of 505 tickers\n",
      "INFO:quantML.scrape:Scraping APD - 13 out of 505 tickers\n",
      "INFO:quantML.scrape:Scraping AKAM - 14 out of 505 tickers\n",
      "INFO:quantML.scrape:Scraping ALK - 15 out of 505 tickers\n",
      "INFO:quantML.scrape:Scraping ALB - 16 out of 505 tickers\n",
      "INFO:quantML.scrape:Scraping ARE - 17 out of 505 tickers\n",
      "INFO:quantML.scrape:Scraping ALXN - 18 out of 505 tickers\n",
      "INFO:quantML.scrape:Scraping ALGN - 19 out of 505 tickers\n",
      "INFO:quantML.scrape:Scraping ALLE - 20 out of 505 tickers\n",
      "INFO:quantML.scrape:Scraping LNT - 21 out of 505 tickers\n",
      "INFO:quantML.scrape:Scraping ALL - 22 out of 505 tickers\n",
      "INFO:quantML.scrape:Scraping GOOGL - 23 out of 505 tickers\n",
      "INFO:quantML.scrape:Scraping GOOG - 24 out of 505 tickers\n",
      "INFO:quantML.scrape:Scraping MO - 25 out of 505 tickers\n",
      "INFO:quantML.scrape:Scraping AMZN - 26 out of 505 tickers\n",
      "INFO:quantML.scrape:Scraping AMCR - 27 out of 505 tickers\n",
      "INFO:quantML.scrape:Scraping AEE - 28 out of 505 tickers\n",
      "INFO:quantML.scrape:Scraping AAL - 29 out of 505 tickers\n",
      "INFO:quantML.scrape:Scraping AEP - 30 out of 505 tickers\n",
      "INFO:quantML.scrape:Scraping AXP - 31 out of 505 tickers\n",
      "INFO:quantML.scrape:Scraping AIG - 32 out of 505 tickers\n",
      "INFO:quantML.scrape:Scraping AMT - 33 out of 505 tickers\n",
      "INFO:quantML.scrape:Scraping AWK - 34 out of 505 tickers\n",
      "INFO:quantML.scrape:Scraping AMP - 35 out of 505 tickers\n",
      "INFO:quantML.scrape:Scraping ABC - 36 out of 505 tickers\n",
      "INFO:quantML.scrape:Scraping AME - 37 out of 505 tickers\n",
      "INFO:quantML.scrape:Scraping AMGN - 38 out of 505 tickers\n",
      "INFO:quantML.scrape:Scraping APH - 39 out of 505 tickers\n",
      "INFO:quantML.scrape:Scraping ADI - 40 out of 505 tickers\n",
      "INFO:quantML.scrape:Scraping ANSS - 41 out of 505 tickers\n",
      "INFO:quantML.scrape:Scraping ANTM - 42 out of 505 tickers\n",
      "INFO:quantML.scrape:Scraping AON - 43 out of 505 tickers\n",
      "INFO:quantML.scrape:Scraping AOS - 44 out of 505 tickers\n",
      "INFO:quantML.scrape:Scraping APA - 45 out of 505 tickers\n",
      "INFO:quantML.scrape:Scraping AAPL - 46 out of 505 tickers\n",
      "INFO:quantML.scrape:Scraping AMAT - 47 out of 505 tickers\n",
      "INFO:quantML.scrape:Scraping APTV - 48 out of 505 tickers\n",
      "INFO:quantML.scrape:Scraping ADM - 49 out of 505 tickers\n",
      "INFO:quantML.scrape:Scraping ANET - 50 out of 505 tickers\n",
      "INFO:quantML.scrape:Scraping AJG - 51 out of 505 tickers\n",
      "INFO:quantML.scrape:Scraping AIZ - 52 out of 505 tickers\n",
      "INFO:quantML.scrape:Scraping T - 53 out of 505 tickers\n",
      "INFO:quantML.scrape:Scraping ATO - 54 out of 505 tickers\n",
      "INFO:quantML.scrape:Scraping ADSK - 55 out of 505 tickers\n",
      "INFO:quantML.scrape:Scraping ADP - 56 out of 505 tickers\n",
      "INFO:quantML.scrape:Scraping AZO - 57 out of 505 tickers\n",
      "INFO:quantML.scrape:Scraping AVB - 58 out of 505 tickers\n",
      "INFO:quantML.scrape:Scraping AVY - 59 out of 505 tickers\n",
      "INFO:quantML.scrape:Scraping BKR - 60 out of 505 tickers\n",
      "INFO:quantML.scrape:Scraping BLL - 61 out of 505 tickers\n",
      "INFO:quantML.scrape:Scraping BAC - 62 out of 505 tickers\n",
      "INFO:quantML.scrape:Scraping BK - 63 out of 505 tickers\n",
      "INFO:quantML.scrape:Scraping BAX - 64 out of 505 tickers\n",
      "INFO:quantML.scrape:Scraping BDX - 65 out of 505 tickers\n",
      "INFO:quantML.scrape:Scraping BRK.B - 66 out of 505 tickers\n",
      "INFO:quantML.scrape:Scraping BBY - 67 out of 505 tickers\n",
      "INFO:quantML.scrape:Scraping BIO - 68 out of 505 tickers\n",
      "INFO:quantML.scrape:Scraping BIIB - 69 out of 505 tickers\n",
      "INFO:quantML.scrape:Scraping BLK - 70 out of 505 tickers\n",
      "INFO:quantML.scrape:Scraping BA - 71 out of 505 tickers\n",
      "INFO:quantML.scrape:Scraping BKNG - 72 out of 505 tickers\n",
      "INFO:quantML.scrape:Scraping BWA - 73 out of 505 tickers\n",
      "INFO:quantML.scrape:Scraping BXP - 74 out of 505 tickers\n",
      "INFO:quantML.scrape:Scraping BSX - 75 out of 505 tickers\n",
      "INFO:quantML.scrape:Scraping BMY - 76 out of 505 tickers\n",
      "INFO:quantML.scrape:Scraping AVGO - 77 out of 505 tickers\n",
      "INFO:quantML.scrape:Scraping BR - 78 out of 505 tickers\n",
      "INFO:quantML.scrape:Scraping BF.B - 79 out of 505 tickers\n",
      "INFO:quantML.scrape:Scraping CHRW - 80 out of 505 tickers\n",
      "INFO:quantML.scrape:Scraping COG - 81 out of 505 tickers\n",
      "INFO:quantML.scrape:Scraping CDNS - 82 out of 505 tickers\n",
      "INFO:quantML.scrape:Scraping CPB - 83 out of 505 tickers\n",
      "INFO:quantML.scrape:Scraping COF - 84 out of 505 tickers\n",
      "INFO:quantML.scrape:Scraping CAH - 85 out of 505 tickers\n",
      "INFO:quantML.scrape:Scraping KMX - 86 out of 505 tickers\n",
      "INFO:quantML.scrape:Scraping CCL - 87 out of 505 tickers\n",
      "INFO:quantML.scrape:Scraping CARR - 88 out of 505 tickers\n",
      "INFO:quantML.scrape:Scraping CTLT - 89 out of 505 tickers\n",
      "INFO:quantML.scrape:Scraping CAT - 90 out of 505 tickers\n",
      "INFO:quantML.scrape:Scraping CBOE - 91 out of 505 tickers\n",
      "INFO:quantML.scrape:Scraping CBRE - 92 out of 505 tickers\n",
      "INFO:quantML.scrape:Scraping CDW - 93 out of 505 tickers\n",
      "INFO:quantML.scrape:Scraping CE - 94 out of 505 tickers\n",
      "INFO:quantML.scrape:Scraping CNC - 95 out of 505 tickers\n",
      "INFO:quantML.scrape:Scraping CNP - 96 out of 505 tickers\n",
      "INFO:quantML.scrape:Scraping CERN - 97 out of 505 tickers\n",
      "INFO:quantML.scrape:Scraping CF - 98 out of 505 tickers\n",
      "INFO:quantML.scrape:Scraping SCHW - 99 out of 505 tickers\n",
      "INFO:quantML.scrape:Scraping CHTR - 100 out of 505 tickers\n",
      "INFO:quantML.scrape:Scraping CVX - 101 out of 505 tickers\n",
      "INFO:quantML.scrape:Scraping CMG - 102 out of 505 tickers\n",
      "INFO:quantML.scrape:Scraping CB - 103 out of 505 tickers\n",
      "INFO:quantML.scrape:Scraping CHD - 104 out of 505 tickers\n",
      "INFO:quantML.scrape:Scraping CI - 105 out of 505 tickers\n",
      "INFO:quantML.scrape:Scraping CINF - 106 out of 505 tickers\n",
      "INFO:quantML.scrape:Scraping CTAS - 107 out of 505 tickers\n",
      "INFO:quantML.scrape:Scraping CSCO - 108 out of 505 tickers\n",
      "INFO:quantML.scrape:Scraping C - 109 out of 505 tickers\n",
      "INFO:quantML.scrape:Scraping CFG - 110 out of 505 tickers\n",
      "INFO:quantML.scrape:Scraping CTXS - 111 out of 505 tickers\n",
      "INFO:quantML.scrape:Scraping CLX - 112 out of 505 tickers\n",
      "INFO:quantML.scrape:Scraping CME - 113 out of 505 tickers\n",
      "INFO:quantML.scrape:Scraping CMS - 114 out of 505 tickers\n",
      "INFO:quantML.scrape:Scraping KO - 115 out of 505 tickers\n",
      "INFO:quantML.scrape:Scraping CTSH - 116 out of 505 tickers\n",
      "INFO:quantML.scrape:Scraping CL - 117 out of 505 tickers\n",
      "INFO:quantML.scrape:Scraping CMCSA - 118 out of 505 tickers\n",
      "INFO:quantML.scrape:Scraping CMA - 119 out of 505 tickers\n",
      "INFO:quantML.scrape:Scraping CAG - 120 out of 505 tickers\n",
      "INFO:quantML.scrape:Scraping CXO - 121 out of 505 tickers\n",
      "INFO:quantML.scrape:Scraping COP - 122 out of 505 tickers\n",
      "INFO:quantML.scrape:Scraping ED - 123 out of 505 tickers\n",
      "INFO:quantML.scrape:Scraping STZ - 124 out of 505 tickers\n",
      "INFO:quantML.scrape:Scraping COO - 125 out of 505 tickers\n",
      "INFO:quantML.scrape:Scraping CPRT - 126 out of 505 tickers\n",
      "INFO:quantML.scrape:Scraping GLW - 127 out of 505 tickers\n",
      "INFO:quantML.scrape:Scraping CTVA - 128 out of 505 tickers\n",
      "INFO:quantML.scrape:Scraping COST - 129 out of 505 tickers\n",
      "INFO:quantML.scrape:Scraping CCI - 130 out of 505 tickers\n",
      "INFO:quantML.scrape:Scraping CSX - 131 out of 505 tickers\n",
      "INFO:quantML.scrape:Scraping CMI - 132 out of 505 tickers\n",
      "INFO:quantML.scrape:Scraping CVS - 133 out of 505 tickers\n",
      "INFO:quantML.scrape:Scraping DHI - 134 out of 505 tickers\n",
      "INFO:quantML.scrape:Scraping DHR - 135 out of 505 tickers\n",
      "INFO:quantML.scrape:Scraping DRI - 136 out of 505 tickers\n",
      "INFO:quantML.scrape:Scraping DVA - 137 out of 505 tickers\n",
      "INFO:quantML.scrape:Scraping DE - 138 out of 505 tickers\n",
      "INFO:quantML.scrape:Scraping DAL - 139 out of 505 tickers\n",
      "INFO:quantML.scrape:Scraping XRAY - 140 out of 505 tickers\n",
      "INFO:quantML.scrape:Scraping DVN - 141 out of 505 tickers\n",
      "INFO:quantML.scrape:Scraping DXCM - 142 out of 505 tickers\n",
      "INFO:quantML.scrape:Scraping FANG - 143 out of 505 tickers\n"
     ]
    },
    {
     "name": "stderr",
     "output_type": "stream",
     "text": [
      "INFO:quantML.scrape:Scraping DLR - 144 out of 505 tickers\n",
      "INFO:quantML.scrape:Scraping DFS - 145 out of 505 tickers\n",
      "INFO:quantML.scrape:Scraping DISCA - 146 out of 505 tickers\n",
      "INFO:quantML.scrape:Scraping DISCK - 147 out of 505 tickers\n",
      "INFO:quantML.scrape:Scraping DISH - 148 out of 505 tickers\n",
      "INFO:quantML.scrape:Scraping DG - 149 out of 505 tickers\n",
      "INFO:quantML.scrape:Scraping DLTR - 150 out of 505 tickers\n",
      "INFO:quantML.scrape:Scraping D - 151 out of 505 tickers\n",
      "INFO:quantML.scrape:Scraping DPZ - 152 out of 505 tickers\n",
      "INFO:quantML.scrape:Scraping DOV - 153 out of 505 tickers\n",
      "INFO:quantML.scrape:Scraping DOW - 154 out of 505 tickers\n",
      "INFO:quantML.scrape:Scraping DTE - 155 out of 505 tickers\n",
      "INFO:quantML.scrape:Scraping DUK - 156 out of 505 tickers\n",
      "INFO:quantML.scrape:Scraping DRE - 157 out of 505 tickers\n",
      "INFO:quantML.scrape:Scraping DD - 158 out of 505 tickers\n",
      "INFO:quantML.scrape:Scraping DXC - 159 out of 505 tickers\n",
      "INFO:quantML.scrape:Scraping EMN - 160 out of 505 tickers\n",
      "INFO:quantML.scrape:Scraping ETN - 161 out of 505 tickers\n",
      "INFO:quantML.scrape:Scraping EBAY - 162 out of 505 tickers\n",
      "INFO:quantML.scrape:Scraping ECL - 163 out of 505 tickers\n",
      "INFO:quantML.scrape:Scraping EIX - 164 out of 505 tickers\n",
      "INFO:quantML.scrape:Scraping EW - 165 out of 505 tickers\n",
      "INFO:quantML.scrape:Scraping EA - 166 out of 505 tickers\n",
      "INFO:quantML.scrape:Scraping EMR - 167 out of 505 tickers\n",
      "INFO:quantML.scrape:Scraping ETR - 168 out of 505 tickers\n",
      "INFO:quantML.scrape:Scraping EOG - 169 out of 505 tickers\n",
      "INFO:quantML.scrape:Scraping EFX - 170 out of 505 tickers\n",
      "INFO:quantML.scrape:Scraping EQIX - 171 out of 505 tickers\n",
      "INFO:quantML.scrape:Scraping EQR - 172 out of 505 tickers\n",
      "INFO:quantML.scrape:Scraping ESS - 173 out of 505 tickers\n",
      "INFO:quantML.scrape:Scraping EL - 174 out of 505 tickers\n",
      "INFO:quantML.scrape:Scraping ETSY - 175 out of 505 tickers\n",
      "INFO:quantML.scrape:Scraping EVRG - 176 out of 505 tickers\n",
      "INFO:quantML.scrape:Scraping ES - 177 out of 505 tickers\n",
      "INFO:quantML.scrape:Scraping RE - 178 out of 505 tickers\n",
      "INFO:quantML.scrape:Scraping EXC - 179 out of 505 tickers\n",
      "INFO:quantML.scrape:Scraping EXPE - 180 out of 505 tickers\n",
      "INFO:quantML.scrape:Scraping EXPD - 181 out of 505 tickers\n",
      "INFO:quantML.scrape:Scraping EXR - 182 out of 505 tickers\n",
      "INFO:quantML.scrape:Scraping XOM - 183 out of 505 tickers\n",
      "INFO:quantML.scrape:Scraping FFIV - 184 out of 505 tickers\n",
      "INFO:quantML.scrape:Scraping FB - 185 out of 505 tickers\n",
      "INFO:quantML.scrape:Scraping FAST - 186 out of 505 tickers\n",
      "INFO:quantML.scrape:Scraping FRT - 187 out of 505 tickers\n",
      "INFO:quantML.scrape:Scraping FDX - 188 out of 505 tickers\n",
      "INFO:quantML.scrape:Scraping FIS - 189 out of 505 tickers\n",
      "INFO:quantML.scrape:Scraping FITB - 190 out of 505 tickers\n",
      "INFO:quantML.scrape:Scraping FE - 191 out of 505 tickers\n",
      "INFO:quantML.scrape:Scraping FRC - 192 out of 505 tickers\n",
      "INFO:quantML.scrape:Scraping FISV - 193 out of 505 tickers\n",
      "INFO:quantML.scrape:Scraping FLT - 194 out of 505 tickers\n",
      "INFO:quantML.scrape:Scraping FLIR - 195 out of 505 tickers\n",
      "INFO:quantML.scrape:Scraping FLS - 196 out of 505 tickers\n",
      "INFO:quantML.scrape:Scraping FMC - 197 out of 505 tickers\n",
      "INFO:quantML.scrape:Scraping F - 198 out of 505 tickers\n",
      "INFO:quantML.scrape:Scraping FTNT - 199 out of 505 tickers\n",
      "INFO:quantML.scrape:Scraping FTV - 200 out of 505 tickers\n",
      "INFO:quantML.scrape:Scraping FBHS - 201 out of 505 tickers\n",
      "INFO:quantML.scrape:Scraping FOXA - 202 out of 505 tickers\n",
      "INFO:quantML.scrape:Scraping FOX - 203 out of 505 tickers\n",
      "INFO:quantML.scrape:Scraping BEN - 204 out of 505 tickers\n",
      "INFO:quantML.scrape:Scraping FCX - 205 out of 505 tickers\n",
      "INFO:quantML.scrape:Scraping GPS - 206 out of 505 tickers\n",
      "INFO:quantML.scrape:Scraping GRMN - 207 out of 505 tickers\n",
      "INFO:quantML.scrape:Scraping IT - 208 out of 505 tickers\n",
      "INFO:quantML.scrape:Scraping GD - 209 out of 505 tickers\n",
      "INFO:quantML.scrape:Scraping GE - 210 out of 505 tickers\n",
      "INFO:quantML.scrape:Scraping GIS - 211 out of 505 tickers\n",
      "INFO:quantML.scrape:Scraping GM - 212 out of 505 tickers\n",
      "INFO:quantML.scrape:Scraping GPC - 213 out of 505 tickers\n",
      "INFO:quantML.scrape:Scraping GILD - 214 out of 505 tickers\n",
      "INFO:quantML.scrape:Scraping GL - 215 out of 505 tickers\n",
      "INFO:quantML.scrape:Scraping GPN - 216 out of 505 tickers\n",
      "INFO:quantML.scrape:Scraping GS - 217 out of 505 tickers\n",
      "INFO:quantML.scrape:Scraping GWW - 218 out of 505 tickers\n",
      "INFO:quantML.scrape:Scraping HAL - 219 out of 505 tickers\n",
      "INFO:quantML.scrape:Scraping HBI - 220 out of 505 tickers\n",
      "INFO:quantML.scrape:Scraping HIG - 221 out of 505 tickers\n",
      "INFO:quantML.scrape:Scraping HAS - 222 out of 505 tickers\n",
      "INFO:quantML.scrape:Scraping HCA - 223 out of 505 tickers\n",
      "INFO:quantML.scrape:Scraping PEAK - 224 out of 505 tickers\n",
      "INFO:quantML.scrape:Scraping HSIC - 225 out of 505 tickers\n",
      "INFO:quantML.scrape:Scraping HSY - 226 out of 505 tickers\n",
      "INFO:quantML.scrape:Scraping HES - 227 out of 505 tickers\n",
      "INFO:quantML.scrape:Scraping HPE - 228 out of 505 tickers\n",
      "INFO:quantML.scrape:Scraping HLT - 229 out of 505 tickers\n",
      "INFO:quantML.scrape:Scraping HFC - 230 out of 505 tickers\n",
      "INFO:quantML.scrape:Scraping HOLX - 231 out of 505 tickers\n",
      "INFO:quantML.scrape:Scraping HD - 232 out of 505 tickers\n",
      "INFO:quantML.scrape:Scraping HON - 233 out of 505 tickers\n",
      "INFO:quantML.scrape:Scraping HRL - 234 out of 505 tickers\n",
      "INFO:quantML.scrape:Scraping HST - 235 out of 505 tickers\n",
      "INFO:quantML.scrape:Scraping HWM - 236 out of 505 tickers\n",
      "INFO:quantML.scrape:Scraping HPQ - 237 out of 505 tickers\n",
      "INFO:quantML.scrape:Scraping HUM - 238 out of 505 tickers\n",
      "INFO:quantML.scrape:Scraping HBAN - 239 out of 505 tickers\n",
      "INFO:quantML.scrape:Scraping HII - 240 out of 505 tickers\n",
      "INFO:quantML.scrape:Scraping IEX - 241 out of 505 tickers\n",
      "INFO:quantML.scrape:Scraping IDXX - 242 out of 505 tickers\n",
      "INFO:quantML.scrape:Scraping INFO - 243 out of 505 tickers\n",
      "INFO:quantML.scrape:Scraping ITW - 244 out of 505 tickers\n",
      "INFO:quantML.scrape:Scraping ILMN - 245 out of 505 tickers\n",
      "INFO:quantML.scrape:Scraping INCY - 246 out of 505 tickers\n",
      "INFO:quantML.scrape:Scraping IR - 247 out of 505 tickers\n",
      "INFO:quantML.scrape:Scraping INTC - 248 out of 505 tickers\n",
      "INFO:quantML.scrape:Scraping ICE - 249 out of 505 tickers\n",
      "INFO:quantML.scrape:Scraping IBM - 250 out of 505 tickers\n",
      "INFO:quantML.scrape:Scraping IP - 251 out of 505 tickers\n",
      "INFO:quantML.scrape:Scraping IPG - 252 out of 505 tickers\n",
      "INFO:quantML.scrape:Scraping IFF - 253 out of 505 tickers\n",
      "INFO:quantML.scrape:Scraping INTU - 254 out of 505 tickers\n",
      "INFO:quantML.scrape:Scraping ISRG - 255 out of 505 tickers\n",
      "INFO:quantML.scrape:Scraping IVZ - 256 out of 505 tickers\n",
      "INFO:quantML.scrape:Scraping IPGP - 257 out of 505 tickers\n",
      "INFO:quantML.scrape:Scraping IQV - 258 out of 505 tickers\n",
      "INFO:quantML.scrape:Scraping IRM - 259 out of 505 tickers\n",
      "INFO:quantML.scrape:Scraping JKHY - 260 out of 505 tickers\n",
      "INFO:quantML.scrape:Scraping J - 261 out of 505 tickers\n",
      "INFO:quantML.scrape:Scraping JBHT - 262 out of 505 tickers\n",
      "INFO:quantML.scrape:Scraping SJM - 263 out of 505 tickers\n",
      "INFO:quantML.scrape:Scraping JNJ - 264 out of 505 tickers\n",
      "INFO:quantML.scrape:Scraping JCI - 265 out of 505 tickers\n",
      "INFO:quantML.scrape:Scraping JPM - 266 out of 505 tickers\n",
      "INFO:quantML.scrape:Scraping JNPR - 267 out of 505 tickers\n",
      "INFO:quantML.scrape:Scraping KSU - 268 out of 505 tickers\n",
      "INFO:quantML.scrape:Scraping K - 269 out of 505 tickers\n",
      "INFO:quantML.scrape:Scraping KEY - 270 out of 505 tickers\n",
      "INFO:quantML.scrape:Scraping KEYS - 271 out of 505 tickers\n",
      "INFO:quantML.scrape:Scraping KMB - 272 out of 505 tickers\n",
      "INFO:quantML.scrape:Scraping KIM - 273 out of 505 tickers\n",
      "INFO:quantML.scrape:Scraping KMI - 274 out of 505 tickers\n",
      "INFO:quantML.scrape:Scraping KLAC - 275 out of 505 tickers\n",
      "INFO:quantML.scrape:Scraping KHC - 276 out of 505 tickers\n",
      "INFO:quantML.scrape:Scraping KR - 277 out of 505 tickers\n",
      "INFO:quantML.scrape:Scraping LB - 278 out of 505 tickers\n",
      "INFO:quantML.scrape:Scraping LHX - 279 out of 505 tickers\n",
      "INFO:quantML.scrape:Scraping LH - 280 out of 505 tickers\n",
      "INFO:quantML.scrape:Scraping LRCX - 281 out of 505 tickers\n",
      "INFO:quantML.scrape:Scraping LW - 282 out of 505 tickers\n",
      "INFO:quantML.scrape:Scraping LVS - 283 out of 505 tickers\n",
      "INFO:quantML.scrape:Scraping LEG - 284 out of 505 tickers\n",
      "INFO:quantML.scrape:Scraping LDOS - 285 out of 505 tickers\n"
     ]
    },
    {
     "name": "stderr",
     "output_type": "stream",
     "text": [
      "INFO:quantML.scrape:Scraping LEN - 286 out of 505 tickers\n",
      "INFO:quantML.scrape:Scraping LLY - 287 out of 505 tickers\n",
      "INFO:quantML.scrape:Scraping LNC - 288 out of 505 tickers\n",
      "INFO:quantML.scrape:Scraping LIN - 289 out of 505 tickers\n",
      "INFO:quantML.scrape:Scraping LYV - 290 out of 505 tickers\n",
      "INFO:quantML.scrape:Scraping LKQ - 291 out of 505 tickers\n",
      "INFO:quantML.scrape:Scraping LMT - 292 out of 505 tickers\n",
      "INFO:quantML.scrape:Scraping L - 293 out of 505 tickers\n",
      "INFO:quantML.scrape:Scraping LOW - 294 out of 505 tickers\n",
      "INFO:quantML.scrape:Scraping LUMN - 295 out of 505 tickers\n",
      "INFO:quantML.scrape:Scraping LYB - 296 out of 505 tickers\n",
      "INFO:quantML.scrape:Scraping MTB - 297 out of 505 tickers\n",
      "INFO:quantML.scrape:Scraping MRO - 298 out of 505 tickers\n",
      "INFO:quantML.scrape:Scraping MPC - 299 out of 505 tickers\n",
      "INFO:quantML.scrape:Scraping MKTX - 300 out of 505 tickers\n",
      "INFO:quantML.scrape:Scraping MAR - 301 out of 505 tickers\n",
      "INFO:quantML.scrape:Scraping MMC - 302 out of 505 tickers\n",
      "INFO:quantML.scrape:Scraping MLM - 303 out of 505 tickers\n",
      "INFO:quantML.scrape:Scraping MAS - 304 out of 505 tickers\n",
      "INFO:quantML.scrape:Scraping MA - 305 out of 505 tickers\n",
      "INFO:quantML.scrape:Scraping MKC - 306 out of 505 tickers\n",
      "INFO:quantML.scrape:Scraping MXIM - 307 out of 505 tickers\n",
      "INFO:quantML.scrape:Scraping MCD - 308 out of 505 tickers\n",
      "INFO:quantML.scrape:Scraping MCK - 309 out of 505 tickers\n",
      "INFO:quantML.scrape:Scraping MDT - 310 out of 505 tickers\n",
      "INFO:quantML.scrape:Scraping MRK - 311 out of 505 tickers\n",
      "INFO:quantML.scrape:Scraping MET - 312 out of 505 tickers\n",
      "INFO:quantML.scrape:Scraping MTD - 313 out of 505 tickers\n",
      "INFO:quantML.scrape:Scraping MGM - 314 out of 505 tickers\n",
      "INFO:quantML.scrape:Scraping MCHP - 315 out of 505 tickers\n",
      "INFO:quantML.scrape:Scraping MU - 316 out of 505 tickers\n",
      "INFO:quantML.scrape:Scraping MSFT - 317 out of 505 tickers\n",
      "INFO:quantML.scrape:Scraping MAA - 318 out of 505 tickers\n",
      "INFO:quantML.scrape:Scraping MHK - 319 out of 505 tickers\n",
      "INFO:quantML.scrape:Scraping TAP - 320 out of 505 tickers\n",
      "INFO:quantML.scrape:Scraping MDLZ - 321 out of 505 tickers\n",
      "INFO:quantML.scrape:Scraping MNST - 322 out of 505 tickers\n",
      "INFO:quantML.scrape:Scraping MCO - 323 out of 505 tickers\n",
      "INFO:quantML.scrape:Scraping MS - 324 out of 505 tickers\n",
      "INFO:quantML.scrape:Scraping MOS - 325 out of 505 tickers\n",
      "INFO:quantML.scrape:Scraping MSI - 326 out of 505 tickers\n",
      "INFO:quantML.scrape:Scraping MSCI - 327 out of 505 tickers\n",
      "INFO:quantML.scrape:Scraping NDAQ - 328 out of 505 tickers\n",
      "INFO:quantML.scrape:Scraping NOV - 329 out of 505 tickers\n",
      "INFO:quantML.scrape:Scraping NTAP - 330 out of 505 tickers\n",
      "INFO:quantML.scrape:Scraping NFLX - 331 out of 505 tickers\n",
      "INFO:quantML.scrape:Scraping NWL - 332 out of 505 tickers\n",
      "INFO:quantML.scrape:Scraping NEM - 333 out of 505 tickers\n",
      "INFO:quantML.scrape:Scraping NWSA - 334 out of 505 tickers\n",
      "INFO:quantML.scrape:Scraping NWS - 335 out of 505 tickers\n",
      "INFO:quantML.scrape:Scraping NEE - 336 out of 505 tickers\n",
      "INFO:quantML.scrape:Scraping NLSN - 337 out of 505 tickers\n",
      "INFO:quantML.scrape:Scraping NKE - 338 out of 505 tickers\n",
      "INFO:quantML.scrape:Scraping NI - 339 out of 505 tickers\n",
      "INFO:quantML.scrape:Scraping NSC - 340 out of 505 tickers\n",
      "INFO:quantML.scrape:Scraping NTRS - 341 out of 505 tickers\n",
      "INFO:quantML.scrape:Scraping NOC - 342 out of 505 tickers\n",
      "INFO:quantML.scrape:Scraping NLOK - 343 out of 505 tickers\n",
      "INFO:quantML.scrape:Scraping NCLH - 344 out of 505 tickers\n",
      "INFO:quantML.scrape:Scraping NRG - 345 out of 505 tickers\n",
      "INFO:quantML.scrape:Scraping NUE - 346 out of 505 tickers\n",
      "INFO:quantML.scrape:Scraping NVDA - 347 out of 505 tickers\n",
      "INFO:quantML.scrape:Scraping NVR - 348 out of 505 tickers\n",
      "INFO:quantML.scrape:Scraping ORLY - 349 out of 505 tickers\n",
      "INFO:quantML.scrape:Scraping OXY - 350 out of 505 tickers\n",
      "INFO:quantML.scrape:Scraping ODFL - 351 out of 505 tickers\n",
      "INFO:quantML.scrape:Scraping OMC - 352 out of 505 tickers\n",
      "INFO:quantML.scrape:Scraping OKE - 353 out of 505 tickers\n",
      "INFO:quantML.scrape:Scraping ORCL - 354 out of 505 tickers\n",
      "INFO:quantML.scrape:Scraping OTIS - 355 out of 505 tickers\n",
      "INFO:quantML.scrape:Scraping PCAR - 356 out of 505 tickers\n",
      "INFO:quantML.scrape:Scraping PKG - 357 out of 505 tickers\n",
      "INFO:quantML.scrape:Scraping PH - 358 out of 505 tickers\n",
      "INFO:quantML.scrape:Scraping PAYX - 359 out of 505 tickers\n",
      "INFO:quantML.scrape:Scraping PAYC - 360 out of 505 tickers\n",
      "INFO:quantML.scrape:Scraping PYPL - 361 out of 505 tickers\n",
      "INFO:quantML.scrape:Scraping PNR - 362 out of 505 tickers\n",
      "INFO:quantML.scrape:Scraping PBCT - 363 out of 505 tickers\n",
      "INFO:quantML.scrape:Scraping PEP - 364 out of 505 tickers\n",
      "INFO:quantML.scrape:Scraping PKI - 365 out of 505 tickers\n",
      "INFO:quantML.scrape:Scraping PRGO - 366 out of 505 tickers\n",
      "INFO:quantML.scrape:Scraping PFE - 367 out of 505 tickers\n",
      "INFO:quantML.scrape:Scraping PM - 368 out of 505 tickers\n",
      "INFO:quantML.scrape:Scraping PSX - 369 out of 505 tickers\n",
      "INFO:quantML.scrape:Scraping PNW - 370 out of 505 tickers\n",
      "INFO:quantML.scrape:Scraping PXD - 371 out of 505 tickers\n",
      "INFO:quantML.scrape:Scraping PNC - 372 out of 505 tickers\n",
      "INFO:quantML.scrape:Scraping POOL - 373 out of 505 tickers\n",
      "INFO:quantML.scrape:Scraping PPG - 374 out of 505 tickers\n",
      "INFO:quantML.scrape:Scraping PPL - 375 out of 505 tickers\n",
      "INFO:quantML.scrape:Scraping PFG - 376 out of 505 tickers\n",
      "INFO:quantML.scrape:Scraping PG - 377 out of 505 tickers\n",
      "INFO:quantML.scrape:Scraping PGR - 378 out of 505 tickers\n",
      "INFO:quantML.scrape:Scraping PLD - 379 out of 505 tickers\n",
      "INFO:quantML.scrape:Scraping PRU - 380 out of 505 tickers\n",
      "INFO:quantML.scrape:Scraping PEG - 381 out of 505 tickers\n",
      "INFO:quantML.scrape:Scraping PSA - 382 out of 505 tickers\n",
      "INFO:quantML.scrape:Scraping PHM - 383 out of 505 tickers\n",
      "INFO:quantML.scrape:Scraping PVH - 384 out of 505 tickers\n",
      "INFO:quantML.scrape:Scraping QRVO - 385 out of 505 tickers\n",
      "INFO:quantML.scrape:Scraping PWR - 386 out of 505 tickers\n",
      "INFO:quantML.scrape:Scraping QCOM - 387 out of 505 tickers\n",
      "INFO:quantML.scrape:Scraping DGX - 388 out of 505 tickers\n",
      "INFO:quantML.scrape:Scraping RL - 389 out of 505 tickers\n",
      "INFO:quantML.scrape:Scraping RJF - 390 out of 505 tickers\n",
      "INFO:quantML.scrape:Scraping RTX - 391 out of 505 tickers\n",
      "INFO:quantML.scrape:Scraping O - 392 out of 505 tickers\n",
      "INFO:quantML.scrape:Scraping REG - 393 out of 505 tickers\n",
      "INFO:quantML.scrape:Scraping REGN - 394 out of 505 tickers\n",
      "INFO:quantML.scrape:Scraping RF - 395 out of 505 tickers\n",
      "INFO:quantML.scrape:Scraping RSG - 396 out of 505 tickers\n",
      "INFO:quantML.scrape:Scraping RMD - 397 out of 505 tickers\n",
      "INFO:quantML.scrape:Scraping RHI - 398 out of 505 tickers\n",
      "INFO:quantML.scrape:Scraping ROK - 399 out of 505 tickers\n",
      "INFO:quantML.scrape:Scraping ROL - 400 out of 505 tickers\n",
      "INFO:quantML.scrape:Scraping ROP - 401 out of 505 tickers\n",
      "INFO:quantML.scrape:Scraping ROST - 402 out of 505 tickers\n",
      "INFO:quantML.scrape:Scraping RCL - 403 out of 505 tickers\n",
      "INFO:quantML.scrape:Scraping SPGI - 404 out of 505 tickers\n",
      "INFO:quantML.scrape:Scraping CRM - 405 out of 505 tickers\n",
      "INFO:quantML.scrape:Scraping SBAC - 406 out of 505 tickers\n",
      "INFO:quantML.scrape:Scraping SLB - 407 out of 505 tickers\n",
      "INFO:quantML.scrape:Scraping STX - 408 out of 505 tickers\n",
      "INFO:quantML.scrape:Scraping SEE - 409 out of 505 tickers\n",
      "INFO:quantML.scrape:Scraping SRE - 410 out of 505 tickers\n",
      "INFO:quantML.scrape:Scraping NOW - 411 out of 505 tickers\n",
      "INFO:quantML.scrape:Scraping SHW - 412 out of 505 tickers\n",
      "INFO:quantML.scrape:Scraping SPG - 413 out of 505 tickers\n",
      "INFO:quantML.scrape:Scraping SWKS - 414 out of 505 tickers\n",
      "INFO:quantML.scrape:Scraping SLG - 415 out of 505 tickers\n",
      "INFO:quantML.scrape:Scraping SNA - 416 out of 505 tickers\n",
      "INFO:quantML.scrape:Scraping SO - 417 out of 505 tickers\n",
      "INFO:quantML.scrape:Scraping LUV - 418 out of 505 tickers\n",
      "INFO:quantML.scrape:Scraping SWK - 419 out of 505 tickers\n",
      "INFO:quantML.scrape:Scraping SBUX - 420 out of 505 tickers\n",
      "INFO:quantML.scrape:Scraping STT - 421 out of 505 tickers\n",
      "INFO:quantML.scrape:Scraping STE - 422 out of 505 tickers\n",
      "INFO:quantML.scrape:Scraping SYK - 423 out of 505 tickers\n",
      "INFO:quantML.scrape:Scraping SIVB - 424 out of 505 tickers\n",
      "INFO:quantML.scrape:Scraping SYF - 425 out of 505 tickers\n",
      "INFO:quantML.scrape:Scraping SNPS - 426 out of 505 tickers\n"
     ]
    },
    {
     "name": "stderr",
     "output_type": "stream",
     "text": [
      "INFO:quantML.scrape:Scraping SYY - 427 out of 505 tickers\n",
      "INFO:quantML.scrape:Scraping TMUS - 428 out of 505 tickers\n",
      "INFO:quantML.scrape:Scraping TROW - 429 out of 505 tickers\n",
      "INFO:quantML.scrape:Scraping TTWO - 430 out of 505 tickers\n",
      "INFO:quantML.scrape:Scraping TPR - 431 out of 505 tickers\n",
      "INFO:quantML.scrape:Scraping TGT - 432 out of 505 tickers\n",
      "INFO:quantML.scrape:Scraping TEL - 433 out of 505 tickers\n",
      "INFO:quantML.scrape:Scraping FTI - 434 out of 505 tickers\n",
      "INFO:quantML.scrape:Scraping TDY - 435 out of 505 tickers\n",
      "INFO:quantML.scrape:Scraping TFX - 436 out of 505 tickers\n",
      "INFO:quantML.scrape:Scraping TER - 437 out of 505 tickers\n",
      "INFO:quantML.scrape:Scraping TSLA - 438 out of 505 tickers\n",
      "INFO:quantML.scrape:Scraping TXN - 439 out of 505 tickers\n",
      "INFO:quantML.scrape:Scraping TXT - 440 out of 505 tickers\n",
      "INFO:quantML.scrape:Scraping TMO - 441 out of 505 tickers\n",
      "INFO:quantML.scrape:Scraping TIF - 442 out of 505 tickers\n",
      "INFO:quantML.scrape:Scraping TJX - 443 out of 505 tickers\n",
      "INFO:quantML.scrape:Scraping TSCO - 444 out of 505 tickers\n",
      "INFO:quantML.scrape:Scraping TT - 445 out of 505 tickers\n",
      "INFO:quantML.scrape:Scraping TDG - 446 out of 505 tickers\n",
      "INFO:quantML.scrape:Scraping TRV - 447 out of 505 tickers\n",
      "INFO:quantML.scrape:Scraping TFC - 448 out of 505 tickers\n",
      "INFO:quantML.scrape:Scraping TWTR - 449 out of 505 tickers\n",
      "INFO:quantML.scrape:Scraping TYL - 450 out of 505 tickers\n",
      "INFO:quantML.scrape:Scraping TSN - 451 out of 505 tickers\n",
      "INFO:quantML.scrape:Scraping UDR - 452 out of 505 tickers\n",
      "INFO:quantML.scrape:Scraping ULTA - 453 out of 505 tickers\n",
      "INFO:quantML.scrape:Scraping USB - 454 out of 505 tickers\n",
      "INFO:quantML.scrape:Scraping UAA - 455 out of 505 tickers\n",
      "INFO:quantML.scrape:Scraping UA - 456 out of 505 tickers\n",
      "INFO:quantML.scrape:Scraping UNP - 457 out of 505 tickers\n",
      "INFO:quantML.scrape:Scraping UAL - 458 out of 505 tickers\n",
      "INFO:quantML.scrape:Scraping UNH - 459 out of 505 tickers\n",
      "INFO:quantML.scrape:Scraping UPS - 460 out of 505 tickers\n",
      "INFO:quantML.scrape:Scraping URI - 461 out of 505 tickers\n",
      "INFO:quantML.scrape:Scraping UHS - 462 out of 505 tickers\n",
      "INFO:quantML.scrape:Scraping UNM - 463 out of 505 tickers\n",
      "INFO:quantML.scrape:Scraping VLO - 464 out of 505 tickers\n",
      "INFO:quantML.scrape:Scraping VAR - 465 out of 505 tickers\n",
      "INFO:quantML.scrape:Scraping VTR - 466 out of 505 tickers\n",
      "INFO:quantML.scrape:Scraping VRSN - 467 out of 505 tickers\n",
      "INFO:quantML.scrape:Scraping VRSK - 468 out of 505 tickers\n",
      "INFO:quantML.scrape:Scraping VZ - 469 out of 505 tickers\n",
      "INFO:quantML.scrape:Scraping VRTX - 470 out of 505 tickers\n",
      "INFO:quantML.scrape:Scraping VFC - 471 out of 505 tickers\n",
      "INFO:quantML.scrape:Scraping VIAC - 472 out of 505 tickers\n",
      "INFO:quantML.scrape:Scraping VTRS - 473 out of 505 tickers\n",
      "INFO:quantML.scrape:Scraping V - 474 out of 505 tickers\n",
      "INFO:quantML.scrape:Scraping VNT - 475 out of 505 tickers\n",
      "INFO:quantML.scrape:Scraping VNO - 476 out of 505 tickers\n",
      "INFO:quantML.scrape:Scraping VMC - 477 out of 505 tickers\n",
      "INFO:quantML.scrape:Scraping WRB - 478 out of 505 tickers\n",
      "INFO:quantML.scrape:Scraping WAB - 479 out of 505 tickers\n",
      "INFO:quantML.scrape:Scraping WMT - 480 out of 505 tickers\n",
      "INFO:quantML.scrape:Scraping WBA - 481 out of 505 tickers\n",
      "INFO:quantML.scrape:Scraping DIS - 482 out of 505 tickers\n",
      "INFO:quantML.scrape:Scraping WM - 483 out of 505 tickers\n",
      "INFO:quantML.scrape:Scraping WAT - 484 out of 505 tickers\n",
      "INFO:quantML.scrape:Scraping WEC - 485 out of 505 tickers\n",
      "INFO:quantML.scrape:Scraping WFC - 486 out of 505 tickers\n",
      "INFO:quantML.scrape:Scraping WELL - 487 out of 505 tickers\n",
      "INFO:quantML.scrape:Scraping WST - 488 out of 505 tickers\n",
      "INFO:quantML.scrape:Scraping WDC - 489 out of 505 tickers\n",
      "INFO:quantML.scrape:Scraping WU - 490 out of 505 tickers\n",
      "INFO:quantML.scrape:Scraping WRK - 491 out of 505 tickers\n",
      "INFO:quantML.scrape:Scraping WY - 492 out of 505 tickers\n",
      "INFO:quantML.scrape:Scraping WHR - 493 out of 505 tickers\n",
      "INFO:quantML.scrape:Scraping WMB - 494 out of 505 tickers\n",
      "INFO:quantML.scrape:Scraping WLTW - 495 out of 505 tickers\n",
      "INFO:quantML.scrape:Scraping WYNN - 496 out of 505 tickers\n",
      "INFO:quantML.scrape:Scraping XEL - 497 out of 505 tickers\n",
      "INFO:quantML.scrape:Scraping XRX - 498 out of 505 tickers\n",
      "INFO:quantML.scrape:Scraping XLNX - 499 out of 505 tickers\n",
      "INFO:quantML.scrape:Scraping XYL - 500 out of 505 tickers\n",
      "INFO:quantML.scrape:Scraping YUM - 501 out of 505 tickers\n",
      "INFO:quantML.scrape:Scraping ZBRA - 502 out of 505 tickers\n",
      "INFO:quantML.scrape:Scraping ZBH - 503 out of 505 tickers\n",
      "INFO:quantML.scrape:Scraping ZION - 504 out of 505 tickers\n",
      "INFO:quantML.scrape:Scraping ZTS - 505 out of 505 tickers\n"
     ]
    },
    {
     "ename": "TypeError",
     "evalue": "cannot concatenate object of type '<class 'str'>'; only Series and DataFrame objs are valid",
     "output_type": "error",
     "traceback": [
      "\u001b[0;31m---------------------------------------------------------------------------\u001b[0m",
      "\u001b[0;31mTypeError\u001b[0m                                 Traceback (most recent call last)",
      "\u001b[0;32m<ipython-input-42-3560838b41b2>\u001b[0m in \u001b[0;36m<module>\u001b[0;34m\u001b[0m\n\u001b[1;32m      1\u001b[0m \u001b[0mtickers\u001b[0m \u001b[0;34m=\u001b[0m \u001b[0mscrape\u001b[0m\u001b[0;34m.\u001b[0m\u001b[0mget_sp500_tickers\u001b[0m\u001b[0;34m(\u001b[0m\u001b[0;34m)\u001b[0m\u001b[0;34m\u001b[0m\u001b[0;34m\u001b[0m\u001b[0m\n\u001b[1;32m      2\u001b[0m \u001b[0mprice_df\u001b[0m \u001b[0;34m=\u001b[0m \u001b[0mscrape\u001b[0m\u001b[0;34m.\u001b[0m\u001b[0mget_prices\u001b[0m\u001b[0;34m(\u001b[0m\u001b[0mtickers\u001b[0m\u001b[0;34m,\u001b[0m \u001b[0;34m'2015-01-01'\u001b[0m\u001b[0;34m,\u001b[0m \u001b[0;34m'2020-12-01'\u001b[0m\u001b[0;34m,\u001b[0m\u001b[0;34m)\u001b[0m\u001b[0;34m\u001b[0m\u001b[0;34m\u001b[0m\u001b[0m\n\u001b[0;32m----> 3\u001b[0;31m \u001b[0mprice_df\u001b[0m \u001b[0;34m=\u001b[0m \u001b[0mpd\u001b[0m\u001b[0;34m.\u001b[0m\u001b[0mconcat\u001b[0m\u001b[0;34m(\u001b[0m\u001b[0mprice_df\u001b[0m\u001b[0;34m)\u001b[0m\u001b[0;34m\u001b[0m\u001b[0;34m\u001b[0m\u001b[0m\n\u001b[0m\u001b[1;32m      4\u001b[0m \u001b[0mprice_df\u001b[0m \u001b[0;34m=\u001b[0m \u001b[0mprice_df\u001b[0m\u001b[0;34m[\u001b[0m\u001b[0;34m[\u001b[0m\u001b[0;34m'Close'\u001b[0m\u001b[0;34m]\u001b[0m\u001b[0;34m]\u001b[0m\u001b[0;34m.\u001b[0m\u001b[0mreset_index\u001b[0m\u001b[0;34m(\u001b[0m\u001b[0;34m)\u001b[0m\u001b[0;34m\u001b[0m\u001b[0;34m\u001b[0m\u001b[0m\n\u001b[1;32m      5\u001b[0m \u001b[0mprice_df\u001b[0m\u001b[0;34m.\u001b[0m\u001b[0mcolumns\u001b[0m \u001b[0;34m=\u001b[0m \u001b[0;34m[\u001b[0m\u001b[0;34m'ticker'\u001b[0m\u001b[0;34m,\u001b[0m \u001b[0;34m'date'\u001b[0m\u001b[0;34m]\u001b[0m \u001b[0;34m+\u001b[0m \u001b[0;34m[\u001b[0m\u001b[0mi\u001b[0m\u001b[0;34m.\u001b[0m\u001b[0mlower\u001b[0m\u001b[0;34m(\u001b[0m\u001b[0;34m)\u001b[0m \u001b[0;32mfor\u001b[0m \u001b[0mi\u001b[0m \u001b[0;32min\u001b[0m \u001b[0;34m[\u001b[0m\u001b[0;34m'Close'\u001b[0m\u001b[0;34m]\u001b[0m\u001b[0;34m]\u001b[0m\u001b[0;34m\u001b[0m\u001b[0;34m\u001b[0m\u001b[0m\n",
      "\u001b[0;32m~/anaconda3/envs/stock/lib/python3.8/site-packages/pandas/core/reshape/concat.py\u001b[0m in \u001b[0;36mconcat\u001b[0;34m(objs, axis, join, ignore_index, keys, levels, names, verify_integrity, sort, copy)\u001b[0m\n\u001b[1;32m    269\u001b[0m     \u001b[0mValueError\u001b[0m\u001b[0;34m:\u001b[0m \u001b[0mIndexes\u001b[0m \u001b[0mhave\u001b[0m \u001b[0moverlapping\u001b[0m \u001b[0mvalues\u001b[0m\u001b[0;34m:\u001b[0m \u001b[0;34m[\u001b[0m\u001b[0;34m'a'\u001b[0m\u001b[0;34m]\u001b[0m\u001b[0;34m\u001b[0m\u001b[0;34m\u001b[0m\u001b[0m\n\u001b[1;32m    270\u001b[0m     \"\"\"\n\u001b[0;32m--> 271\u001b[0;31m     op = _Concatenator(\n\u001b[0m\u001b[1;32m    272\u001b[0m         \u001b[0mobjs\u001b[0m\u001b[0;34m,\u001b[0m\u001b[0;34m\u001b[0m\u001b[0;34m\u001b[0m\u001b[0m\n\u001b[1;32m    273\u001b[0m         \u001b[0maxis\u001b[0m\u001b[0;34m=\u001b[0m\u001b[0maxis\u001b[0m\u001b[0;34m,\u001b[0m\u001b[0;34m\u001b[0m\u001b[0;34m\u001b[0m\u001b[0m\n",
      "\u001b[0;32m~/anaconda3/envs/stock/lib/python3.8/site-packages/pandas/core/reshape/concat.py\u001b[0m in \u001b[0;36m__init__\u001b[0;34m(self, objs, axis, join, keys, levels, names, ignore_index, verify_integrity, copy, sort)\u001b[0m\n\u001b[1;32m    355\u001b[0m                     \u001b[0;34m\"only Series and DataFrame objs are valid\"\u001b[0m\u001b[0;34m.\u001b[0m\u001b[0mformat\u001b[0m\u001b[0;34m(\u001b[0m\u001b[0mtyp\u001b[0m\u001b[0;34m=\u001b[0m\u001b[0mtype\u001b[0m\u001b[0;34m(\u001b[0m\u001b[0mobj\u001b[0m\u001b[0;34m)\u001b[0m\u001b[0;34m)\u001b[0m\u001b[0;34m\u001b[0m\u001b[0;34m\u001b[0m\u001b[0m\n\u001b[1;32m    356\u001b[0m                 )\n\u001b[0;32m--> 357\u001b[0;31m                 \u001b[0;32mraise\u001b[0m \u001b[0mTypeError\u001b[0m\u001b[0;34m(\u001b[0m\u001b[0mmsg\u001b[0m\u001b[0;34m)\u001b[0m\u001b[0;34m\u001b[0m\u001b[0;34m\u001b[0m\u001b[0m\n\u001b[0m\u001b[1;32m    358\u001b[0m \u001b[0;34m\u001b[0m\u001b[0m\n\u001b[1;32m    359\u001b[0m             \u001b[0;31m# consolidate\u001b[0m\u001b[0;34m\u001b[0m\u001b[0;34m\u001b[0m\u001b[0;34m\u001b[0m\u001b[0m\n",
      "\u001b[0;31mTypeError\u001b[0m: cannot concatenate object of type '<class 'str'>'; only Series and DataFrame objs are valid"
     ]
    }
   ],
   "source": [
    "tickers = scrape.get_sp500_tickers()\n",
    "price_df = scrape.get_prices(tickers, '2015-01-01', '2020-12-01',)"
   ]
  },
  {
   "cell_type": "markdown",
   "metadata": {},
   "source": [
    "## Preprocessing"
   ]
  },
  {
   "cell_type": "markdown",
   "metadata": {},
   "source": [
    "### Feature and Label Generation"
   ]
  },
  {
   "cell_type": "code",
   "execution_count": 51,
   "metadata": {
    "ExecuteTime": {
     "end_time": "2020-12-23T00:49:36.901868Z",
     "start_time": "2020-12-23T00:49:00.802887Z"
    }
   },
   "outputs": [],
   "source": [
    "feat_days = 5\n",
    "pred_days = 5\n",
    "full_df = preprocess.create_feats_and_preds(price_df, feat_days, pred_days)"
   ]
  },
  {
   "cell_type": "markdown",
   "metadata": {},
   "source": [
    "### Multiple Ticker Feature Generation"
   ]
  },
  {
   "cell_type": "code",
   "execution_count": 52,
   "metadata": {
    "ExecuteTime": {
     "end_time": "2020-12-23T00:50:14.601121Z",
     "start_time": "2020-12-23T00:49:36.904364Z"
    }
   },
   "outputs": [],
   "source": [
    "pred_ticker = 'MMM'\n",
    "dfml = preprocess.generate_ml_matrix(full_df, pred_ticker, feat_days)"
   ]
  },
  {
   "cell_type": "code",
   "execution_count": 55,
   "metadata": {
    "ExecuteTime": {
     "end_time": "2020-12-23T00:50:45.443531Z",
     "start_time": "2020-12-23T00:50:45.405333Z"
    }
   },
   "outputs": [],
   "source": [
    "dfml = dfml.fillna(0)"
   ]
  },
  {
   "cell_type": "markdown",
   "metadata": {},
   "source": [
    "## Modeling"
   ]
  },
  {
   "cell_type": "code",
   "execution_count": 57,
   "metadata": {
    "ExecuteTime": {
     "end_time": "2020-12-23T00:50:56.730571Z",
     "start_time": "2020-12-23T00:50:56.701324Z"
    }
   },
   "outputs": [],
   "source": [
    "y_var = f'{pred_ticker}_percent_change_pred'\n",
    "feat_cols = [i for i in dfml.columns if 'date' not in i and i != y_var]"
   ]
  },
  {
   "cell_type": "markdown",
   "metadata": {},
   "source": [
    "### PCA"
   ]
  },
  {
   "cell_type": "code",
   "execution_count": 66,
   "metadata": {
    "ExecuteTime": {
     "end_time": "2020-12-23T00:56:46.458236Z",
     "start_time": "2020-12-23T00:56:46.303084Z"
    }
   },
   "outputs": [],
   "source": [
    "pca = PCA(n_components=10)\n",
    "X = pca.fit_transform(dfml[feat_cols])\n",
    "y = dfml[[y_var]].to_numpy()"
   ]
  },
  {
   "cell_type": "markdown",
   "metadata": {},
   "source": [
    "### ML"
   ]
  },
  {
   "cell_type": "code",
   "execution_count": 89,
   "metadata": {
    "ExecuteTime": {
     "end_time": "2020-12-23T01:03:46.758298Z",
     "start_time": "2020-12-23T01:03:45.795302Z"
    }
   },
   "outputs": [
    {
     "name": "stdout",
     "output_type": "stream",
     "text": [
      "Average Weekly Return 0.05\n",
      "Weekly Return on Threshold 0.62\n"
     ]
    }
   ],
   "source": [
    "train_X, test_X, train_y, test_y = train_test_split(X, y, test_size = 0.25, random_state = 42)\n",
    "train_y, test_y = np.ravel(train_y), np.ravel(test_y)\n",
    "\n",
    "rf = RandomForestRegressor(n_estimators = 100, random_state = 42, oob_score = True) \n",
    "rf.fit(train_X, train_y)\n",
    "pred_train_labels = rf.predict(train_X)\n",
    "pred_test_labels = rf.predict(test_X)\n",
    "\n",
    "res = pd.DataFrame(pred_test_labels, test_y).reset_index()\n",
    "res.columns = ['prediction', 'actual']\n",
    "ml.result_report(res, threshold=0.02)"
   ]
  },
  {
   "cell_type": "code",
   "execution_count": 91,
   "metadata": {
    "ExecuteTime": {
     "end_time": "2020-12-23T01:08:02.622056Z",
     "start_time": "2020-12-23T01:04:53.673860Z"
    },
    "scrolled": true
   },
   "outputs": [
    {
     "name": "stdout",
     "output_type": "stream",
     "text": [
      "Fitting 5 folds for each of 100 candidates, totalling 500 fits\n"
     ]
    },
    {
     "name": "stderr",
     "output_type": "stream",
     "text": [
      "[Parallel(n_jobs=-1)]: Using backend LokyBackend with 4 concurrent workers.\n",
      "[Parallel(n_jobs=-1)]: Done   5 tasks      | elapsed:    2.5s\n",
      "[Parallel(n_jobs=-1)]: Done  10 tasks      | elapsed:    2.9s\n",
      "[Parallel(n_jobs=-1)]: Done  17 tasks      | elapsed:    6.4s\n",
      "[Parallel(n_jobs=-1)]: Done  24 tasks      | elapsed:    8.8s\n",
      "[Parallel(n_jobs=-1)]: Done  33 tasks      | elapsed:   12.3s\n",
      "[Parallel(n_jobs=-1)]: Done  42 tasks      | elapsed:   15.2s\n",
      "[Parallel(n_jobs=-1)]: Done  53 tasks      | elapsed:   19.4s\n",
      "[Parallel(n_jobs=-1)]: Done  64 tasks      | elapsed:   20.9s\n",
      "[Parallel(n_jobs=-1)]: Done  77 tasks      | elapsed:   30.1s\n",
      "[Parallel(n_jobs=-1)]: Done  90 tasks      | elapsed:   38.5s\n",
      "[Parallel(n_jobs=-1)]: Done 105 tasks      | elapsed:   44.9s\n",
      "[Parallel(n_jobs=-1)]: Done 120 tasks      | elapsed:   51.6s\n",
      "[Parallel(n_jobs=-1)]: Done 137 tasks      | elapsed:  1.0min\n",
      "[Parallel(n_jobs=-1)]: Done 154 tasks      | elapsed:  1.1min\n",
      "[Parallel(n_jobs=-1)]: Done 173 tasks      | elapsed:  1.2min\n",
      "[Parallel(n_jobs=-1)]: Done 192 tasks      | elapsed:  1.3min\n",
      "[Parallel(n_jobs=-1)]: Done 213 tasks      | elapsed:  1.5min\n",
      "[Parallel(n_jobs=-1)]: Done 234 tasks      | elapsed:  1.6min\n",
      "[Parallel(n_jobs=-1)]: Done 257 tasks      | elapsed:  1.9min\n",
      "[Parallel(n_jobs=-1)]: Done 280 tasks      | elapsed:  2.0min\n",
      "[Parallel(n_jobs=-1)]: Done 305 tasks      | elapsed:  2.1min\n",
      "[Parallel(n_jobs=-1)]: Done 330 tasks      | elapsed:  2.3min\n",
      "[Parallel(n_jobs=-1)]: Done 357 tasks      | elapsed:  2.4min\n",
      "[Parallel(n_jobs=-1)]: Done 384 tasks      | elapsed:  2.5min\n",
      "[Parallel(n_jobs=-1)]: Done 413 tasks      | elapsed:  2.7min\n",
      "[Parallel(n_jobs=-1)]: Done 442 tasks      | elapsed:  2.8min\n",
      "[Parallel(n_jobs=-1)]: Done 473 tasks      | elapsed:  3.0min\n",
      "[Parallel(n_jobs=-1)]: Done 500 out of 500 | elapsed:  3.1min finished\n"
     ]
    }
   ],
   "source": [
    "params = {\n",
    "    'n_estimators' : [50,100,150,200,300,500],\n",
    "    'max_depth' : range(2,10),\n",
    "    'min_samples_split' : range(5,100),\n",
    "}\n",
    "model = RandomForestRegressor(n_estimators = 100, random_state = 42, oob_score = True) \n",
    "n_iters = 100\n",
    "clf = RandomizedSearchCV(model, params, random_state=42, verbose = 10, n_iter = n_iters, n_jobs = -1)\n",
    "search = clf.fit(train_X, train_y)"
   ]
  },
  {
   "cell_type": "code",
   "execution_count": 189,
   "metadata": {
    "ExecuteTime": {
     "end_time": "2020-12-23T03:20:49.486148Z",
     "start_time": "2020-12-23T03:20:48.540061Z"
    }
   },
   "outputs": [
    {
     "name": "stdout",
     "output_type": "stream",
     "text": [
      "Average Weekly Return -0.00\n",
      "Weekly Return on Threshold 1.13\n"
     ]
    }
   ],
   "source": [
    "rf = RandomForestRegressor(**search.best_params_, oob_score = True, random_state=42) \n",
    "rf.fit(train_X, train_y)\n",
    "pred_train_labels = rf.predict(train_X)\n",
    "pred_test_labels = rf.predict(test_X)\n",
    "\n",
    "scalerML = StandardScaler()\n",
    "scalerML.fit(pred_train_labels.reshape(-1,1))\n",
    "scalerReal = StandardScaler()\n",
    "scalerReal.fit(train_y.reshape(-1,1))\n",
    "y_pred_z = scalerML.transform(pred_test_labels.reshape(-1,1)).T[0]\n",
    "y_pred_real = scalerReal.inverse_transform(y_pred_z.reshape(-1,1)).T[0]\n",
    "\n",
    "res = pd.DataFrame()\n",
    "res['actual'] = test_y\n",
    "res['prediction'] = y_pred_real\n",
    "ml.result_report(res, threshold=0.01, verbose=True)"
   ]
  },
  {
   "cell_type": "code",
   "execution_count": 188,
   "metadata": {
    "ExecuteTime": {
     "end_time": "2020-12-23T03:20:11.112396Z",
     "start_time": "2020-12-23T03:20:11.074004Z"
    }
   },
   "outputs": [
    {
     "data": {
      "text/html": [
       "<div>\n",
       "<style scoped>\n",
       "    .dataframe tbody tr th:only-of-type {\n",
       "        vertical-align: middle;\n",
       "    }\n",
       "\n",
       "    .dataframe tbody tr th {\n",
       "        vertical-align: top;\n",
       "    }\n",
       "\n",
       "    .dataframe thead th {\n",
       "        text-align: right;\n",
       "    }\n",
       "</style>\n",
       "<table border=\"1\" class=\"dataframe\">\n",
       "  <thead>\n",
       "    <tr style=\"text-align: right;\">\n",
       "      <th></th>\n",
       "      <th>actual</th>\n",
       "      <th>prediction</th>\n",
       "    </tr>\n",
       "  </thead>\n",
       "  <tbody>\n",
       "    <tr>\n",
       "      <th>0</th>\n",
       "      <td>0.010885</td>\n",
       "      <td>-0.004846</td>\n",
       "    </tr>\n",
       "    <tr>\n",
       "      <th>1</th>\n",
       "      <td>0.038362</td>\n",
       "      <td>0.025254</td>\n",
       "    </tr>\n",
       "    <tr>\n",
       "      <th>2</th>\n",
       "      <td>0.002467</td>\n",
       "      <td>-0.017609</td>\n",
       "    </tr>\n",
       "    <tr>\n",
       "      <th>3</th>\n",
       "      <td>-0.002462</td>\n",
       "      <td>-0.008600</td>\n",
       "    </tr>\n",
       "    <tr>\n",
       "      <th>4</th>\n",
       "      <td>-0.022063</td>\n",
       "      <td>-0.019089</td>\n",
       "    </tr>\n",
       "    <tr>\n",
       "      <th>...</th>\n",
       "      <td>...</td>\n",
       "      <td>...</td>\n",
       "    </tr>\n",
       "    <tr>\n",
       "      <th>365</th>\n",
       "      <td>-0.008516</td>\n",
       "      <td>-0.000657</td>\n",
       "    </tr>\n",
       "    <tr>\n",
       "      <th>366</th>\n",
       "      <td>-0.023594</td>\n",
       "      <td>0.014133</td>\n",
       "    </tr>\n",
       "    <tr>\n",
       "      <th>367</th>\n",
       "      <td>-0.022339</td>\n",
       "      <td>-0.005519</td>\n",
       "    </tr>\n",
       "    <tr>\n",
       "      <th>368</th>\n",
       "      <td>-0.019393</td>\n",
       "      <td>-0.011635</td>\n",
       "    </tr>\n",
       "    <tr>\n",
       "      <th>369</th>\n",
       "      <td>-0.011471</td>\n",
       "      <td>0.015860</td>\n",
       "    </tr>\n",
       "  </tbody>\n",
       "</table>\n",
       "<p>370 rows × 2 columns</p>\n",
       "</div>"
      ],
      "text/plain": [
       "       actual  prediction\n",
       "0    0.010885   -0.004846\n",
       "1    0.038362    0.025254\n",
       "2    0.002467   -0.017609\n",
       "3   -0.002462   -0.008600\n",
       "4   -0.022063   -0.019089\n",
       "..        ...         ...\n",
       "365 -0.008516   -0.000657\n",
       "366 -0.023594    0.014133\n",
       "367 -0.022339   -0.005519\n",
       "368 -0.019393   -0.011635\n",
       "369 -0.011471    0.015860\n",
       "\n",
       "[370 rows x 2 columns]"
      ]
     },
     "execution_count": 188,
     "metadata": {},
     "output_type": "execute_result"
    }
   ],
   "source": [
    "res"
   ]
  },
  {
   "cell_type": "code",
   "execution_count": 175,
   "metadata": {
    "ExecuteTime": {
     "end_time": "2020-12-23T03:11:03.514017Z",
     "start_time": "2020-12-23T03:11:03.426364Z"
    }
   },
   "outputs": [],
   "source": [
    "tvec = np.linspace(0,0.05,50)\n",
    "ret = []\n",
    "counts = []\n",
    "for thresh in tvec:\n",
    "    counts.append(res[res.prediction >= thresh].shape[0] / res.shape[0])\n",
    "    ret.append(res[res.prediction >= thresh].actual.mean())"
   ]
  },
  {
   "cell_type": "code",
   "execution_count": 176,
   "metadata": {
    "ExecuteTime": {
     "end_time": "2020-12-23T03:11:04.347765Z",
     "start_time": "2020-12-23T03:11:04.170035Z"
    }
   },
   "outputs": [
    {
     "data": {
      "image/png": "[encoded data removed]",
      "text/plain": [
       "<Figure size 432x288 with 1 Axes>"
      ]
     },
     "metadata": {
      "needs_background": "light"
     },
     "output_type": "display_data"
    }
   ],
   "source": [
    "plt.plot(tvec, ret)\n",
    "plt.show()"
   ]
  },
  {
   "cell_type": "code",
   "execution_count": 177,
   "metadata": {
    "ExecuteTime": {
     "end_time": "2020-12-23T03:11:46.116728Z",
     "start_time": "2020-12-23T03:11:45.835836Z"
    }
   },
   "outputs": [
    {
     "data": {
      "image/png": "[encoded data removed]",
      "text/plain": [
       "<Figure size 432x288 with 1 Axes>"
      ]
     },
     "metadata": {
      "needs_background": "light"
     },
     "output_type": "display_data"
    }
   ],
   "source": [
    "plt.hist(y_pred_real, bins=40)\n",
    "plt.show()"
   ]
  },
  {
   "cell_type": "markdown",
   "metadata": {},
   "source": [
    "## Production Files"
   ]
  },
  {
   "cell_type": "code",
   "execution_count": 200,
   "metadata": {
    "ExecuteTime": {
     "end_time": "2020-12-23T03:29:18.992279Z",
     "start_time": "2020-12-23T03:29:18.966518Z"
    }
   },
   "outputs": [],
   "source": [
    "model_specifiers = {\n",
    "                    'tickers': [i.replace(f'_percent_change_{feat_days}', '') for i in feat_cols],\n",
    "                    'feat_days': 5,\n",
    "                    'pred_days': 5,\n",
    "                   }"
   ]
  },
  {
   "cell_type": "code",
   "execution_count": 201,
   "metadata": {
    "ExecuteTime": {
     "end_time": "2020-12-23T03:29:39.589506Z",
     "start_time": "2020-12-23T03:29:39.550682Z"
    }
   },
   "outputs": [],
   "source": [
    "with open('modelfiles/MMM/predictor.pickle', 'wb') as f:\n",
    "    pickle.dump(rf, f)\n",
    "with open('modelfiles/MMM/scalerML.pickle', 'wb') as f:\n",
    "    pickle.dump(scalerML, f)\n",
    "with open('modelfiles/MMM/scalerReal.pickle', 'wb') as f:\n",
    "    pickle.dump(scalerReal, f)\n",
    "with open('modelfiles/MMM/PCA.pickle', 'wb') as f:\n",
    "    pickle.dump(pca, f)\n",
    "with open('modelfiles/MMM/model_specifiers.pickle', 'wb') as f:\n",
    "    pickle.dump(model_specifiers, f)"
   ]
  },
  {
   "cell_type": "code",
   "execution_count": null,
   "metadata": {},
   "outputs": [],
   "source": []
  }
 ],
 "metadata": {
  "kernelspec": {
   "display_name": "Python 3",
   "language": "python",
   "name": "python3"
  },
  "language_info": {
   "codemirror_mode": {
    "name": "ipython",
    "version": 3
   },
   "file_extension": ".py",
   "mimetype": "text/x-python",
   "name": "python",
   "nbconvert_exporter": "python",
   "pygments_lexer": "ipython3",
   "version": "3.8.3"
  },
  "toc": {
   "base_numbering": 1,
   "nav_menu": {},
   "number_sections": true,
   "sideBar": true,
   "skip_h1_title": false,
   "title_cell": "Table of Contents",
   "title_sidebar": "Contents",
   "toc_cell": false,
   "toc_position": {},
   "toc_section_display": true,
   "toc_window_display": false
  }
 },
 "nbformat": 4,
 "nbformat_minor": 4
}
