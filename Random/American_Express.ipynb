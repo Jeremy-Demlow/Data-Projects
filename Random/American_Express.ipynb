{
 "cells": [
  {
   "cell_type": "markdown",
   "metadata": {},
   "source": [
    "```bash\n",
    "for x in *;do  \n",
    "       extension=\"${x##*.}\"\n",
    "       if [ \"$extension\" = \"mp3\" ] || [ \"$extension\" = \"flac\" ]\n",
    "       then\n",
    "             mv $x music/\n",
    "       elif [ \"$extension\" = \"jpg\" ] || [ \"$extension\" = \"png\" ]\n",
    "       then\n",
    "             mv $x images/\n",
    "       elif [ \"$extension\" = \"avi\" ] || [ \"$extension\" = \"mov\" ]\n",
    "       then\n",
    "            mv $x videos/\n",
    "       elif [ \"$extension\" = \"log\" ]\n",
    "       then\n",
    "            rm $x\n",
    "       fi\n",
    "done\n",
    "```"
   ]
  },
  {
   "cell_type": "code",
   "execution_count": 60,
   "metadata": {},
   "outputs": [],
   "source": [
    "test = 'jkg?kjh??'\n",
    "\n",
    "import string \n",
    "import random\n",
    "\n",
    "def solution(riddle):\n",
    "    if len(riddle) == 0: \n",
    "        return riddle\n",
    "    elif len(riddle) == 1: \n",
    "        x_next = \"Z\" \n",
    "    else:\n",
    "        x_next = riddle[1] if riddle[1] != \"?\" else \"Y\"\n",
    "    t = \"\"\n",
    "    x_prev = riddle[0] if riddle[0] != \"?\" else \"X\" \n",
    "    for i,x in enumerate(riddle):   \n",
    "        if x == \"?\":   \n",
    "            x = random.choice([c for c in string.ascii_lowercase if c not in [x_prev,x_next]])\n",
    "        t += x\n",
    "        x_prev = x\n",
    "        if i+2 < len(riddle):\n",
    "            x_next = riddle[i+2]\n",
    "        else:\n",
    "            x_next = \"Z\"\n",
    "    return t"
   ]
  },
  {
   "cell_type": "code",
   "execution_count": 62,
   "metadata": {},
   "outputs": [
    {
     "data": {
      "text/plain": [
       "'ncd'"
      ]
     },
     "execution_count": 62,
     "metadata": {},
     "output_type": "execute_result"
    }
   ],
   "source": [
    "solution(test)"
   ]
  },
  {
   "cell_type": "code",
   "execution_count": null,
   "metadata": {},
   "outputs": [],
   "source": [
    "import math def\n",
    "def find_minimum(m):\n",
    "    x_min = 1000000\n",
    "    for i in range(0,m.get_data_size()):  \n",
    "        x = m.get_item(i)      \n",
    "        if x < x_min:       \n",
    "            x_min = x   \n",
    "    return x        \n",
    "      \n",
    "def solution(messenger, whoami):\n",
    "    x_min = 1000000\n",
    "    for i in range(0,m.get_data_size()):  \n",
    "        x = m.get_item(i)      \n",
    "        if x < x_min:       \n",
    "            x_min = x  \n",
    "        return x\n",
    "    \n",
    "    if whoami == 1:    \n",
    "        for i in range(4):  \n",
    "            x = int(messenger.receive_message().decode())       \n",
    "            if x<x_min:         \n",
    "                x_min = x    \n",
    "                messenger.record_result(x_min)\n",
    "            return messenger\n",
    "            else: \n",
    "                messenger.send_message(1,str(x_min).encode()"
   ]
  }
 ],
 "metadata": {
  "kernelspec": {
   "display_name": "Python 3",
   "language": "python",
   "name": "python3"
  },
  "language_info": {
   "codemirror_mode": {
    "name": "ipython",
    "version": 3
   },
   "file_extension": ".py",
   "mimetype": "text/x-python",
   "name": "python",
   "nbconvert_exporter": "python",
   "pygments_lexer": "ipython3",
   "version": "3.7.5"
  },
  "toc": {
   "base_numbering": 1,
   "nav_menu": {},
   "number_sections": true,
   "sideBar": true,
   "skip_h1_title": false,
   "title_cell": "Table of Contents",
   "title_sidebar": "Contents",
   "toc_cell": false,
   "toc_position": {},
   "toc_section_display": true,
   "toc_window_display": false
  }
 },
 "nbformat": 4,
 "nbformat_minor": 2
}
