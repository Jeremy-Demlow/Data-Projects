{
 "cells": [
  {
   "cell_type": "markdown",
   "metadata": {},
   "source": [
    "# Easy"
   ]
  },
  {
   "cell_type": "markdown",
   "metadata": {
    "heading_collapsed": true
   },
   "source": [
    "## Merge Two Binary Trees"
   ]
  },
  {
   "cell_type": "markdown",
   "metadata": {
    "hidden": true
   },
   "source": [
    "Given two binary trees and imagine that when you put one of them to cover the other, some nodes of the two trees are overlapped while the others are not.\n",
    "\n",
    "You need to merge them into a new binary tree. The merge rule is that if two nodes overlap, then sum node values up as the new value of the merged node. Otherwise, the NOT null node will be used as the node of new tree.\n",
    "```python\n",
    "Example 1:\n",
    "\n",
    "Input: \n",
    "\tTree 1                     Tree 2                  \n",
    "          1                         2                             \n",
    "         / \\                       / \\                            \n",
    "        3   2                     1   3                        \n",
    "       /                           \\   \\                      \n",
    "      5                             4   7                  \n",
    "Output: \n",
    "Merged tree:\n",
    "\t     3\n",
    "\t    / \\\n",
    "\t   4   5\n",
    "\t  / \\   \\ \n",
    "\t 5   4   7\n",
    " \n",
    "```\n",
    "Note: The merging process must start from the root nodes of both trees."
   ]
  },
  {
   "cell_type": "code",
   "execution_count": 117,
   "metadata": {
    "hidden": true
   },
   "outputs": [],
   "source": [
    "# Definition for a binary tree node\n",
    "class TreeNode: \n",
    "    def __init__(self, x):\n",
    "        self.val = x\n",
    "        self.left = None\n",
    "        self.right = None"
   ]
  },
  {
   "cell_type": "markdown",
   "metadata": {
    "hidden": true
   },
   "source": [
    "Both of these get the same score, but the second one makes more sense."
   ]
  },
  {
   "cell_type": "code",
   "execution_count": 119,
   "metadata": {
    "hidden": true
   },
   "outputs": [],
   "source": [
    "class Solution:\n",
    "    def mergeTrees(self, t1, t2):\n",
    "        if not t1: \n",
    "            return t2\n",
    "        elif not t2:\n",
    "            return t1\n",
    "        else:\n",
    "            res = TreeNode(t1.val + t2.val)\n",
    "            res.left = self.mergeTrees(t1.left, t2.left)\n",
    "            res.right = self.mergeTrees(t1.right, t2.right)\n",
    "        return res"
   ]
  },
  {
   "cell_type": "code",
   "execution_count": 121,
   "metadata": {
    "hidden": true
   },
   "outputs": [],
   "source": [
    "class Solution:\n",
    "    def mergeTrees(self, t1, t2):\n",
    "        if t1 and t2:\n",
    "            t1.val += t2.val\n",
    "            t1.left = self.mergeTrees(t1.left, t2.left)\n",
    "            t1.right = self.mergeTrees(t1.right, t2.right)\n",
    "            return t1\n",
    "        else:\n",
    "            return t1 or t2"
   ]
  },
  {
   "cell_type": "markdown",
   "metadata": {
    "heading_collapsed": true
   },
   "source": [
    "## Threading"
   ]
  },
  {
   "cell_type": "code",
   "execution_count": 123,
   "metadata": {
    "hidden": true
   },
   "outputs": [],
   "source": [
    "from threading import Barrier\n",
    "\n",
    "class Foo(object):\n",
    "    def __init__(self):\n",
    "        self.first_barrier = Barrier(2)\n",
    "        self.second_barrier = Barrier(2)\n",
    "\n",
    "    def first(self, printFirst):\n",
    "        printFirst()\n",
    "        self.first_barrier.wait()\n",
    "\n",
    "    def second(self, printSecond):\n",
    "        self.first_barrier.wait()\n",
    "        printSecond()\n",
    "        self.second_barrier.wait()\n",
    "            \n",
    "    def third(self, printThird):\n",
    "        self.second_barrier.wait()\n",
    "        printThird()"
   ]
  },
  {
   "cell_type": "markdown",
   "metadata": {
    "hidden": true
   },
   "source": [
    "Start with two locked locks. First thread unlocks the first lock that the second thread is waiting on. Second thread unlocks the second lock that the third thread is waiting on."
   ]
  },
  {
   "cell_type": "code",
   "execution_count": 124,
   "metadata": {
    "hidden": true
   },
   "outputs": [],
   "source": [
    "class Foo(object):\n",
    "    def __init__(self):\n",
    "        self.locks = (Lock(), Lock())\n",
    "        self.locks[0].acquire()\n",
    "        self.locks[1].acquire()\n",
    "        \n",
    "    def first(self, printFirst):\n",
    "        printFirst()\n",
    "        self.locks[0].release()\n",
    "\n",
    "    def second(self, printSecond):\n",
    "        with self.locks[0]:\n",
    "            printSecond()\n",
    "            self.locks[1].release()            \n",
    "            \n",
    "    def third(self, printThird):\n",
    "        with self.locks[1]:\n",
    "            printThird()"
   ]
  },
  {
   "cell_type": "markdown",
   "metadata": {
    "hidden": true
   },
   "source": [
    "Set events from first and second threads when they are done. Have the second thread wait for the first one to set its event. Have the third thread wait on the second thread to raise its event. "
   ]
  },
  {
   "cell_type": "code",
   "execution_count": 125,
   "metadata": {
    "hidden": true
   },
   "outputs": [],
   "source": [
    "from threading import Event\n",
    "class Foo(object):\n",
    "    def __init__(self):\n",
    "        self.done = (Event(), Event())\n",
    "    def first(self, printFirst):\n",
    "        printFirst()\n",
    "        self.done[0].set()\n",
    "\n",
    "    def second(self, printSecond):\n",
    "        self.done[0].wait()\n",
    "        printSecond()\n",
    "        self.done[1].set()\n",
    "            \n",
    "    def third(self, printThird):\n",
    "        self.done[1].wait()\n",
    "        printThird()"
   ]
  },
  {
   "cell_type": "markdown",
   "metadata": {
    "hidden": true
   },
   "source": [
    "Start with two closed gates represented by 0-value semaphores. Second and third thread are waiting behind these gates. When the first thread prints, it opens the gate for the seoncd thread. When the second thread prints, it opens the gate for the third thread. "
   ]
  },
  {
   "cell_type": "code",
   "execution_count": 126,
   "metadata": {
    "hidden": true
   },
   "outputs": [],
   "source": [
    "#Best Score\n",
    "from threading import Semaphore\n",
    "\n",
    "class Foo:\n",
    "    def __init__(self):\n",
    "        self.gates = (Semaphore(0),Semaphore(0))\n",
    "        \n",
    "    def first(self, printFirst):\n",
    "        printFirst()\n",
    "        self.gates[0].release()\n",
    "        \n",
    "    def second(self, printSecond):\n",
    "        with self.gates[0]:\n",
    "            printSecond()\n",
    "            self.gates[1].release()\n",
    "            \n",
    "    def third(self, printThird):\n",
    "        with self.gates[1]:\n",
    "            printThird()"
   ]
  },
  {
   "cell_type": "markdown",
   "metadata": {
    "hidden": true
   },
   "source": [
    "Have all three threads attempt to acquire an Rlock via Condition. The first thread can always acquire a lock, while the other two have to wait for the ``order`` to be set to the right value. First thread sets the order after printing which signals for the second thread to run. Second thread does the same for the third. "
   ]
  },
  {
   "cell_type": "code",
   "execution_count": 127,
   "metadata": {
    "hidden": true
   },
   "outputs": [],
   "source": [
    "from threading import Condition\n",
    "\n",
    "class Foo:\n",
    "    def __init__(self):\n",
    "        self.exec_condition = Condition()\n",
    "        self.order = 0\n",
    "        self.first_finish = lambda: self.order == 1\n",
    "        self.second_finish = lambda: self.order == 2\n",
    "\n",
    "    def first(self, printFirst):\n",
    "        with self.exec_condition:\n",
    "            printFirst()\n",
    "            self.order = 1\n",
    "            self.exec_condition.notify(2)\n",
    "\n",
    "    def second(self, printSecond):\n",
    "        with self.exec_condition:\n",
    "            self.exec_condition.wait_for(self.first_finish)\n",
    "            printSecond()\n",
    "            self.order = 2\n",
    "            self.exec_condition.notify()\n",
    "\n",
    "    def third(self, printThird):\n",
    "        with self.exec_condition:\n",
    "            self.exec_condition.wait_for(self.second_finish)\n",
    "            printThird()"
   ]
  },
  {
   "cell_type": "markdown",
   "metadata": {
    "heading_collapsed": true
   },
   "source": [
    "## Distribute Candies to People"
   ]
  },
  {
   "cell_type": "markdown",
   "metadata": {
    "hidden": true
   },
   "source": [
    "We distribute some number of candies, to a row of n = num_people people in the following way:\n",
    "\n",
    "We then give 1 candy to the first person, 2 candies to the second person, and so on until we give n candies to the last person.\n",
    "\n",
    "Then, we go back to the start of the row, giving n + 1 candies to the first person, n + 2 candies to the second person, and so on until we give 2 * n candies to the last person.\n",
    "\n",
    "This process repeats (with us giving one more candy each time, and moving to the start of the row after we reach the end) until we run out of candies.  The last person will receive all of our remaining candies (not necessarily one more than the previous gift).\n",
    "\n",
    "Return an array (of length num_people and sum candies) that represents the final distribution of candies.\n",
    "\n",
    " \n",
    "\n",
    "Example 1:\n",
    "```python\n",
    "Input: candies = 7, num_people = 4\n",
    "Output: [1,2,3,1]\n",
    "Explanation:\n",
    "On the first turn, ans[0] += 1, and the array is [1,0,0,0].\n",
    "On the second turn, ans[1] += 2, and the array is [1,2,0,0].\n",
    "On the third turn, ans[2] += 3, and the array is [1,2,3,0].\n",
    "On the fourth turn, ans[3] += 1 (because there is only one candy left), and the final array is [1,2,3,1].\n",
    "```\n",
    "Example 2:\n",
    "```python\n",
    "Input: candies = 10, num_people = 3\n",
    "Output: [5,2,3]\n",
    "Explanation: \n",
    "On the first turn, ans[0] += 1, and the array is [1,0,0].\n",
    "On the second turn, ans[1] += 2, and the array is [1,2,0].\n",
    "On the third turn, ans[2] += 3, and the array is [1,2,3].\n",
    "On the fourth turn, ans[0] += 4, and the final array is [5,2,3].\n",
    "```\n",
    "\n",
    "Constraints:\n",
    "\n",
    "1 <= candies <= 10^9\n",
    "1 <= num_people <= 1000"
   ]
  },
  {
   "cell_type": "code",
   "execution_count": 133,
   "metadata": {
    "hidden": true
   },
   "outputs": [],
   "source": [
    "class Solution: \n",
    "    def distributeCandies(self, candies:int, num_people:int):\n",
    "        dist = [0 for i in range(num_people)] #list with as many zeros as there are people \n",
    "        give_away = 1 \n",
    "        i = 0 \n",
    "        \n",
    "        while candies > 0: #if there's more candies than give away\n",
    "            if give_away <= candies:\n",
    "                dist[i] += give_away  #distrubte candies to the person\n",
    "            else:\n",
    "                give_away = candies # Else if there's less, give all \n",
    "                dist[i] += give_away\n",
    "            \n",
    "            candies -= give_away \n",
    "            give_away += 1\n",
    "            if i != len(dist) -1:\n",
    "                i += 1\n",
    "            else:\n",
    "                i = 0\n",
    "        \n",
    "        return dist"
   ]
  },
  {
   "cell_type": "markdown",
   "metadata": {
    "heading_collapsed": true
   },
   "source": [
    "## Remove Duplicate Zeros"
   ]
  },
  {
   "cell_type": "markdown",
   "metadata": {
    "hidden": true
   },
   "source": [
    "Given a fixed length array arr of integers, duplicate each occurrence of zero, shifting the remaining elements to the right.\n",
    "\n",
    "Note that elements beyond the length of the original array are not written.\n",
    "\n",
    "Do the above modifications to the input array in place, do not return anything from your function.\n",
    "\n",
    " \n",
    "\n",
    "Example 1:\n",
    "```py\n",
    "Input: [1,0,2,3,0,4,5,0]\n",
    "Output: null\n",
    "Explanation: After calling your function, the input array is modified to: [1,0,0,2,3,0,0,4]\n",
    "```\n",
    "Example 2:\n",
    "```py\n",
    "Input: [1,2,3]\n",
    "Output: null\n",
    "Explanation: After calling your function, the input array is modified to: [1,2,3]\n",
    "```\n",
    "\n",
    "Note:\n",
    "\n",
    "1 <= arr.length <= 10000\n",
    "0 <= arr[i] <= 9"
   ]
  },
  {
   "cell_type": "code",
   "execution_count": 134,
   "metadata": {
    "hidden": true
   },
   "outputs": [],
   "source": [
    "class Solution(object):\n",
    "    def duplicateZeros(self, arr):\n",
    "        i = 0 \n",
    "        while i < len(arr):\n",
    "            if arr[i] == 0:\n",
    "                arr.insert(i, 0)\n",
    "                arr.pop(-1)\n",
    "                i += 1\n",
    "            i += 1"
   ]
  },
  {
   "cell_type": "markdown",
   "metadata": {
    "heading_collapsed": true
   },
   "source": [
    "## Remove All Adjacent Duplicate String"
   ]
  },
  {
   "cell_type": "markdown",
   "metadata": {
    "hidden": true
   },
   "source": [
    "Given a string S of lowercase letters, a duplicate removal consists of choosing two adjacent and equal letters, and removing them.\n",
    "\n",
    "We repeatedly make duplicate removals on S until we no longer can.\n",
    "\n",
    "Return the final string after all such duplicate removals have been made.  It is guaranteed the answer is unique.\n",
    "\n",
    " \n",
    "\n",
    "Example 1:\n",
    "```python\n",
    "Input: \"abbaca\"\n",
    "Output: \"ca\"\n",
    "```\n",
    "Explanation: \n",
    "For example, in \"abbaca\" we could remove \"bb\" since the letters are adjacent and equal, and this is the only possible move.  The result of this move is that the string is \"aaca\", of which only \"aa\" is possible, so the final string is \"ca\".\n",
    " \n",
    "\n",
    "Note:\n",
    "\n",
    "1 <= S.length <= 20000\n",
    "S consists only of English lowercase letters."
   ]
  },
  {
   "cell_type": "code",
   "execution_count": null,
   "metadata": {
    "hidden": true
   },
   "outputs": [],
   "source": [
    "class Solution(object):\n",
    "    def rmAdjDupStrings(self, x:str):\n",
    "        i = 0 \n",
    "        while i < len(x) - 1:\n",
    "            if x[i] == x[i + 1]: \n",
    "                x = x[:i] + x[i+2:]\n",
    "                if i > 0:\n",
    "                    i -= 2 # in every case expect i = 0\n",
    "                else:\n",
    "                    i -= 1 # for i=0 to remain on 0, only -1 is necessary \n",
    "            i += 1\n",
    "        return x                  "
   ]
  },
  {
   "cell_type": "markdown",
   "metadata": {},
   "source": [
    "## Remove All Adjacent Duplicates in String"
   ]
  },
  {
   "cell_type": "markdown",
   "metadata": {},
   "source": [
    "Given a string s, a k duplicate removal consists of choosing k adjacent and equal letters from s and removing them causing the left and the right side of the deleted substring to concatenate together.\n",
    "\n",
    "We repeatedly make k duplicate removals on s until we no longer can.\n",
    "\n",
    "Return the final string after all such duplicate removals have been made.\n",
    "\n",
    "It is guaranteed that the answer is unique.\n",
    "\n",
    "Example 1:\n",
    "```py\n",
    "Input: s = \"abcd\", k = 2\n",
    "Output: \"abcd\"\n",
    "```\n",
    "Explanation: There's nothing to delete."
   ]
  },
  {
   "cell_type": "code",
   "execution_count": null,
   "metadata": {},
   "outputs": [],
   "source": [
    "def removeDuplicates(self, s: str, k: int) -> str:\n",
    "        distinct = set(s)\n",
    "        toRemove = list()\n",
    "        for char in distinct:\n",
    "            toRemove.append(char*k)\n",
    "\n",
    "        while True:\n",
    "            start = s\n",
    "            for dup in toRemove:\n",
    "                if dup in s:\n",
    "                    s = s.replace(dup, \"\")\n",
    "            if start == s:\n",
    "                return s"
   ]
  },
  {
   "cell_type": "markdown",
   "metadata": {},
   "source": [
    "Given a sorted array and a target value, return the index if the target is found. If not, return the index where it would be if it were inserted in order.\n",
    "\n",
    "You may assume no duplicates in the array.\n",
    "```python\n",
    "Example 1:\n",
    "\n",
    "Input: [1,3,5,6], 5\n",
    "Output: 2\n",
    "Example 2:\n",
    "\n",
    "Input: [1,3,5,6], 2\n",
    "Output: 1\n",
    "Example 3:\n",
    "\n",
    "Input: [1,3,5,6], 7\n",
    "Output: 4\n",
    "Example 4:\n",
    "\n",
    "Input: [1,3,5,6], 0\n",
    "Output: 0\n",
    "```"
   ]
  },
  {
   "cell_type": "code",
   "execution_count": 215,
   "metadata": {},
   "outputs": [],
   "source": [
    "def searchInsert(nums, target):\n",
    "    left, right = 0,len(nums)-1     # At the beginning whole range is taken into account (0, len-1)\n",
    "    while left<right:               # As long as bottom frontier touches upper, constantly narrow range\n",
    "        mid = (left+right)//2       # Always check the middle of the range\n",
    "        if nums[mid]<target:        # If middle is smaller, you cut bottom by setting bottom to middle\n",
    "            left = mid+1            # Left forntier is set to the middle\n",
    "        else:\n",
    "            right = mid             # If it's bigger or equal, cut upper half by setting upper to middle\n",
    "\n",
    "    # Outer while, which means bottom frontier touched upper (index has been found)\n",
    "\n",
    "    if nums[left]<target:           # It means algorithm touched the end of the list, so add target as last item\n",
    "        return left+1\n",
    "    return left                     # Otherwise index is the bottom frontier"
   ]
  },
  {
   "cell_type": "code",
   "execution_count": 216,
   "metadata": {},
   "outputs": [],
   "source": [
    "x = [1,3,5,6]"
   ]
  },
  {
   "cell_type": "code",
   "execution_count": 217,
   "metadata": {
    "scrolled": true
   },
   "outputs": [
    {
     "name": "stdout",
     "output_type": "stream",
     "text": [
      "1\n",
      "0 [1, 3, 5, 6]\n",
      "3 [1, 3, 5, 6]\n",
      "2\n",
      "2 [1, 3, 5, 6]\n",
      "3 [1, 3, 5, 6]\n"
     ]
    },
    {
     "data": {
      "text/plain": [
       "2"
      ]
     },
     "execution_count": 217,
     "metadata": {},
     "output_type": "execute_result"
    }
   ],
   "source": [
    "searchInsert(x, 5)"
   ]
  },
  {
   "cell_type": "markdown",
   "metadata": {},
   "source": [
    "# Medium"
   ]
  },
  {
   "cell_type": "markdown",
   "metadata": {},
   "source": [
    "The **numeric value** of a **lowerccase character** is defined as its postioooon ``(1-inndex)`` in the alphabet soo  the numeric  value of a iis 1, and the numeric value of b is 2 and so oon. \n",
    "\n",
    "The **numeric value** of a **string** consisting of a lowercase character is defined as the sum of it's characters numeric values. Foor example, the numeric values of the string \"abe\" is equals to ``1+2+5=8``.\n",
    "\n",
    "You are given two itegers n and k. Return the **lexicorgraphically smallest string** with **length** equal to ``n`` and **numeric value** equal to ``k``.\n",
    "\n",
    "> Note that a string ``x`` is lexicographically smaller that string ``y`` if ``x`` coome before ``y`` in dictionary  order, that is, either x is prefix of ``y`` or if ``i`` is the first position such that `` x[i] != y[i]`` then ``x[i]`` come before ``y[i]`` in alphabetic order."
   ]
  },
  {
   "cell_type": "markdown",
   "metadata": {},
   "source": [
    "```python\n",
    "Example 1:\n",
    "\n",
    "Input: n = 3, k = 27\n",
    "Output: \"aay\"\n",
    "Explanation: The numeric value of the string is 1 + 1 + 25 = 27, and it is the smallest string with such a value and length equal to 3.\n",
    "Example 2:\n",
    "\n",
    "Input: n = 5, k = 73\n",
    "Output: \"aaszz\"\n",
    "    \n",
    "Constraints:\n",
    "\n",
    "1 <= n <= 105\n",
    "n <= k <= 26 * n\n",
    "```"
   ]
  },
  {
   "cell_type": "code",
   "execution_count": 64,
   "metadata": {
    "ExecuteTime": {
     "end_time": "2020-11-30T15:11:32.729677Z",
     "start_time": "2020-11-30T15:11:32.724535Z"
    }
   },
   "outputs": [],
   "source": [
    "class Solution: \n",
    "    \n",
    "    def getSmallestString(self, n: int, k: int) -> str:\n",
    "        x = k - n\n",
    "        ans = 'z'*(x // 25)\n",
    "        if x:\n",
    "            ans = chr(ord('a') + x) + ans\n",
    "        return 'a'*(n - len(ans)) + ans"
   ]
  },
  {
   "cell_type": "code",
   "execution_count": 79,
   "metadata": {
    "ExecuteTime": {
     "end_time": "2020-11-30T15:14:02.200396Z",
     "start_time": "2020-11-30T15:14:02.194818Z"
    }
   },
   "outputs": [],
   "source": [
    "test = Solution()"
   ]
  },
  {
   "cell_type": "code",
   "execution_count": 80,
   "metadata": {
    "ExecuteTime": {
     "end_time": "2020-11-30T15:14:02.456948Z",
     "start_time": "2020-11-30T15:14:02.447819Z"
    }
   },
   "outputs": [
    {
     "data": {
      "text/plain": [
       "'aatzz'"
      ]
     },
     "execution_count": 80,
     "metadata": {},
     "output_type": "execute_result"
    }
   ],
   "source": [
    "test.getSmallestString(5, 73)"
   ]
  },
  {
   "cell_type": "markdown",
   "metadata": {},
   "source": [
    "## Find the Most Competitive Subsequence"
   ]
  },
  {
   "cell_type": "markdown",
   "metadata": {},
   "source": [
    "Given an integer array nums and a positive integer k, return the most competitive subsequence of nums of size k.\n",
    "\n",
    "An array's subsequence is a resulting sequence obtained by erasing some (possibly zero) elements from the array.\n",
    "\n",
    "We define that a subsequence a is more competitive than a subsequence b (of the same length) if in the first position where a and b differ, subsequence a has a number less than the corresponding number in b. For example, [1,3,4] is more competitive than [1,3,5] because the first position they differ is at the final number, and 4 is less than 5.\n",
    "\n",
    "Example 1:\n",
    "```\n",
    "Input: nums = [3,5,2,6], k = 2\n",
    "Output: [2,6]\n",
    "Explanation: Among the set of every possible subsequence: {[3,5], [3,2], [3,6], [5,2], [5,6], [2,6]}, [2,6] is the most competitive.\n",
    "```\n",
    "\n",
    "Example 2:\n",
    "```\n",
    "Input: nums = [2,4,3,3,5,4,9,6], k = 4\n",
    "Output: [2,3,3,4]\n",
    "```\n",
    "\n",
    "Constraints:\n",
    "```\n",
    "1 <= nums.length <= 105\n",
    "0 <= nums[i] <= 109\n",
    "1 <= k <= nums.length\n",
    "```"
   ]
  },
  {
   "cell_type": "code",
   "execution_count": null,
   "metadata": {},
   "outputs": [],
   "source": [
    "def mostCompetitive(self, nums: list, k: int):\n",
    "    stk = []\n",
    "    for i, x in enumerate(nums):\n",
    "        while stk and stk[-1] > x and len(stk) + (len(nums)-i) > k:\n",
    "            stk.pop()\n",
    "        if len(stk) < k:\n",
    "            stk.append(x)\n",
    "    return stk"
   ]
  },
  {
   "cell_type": "markdown",
   "metadata": {},
   "source": [
    "# Hard"
   ]
  },
  {
   "cell_type": "markdown",
   "metadata": {
    "heading_collapsed": true
   },
   "source": [
    "# Facebook Coding Challenges"
   ]
  },
  {
   "cell_type": "markdown",
   "metadata": {
    "hidden": true
   },
   "source": [
    "[link](https://github.com/kamyu104/FacebookHackerCup-2020)"
   ]
  },
  {
   "cell_type": "markdown",
   "metadata": {
    "hidden": true
   },
   "source": [
    "[Airline Travel Restrictions](https://www.facebook.com/codingcompetitions/hacker-cup/2020/qualification-round/problems/A)"
   ]
  },
  {
   "cell_type": "markdown",
   "metadata": {
    "hidden": true
   },
   "source": [
    "As a consulting data scientist in the airline industry, your job is to determine which trips between the various countries are possible.\n",
    "\n",
    "Let P{i,j}P i,j = \"Y\" if it's possible to travel from country ii to country jj via a sequence of 0 or more flights (which may pass through other countries along the way), and P{i,j}Pi,j= \"N\" otherwise. \n",
    "\n",
    "> Note that P_{i,i}P i,i is always \"Y\". Output this N*NN∗N matrix of characters.\n",
    "\n",
    "**Input:**\n",
    "\n",
    "Input begins with an integer TT, the number of airlines. For each airline, there are three lines. The first line contains the integer NN. The second line contains the length-NN string I_{1..N}I 1..N. The third line contains the length-NN string O_{1..N}O 1..N.\n",
    "\n",
    "**Output:**\n",
    "For the iith airline, output a line containing \"Case #i:\" followed by NN more lines, the iith of which contains the length-NN string P_{i,1..N}P i,1..N.\n",
    "\n",
    "**Constraints**\n",
    "1 <= T <= 100\n",
    "2 <= N <= 50\n",
    "\n",
    "**Explanation of Sample**\n",
    "\n",
    "In the first case, there are two countries with no restrictions. Therefore, trips between all pairs of countries are possible.\n",
    "\n",
    "In the second case, there are two countries, and traveling into country 1 is restricted. Since country 2 is the only country adjacent to country 1, the only impossible trip is from country 2 to country 1.\n",
    "\n",
    "In the third case, there are two countries, both of which restrict inbound travel.\n",
    "In the fourth case, one may not enter countries 2 or 3, nor exit country 4."
   ]
  },
  {
   "cell_type": "code",
   "execution_count": 112,
   "metadata": {
    "ExecuteTime": {
     "end_time": "2020-11-30T15:46:02.749735Z",
     "start_time": "2020-11-30T15:46:01.488424Z"
    },
    "hidden": true
   },
   "outputs": [],
   "source": [
    "import pandas as pd"
   ]
  },
  {
   "cell_type": "code",
   "execution_count": 113,
   "metadata": {
    "ExecuteTime": {
     "end_time": "2020-11-30T15:46:47.417328Z",
     "start_time": "2020-11-30T15:46:47.242033Z"
    },
    "hidden": true
   },
   "outputs": [],
   "source": [
    "from fastcore.utils import *\n",
    "from pathlib import Path"
   ]
  },
  {
   "cell_type": "code",
   "execution_count": 122,
   "metadata": {
    "ExecuteTime": {
     "end_time": "2020-11-30T15:50:29.842386Z",
     "start_time": "2020-11-30T15:50:29.840501Z"
    },
    "hidden": true
   },
   "outputs": [],
   "source": [
    "path = Path('./travel_restrictions_sample_input.txt')"
   ]
  },
  {
   "cell_type": "code",
   "execution_count": 125,
   "metadata": {
    "ExecuteTime": {
     "end_time": "2020-11-30T15:50:41.533063Z",
     "start_time": "2020-11-30T15:50:41.527345Z"
    },
    "hidden": true
   },
   "outputs": [],
   "source": [
    "x = path.read_text()"
   ]
  },
  {
   "cell_type": "code",
   "execution_count": 147,
   "metadata": {
    "ExecuteTime": {
     "end_time": "2020-11-30T15:55:50.413359Z",
     "start_time": "2020-11-30T15:55:50.410160Z"
    },
    "hidden": true
   },
   "outputs": [],
   "source": [
    "def travel_restrictions(x: list):\n",
    "    N = x\n",
    "    I, O = [x.strip() for _ in range(2)]\n",
    "    result = []\n",
    "    left, right = -1, -1\n",
    "    for i in range(x):\n",
    "        print(O[i])\n",
    "        print(I[i-1])\n",
    "        if not (i-1 >= 0 and O[i] == I[i-1] == 'Y'):\n",
    "            left = i"
   ]
  },
  {
   "cell_type": "code",
   "execution_count": 148,
   "metadata": {
    "ExecuteTime": {
     "end_time": "2020-11-30T15:55:50.683223Z",
     "start_time": "2020-11-30T15:55:50.667196Z"
    },
    "hidden": true
   },
   "outputs": [
    {
     "name": "stdout",
     "output_type": "stream",
     "text": [
      "5\n",
      "2\n",
      "YY\n",
      "YY\n",
      "2\n",
      "NY\n",
      "YY\n",
      "2\n",
      "NN\n",
      "YY\n",
      "5\n",
      "YNNYY\n",
      "YYYNY\n",
      "10\n",
      "NYYYNNYYYY\n",
      "YYNYYNYYNY\n"
     ]
    },
    {
     "ename": "TypeError",
     "evalue": "'str' object cannot be interpreted as an integer",
     "output_type": "error",
     "traceback": [
      "\u001b[0;31m---------------------------------------------------------------------------\u001b[0m",
      "\u001b[0;31mTypeError\u001b[0m                                 Traceback (most recent call last)",
      "\u001b[0;32m<ipython-input-148-c592ccdddd4e>\u001b[0m in \u001b[0;36m<module>\u001b[0;34m\u001b[0m\n\u001b[0;32m----> 1\u001b[0;31m \u001b[0mtravel_restrictions\u001b[0m\u001b[0;34m(\u001b[0m\u001b[0mx\u001b[0m\u001b[0;34m)\u001b[0m\u001b[0;34m\u001b[0m\u001b[0;34m\u001b[0m\u001b[0m\n\u001b[0m",
      "\u001b[0;32m<ipython-input-147-4c68206956fb>\u001b[0m in \u001b[0;36mtravel_restrictions\u001b[0;34m(x)\u001b[0m\n\u001b[1;32m      5\u001b[0m     \u001b[0mresult\u001b[0m \u001b[0;34m=\u001b[0m \u001b[0;34m[\u001b[0m\u001b[0;34m]\u001b[0m\u001b[0;34m\u001b[0m\u001b[0;34m\u001b[0m\u001b[0m\n\u001b[1;32m      6\u001b[0m     \u001b[0mleft\u001b[0m\u001b[0;34m,\u001b[0m \u001b[0mright\u001b[0m \u001b[0;34m=\u001b[0m \u001b[0;34m-\u001b[0m\u001b[0;36m1\u001b[0m\u001b[0;34m,\u001b[0m \u001b[0;34m-\u001b[0m\u001b[0;36m1\u001b[0m\u001b[0;34m\u001b[0m\u001b[0;34m\u001b[0m\u001b[0m\n\u001b[0;32m----> 7\u001b[0;31m     \u001b[0;32mfor\u001b[0m \u001b[0mi\u001b[0m \u001b[0;32min\u001b[0m \u001b[0mrange\u001b[0m\u001b[0;34m(\u001b[0m\u001b[0mx\u001b[0m\u001b[0;34m)\u001b[0m\u001b[0;34m:\u001b[0m\u001b[0;34m\u001b[0m\u001b[0;34m\u001b[0m\u001b[0m\n\u001b[0m\u001b[1;32m      8\u001b[0m         \u001b[0mprint\u001b[0m\u001b[0;34m(\u001b[0m\u001b[0mO\u001b[0m\u001b[0;34m[\u001b[0m\u001b[0mi\u001b[0m\u001b[0;34m]\u001b[0m\u001b[0;34m)\u001b[0m\u001b[0;34m\u001b[0m\u001b[0;34m\u001b[0m\u001b[0m\n\u001b[1;32m      9\u001b[0m         \u001b[0mprint\u001b[0m\u001b[0;34m(\u001b[0m\u001b[0mI\u001b[0m\u001b[0;34m[\u001b[0m\u001b[0mi\u001b[0m\u001b[0;34m-\u001b[0m\u001b[0;36m1\u001b[0m\u001b[0;34m]\u001b[0m\u001b[0;34m)\u001b[0m\u001b[0;34m\u001b[0m\u001b[0;34m\u001b[0m\u001b[0m\n",
      "\u001b[0;31mTypeError\u001b[0m: 'str' object cannot be interpreted as an integer"
     ]
    }
   ],
   "source": [
    "travel_restrictions(x)"
   ]
  },
  {
   "cell_type": "markdown",
   "metadata": {},
   "source": [
    "# OO Programing"
   ]
  },
  {
   "cell_type": "code",
   "execution_count": 1,
   "metadata": {},
   "outputs": [],
   "source": [
    "x = 'hi'"
   ]
  },
  {
   "cell_type": "code",
   "execution_count": 2,
   "metadata": {},
   "outputs": [
    {
     "data": {
      "text/plain": [
       "'hi'"
      ]
     },
     "execution_count": 2,
     "metadata": {},
     "output_type": "execute_result"
    }
   ],
   "source": [
    "x.lower()"
   ]
  },
  {
   "cell_type": "markdown",
   "metadata": {},
   "source": [
    "### Defining Methods "
   ]
  },
  {
   "cell_type": "code",
   "execution_count": 4,
   "metadata": {},
   "outputs": [],
   "source": [
    "class Book: \n",
    "    def __init__(self, title, author): \n",
    "        self.title = title \n",
    "        self.author = author \n",
    "        self.sold = 0 \n",
    "    \n",
    "    def sell(self, n):\n",
    "        self.sold += n\n",
    "        \n",
    "    def __str__(self): \n",
    "        return f\"Book({self.title}, {self.author}, sold={self.sold})\"\n",
    "        \n",
    "    def __repr__(self): \n",
    "        return self.__str__()"
   ]
  },
  {
   "cell_type": "code",
   "execution_count": 5,
   "metadata": {},
   "outputs": [
    {
     "name": "stdout",
     "output_type": "stream",
     "text": [
      "Book(Gridlinked, Neal Asher, sold=0)\n",
      "Book(Gridlinked, Neal Asher, sold=100)\n"
     ]
    }
   ],
   "source": [
    "b = Book('Gridlinked', 'Neal Asher')\n",
    "print(b)\n",
    "b.sell(100) # Book.sell(b, 100)\n",
    "print(b)"
   ]
  },
  {
   "cell_type": "code",
   "execution_count": 14,
   "metadata": {},
   "outputs": [],
   "source": [
    "import numpy as np\n",
    "class Point: \n",
    "    def __init__(self, x, y, rounder=4): \n",
    "        self.x = x \n",
    "        self.y = y \n",
    "        self.rounder = rounder\n",
    "    def distance(self, other):\n",
    "        return round(np.sqrt((self.x - other.x)**2 + (self.y - other.y)**2),self.rounder)\n",
    "    \n",
    "    def __str__(self): \n",
    "        return f\"({self.x}, {self.y})\""
   ]
  },
  {
   "cell_type": "code",
   "execution_count": 15,
   "metadata": {},
   "outputs": [
    {
     "name": "stdout",
     "output_type": "stream",
     "text": [
      "2.8284\n"
     ]
    }
   ],
   "source": [
    "p=Point(3,4)\n",
    "q=Point(5,6)\n",
    "print(p.distance(q))"
   ]
  },
  {
   "cell_type": "markdown",
   "metadata": {},
   "source": [
    "## Inheritance"
   ]
  },
  {
   "cell_type": "markdown",
   "metadata": {},
   "source": [
    "Defining something new as it relates to something we already underrstand is usually a lot easier. The same thing is ture in programming. Let's start with an account object:"
   ]
  },
  {
   "cell_type": "code",
   "execution_count": 17,
   "metadata": {},
   "outputs": [],
   "source": [
    "class Account: \n",
    "    def __init__(self, starting): \n",
    "        self.balance = starting\n",
    "        \n",
    "    def add(self, value):\n",
    "        self.balance += value\n",
    "        \n",
    "    def total(self):\n",
    "        return self.balance"
   ]
  },
  {
   "cell_type": "code",
   "execution_count": 18,
   "metadata": {},
   "outputs": [
    {
     "data": {
      "text/plain": [
       "115.0"
      ]
     },
     "execution_count": 18,
     "metadata": {},
     "output_type": "execute_result"
    }
   ],
   "source": [
    "a = Account(100.0)\n",
    "a.add(15)\n",
    "a.total()"
   ]
  },
  {
   "cell_type": "markdown",
   "metadata": {},
   "source": [
    "Inheritance beahves like an import or include operation from another class into a new class. (Note that this isn't really true, but we can think of it as an include for our purposes.)\n",
    "\n",
    "If we don't specify a superclass, class ``object`` is the implicit superclass. That class is called the root of the class hierarchy and defines a number of standard methods:"
   ]
  },
  {
   "cell_type": "code",
   "execution_count": 20,
   "metadata": {},
   "outputs": [
    {
     "name": "stdout",
     "output_type": "stream",
     "text": [
      "['__class__', '__delattr__', '__dir__', '__doc__', '__eq__', '__format__', '__ge__', '__getattribute__', '__gt__', '__hash__', '__init__', '__init_subclass__', '__le__', '__lt__', '__ne__', '__new__', '__reduce__', '__reduce_ex__', '__repr__', '__setattr__', '__sizeof__', '__str__', '__subclasshook__']\n"
     ]
    }
   ],
   "source": [
    "x = object()\n",
    "print(dir(x))"
   ]
  },
  {
   "cell_type": "markdown",
   "metadata": {},
   "source": [
    "Making an interest-baring account aas it differs from a regular account:"
   ]
  },
  {
   "cell_type": "code",
   "execution_count": 23,
   "metadata": {},
   "outputs": [],
   "source": [
    "class InterestAccount(Account): #derive from super class to get subclass\n",
    "    def __init__(self, starting, rate): \n",
    "        self.balance = starting # super().__init__(starting)\n",
    "        self.rate = rate\n",
    "    \n",
    "    def total(self): #OVERRIDE method\n",
    "        return self.balance + self.balance * self.rate    \n",
    "    \n",
    "    def profit(self): \n",
    "        return self.balance * self.rate"
   ]
  },
  {
   "cell_type": "code",
   "execution_count": 24,
   "metadata": {},
   "outputs": [
    {
     "data": {
      "text/plain": [
       "17.25"
      ]
     },
     "execution_count": 24,
     "metadata": {},
     "output_type": "execute_result"
    }
   ],
   "source": [
    "b = InterestAccount(100.0, 0.15)\n",
    "b.add(15)\n",
    "b.profit()"
   ]
  },
  {
   "cell_type": "markdown",
   "metadata": {},
   "source": [
    "The class definitions are actually objects themselves that you can access with a secert field of any object:"
   ]
  },
  {
   "cell_type": "code",
   "execution_count": 25,
   "metadata": {},
   "outputs": [
    {
     "name": "stdout",
     "output_type": "stream",
     "text": [
      "<class '__main__.InterestAccount'>\n",
      "<class '__main__.Account'>\n"
     ]
    }
   ],
   "source": [
    "print(b.__class__)\n",
    "print(b.__class__.__base__)"
   ]
  },
  {
   "cell_type": "markdown",
   "metadata": {},
   "source": [
    "## Dynamic Dispatch"
   ]
  },
  {
   "cell_type": "markdown",
   "metadata": {},
   "source": [
    "When you call ``b.add(15)``, Python looks up function ``add`` within the object definition for ``b``(``InterestAccount``). Because we have inherited that method from the superclass, subclass knows about it. When we call b.total(), Python again looks up the method within ``InterestAccount`` and finds an overridden method. That is why ``b.total()`` doesn't invoke the Account version. \n",
    "\n",
    "This behavior is desirable but extremely confusing at first."
   ]
  },
  {
   "cell_type": "code",
   "execution_count": 26,
   "metadata": {},
   "outputs": [],
   "source": [
    "class Account:\n",
    "    def __init__(self, starting):\n",
    "        self.balance = starting\n",
    "\n",
    "    def add(self, value):\n",
    "        self.balance += value\n",
    "\n",
    "    def total(self):\n",
    "        return self.balance\n",
    "    \n",
    "    def __str__(self):\n",
    "        return f\"Balance {self.total()}\" # can call 2 different functions\n",
    "    \n",
    "class InterestAccount(Account): # derive from super class to get subclass\n",
    "    def __init__(self, starting, rate):\n",
    "        self.balance = starting\n",
    "        self.rate = rate\n",
    "\n",
    "    def total(self): # OVERRIDE method\n",
    "        return self.balance + self.balance * self.rate\n",
    "    \n",
    "    def profit(self):\n",
    "        return self.balance * self.rate"
   ]
  },
  {
   "cell_type": "markdown",
   "metadata": {},
   "source": [
    "The devious part is that ``__str__`` in ``Account`` calls ``Account.total()`` or ``InterestAccount.total()``, depending on the type of ``self``:"
   ]
  },
  {
   "cell_type": "code",
   "execution_count": 29,
   "metadata": {},
   "outputs": [
    {
     "name": "stdout",
     "output_type": "stream",
     "text": [
      "Balance 100.0\n",
      "Balance 115.0\n"
     ]
    }
   ],
   "source": [
    "a = Account(100.0)\n",
    "b = InterestAccount(a.total(), 0.15)\n",
    "print(a)\n",
    "print(b)"
   ]
  },
  {
   "cell_type": "markdown",
   "metadata": {},
   "source": [
    "# Python Patterns"
   ]
  },
  {
   "cell_type": "code",
   "execution_count": 30,
   "metadata": {},
   "outputs": [],
   "source": [
    "UnitPrice = [38.94, 208.16, 8.69, 195.99]\n",
    "Shipping = [35, 68.02, 2.99, 3.99, 5.94, 4.95, 7.72, 6.22]\n",
    "names=['Xue', 'Mary', 'Bob']\n",
    "Oscars = [\n",
    "    [1984, \"A Soldier's Story\", 0],\n",
    "    [1984, 'Places in the Heart', 0],\n",
    "    [1984, 'The Killing Fields', 0],\n",
    "    [1984, 'A Passage to India', 0],\n",
    "    [1984, 'Amadeus', 1],\n",
    "    [1985, \"Prizzi's Honor\", 0],\n",
    "    [1985, 'Kiss of the Spider Woman', 0],\n",
    "    [1985, 'Witness', 0],\n",
    "    [1985, 'The Color Purple', 0],\n",
    "    [1985, 'Out of Africa', 1]\n",
    "]\n",
    "Quantity = [6, 49, 27, 30, 19, 21, 12, 22, 21]\n",
    "A = [\n",
    "    [1, 3, 10],\n",
    "    [4, -9, 0],\n",
    "    [2, 5, 8]\n",
    "]\n",
    "B = [\n",
    "    [7, 4, 0],\n",
    "    [4, 3, 1],\n",
    "    [1, 6, 8]\n",
    "]\n",
    "first=['Xue', 'Mary', 'Robert']\n",
    "last=['Li', 'Smith', 'Dixon']"
   ]
  },
  {
   "cell_type": "markdown",
   "metadata": {},
   "source": [
    "## Accumulate"
   ]
  },
  {
   "cell_type": "code",
   "execution_count": 32,
   "metadata": {},
   "outputs": [
    {
     "name": "stdout",
     "output_type": "stream",
     "text": [
      "207\n"
     ]
    }
   ],
   "source": [
    "sum = 0 \n",
    "for q in Quantity: \n",
    "    sum+=q \n",
    "print(sum)"
   ]
  },
  {
   "cell_type": "markdown",
   "metadata": {},
   "source": [
    "You will also see this operation called *reduce*, as in *map*/*reduce* in the distributed computing world of Hadoop and Spark.\n",
    "\n",
    "A **counter** is a special case of an accumulator that counts the number of elements in a sequence. It also uses the `+` operator but the two \"input\" numbers are the previous accumulated value and a fixed 1 value, not the next element in the sequence."
   ]
  },
  {
   "cell_type": "code",
   "execution_count": 33,
   "metadata": {},
   "outputs": [
    {
     "name": "stdout",
     "output_type": "stream",
     "text": [
      "4 5\n"
     ]
    }
   ],
   "source": [
    "even = 0\n",
    "odd = 0 \n",
    "for q in Quantity: \n",
    "    if q % 2 == 0: even += 1 \n",
    "    else: odd += 1\n",
    "print(even , odd)"
   ]
  },
  {
   "cell_type": "markdown",
   "metadata": {},
   "source": [
    "## Map"
   ]
  },
  {
   "cell_type": "markdown",
   "metadata": {},
   "source": [
    "Perhaps the most common operations *maps* one sequence to another, applying an operator or function to each element. (It's like an accumulator that accumulates a list of stuff instead of a single value.) For example, using a spreadsheet to create a new column containing the unite price discounted by 5%. \n",
    "\n",
    "We can represent both list at time 0 using list literals:"
   ]
  },
  {
   "cell_type": "code",
   "execution_count": 34,
   "metadata": {},
   "outputs": [],
   "source": [
    "UnitPrice = [38.94, 208.16, 8.69, 195.99]\n",
    "Discounted = [] # empty list"
   ]
  },
  {
   "cell_type": "markdown",
   "metadata": {},
   "source": [
    "The translation process in our heads from high-level operation to pseudocode to code is a game of word assoication. When your brain sees an operation that maps a column of data to another, think \"map\". When your brain hears \"map\" it should generate the appropriate pseudocode loop, filling in pieces appropriately. When your brain hears \"for each blah blah\", think \"oh, for each loop\" and use the appropriate coding pattern: "
   ]
  },
  {
   "cell_type": "code",
   "execution_count": 35,
   "metadata": {},
   "outputs": [
    {
     "name": "stdout",
     "output_type": "stream",
     "text": [
      "[36.992999999999995, 197.75199999999998, 8.2555, 186.1905]\n"
     ]
    }
   ],
   "source": [
    "Discounted = []\n",
    "for price in UnitPrice: \n",
    "    Discounted.append(price * 0.95)\n",
    "print(Discounted)"
   ]
  },
  {
   "cell_type": "markdown",
   "metadata": {},
   "source": [
    "## List coimprehension for map operations"
   ]
  },
  {
   "cell_type": "markdown",
   "metadata": {},
   "source": [
    "This is such a common pattern that Python has explicit construction to make things easier. It's call a *list comprehension* an it's really just shorthand that looks more like mathematical set notation"
   ]
  },
  {
   "cell_type": "code",
   "execution_count": 36,
   "metadata": {},
   "outputs": [
    {
     "name": "stdout",
     "output_type": "stream",
     "text": [
      "[36.992999999999995, 197.75199999999998, 8.2555, 186.1905]\n"
     ]
    }
   ],
   "source": [
    "Discounted = [price * 0.95 for price in UnitPrice]\n",
    "print(Discounted)"
   ]
  },
  {
   "cell_type": "code",
   "execution_count": 37,
   "metadata": {},
   "outputs": [
    {
     "name": "stdout",
     "output_type": "stream",
     "text": [
      "[18.496499999999997, 98.87599999999999, 4.12775, 93.09525]\n"
     ]
    }
   ],
   "source": [
    "Discounted = [price/2 for price in Discounted]\n",
    "print(Discounted)"
   ]
  },
  {
   "cell_type": "code",
   "execution_count": 39,
   "metadata": {},
   "outputs": [
    {
     "name": "stdout",
     "output_type": "stream",
     "text": [
      "[3, 4, 3]\n"
     ]
    }
   ],
   "source": [
    "namelens = [len(namelen) for namelen in names]\n",
    "print(namelens)"
   ]
  },
  {
   "cell_type": "markdown",
   "metadata": {},
   "source": [
    "## Combine"
   ]
  },
  {
   "cell_type": "markdown",
   "metadata": {},
   "source": [
    "Look at this code pattern to raverse two lists at once placing the result in a third list. For example, to compute the cost of a sales transaction, we multiply the quanity times the unit prices. \n",
    "\n",
    "Programmatically, what we would do is multipuly the ith element from two different sequences and placing the result in the ith position of the output sequence."
   ]
  },
  {
   "cell_type": "code",
   "execution_count": 40,
   "metadata": {},
   "outputs": [],
   "source": [
    "Quantity = [6, 49, 27, 30, 19, 21, 12, 22, 21]\n",
    "UnitPrice = [38.94, 208.16, 8.69, 195.99, 21.78, 6.64, 7.3, 42.76, 138.14]"
   ]
  },
  {
   "cell_type": "markdown",
   "metadata": {},
   "source": [
    "When tranversing more than a single list, we typically need to use an indexed loop rather than a for loop for each"
   ]
  },
  {
   "cell_type": "code",
   "execution_count": 59,
   "metadata": {},
   "outputs": [
    {
     "name": "stdout",
     "output_type": "stream",
     "text": [
      "[233.64, 10199.84, 234.63, 5879.700000000001, 413.82000000000005, 139.44, 87.6, 940.7199999999999, 2900.9399999999996]\n",
      "21030.329999999994\n"
     ]
    }
   ],
   "source": [
    "Cost = []\n",
    "for i in range(len(Quantity)): \n",
    "    Cost.append(Quantity[i] * UnitPrice[i])\n",
    "print(Cost)\n",
    "total = 0 \n",
    "for x in Cost: \n",
    "    total += x\n",
    "print(total)"
   ]
  },
  {
   "cell_type": "code",
   "execution_count": 62,
   "metadata": {},
   "outputs": [
    {
     "data": {
      "text/plain": [
       "['233.64',\n",
       " '10199.84',\n",
       " '234.63',\n",
       " '5879.70',\n",
       " '413.82',\n",
       " '139.44',\n",
       " '87.60',\n",
       " '940.72',\n",
       " '2900.94']"
      ]
     },
     "execution_count": 62,
     "metadata": {},
     "output_type": "execute_result"
    }
   ],
   "source": [
    "#Format Trick\n",
    "[f\"{c:.2f}\" for c in Cost]"
   ]
  },
  {
   "cell_type": "markdown",
   "metadata": {},
   "source": [
    "## Zip Function "
   ]
  },
  {
   "cell_type": "markdown",
   "metadata": {},
   "source": [
    "We can also use Zip, a very useful function that pulls one value from each list to make a tuple at each iteration"
   ]
  },
  {
   "cell_type": "code",
   "execution_count": 65,
   "metadata": {},
   "outputs": [
    {
     "name": "stdout",
     "output_type": "stream",
     "text": [
      "[233.64, 10199.84, 234.63, 5879.700000000001, 413.82000000000005, 139.44, 87.6, 940.7199999999999, 2900.9399999999996]\n"
     ]
    }
   ],
   "source": [
    "Cost = []\n",
    "for q,u in zip(Quantity, UnitPrice): \n",
    "    Cost.append(q*u)\n",
    "print(Cost)\n",
    "Cost = [q*u for q,u in zip(Quantity, UnitPrice)]"
   ]
  },
  {
   "cell_type": "markdown",
   "metadata": {},
   "source": [
    "## Split"
   ]
  },
  {
   "cell_type": "markdown",
   "metadata": {},
   "source": [
    "The opposit of combining is splitting where we split a stream into two or more new streams. For example, I often have to split the full names in a list into their first and last names. "
   ]
  },
  {
   "cell_type": "code",
   "execution_count": 67,
   "metadata": {},
   "outputs": [
    {
     "data": {
      "text/plain": [
       "[[1, 2, 3], [3, 4, 5]]"
      ]
     },
     "execution_count": 67,
     "metadata": {},
     "output_type": "execute_result"
    }
   ],
   "source": [
    "rows = ['1 2 3', '3 4 5'] \n",
    "matrix = [[int(v) for v in row.split(' ')] for row in rows]\n",
    "matrix"
   ]
  },
  {
   "cell_type": "markdown",
   "metadata": {},
   "source": [
    "## Filter "
   ]
  },
  {
   "cell_type": "code",
   "execution_count": 70,
   "metadata": {},
   "outputs": [
    {
     "data": {
      "text/plain": [
       "[2.99, 3.99, 5.94, 4.95, 7.72, 6.22]"
      ]
     },
     "execution_count": 70,
     "metadata": {},
     "output_type": "execute_result"
    }
   ],
   "source": [
    "[x for x in Shipping if x < 10]"
   ]
  },
  {
   "cell_type": "code",
   "execution_count": 72,
   "metadata": {},
   "outputs": [],
   "source": [
    "Oscars = [\n",
    "    [1984, \"A Soldier's Story\", 0],\n",
    "    [1984, 'Places in the Heart', 0],\n",
    "    [1984, 'The Killing Fields', 0],\n",
    "    [1984, 'A Passage to India', 0],\n",
    "    [1984, 'Amadeus', 1],\n",
    "    [1985, \"Prizzi's Honor\", 0],\n",
    "    [1985, 'Kiss of the Spider Woman', 0],\n",
    "    [1985, 'Witness', 0],\n",
    "    [1985, 'The Color Purple', 0],\n",
    "    [1985, 'Out of Africa', 1]\n",
    "]"
   ]
  },
  {
   "cell_type": "code",
   "execution_count": 74,
   "metadata": {},
   "outputs": [
    {
     "data": {
      "text/plain": [
       "[[1984, 'Amadeus', 1], [1985, 'Out of Africa', 1]]"
      ]
     },
     "execution_count": 74,
     "metadata": {},
     "output_type": "execute_result"
    }
   ],
   "source": [
    "[movie  for movie in Oscars if movie[2]==1]"
   ]
  },
  {
   "cell_type": "markdown",
   "metadata": {},
   "source": [
    "Filter the `Oscars` list into `Oscars2` for all movies with 3-word titles. To break a string into a list of words, use `title.split(' ')`. If the length, `len()`, of that list is 3, then copy the entire row to `Oscars2`."
   ]
  },
  {
   "cell_type": "code",
   "execution_count": 77,
   "metadata": {},
   "outputs": [
    {
     "data": {
      "text/plain": [
       "[[1984, \"A Soldier's Story\", 0],\n",
       " [1984, 'Places in the Heart', 0],\n",
       " [1984, 'The Killing Fields', 0],\n",
       " [1984, 'A Passage to India', 0],\n",
       " [1985, 'Kiss of the Spider Woman', 0],\n",
       " [1985, 'The Color Purple', 0],\n",
       " [1985, 'Out of Africa', 1]]"
      ]
     },
     "execution_count": 77,
     "metadata": {},
     "output_type": "execute_result"
    }
   ],
   "source": [
    "[movie for movie in Oscars if len(movie[1].split(' ')) >= 3]"
   ]
  },
  {
   "cell_type": "markdown",
   "metadata": {},
   "source": [
    "Rather than just referencing an iterate value, `x`, we can also use expressions in list comprehensions. Use the filtering variation of a list comprehension to double the shipping cost in `Shipping` if less than 10 dollars. Put the result in list `Shipping2`."
   ]
  },
  {
   "cell_type": "code",
   "execution_count": 83,
   "metadata": {},
   "outputs": [
    {
     "data": {
      "text/plain": [
       "[35, 68.02, 2.99, 3.99, 5.94, 4.95, 7.72, 6.22]"
      ]
     },
     "execution_count": 83,
     "metadata": {},
     "output_type": "execute_result"
    }
   ],
   "source": [
    "Shipping"
   ]
  },
  {
   "cell_type": "code",
   "execution_count": 84,
   "metadata": {},
   "outputs": [
    {
     "data": {
      "text/plain": [
       "[5.98, 7.98, 11.88, 9.9, 15.44, 12.44]"
      ]
     },
     "execution_count": 84,
     "metadata": {},
     "output_type": "execute_result"
    }
   ],
   "source": [
    "[cost*2 for cost in Shipping if cost < 10]"
   ]
  },
  {
   "cell_type": "markdown",
   "metadata": {},
   "source": [
    "Given a list of `names=['Xue', 'Mary', 'Bob']`, filter the list into `names2` for those names starting with `X`. Recall that `name[i]` yields the ith character in `name`. Or use `name.startswith(...)`."
   ]
  },
  {
   "cell_type": "code",
   "execution_count": 86,
   "metadata": {},
   "outputs": [
    {
     "data": {
      "text/plain": [
       "['Xue']"
      ]
     },
     "execution_count": 86,
     "metadata": {},
     "output_type": "execute_result"
    }
   ],
   "source": [
    "[name for name in names if name.lower().startswith('x')]"
   ]
  },
  {
   "cell_type": "markdown",
   "metadata": {},
   "source": [
    "## Search"
   ]
  },
  {
   "cell_type": "markdown",
   "metadata": {},
   "source": [
    "The filter operations finds all elements in a squence that satisfy a specific condition, but ofren we will want to know which element satisfies the condition first (or the last). (or, we often just need to know if a particular element is present.) This brings us to the search operation. At its most general, search returns the first of last postions in the squence rather than the value at that positon. If we have the positions, often called the index, we can always ask the squence for the value at that postions. if the element is not found, the serach returns invalid index -1. \n",
    "\n",
    "Searching is, in some sense, a variation on filtering. The difference is what we do when we find an element for which the condition is true. Instead of adding that element to the target list, a search bails our of the loop"
   ]
  },
  {
   "cell_type": "code",
   "execution_count": 88,
   "metadata": {},
   "outputs": [
    {
     "name": "stdout",
     "output_type": "stream",
     "text": [
      "1\n"
     ]
    }
   ],
   "source": [
    "first=['Xue', 'Mary', 'Robert']     # our given input\n",
    "target = 'Mary' \n",
    "index = -1\n",
    "for i in range(len(first)):\n",
    "    if first[i]==target: \n",
    "        index = i \n",
    "        break\n",
    "print(index)"
   ]
  },
  {
   "cell_type": "markdown",
   "metadata": {},
   "source": [
    "The ``break`` statment breaks out of the immediately-enclosing loop, regardless of the type of loop. \n",
    "\n",
    "The serach operation can even be used within a string(list of characters) to find the posiitons of a character of interest. For example, to slice up a full name into first and last names, we can combine a search for the space character with two slices operatons. Given full name ``Xue Li``, a search for the space character returns the fourth positons or index 2. TO extract the first name we slice from index 0 to index 3, exclusively on the right. To get the last name, we slice from index 4 to 6, exclusively on the right. "
   ]
  },
  {
   "cell_type": "code",
   "execution_count": 91,
   "metadata": {},
   "outputs": [
    {
     "name": "stdout",
     "output_type": "stream",
     "text": [
      "Index of space is 3\n",
      "First: Xue\n",
      "Last: Li\n"
     ]
    }
   ],
   "source": [
    "name = 'Xue Li'\n",
    "#Search \n",
    "index = -1 \n",
    "for i in range(len(name)):\n",
    "    if name[i]==' ': \n",
    "        index = i \n",
    "        break\n",
    "\n",
    "print(f'Index of space is {index}')\n",
    "print(f'First: {name[0:index]}')\n",
    "print(f'Last: {name[index+1:]}')"
   ]
  },
  {
   "cell_type": "markdown",
   "metadata": {},
   "source": [
    "## Nest Loops "
   ]
  },
  {
   "cell_type": "code",
   "execution_count": 92,
   "metadata": {},
   "outputs": [],
   "source": [
    "A = [\n",
    "    [1, 3, 10],\n",
    "    [4, -9, 0],\n",
    "    [2, 5, 8]\n",
    "]"
   ]
  },
  {
   "cell_type": "code",
   "execution_count": 93,
   "metadata": {},
   "outputs": [
    {
     "name": "stdout",
     "output_type": "stream",
     "text": [
      "0 0\n",
      "0 1\n",
      "0 2\n",
      "1 0\n",
      "1 1\n",
      "1 2\n",
      "2 0\n",
      "2 1\n",
      "2 2\n"
     ]
    }
   ],
   "source": [
    "nrows=3 \n",
    "ncols=3\n",
    "for i in range(nrows):\n",
    "    for j in range(ncols):\n",
    "        print(i , j)"
   ]
  },
  {
   "cell_type": "code",
   "execution_count": 95,
   "metadata": {},
   "outputs": [
    {
     "data": {
      "text/plain": [
       "['0,0', '0,1', '0,2', '1,0', '1,1', '1,2', '2,0', '2,1', '2,2']"
      ]
     },
     "execution_count": 95,
     "metadata": {},
     "output_type": "execute_result"
    }
   ],
   "source": [
    "#Double-for list comprenhensions to get all combinations\n",
    "[f\"{i},{j}\" for i in range(nrows) for j in range(ncols)]"
   ]
  },
  {
   "cell_type": "markdown",
   "metadata": {},
   "source": [
    "Use accumlation to sum all of the elements of a 3x3 matrix"
   ]
  },
  {
   "cell_type": "code",
   "execution_count": 103,
   "metadata": {},
   "outputs": [
    {
     "data": {
      "text/plain": [
       "24"
      ]
     },
     "execution_count": 103,
     "metadata": {},
     "output_type": "execute_result"
    }
   ],
   "source": [
    "sum = 0 \n",
    "for i in range(nrows):\n",
    "    for j in range(ncols):\n",
    "        sum = sum + A[i][j]\n",
    "sum"
   ]
  },
  {
   "cell_type": "markdown",
   "metadata": {},
   "source": [
    "**Image Processing**\n",
    "\n",
    "In the image project there a lot of fun things to do with them. An image is nothing more than two dimensional matrix whose entries ar epic"
   ]
  },
  {
   "cell_type": "code",
   "execution_count": 104,
   "metadata": {},
   "outputs": [],
   "source": [
    "A = [\n",
    "    [1, 3, 10],\n",
    "    [4, -9, 0],\n",
    "    [2, 5, 8]\n",
    "]\n",
    "B = [\n",
    "    [7, 4, 0],\n",
    "    [4, 3, 1],\n",
    "    [1, 6, 8]\n",
    "]"
   ]
  },
  {
   "cell_type": "code",
   "execution_count": 106,
   "metadata": {},
   "outputs": [],
   "source": [
    "C = [[0]*ncols for i in range(nrows)]"
   ]
  },
  {
   "cell_type": "code",
   "execution_count": 107,
   "metadata": {},
   "outputs": [
    {
     "name": "stdout",
     "output_type": "stream",
     "text": [
      "[[8, 7, 10], [8, -6, 1], [3, 11, 16]]\n"
     ]
    }
   ],
   "source": [
    "for i in range(nrows): \n",
    "    for j in range(ncols):\n",
    "        C[i][j] = A[i][j] + B[i][j]\n",
    "print(C)"
   ]
  },
  {
   "cell_type": "code",
   "execution_count": 108,
   "metadata": {},
   "outputs": [
    {
     "data": {
      "text/plain": [
       "(3,4)"
      ]
     },
     "execution_count": 108,
     "metadata": {},
     "output_type": "execute_result"
    }
   ],
   "source": [
    "import numpy as np\n",
    "\n",
    "class Point:\n",
    "    def __init__(self, x, y):\n",
    "        self.x = x\n",
    "        self.y = y\n",
    "        \n",
    "    def distance(self, other):\n",
    "        return np.sqrt( (self.x - other.x)**2 + (self.y - other.y)**2 )\n",
    "    \n",
    "    def __str__(self): # convert to string, such as when printing\n",
    "        return f\"({self.x},{self.y})\"\n",
    "\n",
    "    def __repr__(self): # used to convert to string in notebooks\n",
    "        return f\"({self.x},{self.y})\"\n",
    "\n",
    "Point(3,4)"
   ]
  },
  {
   "cell_type": "code",
   "execution_count": 111,
   "metadata": {},
   "outputs": [],
   "source": [
    "class Point:\n",
    "    def __init__(self, x, y):\n",
    "        self.x = x\n",
    "        self.y = y\n",
    "        \n",
    "    def distance(self, other):\n",
    "        return np.sqrt((self.x - other.x)**2 + (self.y - other.y)**2)\n",
    "    \n",
    "    def __add__(self, other):\n",
    "        x = self.x + other.x\n",
    "        y = self.y + other.y\n",
    "        return Point(x,y)\n",
    "    \n",
    "    def __sub__(self, other):\n",
    "        x = self.x - other.x\n",
    "        y = self.y - other.y\n",
    "        return Point(x,y)\n",
    "    \n",
    "    def __str__(self): \n",
    "        return f\"({self.x},{self.y})\"\n",
    "\n",
    "    def __repr__(self): \n",
    "        return f\"({self.x}, {self.y})\""
   ]
  },
  {
   "cell_type": "code",
   "execution_count": 113,
   "metadata": {},
   "outputs": [
    {
     "name": "stdout",
     "output_type": "stream",
     "text": [
      "(3,4) (5,6)\n",
      "(8,10)\n",
      "(5,4) (1,5)\n",
      "(4,-1)\n"
     ]
    }
   ],
   "source": [
    "p = Point(3,4)\n",
    "q = Point(5,6)\n",
    "print(p, q)\n",
    "print(p + q) # calls p.__add__(q) or Point.__add__(p,q)\n",
    "p = Point(5,4)\n",
    "q = Point(1,5)\n",
    "print(p, q)\n",
    "print(p - q)"
   ]
  },
  {
   "cell_type": "code",
   "execution_count": 116,
   "metadata": {},
   "outputs": [
    {
     "data": {
      "text/plain": [
       "[9, 3, 1]"
      ]
     },
     "execution_count": 116,
     "metadata": {},
     "output_type": "execute_result"
    }
   ],
   "source": [
    "A = [9, 1, 3, 1, 9]\n",
    "def unique(A): \n",
    "    seen = set()\n",
    "    for a in A: \n",
    "        if a not in seen: \n",
    "            seen.add(a)\n",
    "    return list(seen)\n",
    "unique(A)"
   ]
  },
  {
   "cell_type": "markdown",
   "metadata": {},
   "source": [
    "# A process for solving small programming problems"
   ]
  },
  {
   "cell_type": "markdown",
   "metadata": {},
   "source": [
    "Unlike real programming problems faced by programmers performing their jobs, technical interviews usually consist of small bite-sized questions.  The small problem size gives us an opportunity to develop a problem-solving script you can follow.  \n",
    "\n",
    "You might have a successful interview even if you can't solve a specific problem, if you demonstrate a solid problem-solving process. Multiple interviewers have told me that they are mostly interested in how a candidate solves problems. A common tactic, in fact, is to provide an ill-specified or incompletely specified problem. The interviewer wants to see how you clarify and nail down the actual problem. No one wants to hire a person that has to be spoonfed and told precisely how to solve problems.\n",
    "\n",
    "Here's a good summary of the process I follow when solving a small programming problem.\n",
    "\n",
    "\n",
    "## First, UNDERSTAND\n",
    "\n",
    "1. Read the description(3x) then restate the problem, either on paper or out loud\n",
    "2. Ask if you've understood it correctly\n",
    "3. Ask if there are speed or size requirements\n",
    "4. Describe and write out a minimal but *representative* example of both the intended input data or data structure *and* the expected output; ask if it is correct\n",
    "5. Identify any edge cases you can think of by example\n",
    "\n",
    "## Second, SOLVE\n",
    "\n",
    "Solving the problem has nothing to do with the computer; you might not even be asked to code the solution. If you can't walk through a correct sequence of operations by hand on paper, no amount of coding skill will help you. \n",
    "\n",
    "1. **Explore**. Look at the input-output example and imagine how you can manually operate on the input to get the output. Attempt any manual sequence of operations that appears to be in the right direction, even if you know it's not quite right. Exploration helps you understand the problem and will trigger more questions, so ask questions.\n",
    "\n",
    "2. **Reduce**. Can you reduce the problem to known solution by preprocessing the input a bit? E.g., to compute the median, first sort the data then grab the middle value.\n",
    "\n",
    "3. **Reuse**. Look for and reuse familiar programming patterns like vector sum, min, and find. E.g., to sort a list of numbers (slowly), repeatedly pull then delete the minimum value out of one array and add it to the end of another.\n",
    "\n",
    "4. **Systematize**. Simplify and organize the steps in your process as pseudo-code; this is your algorithm.\n",
    "\n",
    "5. **Verify**. Check that your algorithm solves the main problem and the edge cases.  Check your algorithm's complexity. If it's not good enough for the interviewer's constraints, identify the key loops or operations fundamental to your algorithm's complexity. Iterate on this problem-solving process to reduce complexity. E.g., can you get rid of a factor of *n* by converting a linear search to a hash table lookup?\n",
    "\n",
    "## Third, CODE \n",
    "\n",
    "And now the easiest part: expressing yourself in the syntax and semantics of a programming language.\n",
    "\n",
    "1. Write a function definition that takes your input as a parameter or parameters. The return value of your function will typically be the expected problem result.\n",
    "2. Write a main script that acquires the data, passes it to your function, and sends the results to the appropriate file or standard output.\n",
    "3. Translate the algorithm steps into statements in your function. It's okay if you create helper functions.\n",
    "\n",
    "## What to do when you get stuck\n",
    "\n",
    "1. Identify exactly what you don't know how to do. Identifying the key tricky bit is a skill that the interviewer should look for.  It's a good idea to express verbally, \"*Ah. This is what makes this problem tricky.*\" The interviewer might be waiting for you to ask for a hint because they've given you a challenging problem and want to see how you work through it.\n",
    "<p>\n",
    "For example, computing the median is straightforward for an array sitting on a single machine but what about data spread across multiple machines? Identifying that you can't just take the median of the remote subarray medians is a key part of the interview process. (This is from an actual interview.)\n",
    "\n",
    "2. What would make this problem easier? Try to convert your problem to this easier version by preprocessing the input. Failing that, solve the simpler version and then work on the harder, more general case.\n",
    "\n",
    "Multiple failed attempts is part of the game because interviewers won't ask trivial problems, except perhaps during an initial phone screen.\n",
    "\n",
    "## Some advice\n",
    "\n",
    "* Details matter, pay careful attention to the interviewer. Pretend that they are trying to trick you with the problem description!\n",
    "\n",
    "* When reading the problem description, identify who is doing what to whom? What are the nouns and verbs used in the description? The nouns are usually data sources or data elements; the verbs are often operations you need to perform. Look for keywords like min, max, average, median, sort, argmax, sum, find, search, collect, etc... Regardless of how you do it, clearly identify:\n",
    "    1. the source and format of data\n",
    "    1. the operation\n",
    "    1. the expected result\n",
    "    1. the output location and format.\n",
    "\n",
    "*  Choose the simplest possible algorithm and implementation that will work. At first, ignore performance then worry about getting it into the complexity constraints of the problem.\n",
    "\n",
    "* The typical problem pipeline is:\n",
    "\n",
    "    1. fetch data\n",
    "    1. organize it into a data structure\n",
    "    1. process the data structure\n",
    "    1. emit output\n",
    " \n",
    "* Make sure you fully understand the constraints.  Are the input data elements strings, ints, floats?  If they are values, are they always between 0 and 1?  Can they be negative? Is the input sorted? Is speed or space an issue? Can you see all of the data at once or do you have to worry about streaming data? Can you bound the maximum size of the input? This might matter if you need to make an nxn matrix for example."
   ]
  }
 ],
 "metadata": {
  "kernelspec": {
   "display_name": "Python 3",
   "language": "python",
   "name": "python3"
  },
  "language_info": {
   "codemirror_mode": {
    "name": "ipython",
    "version": 3
   },
   "file_extension": ".py",
   "mimetype": "text/x-python",
   "name": "python",
   "nbconvert_exporter": "python",
   "pygments_lexer": "ipython3",
   "version": "3.8.0"
  },
  "toc": {
   "base_numbering": 1,
   "nav_menu": {},
   "number_sections": true,
   "sideBar": true,
   "skip_h1_title": false,
   "title_cell": "Table of Contents",
   "title_sidebar": "Contents",
   "toc_cell": false,
   "toc_position": {},
   "toc_section_display": true,
   "toc_window_display": true
  }
 },
 "nbformat": 4,
 "nbformat_minor": 2
}
