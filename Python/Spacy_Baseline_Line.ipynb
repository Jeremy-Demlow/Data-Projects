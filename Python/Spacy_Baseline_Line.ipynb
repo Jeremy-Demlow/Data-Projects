{
 "cells": [
  {
   "cell_type": "markdown",
   "metadata": {},
   "source": [
    "### Spacy Resume NER Example"
   ]
  },
  {
   "cell_type": "code",
   "execution_count": 1,
   "metadata": {
    "ExecuteTime": {
     "end_time": "2019-03-20T20:48:41.383353Z",
     "start_time": "2019-03-20T20:48:31.908917Z"
    }
   },
   "outputs": [],
   "source": [
    "import json\n",
    "import random\n",
    "import logging\n",
    "import spacy\n",
    "\n",
    "from spacy import displacy\n",
    "from spacy.gold import GoldParse\n",
    "from spacy.scorer import Scorer\n",
    "from spacy.util import minibatch, compounding\n",
    "\n",
    "from sklearn.metrics import classification_report\n",
    "from sklearn.metrics import precision_recall_fscore_support\n",
    "from sklearn.metrics import accuracy_score\n",
    "\n",
    "from pathlib import Path"
   ]
  },
  {
   "cell_type": "markdown",
   "metadata": {},
   "source": [
    "**Things to Work On**\n",
    "\n",
    "- Things in progress: \n",
    "\n",
    "    - More evaluation metrics and understanding of misclassifciation. \n",
    "    - Check the validtion of the metric not sure if they are done properly. \n",
    "\n",
    "- Research and Wants: \n",
    "\n",
    "    - Plug in model in a language model of our own. \n",
    "    - Look into DL custom plug in with in spacy to see if bringing in is possible. \n",
    "    - Get a better understanding of what is really happening under the hood for spacy. \n",
    "    \n",
    "**Next Steps** \n",
    "\n",
    "- BIO Class Function for Camille to add to OCR API. \n",
    "- Work with this data set that is in a tsv file reading it properly to compare results.\n",
    "    - This give a BIO format that will allow for alt approaches (See Power Point). \n",
    "- Find alt frame work to work with looking into something right now. \n",
    "- Carol could take a CRF approach to this problem to see if that will do a better job. \n",
    "\n",
    "**Things Not To Forget** \n",
    "\n",
    "- Image Preprocessing / Accuracy of OCR out of the box. "
   ]
  },
  {
   "cell_type": "markdown",
   "metadata": {},
   "source": [
    "#### Spacy Resume Example"
   ]
  },
  {
   "cell_type": "markdown",
   "metadata": {},
   "source": [
    "**Data Example One** \n",
    "\n",
    "Extraction Possibilities: \n",
    "\n",
    "|Entities: | \n",
    "| --- |\n",
    "| College |\n",
    "|  Name |\n",
    "| Skills |\n",
    "| College Degree \n",
    "| Graduation Year |\n",
    "| Years of Experience |\n",
    "| Companies worked at |\n",
    "| Designation |\n",
    "| Location |\n",
    "| Email Address |\n",
    "| Address |\n",
    "| Can Relocate to |\n",
    "| Rewards and Achievements |\n",
    "| Certifications |\n",
    "| Links |\n",
    "| University |\n",
    "| projects |\n",
    "| state |\n",
    "\n",
    "Things to remember about this example below the data set and objective is to show that Spacy can work for a baseline and the thought process of the training data set isn't going to be as strong as the one we will create once we have a large corpus of data to put into out model. This is a good start to see what this can do for us and there is still a ton of tweaking and things that can be done with this example. \n",
    "\n",
    "I am in the process of wanting to have more than one option. So that we can tweak more than one thing when one doesn't give us a result that we are wanting or expecting. There are a ton of advantages to spacy and there will be advantages to other methods as well. "
   ]
  },
  {
   "cell_type": "code",
   "execution_count": 2,
   "metadata": {
    "ExecuteTime": {
     "end_time": "2019-03-20T20:48:41.408420Z",
     "start_time": "2019-03-20T20:48:41.387368Z"
    }
   },
   "outputs": [
    {
     "data": {
      "text/plain": [
       "'C:\\\\Users\\\\EJ3514\\\\Documents\\\\Python Notebook'"
      ]
     },
     "execution_count": 2,
     "metadata": {},
     "output_type": "execute_result"
    }
   ],
   "source": [
    "pwd"
   ]
  },
  {
   "cell_type": "code",
   "execution_count": 3,
   "metadata": {
    "ExecuteTime": {
     "end_time": "2019-03-20T20:48:41.755353Z",
     "start_time": "2019-03-20T20:48:41.749335Z"
    }
   },
   "outputs": [],
   "source": [
    "PATH = 'data/ner/'"
   ]
  },
  {
   "cell_type": "code",
   "execution_count": 4,
   "metadata": {
    "ExecuteTime": {
     "end_time": "2019-03-20T20:48:45.760103Z",
     "start_time": "2019-03-20T20:48:45.755090Z"
    }
   },
   "outputs": [],
   "source": [
    "JSON_FilePath = 'C:/Users/EJ3514/Documents/Python Notebook/data/ner/resumes.json'\n",
    "JSON_Test_PATH = 'C:/Users/EJ3514/Documents/Python Notebook/data/ner/testdata.json'\n",
    "output_dir = 'C:/Users/EJ3514/Documents/Python Notebook/data/ner/models'"
   ]
  },
  {
   "cell_type": "code",
   "execution_count": 5,
   "metadata": {
    "ExecuteTime": {
     "end_time": "2019-03-20T20:48:55.359876Z",
     "start_time": "2019-03-20T20:48:55.339822Z"
    }
   },
   "outputs": [],
   "source": [
    "#Converting Json document to Spacy Format\n",
    "def convert_to_spacy(JSON_FilePath):\n",
    "    try:\n",
    "        training_data = []\n",
    "        lines=[]\n",
    "        with open(JSON_FilePath, 'r', encoding='utf-8', errors='ignore') as f:\n",
    "            lines = f.readlines()\n",
    "\n",
    "        for line in lines:\n",
    "            data = json.loads(line)\n",
    "            text = data['content']\n",
    "            entities = []\n",
    "            for annotation in data['annotation']:\n",
    "                #only a single point in text annotation.\n",
    "                point = annotation['points'][0]\n",
    "                labels = annotation['label']\n",
    "                # handle both list of labels or a single label.\n",
    "                if not isinstance(labels, list):\n",
    "                    labels = [labels]\n",
    "\n",
    "                for label in labels:\n",
    "                    #indices are both inclusive [start, end] but spacy is not [start, end)\n",
    "                    entities.append((point['start'], point['end'] + 1 ,label))\n",
    "\n",
    "\n",
    "            training_data.append((text, {\"entities\" : entities}))\n",
    "\n",
    "        return training_data\n",
    "    except Exception as e:\n",
    "        logging.exception(\"Unable to process \" + JSON_FilePath + \"\\n\" + \"error = \" + str(e))\n",
    "        return None"
   ]
  },
  {
   "cell_type": "markdown",
   "metadata": {},
   "source": [
    "This is what we have inside the current **API** structure. So this example will work for Spacy baseline attempt"
   ]
  },
  {
   "cell_type": "code",
   "execution_count": 6,
   "metadata": {
    "ExecuteTime": {
     "end_time": "2019-03-20T20:48:59.348584Z",
     "start_time": "2019-03-20T20:48:59.152057Z"
    }
   },
   "outputs": [],
   "source": [
    "data_spacy = convert_to_spacy(JSON_FilePath)"
   ]
  },
  {
   "cell_type": "code",
   "execution_count": 7,
   "metadata": {
    "ExecuteTime": {
     "end_time": "2019-03-20T20:49:05.336663Z",
     "start_time": "2019-03-20T20:49:05.327637Z"
    },
    "scrolled": false
   },
   "outputs": [
    {
     "data": {
      "text/plain": [
       "('Afreen Jamadar\\nActive member of IIIT Committee in Third year\\n\\nSangli, Maharashtra - Email me on Indeed: indeed.com/r/Afreen-Jamadar/8baf379b705e37c6\\n\\nI wish to use my knowledge, skills and conceptual understanding to create excellent team\\nenvironments and work consistently achieving organization objectives believes in taking initiative\\nand work to excellence in my work.\\n\\nWORK EXPERIENCE\\n\\nActive member of IIIT Committee in Third year\\n\\nCisco Networking -  Kanpur, Uttar Pradesh\\n\\norganized by Techkriti IIT Kanpur and Azure Skynet.\\nPERSONALLITY TRAITS:\\n• Quick learning ability\\n• hard working\\n\\nEDUCATION\\n\\nPG-DAC\\n\\nCDAC ACTS\\n\\n2017\\n\\nBachelor of Engg in Information Technology\\n\\nShivaji University Kolhapur -  Kolhapur, Maharashtra\\n\\n2016\\n\\nSKILLS\\n\\nDatabase (Less than 1 year), HTML (Less than 1 year), Linux. (Less than 1 year), MICROSOFT\\nACCESS (Less than 1 year), MICROSOFT WINDOWS (Less than 1 year)\\n\\nADDITIONAL INFORMATION\\n\\nTECHNICAL SKILLS:\\n\\n• Programming Languages: C, C++, Java, .net, php.\\n• Web Designing: HTML, XML\\n• Operating Systems: Windows […] Windows Server 2003, Linux.\\n• Database: MS Access, MS SQL Server 2008, Oracle 10g, MySql.\\n\\nhttps://www.indeed.com/r/Afreen-Jamadar/8baf379b705e37c6?isid=rex-download&ikw=download-top&co=IN',\n",
       " {'entities': [(1155, 1199, 'Email Address'),\n",
       "   (1143, 1240, 'Links'),\n",
       "   (743, 1141, 'Skills'),\n",
       "   (729, 733, 'Graduation Year'),\n",
       "   (675, 703, 'College Name'),\n",
       "   (631, 673, 'Degree'),\n",
       "   (625, 630, 'Graduation Year'),\n",
       "   (614, 623, 'College Name'),\n",
       "   (606, 612, 'Degree'),\n",
       "   (438, 454, 'Companies worked at'),\n",
       "   (104, 148, 'Email Address'),\n",
       "   (62, 68, 'Location'),\n",
       "   (0, 14, 'Name')]})"
      ]
     },
     "execution_count": 7,
     "metadata": {},
     "output_type": "execute_result"
    }
   ],
   "source": [
    "data_spacy[0]"
   ]
  },
  {
   "cell_type": "code",
   "execution_count": 8,
   "metadata": {
    "ExecuteTime": {
     "end_time": "2019-03-20T20:49:06.706339Z",
     "start_time": "2019-03-20T20:49:06.701327Z"
    }
   },
   "outputs": [],
   "source": [
    "JSON_FilePath = 'C:/Users/EJ3514/Documents/Python Notebook/data/ner/resumes.json'\n",
    "JSON_Test_PATH = 'C:/Users/EJ3514/Documents/Python Notebook/data/ner/testdata.json'\n",
    "output_dir = 'C:/Users/EJ3514/Documents/Python Notebook/data/ner/models'"
   ]
  },
  {
   "cell_type": "markdown",
   "metadata": {},
   "source": [
    "### **Training NER Model**"
   ]
  },
  {
   "cell_type": "code",
   "execution_count": 11,
   "metadata": {
    "ExecuteTime": {
     "end_time": "2019-03-20T20:57:21.603933Z",
     "start_time": "2019-03-20T20:57:21.575859Z"
    }
   },
   "outputs": [],
   "source": [
    "def train_spacy_NER(model=None,  data_path=JSON_FilePath, new_model_name='Testing',\n",
    "                    output_dir=None, drop_out=0.20, n_iter=10):\n",
    "    \"\"\"\n",
    "    model: None -> blank english model, but you can use exisiting or built spacy models \n",
    "    data_path: This is only for this problem, but this is where the JSON file is and we take that structure\n",
    "               and build a Spacy Format. \n",
    "    new_model_name: This is going to be in the output_dir if told to.\n",
    "    output_dir: Path to where you want the model to be stored. \n",
    "    n_iter: 10 defaulted based on what spacy us\n",
    "    \"\"\"\n",
    "    TRAIN_DATA = convert_to_spacy(JSON_FilePath)\n",
    "    if model is not None:\n",
    "        nlp = spacy.load(model)  # load existing spaCy model\n",
    "        print(\"Loaded model '%s'\" % model)\n",
    "    else:\n",
    "        nlp = spacy.blank('en')  # create blank Language class\n",
    "    #create the built-in pipeline components and add them to the pipeline\n",
    "    #nlp.create_pipe works for built-ins that are registered with spaCy\n",
    "    if 'ner' not in nlp.pipe_names:\n",
    "        ner = nlp.create_pipe('ner')\n",
    "        nlp.add_pipe(ner, last=True)\n",
    "\n",
    "    #add labels\n",
    "    for _, annotations in TRAIN_DATA:\n",
    "         for ent in annotations.get('entities'):\n",
    "            ner.add_label(ent[2])\n",
    "    #get names of other pipes to disable them during training\n",
    "    other_pipes = [pipe for pipe in nlp.pipe_names if pipe != 'ner']\n",
    "    with nlp.disable_pipes(*other_pipes):  # only train NER\n",
    "        nlp.vocab.vectors.name = 'spacy_pretrained_vectors'\n",
    "        optimizer = nlp.begin_training()\n",
    "        for itn in range(n_iter):\n",
    "            random.shuffle(TRAIN_DATA)\n",
    "            losses = {}\n",
    "            #batch up the examples using spaCy's minibatch\n",
    "            batches = minibatch(TRAIN_DATA, size=compounding(4., 32., 1.001))\n",
    "            for batch in batches:\n",
    "                texts, annotations = zip(*batch)\n",
    "                nlp.update(texts,\n",
    "                           annotations,\n",
    "                           sgd=optimizer,\n",
    "                           drop=drop_out, #0.20, #0.35,\n",
    "                           losses=losses)\n",
    "            print('Losses', losses)\n",
    "            \n",
    "    #save model to output directory\n",
    "    if output_dir is not None:\n",
    "        output_dir = Path(output_dir)\n",
    "        if not output_dir.exists():\n",
    "            output_dir.mkdir()\n",
    "        nlp.meta['name'] = new_model_name  # rename model\n",
    "        nlp.to_disk(output_dir)\n",
    "        print(\"Saved model to\", output_dir)"
   ]
  },
  {
   "cell_type": "code",
   "execution_count": 13,
   "metadata": {
    "ExecuteTime": {
     "end_time": "2019-03-20T21:18:00.520772Z",
     "start_time": "2019-03-20T21:14:01.027439Z"
    }
   },
   "outputs": [
    {
     "name": "stdout",
     "output_type": "stream",
     "text": [
      "Losses {'ner': 1564.8083640816276}\n",
      "Saved model to C:\\Users\\EJ3514\\Documents\\Python Notebook\\data\\ner\\models\n"
     ]
    }
   ],
   "source": [
    "train_spacy_NER(model=None, data_path=JSON_FilePath, new_model_name='Testing',\n",
    "                    output_dir=output_dir, drop_out=0.20, n_iter=1)"
   ]
  },
  {
   "cell_type": "markdown",
   "metadata": {},
   "source": [
    "### Testing On Test Data Set"
   ]
  },
  {
   "cell_type": "code",
   "execution_count": 14,
   "metadata": {
    "ExecuteTime": {
     "end_time": "2019-03-20T21:18:00.584935Z",
     "start_time": "2019-03-20T21:18:00.529798Z"
    }
   },
   "outputs": [],
   "source": [
    "def test_spacy_NER(model_path=None, test_path=JSON_Test_PATH):\n",
    "    \"\"\"\n",
    "    model_path: Path To NER Model\n",
    "    test_path: Path to test data for this problem \n",
    "    \"\"\"\n",
    "    if (model_path == None):\n",
    "        print(\"Need Model\")\n",
    "    else:\n",
    "        #test the model and evaluate it\n",
    "        nlp = spacy.load(model_path)\n",
    "        examples = convert_to_spacy(JSON_Test_PATH)\n",
    "        tp=0\n",
    "        tr=0\n",
    "        tf=0\n",
    "        ta=0\n",
    "        c=0        \n",
    "        for text,annot in examples:\n",
    "            f=open(\"resume\"+str(c)+\".txt\",\"w\")\n",
    "            doc_to_test=nlp(text)\n",
    "            d={}\n",
    "            for ent in doc_to_test.ents:\n",
    "                d[ent.label_]=[]\n",
    "            for ent in doc_to_test.ents:\n",
    "                d[ent.label_].append(ent.text)\n",
    "\n",
    "            d={}\n",
    "            for ent in doc_to_test.ents:\n",
    "                d[ent.label_]=[0,0,0,0,0,0]\n",
    "            for ent in doc_to_test.ents:\n",
    "                doc_gold_text= nlp.make_doc(text)\n",
    "                gold = GoldParse(doc_gold_text, entities=annot.get(\"entities\"))\n",
    "                y_true = [ent.label_ if ent.label_ in x else 'Not '+ent.label_ for x in gold.ner]\n",
    "                y_pred = [x.ent_type_ if x.ent_type_ ==ent.label_ else 'Not '+ent.label_ for x in doc_to_test]  \n",
    "                if(d[ent.label_][0]==0):\n",
    "                    (p,r,f,s)= precision_recall_fscore_support(y_true,y_pred,average='weighted')\n",
    "                    a=accuracy_score(y_true,y_pred)\n",
    "                    d[ent.label_][0]=1  #Index\n",
    "                    d[ent.label_][1]+=p #Precision\n",
    "                    d[ent.label_][2]+=r #Recall\n",
    "                    d[ent.label_][3]+=f #F-1 Socre\n",
    "                    d[ent.label_][4]+=a #Accuracy \n",
    "                    d[ent.label_][5]+=1 #Base\n",
    "            c+=1\n",
    "        for i in d:\n",
    "            print(\"\\n For Entity \"+i+\"\\n\")\n",
    "            print(\"Accuracy : \"+str((d[i][4]/d[i][5])*100)+\"%\")\n",
    "            print(\"Precision : \"+str(d[i][1]/d[i][5]))\n",
    "            print(\"Recall : \"+str(d[i][2]/d[i][5]))\n",
    "            print(\"F-score : \"+str(d[i][3]/d[i][5]))"
   ]
  },
  {
   "cell_type": "code",
   "execution_count": 15,
   "metadata": {
    "ExecuteTime": {
     "end_time": "2019-03-20T21:18:24.843602Z",
     "start_time": "2019-03-20T21:18:00.589950Z"
    },
    "scrolled": true
   },
   "outputs": [
    {
     "name": "stderr",
     "output_type": "stream",
     "text": [
      "C:\\Users\\EJ3514\\AppData\\Local\\Continuum\\anaconda3\\envs\\ner\\lib\\site-packages\\sklearn\\metrics\\classification.py:1145: UndefinedMetricWarning: Recall and F-score are ill-defined and being set to 0.0 in labels with no true samples.\n",
      "  'recall', 'true', average, warn_for)\n"
     ]
    },
    {
     "name": "stdout",
     "output_type": "stream",
     "text": [
      "\n",
      " For Entity Name\n",
      "\n",
      "Accuracy : 99.83805668016194%\n",
      "Precision : 0.9983831936194594\n",
      "Recall : 0.9983805668016195\n",
      "F-score : 0.9981113185060555\n",
      "\n",
      " For Entity Location\n",
      "\n",
      "Accuracy : 99.19028340080972%\n",
      "Precision : 0.9887112503324567\n",
      "Recall : 0.9919028340080972\n",
      "F-score : 0.9892169555139021\n",
      "\n",
      " For Entity Email Address\n",
      "\n",
      "Accuracy : 99.43319838056681%\n",
      "Precision : 1.0\n",
      "Recall : 0.994331983805668\n",
      "F-score : 0.9971579374746244\n",
      "\n",
      " For Entity Can Relocate to\n",
      "\n",
      "Accuracy : 99.91902834008097%\n",
      "Precision : 1.0\n",
      "Recall : 0.9991902834008097\n",
      "F-score : 0.9995949777237749\n",
      "\n",
      " For Entity Designation\n",
      "\n",
      "Accuracy : 99.83805668016194%\n",
      "Precision : 1.0\n",
      "Recall : 0.9983805668016195\n",
      "F-score : 0.9991896272285252\n",
      "\n",
      " For Entity Companies worked at\n",
      "\n",
      "Accuracy : 99.91902834008097%\n",
      "Precision : 1.0\n",
      "Recall : 0.9991902834008097\n",
      "F-score : 0.9995949777237749\n",
      "\n",
      " For Entity Skills\n",
      "\n",
      "Accuracy : 97.32793522267207%\n",
      "Precision : 0.973995665286443\n",
      "Recall : 0.9732793522267207\n",
      "F-score : 0.962707431998957\n"
     ]
    }
   ],
   "source": [
    "test_spacy_NER(model_path=output_dir, test_path=JSON_Test_PATH)"
   ]
  },
  {
   "cell_type": "markdown",
   "metadata": {},
   "source": [
    "### Viz of NER"
   ]
  },
  {
   "cell_type": "code",
   "execution_count": 28,
   "metadata": {
    "ExecuteTime": {
     "end_time": "2019-03-21T12:50:33.046114Z",
     "start_time": "2019-03-21T12:50:33.010020Z"
    }
   },
   "outputs": [],
   "source": [
    "test = convert_to_spacy(JSON_Test_PATH)\n",
    "df_test = [test[0]]"
   ]
  },
  {
   "cell_type": "code",
   "execution_count": 31,
   "metadata": {
    "ExecuteTime": {
     "end_time": "2019-03-21T12:51:21.592808Z",
     "start_time": "2019-03-21T12:51:21.585819Z"
    }
   },
   "outputs": [
    {
     "data": {
      "text/plain": [
       "[('Alok Khandai\\nOperational Analyst (SQL DBA) Engineer - UNISYS\\n\\nBengaluru, Karnataka - Email me on Indeed: indeed.com/r/Alok-Khandai/5be849e443b8f467\\n\\n❖ Having 3.5 Years of IT experience in SQL Database Administration, System Analysis, Design,\\nDevelopment & Support of MS SQL Servers in Production, Development environments &\\nReplication and Cluster Server Environments.\\n❖ Working Experience with relational database such as SQL.\\n❖ Experience in Installation, Configuration, Maintenance and Administration of SQL Server.\\n❖ Experience in upgrading SQL Server.\\n❖ Good experience with implementing DR solution, High Availability of database servers using\\nDatabase mirroring and replications and Log Shipping.\\n❖ Experience in implementing SQL Server security and Object permissions like maintaining\\nDatabase authentication modes, creation of users, configuring permissions and assigning roles\\nto users.\\n❖ Experience in creating Jobs, Alerts, SQL Mail Agent\\n❖ Experience in performing integrity checks. Methods include configuring the database\\nmaintenance plan wizard and DBCC utilities\\n❖ Experience in using Performance Monitor, SQL Profiler and optimizing the queries, tracing long\\nrunning queries and deadlocks.\\n❖ Experience in applying patches and service packs to keep the database at current patch level.\\n❖ Ability to manage own work and multitask to meet tight deadlines without losing sight of\\npriorities..\\n\\nWilling to relocate to: Bengaluru, Karnataka\\n\\nWORK EXPERIENCE\\n\\nOperational Analyst (SQL DBA) Engineer\\n\\nUNISYS -  Bengaluru, Karnataka -\\n\\nJuly 2016 to Present\\n\\n❖ Having 3.5 Years of IT experience in SQL Database Administration, System Analysis, Design,\\nDevelopment & Support of MS SQL Servers in Production, Development environments &\\nReplication and Cluster Server Environments.\\n❖ Working Experience with relational database such as SQL.\\n❖ Experience in Installation, Configuration, Maintenance and Administration of SQL Server. \\n❖ Experience in upgrading SQL Server.\\n❖ Good experience with implementing DR solution, High Availability of database servers using\\nDatabase mirroring and replications and Log Shipping.\\n❖ Experience in implementing SQL Server security and Object permissions like maintaining\\nDatabase authentication modes, creation of users, configuring permissions and assigning roles\\nto users.\\n\\nDBA Support Analyst\\n\\nMicrosoft Corporation -  Redmond, WA -\\n\\nhttps://www.indeed.com/r/Alok-Khandai/5be849e443b8f467?isid=rex-download&ikw=download-top&co=IN\\n\\n\\nJuly 2016 to Present\\n\\nClient Description:\\nMicrosoft Corporation is an American public multinational corporation headquartered in\\nRedmond, Washington, USA that develops, manufactures, licenses, and supports a wide range of\\nproducts and services predominantly related to computing through its various product divisions.\\n\\nEnvironment:\\nMicrosoft has E2E development and production environment of more than 25000 servers and\\napplications. We are responsible for pro-active monitoring of all the servers and their jobs using\\nmonitoring tools to reduce critical business impact by alerting respective peer teams. Microsoft\\nService Enterprise an ITSM tools are used for ticketing and SharePoint portal is used to store all\\ntechnical and process documentation.\\n\\nRoles and Responsibilities:\\n• Responsible for Database support, troubleshooting, planning and migration. Resource planning\\nand coordination for application migrations with project managers, application and web app\\nteams. Project involved guidance and adherence to standardized procedures for planned data\\ncenter consolidation for worldwide centers using in-house corporate and third party applications\\nbased on SQL 2000 in upgrade project to SQL 2005.\\n• Monitoring of database size and disk space in Production, Staging & Development environments\\n• Performed installation of SQL Enterprise 2005 64bit version on Windows 2003 servers on\\nEnterprise systems of clustered and standalone servers in enterprise Data Centers. Patch\\napplications.\\n• Failover cluster testing and resolution on HP servers as well as monitoring and backup reporting\\nsetup with Microsoft Operations Manager and backup teams.\\n• Working in Microsoft production environment which includes applications and servers.\\n• Configured Transactional Replication and Log Shipping with SQL Server Management Studio as\\nwell as basic account management and troubleshooting with connectivity, security and firewall\\nissues.\\n• Handling issues related to Server Availability, Performance.\\n• Performed Production support and on Call duties\\n• Conducted Performance Tuning using SQL Profiler and Windows Performance Monitor.\\n• Worked with various business groups while developing their applications, assisting in database\\ndesign, installing SQL Server clients, phasing from development to QA and to Production\\nenvironment.\\n\\nPrevious Project\\n❖ Project Title: Finance Support\\n❖ Client: Costco Wholesale Corporation (USA)\\n❖ Team size: 22\\n❖ Role: DBA Support Analyst\\n❖ Environment: Window 10\\n\\n(SQL DBA Analyst) Engineer\\n\\nHCL Technologies -  Bengaluru, Karnataka -\\n\\nNovember 2014 to July 2016\\n\\n〓 Performed server installation and configurations for SQL Server 2005 and SQL Server 2000.\\n\\n\\n\\n〓 Performed installation of SQL Server Service Packs\\n〓 Upgraded databases from SQL Server 2000 to SQL Server 2005.\\n〓 Scheduled Full and Transactional log backups for the user created and system databases in\\nthe production environment using the Database Maintenance Plan Wizard.\\n〓 Setup backup and restoration jobs for development and QA environments\\n〓 Created transactional replication for the reporting applications.\\n〓 Implemented disaster recovery solution at the remote site for the production databases using\\nLog Shipping.\\n〓 Used System monitor to find the bottlenecks in CPU, Disk I/O and memory devices and\\nimproved the database server performance.\\n〓 Used SQL Server Profiler to monitor and record database activities of particular users and\\napplications.\\n〓 Used DBCC commands to troubleshoot issues related to database consistency\\n〓 Worked with various business groups while developing their applications, assisting in database\\ndesign, installing SQL Server clients, phasing from development to QA and to Production\\nenvironment\\n\\nMicrosoft Corporation -\\n\\nNovember 2014 to July 2016\\n\\nClient Description:\\n\\n❖ Costco Wholesale Corporation operates an international chain of membership warehouses,\\nmainly under the \"Costco Wholesale\" name, that carry quality, brand name merchandise at\\nsubstantially lower prices than are typically found at conventional wholesale or retail sources. The\\nwarehouses are designed to help small-to-medium-sized businesses reduce costs in purchasing\\nfor resale and for everyday business use. Individuals may also purchase for their personal needs.\\n\\n❖ Responsibilities:\\n\\n➢ Performed server installation and configurations for SQL Server 2005 and SQL Server 2000.\\n➢ Performed installation of SQL Server Service Packs\\n➢ Upgraded databases from SQL Server 2000 to SQL Server 2005.\\n➢ Scheduled Full and Transactional log backups for the user created and system databases in\\nthe production environment using the Database Maintenance Plan Wizard.\\n➢ Setup backup and restoration jobs for development and QA environments\\n➢ Created transactional replication for the reporting applications.\\n➢ Implemented disaster recovery solution at the remote site for the production databases using\\nLog Shipping.\\n➢ Used System monitor to find the bottlenecks in CPU, Disk I/O and memory devices and improved\\nthe database server performance.\\n➢ Used SQL Server Profiler to monitor and record database activities of particular users and\\napplications.\\n➢ Used DBCC commands to troubleshoot issues related to database consistency\\n➢ Worked with various business groups while developing their applications, assisting in database\\ndesign, installing SQL Server clients, phasing from development to QA and to Production\\nenvironment\\n\\n\\n\\nEDUCATION\\n\\nB.Tech in Computer Science and Engineering in CSE\\n\\nIndira Gandhi Institute Of Technology\\n\\n2012\\n\\nSKILLS\\n\\nDatabase (3 years), SQL (3 years), Sql Dba\\n\\nADDITIONAL INFORMATION\\n\\nTECHNICAL PROFICIENCY\\n❖ Operating Environment: […] Windows95/98/XP/NT\\n❖ Database Tool: SQL Management Studio (MSSQL), Business\\nDevelopment Studio, Visual studio 2005\\n❖ Database Language: SQL, PL/SQL\\n❖ Ticket Tracking Tool: Service Now\\n❖ Reporting Tools: MS Reporting Services, SAS\\n❖ Languages: C, C++, PL/SQL',\n",
       "  {'entities': [(8098, 8384, 'Skills'),\n",
       "    (8008, 8050, 'Skills'),\n",
       "    (7994, 7998, 'Graduation Year'),\n",
       "    (7955, 7992, 'College Name'),\n",
       "    (7904, 7953, 'College Name'),\n",
       "    (5016, 5025, 'Location'),\n",
       "    (2391, 2433, 'Email Address'),\n",
       "    (1522, 1531, 'Location'),\n",
       "    (1512, 1518, 'Companies worked at'),\n",
       "    (1472, 1510, 'Designation'),\n",
       "    (1433, 1442, 'Location'),\n",
       "    (105, 147, 'Email Address'),\n",
       "    (62, 71, 'Location'),\n",
       "    (54, 60, 'Companies worked at'),\n",
       "    (13, 51, 'Designation'),\n",
       "    (0, 12, 'Name')]})]"
      ]
     },
     "execution_count": 31,
     "metadata": {},
     "output_type": "execute_result"
    }
   ],
   "source": [
    "df_test2 = [test[3]]; df_test2"
   ]
  },
  {
   "cell_type": "code",
   "execution_count": 29,
   "metadata": {
    "ExecuteTime": {
     "end_time": "2019-03-21T12:50:34.023038Z",
     "start_time": "2019-03-21T12:50:34.017991Z"
    }
   },
   "outputs": [
    {
     "data": {
      "text/plain": [
       "[(\"Abhishek Jha\\nApplication Development Associate - Accenture\\n\\nBengaluru, Karnataka - Email me on Indeed: indeed.com/r/Abhishek-Jha/10e7a8cb732bc43a\\n\\n• To work for an organization which provides me the opportunity to improve my skills\\nand knowledge for my individual and company's growth in best possible ways.\\n\\nWilling to relocate to: Bangalore, Karnataka\\n\\nWORK EXPERIENCE\\n\\nApplication Development Associate\\n\\nAccenture -\\n\\nNovember 2017 to Present\\n\\nRole: Currently working on Chat-bot. Developing Backend Oracle PeopleSoft Queries\\nfor the Bot which will be triggered based on given input. Also, Training the bot for different possible\\nutterances (Both positive and negative), which will be given as\\ninput by the user.\\n\\nEDUCATION\\n\\nB.E in Information science and engineering\\n\\nB.v.b college of engineering and technology -  Hubli, Karnataka\\n\\nAugust 2013 to June 2017\\n\\n12th in Mathematics\\n\\nWoodbine modern school\\n\\nApril 2011 to March 2013\\n\\n10th\\n\\nKendriya Vidyalaya\\n\\nApril 2001 to March 2011\\n\\nSKILLS\\n\\nC (Less than 1 year), Database (Less than 1 year), Database Management (Less than 1 year),\\nDatabase Management System (Less than 1 year), Java (Less than 1 year)\\n\\nADDITIONAL INFORMATION\\n\\nTechnical Skills\\n\\nhttps://www.indeed.com/r/Abhishek-Jha/10e7a8cb732bc43a?isid=rex-download&ikw=download-top&co=IN\\n\\n\\n• Programming language: C, C++, Java\\n• Oracle PeopleSoft\\n• Internet Of Things\\n• Machine Learning\\n• Database Management System\\n• Computer Networks\\n• Operating System worked on: Linux, Windows, Mac\\n\\nNon - Technical Skills\\n\\n• Honest and Hard-Working\\n• Tolerant and Flexible to Different Situations\\n• Polite and Calm\\n• Team-Player\",\n",
       "  {'entities': [(1295, 1622, 'Skills'),\n",
       "    (993, 1154, 'Skills'),\n",
       "    (939, 957, 'College Name'),\n",
       "    (883, 905, 'College Name'),\n",
       "    (856, 861, 'Graduation Year'),\n",
       "    (771, 814, 'College Name'),\n",
       "    (727, 770, 'Designation'),\n",
       "    (407, 416, 'Companies worked at'),\n",
       "    (372, 405, 'Designation'),\n",
       "    (95, 146, 'Email Address'),\n",
       "    (60, 69, 'Location'),\n",
       "    (49, 58, 'Companies worked at'),\n",
       "    (13, 46, 'Designation'),\n",
       "    (0, 12, 'Name')]})]"
      ]
     },
     "execution_count": 29,
     "metadata": {},
     "output_type": "execute_result"
    }
   ],
   "source": [
    "df_test"
   ]
  },
  {
   "cell_type": "code",
   "execution_count": 18,
   "metadata": {
    "ExecuteTime": {
     "end_time": "2019-03-20T21:18:55.028066Z",
     "start_time": "2019-03-20T21:18:55.019042Z"
    }
   },
   "outputs": [
    {
     "name": "stdout",
     "output_type": "stream",
     "text": [
      "Loading from C:/Users/EJ3514/Documents/Python Notebook/data/ner/models\n"
     ]
    }
   ],
   "source": [
    "print(\"Loading from\", output_dir)"
   ]
  },
  {
   "cell_type": "code",
   "execution_count": 20,
   "metadata": {
    "ExecuteTime": {
     "end_time": "2019-03-20T21:19:03.677121Z",
     "start_time": "2019-03-20T21:19:03.123650Z"
    }
   },
   "outputs": [],
   "source": [
    "nlp = spacy.load(output_dir)"
   ]
  },
  {
   "cell_type": "code",
   "execution_count": 32,
   "metadata": {
    "ExecuteTime": {
     "end_time": "2019-03-21T12:51:32.087486Z",
     "start_time": "2019-03-21T12:51:32.081460Z"
    }
   },
   "outputs": [],
   "source": [
    "test_text = \"Abhishek Jha\\nApplication Development Associate - Accenture\\n\\nBengaluru, Karnataka - Email me on Indeed: indeed.com/r/Abhishek-Jha/10e7a8cb732bc43a\\n\\n• To work for an organization which provides me the opportunity to improve my skills\\nand knowledge for my individual and company's growth in best possible ways.\\n\\nWilling to relocate to: Bangalore, Karnataka\\n\\nWORK EXPERIENCE\\n\\nApplication Development Associate\\n\\nAccenture -\\n\\nNovember 2017 to Present\\n\\nRole: Currently working on Chat-bot. Developing Backend Oracle PeopleSoft Queries\\nfor the Bot which will be triggered based on given input. Also, Training the bot for different possible\\nutterances (Both positive and negative), which will be given as\\ninput by the user.\\n\\nEDUCATION\\n\\nB.E in Information science and engineering\\n\\nB.v.b college of engineering and technology -  Hubli, Karnataka\\n\\nAugust 2013 to June 2017\\n\\n12th in Mathematics\\n\\nWoodbine modern school\\n\\nApril 2011 to March 2013\\n\\n10th\\n\\nKendriya Vidyalaya\\n\\nApril 2001 to March 2011\\n\\nSKILLS\\n\\nC (Less than 1 year), Database (Less than 1 year), Database Management (Less than 1 year),\\nDatabase Management System (Less than 1 year), Java (Less than 1 year)\\n\\nADDITIONAL INFORMATION\\n\\nTechnical Skills\\n\\nhttps://www.indeed.com/r/Abhishek-Jha/10e7a8cb732bc43a?isid=rex-download&ikw=download-top&co=IN\\n\\n\\n• Programming language: C, C++, Java\\n• Oracle PeopleSoft\\n• Internet Of Things\\n• Machine Learning\\n• Database Management System\\n• Computer Networks\\n• Operating System worked on: Linux, Windows, Mac\\n\\nNon - Technical Skills\\n\\n• Honest and Hard-Working\\n• Tolerant and Flexible to Different Situations\\n• Polite and Calm\\n• Team-Player\"\n",
    "test_text2 = 'Alok Khandai\\nOperational Analyst (SQL DBA) Engineer - UNISYS\\n\\nBengaluru, Karnataka - Email me on Indeed: indeed.com/r/Alok-Khandai/5be849e443b8f467\\n\\n❖ Having 3.5 Years of IT experience in SQL Database Administration, System Analysis, Design,\\nDevelopment & Support of MS SQL Servers in Production, Development environments &\\nReplication and Cluster Server Environments.\\n❖ Working Experience with relational database such as SQL.\\n❖ Experience in Installation, Configuration, Maintenance and Administration of SQL Server.\\n❖ Experience in upgrading SQL Server.\\n❖ Good experience with implementing DR solution, High Availability of database servers using\\nDatabase mirroring and replications and Log Shipping.\\n❖ Experience in implementing SQL Server security and Object permissions like maintaining\\nDatabase authentication modes, creation of users, configuring permissions and assigning roles\\nto users.\\n❖ Experience in creating Jobs, Alerts, SQL Mail Agent\\n❖ Experience in performing integrity checks. Methods include configuring the database\\nmaintenance plan wizard and DBCC utilities\\n❖ Experience in using Performance Monitor, SQL Profiler and optimizing the queries, tracing long\\nrunning queries and deadlocks.\\n❖ Experience in applying patches and service packs to keep the database at current patch level.\\n❖ Ability to manage own work and multitask to meet tight deadlines without losing sight of\\npriorities..\\n\\nWilling to relocate to: Bengaluru, Karnataka\\n\\nWORK EXPERIENCE\\n\\nOperational Analyst (SQL DBA) Engineer\\n\\nUNISYS -  Bengaluru, Karnataka -\\n\\nJuly 2016 to Present\\n\\n❖ Having 3.5 Years of IT experience in SQL Database Administration, System Analysis, Design,\\nDevelopment & Support of MS SQL Servers in Production, Development environments &\\nReplication and Cluster Server Environments.\\n❖ Working Experience with relational database such as SQL.\\n❖ Experience in Installation, Configuration, Maintenance and Administration of SQL Server. \\n❖ Experience in upgrading SQL Server.\\n❖ Good experience with implementing DR solution, High Availability of database servers using\\nDatabase mirroring and replications and Log Shipping.\\n❖ Experience in implementing SQL Server security and Object permissions like maintaining\\nDatabase authentication modes, creation of users, configuring permissions and assigning roles\\nto users.\\n\\nDBA Support Analyst\\n\\nMicrosoft Corporation -  Redmond, WA -\\n\\nhttps://www.indeed.com/r/Alok-Khandai/5be849e443b8f467?isid=rex-download&ikw=download-top&co=IN\\n\\n\\nJuly 2016 to Present\\n\\nClient Description:\\nMicrosoft Corporation is an American public multinational corporation headquartered in\\nRedmond, Washington, USA that develops, manufactures, licenses, and supports a wide range of\\nproducts and services predominantly related to computing through its various product divisions.\\n\\nEnvironment:\\nMicrosoft has E2E development and production environment of more than 25000 servers and\\napplications. We are responsible for pro-active monitoring of all the servers and their jobs using\\nmonitoring tools to reduce critical business impact by alerting respective peer teams. Microsoft\\nService Enterprise an ITSM tools are used for ticketing and SharePoint portal is used to store all\\ntechnical and process documentation.\\n\\nRoles and Responsibilities:\\n• Responsible for Database support, troubleshooting, planning and migration. Resource planning\\nand coordination for application migrations with project managers, application and web app\\nteams. Project involved guidance and adherence to standardized procedures for planned data\\ncenter consolidation for worldwide centers using in-house corporate and third party applications\\nbased on SQL 2000 in upgrade project to SQL 2005.\\n• Monitoring of database size and disk space in Production, Staging & Development environments\\n• Performed installation of SQL Enterprise 2005 64bit version on Windows 2003 servers on\\nEnterprise systems of clustered and standalone servers in enterprise Data Centers. Patch\\napplications.\\n• Failover cluster testing and resolution on HP servers as well as monitoring and backup reporting\\nsetup with Microsoft Operations Manager and backup teams.\\n• Working in Microsoft production environment which includes applications and servers.\\n• Configured Transactional Replication and Log Shipping with SQL Server Management Studio as\\nwell as basic account management and troubleshooting with connectivity, security and firewall\\nissues.\\n• Handling issues related to Server Availability, Performance.\\n• Performed Production support and on Call duties\\n• Conducted Performance Tuning using SQL Profiler and Windows Performance Monitor.\\n• Worked with various business groups while developing their applications, assisting in database\\ndesign, installing SQL Server clients, phasing from development to QA and to Production\\nenvironment.\\n\\nPrevious Project\\n❖ Project Title: Finance Support\\n❖ Client: Costco Wholesale Corporation (USA)\\n❖ Team size: 22\\n❖ Role: DBA Support Analyst\\n❖ Environment: Window 10\\n\\n(SQL DBA Analyst) Engineer\\n\\nHCL Technologies -  Bengaluru, Karnataka -\\n\\nNovember 2014 to July 2016\\n\\n〓 Performed server installation and configurations for SQL Server 2005 and SQL Server 2000.\\n\\n\\n\\n〓 Performed installation of SQL Server Service Packs\\n〓 Upgraded databases from SQL Server 2000 to SQL Server 2005.\\n〓 Scheduled Full and Transactional log backups for the user created and system databases in\\nthe production environment using the Database Maintenance Plan Wizard.\\n〓 Setup backup and restoration jobs for development and QA environments\\n〓 Created transactional replication for the reporting applications.\\n〓 Implemented disaster recovery solution at the remote site for the production databases using\\nLog Shipping.\\n〓 Used System monitor to find the bottlenecks in CPU, Disk I/O and memory devices and\\nimproved the database server performance.\\n〓 Used SQL Server Profiler to monitor and record database activities of particular users and\\napplications.\\n〓 Used DBCC commands to troubleshoot issues related to database consistency\\n〓 Worked with various business groups while developing their applications, assisting in database\\ndesign, installing SQL Server clients, phasing from development to QA and to Production\\nenvironment\\n\\nMicrosoft Corporation -\\n\\nNovember 2014 to July 2016\\n\\nClient Description:\\n\\n❖ Costco Wholesale Corporation operates an international chain of membership warehouses,\\nmainly under the \"Costco Wholesale\" name, that carry quality, brand name merchandise at\\nsubstantially lower prices than are typically found at conventional wholesale or retail sources. The\\nwarehouses are designed to help small-to-medium-sized businesses reduce costs in purchasing\\nfor resale and for everyday business use. Individuals may also purchase for their personal needs.\\n\\n❖ Responsibilities:\\n\\n➢ Performed server installation and configurations for SQL Server 2005 and SQL Server 2000.\\n➢ Performed installation of SQL Server Service Packs\\n➢ Upgraded databases from SQL Server 2000 to SQL Server 2005.\\n➢ Scheduled Full and Transactional log backups for the user created and system databases in\\nthe production environment using the Database Maintenance Plan Wizard.\\n➢ Setup backup and restoration jobs for development and QA environments\\n➢ Created transactional replication for the reporting applications.\\n➢ Implemented disaster recovery solution at the remote site for the production databases using\\nLog Shipping.\\n➢ Used System monitor to find the bottlenecks in CPU, Disk I/O and memory devices and improved\\nthe database server performance.\\n➢ Used SQL Server Profiler to monitor and record database activities of particular users and\\napplications.\\n➢ Used DBCC commands to troubleshoot issues related to database consistency\\n➢ Worked with various business groups while developing their applications, assisting in database\\ndesign, installing SQL Server clients, phasing from development to QA and to Production\\nenvironment\\n\\n\\n\\nEDUCATION\\n\\nB.Tech in Computer Science and Engineering in CSE\\n\\nIndira Gandhi Institute Of Technology\\n\\n2012\\n\\nSKILLS\\n\\nDatabase (3 years), SQL (3 years), Sql Dba\\n\\nADDITIONAL INFORMATION\\n\\nTECHNICAL PROFICIENCY\\n❖ Operating Environment: […] Windows95/98/XP/NT\\n❖ Database Tool: SQL Management Studio (MSSQL), Business\\nDevelopment Studio, Visual studio 2005\\n❖ Database Language: SQL, PL/SQL\\n❖ Ticket Tracking Tool: Service Now\\n❖ Reporting Tools: MS Reporting Services, SAS\\n❖ Languages: C, C++, PL/SQL'"
   ]
  },
  {
   "cell_type": "code",
   "execution_count": 24,
   "metadata": {
    "ExecuteTime": {
     "end_time": "2019-03-20T21:23:04.901300Z",
     "start_time": "2019-03-20T21:23:04.837118Z"
    }
   },
   "outputs": [],
   "source": [
    "doc = nlp(test_text)"
   ]
  },
  {
   "cell_type": "code",
   "execution_count": 25,
   "metadata": {
    "ExecuteTime": {
     "end_time": "2019-03-20T21:23:06.487534Z",
     "start_time": "2019-03-20T21:23:06.424357Z"
    },
    "scrolled": true
   },
   "outputs": [
    {
     "name": "stdout",
     "output_type": "stream",
     "text": [
      "Name Abhishek Jha\n",
      "Designation Application Development Associate\n",
      "Companies worked at Accenture\n",
      "Location Bengaluru\n",
      "Email Address indeed.com/r/Abhishek-Jha/10e7a8cb732bc43a\n",
      "Designation Application Development Associate\n",
      "Companies worked at Accenture\n",
      "Degree B.E in Information science and engineering\n",
      "College Name B.v.b college of engineering and technology\n",
      "Location Hubli\n",
      "Designation Kendriya Vidyalaya\n",
      "Skills C\n",
      "Skills Database\n",
      "Skills Java\n"
     ]
    }
   ],
   "source": [
    "#What Was tagged\n",
    "for ent in doc.ents:\n",
    "    print(ent.label_, ent.text)"
   ]
  },
  {
   "cell_type": "code",
   "execution_count": 33,
   "metadata": {
    "ExecuteTime": {
     "end_time": "2019-03-21T12:51:58.420734Z",
     "start_time": "2019-03-21T12:51:58.233246Z"
    }
   },
   "outputs": [],
   "source": [
    "doc2 = nlp(test_text2)"
   ]
  },
  {
   "cell_type": "code",
   "execution_count": 34,
   "metadata": {
    "ExecuteTime": {
     "end_time": "2019-03-21T12:51:59.506646Z",
     "start_time": "2019-03-21T12:51:59.420416Z"
    }
   },
   "outputs": [
    {
     "name": "stdout",
     "output_type": "stream",
     "text": [
      "Name Alok Khandai\n",
      "Designation Operational Analyst\n",
      "Location Bengaluru\n",
      "Email Address indeed.com/r/Alok-Khandai/5be849e443b8f467\n",
      "Years of Experience 3.5 Years of IT experience\n",
      "Location Bengaluru\n",
      "Designation Operational Analyst\n",
      "Companies worked at UNISYS\n",
      "Location Bengaluru\n",
      "Designation DBA Support Analyst\n",
      "Companies worked at Microsoft Corporation\n",
      "Years of Experience July 2016 to Present\n",
      "Companies worked at HCL Technologies\n",
      "Location Bengaluru\n",
      "Companies worked at Microsoft Corporation\n",
      "Degree B.Tech in Computer Science and Engineering\n",
      "College Name Indira Gandhi Institute Of Technology\n",
      "Graduation Year 2012\n",
      "Skills Database\n",
      "Skills SQL\n"
     ]
    }
   ],
   "source": [
    "#What Was tagged\n",
    "for ent in doc2.ents:\n",
    "    print(ent.label_, ent.text)"
   ]
  },
  {
   "cell_type": "code",
   "execution_count": 26,
   "metadata": {
    "ExecuteTime": {
     "end_time": "2019-03-20T21:23:15.153690Z",
     "start_time": "2019-03-20T21:23:15.090514Z"
    },
    "scrolled": true
   },
   "outputs": [
    {
     "data": {
      "text/html": [
       "<div class=\"entities\" style=\"line-height: 2.5\">\n",
       "<mark class=\"entity\" style=\"background: #ddd; padding: 0.45em 0.6em; margin: 0 0.25em; line-height: 1; border-radius: 0.35em; box-decoration-break: clone; -webkit-box-decoration-break: clone\">\n",
       "    Abhishek Jha\n",
       "    <span style=\"font-size: 0.8em; font-weight: bold; line-height: 1; border-radius: 0.35em; text-transform: uppercase; vertical-align: middle; margin-left: 0.5rem\">Name</span>\n",
       "</mark>\n",
       "</br>\n",
       "<mark class=\"entity\" style=\"background: #ddd; padding: 0.45em 0.6em; margin: 0 0.25em; line-height: 1; border-radius: 0.35em; box-decoration-break: clone; -webkit-box-decoration-break: clone\">\n",
       "    Application Development Associate\n",
       "    <span style=\"font-size: 0.8em; font-weight: bold; line-height: 1; border-radius: 0.35em; text-transform: uppercase; vertical-align: middle; margin-left: 0.5rem\">Designation</span>\n",
       "</mark>\n",
       " - \n",
       "<mark class=\"entity\" style=\"background: #ddd; padding: 0.45em 0.6em; margin: 0 0.25em; line-height: 1; border-radius: 0.35em; box-decoration-break: clone; -webkit-box-decoration-break: clone\">\n",
       "    Accenture\n",
       "    <span style=\"font-size: 0.8em; font-weight: bold; line-height: 1; border-radius: 0.35em; text-transform: uppercase; vertical-align: middle; margin-left: 0.5rem\">Companies worked at</span>\n",
       "</mark>\n",
       "</br></br>\n",
       "<mark class=\"entity\" style=\"background: #ddd; padding: 0.45em 0.6em; margin: 0 0.25em; line-height: 1; border-radius: 0.35em; box-decoration-break: clone; -webkit-box-decoration-break: clone\">\n",
       "    Bengaluru\n",
       "    <span style=\"font-size: 0.8em; font-weight: bold; line-height: 1; border-radius: 0.35em; text-transform: uppercase; vertical-align: middle; margin-left: 0.5rem\">Location</span>\n",
       "</mark>\n",
       ", Karnataka - Email me on Indeed: \n",
       "<mark class=\"entity\" style=\"background: #ddd; padding: 0.45em 0.6em; margin: 0 0.25em; line-height: 1; border-radius: 0.35em; box-decoration-break: clone; -webkit-box-decoration-break: clone\">\n",
       "    indeed.com/r/Abhishek-Jha/10e7a8cb732bc43a\n",
       "    <span style=\"font-size: 0.8em; font-weight: bold; line-height: 1; border-radius: 0.35em; text-transform: uppercase; vertical-align: middle; margin-left: 0.5rem\">Email Address</span>\n",
       "</mark>\n",
       "</br></br>• To work for an organization which provides me the opportunity to improve my skills</br>and knowledge for my individual and company's growth in best possible ways.</br></br>Willing to relocate to: Bangalore, Karnataka</br></br>WORK EXPERIENCE</br></br>\n",
       "<mark class=\"entity\" style=\"background: #ddd; padding: 0.45em 0.6em; margin: 0 0.25em; line-height: 1; border-radius: 0.35em; box-decoration-break: clone; -webkit-box-decoration-break: clone\">\n",
       "    Application Development Associate\n",
       "    <span style=\"font-size: 0.8em; font-weight: bold; line-height: 1; border-radius: 0.35em; text-transform: uppercase; vertical-align: middle; margin-left: 0.5rem\">Designation</span>\n",
       "</mark>\n",
       "</br></br>\n",
       "<mark class=\"entity\" style=\"background: #ddd; padding: 0.45em 0.6em; margin: 0 0.25em; line-height: 1; border-radius: 0.35em; box-decoration-break: clone; -webkit-box-decoration-break: clone\">\n",
       "    Accenture\n",
       "    <span style=\"font-size: 0.8em; font-weight: bold; line-height: 1; border-radius: 0.35em; text-transform: uppercase; vertical-align: middle; margin-left: 0.5rem\">Companies worked at</span>\n",
       "</mark>\n",
       " -</br></br>November 2017 to Present</br></br>Role: Currently working on Chat-bot. Developing Backend Oracle PeopleSoft Queries</br>for the Bot which will be triggered based on given input. Also, Training the bot for different possible</br>utterances (Both positive and negative), which will be given as</br>input by the user.</br></br>EDUCATION</br></br>\n",
       "<mark class=\"entity\" style=\"background: #ddd; padding: 0.45em 0.6em; margin: 0 0.25em; line-height: 1; border-radius: 0.35em; box-decoration-break: clone; -webkit-box-decoration-break: clone\">\n",
       "    B.E in Information science and engineering\n",
       "    <span style=\"font-size: 0.8em; font-weight: bold; line-height: 1; border-radius: 0.35em; text-transform: uppercase; vertical-align: middle; margin-left: 0.5rem\">Degree</span>\n",
       "</mark>\n",
       "</br></br>\n",
       "<mark class=\"entity\" style=\"background: #ddd; padding: 0.45em 0.6em; margin: 0 0.25em; line-height: 1; border-radius: 0.35em; box-decoration-break: clone; -webkit-box-decoration-break: clone\">\n",
       "    B.v.b college of engineering and technology\n",
       "    <span style=\"font-size: 0.8em; font-weight: bold; line-height: 1; border-radius: 0.35em; text-transform: uppercase; vertical-align: middle; margin-left: 0.5rem\">College Name</span>\n",
       "</mark>\n",
       " -  \n",
       "<mark class=\"entity\" style=\"background: #ddd; padding: 0.45em 0.6em; margin: 0 0.25em; line-height: 1; border-radius: 0.35em; box-decoration-break: clone; -webkit-box-decoration-break: clone\">\n",
       "    Hubli\n",
       "    <span style=\"font-size: 0.8em; font-weight: bold; line-height: 1; border-radius: 0.35em; text-transform: uppercase; vertical-align: middle; margin-left: 0.5rem\">Location</span>\n",
       "</mark>\n",
       ", Karnataka</br></br>August 2013 to June 2017</br></br>12th in Mathematics</br></br>Woodbine modern school</br></br>April 2011 to March 2013</br></br>10th</br></br>\n",
       "<mark class=\"entity\" style=\"background: #ddd; padding: 0.45em 0.6em; margin: 0 0.25em; line-height: 1; border-radius: 0.35em; box-decoration-break: clone; -webkit-box-decoration-break: clone\">\n",
       "    Kendriya Vidyalaya\n",
       "    <span style=\"font-size: 0.8em; font-weight: bold; line-height: 1; border-radius: 0.35em; text-transform: uppercase; vertical-align: middle; margin-left: 0.5rem\">Designation</span>\n",
       "</mark>\n",
       "</br></br>April 2001 to March 2011</br></br>SKILLS</br></br>\n",
       "<mark class=\"entity\" style=\"background: #ddd; padding: 0.45em 0.6em; margin: 0 0.25em; line-height: 1; border-radius: 0.35em; box-decoration-break: clone; -webkit-box-decoration-break: clone\">\n",
       "    C\n",
       "    <span style=\"font-size: 0.8em; font-weight: bold; line-height: 1; border-radius: 0.35em; text-transform: uppercase; vertical-align: middle; margin-left: 0.5rem\">Skills</span>\n",
       "</mark>\n",
       " (Less than 1 year), \n",
       "<mark class=\"entity\" style=\"background: #ddd; padding: 0.45em 0.6em; margin: 0 0.25em; line-height: 1; border-radius: 0.35em; box-decoration-break: clone; -webkit-box-decoration-break: clone\">\n",
       "    Database\n",
       "    <span style=\"font-size: 0.8em; font-weight: bold; line-height: 1; border-radius: 0.35em; text-transform: uppercase; vertical-align: middle; margin-left: 0.5rem\">Skills</span>\n",
       "</mark>\n",
       " (Less than 1 year), Database Management (Less than 1 year),</br>Database Management System (Less than 1 year), \n",
       "<mark class=\"entity\" style=\"background: #ddd; padding: 0.45em 0.6em; margin: 0 0.25em; line-height: 1; border-radius: 0.35em; box-decoration-break: clone; -webkit-box-decoration-break: clone\">\n",
       "    Java\n",
       "    <span style=\"font-size: 0.8em; font-weight: bold; line-height: 1; border-radius: 0.35em; text-transform: uppercase; vertical-align: middle; margin-left: 0.5rem\">Skills</span>\n",
       "</mark>\n",
       " (Less than 1 year)\n",
       "\n",
       "ADDITIONAL INFORMATION\n",
       "\n",
       "Technical Skills\n",
       "\n",
       "https://www.indeed.com/r/Abhishek-Jha/10e7a8cb732bc43a?isid=rex-download&ikw=download-top&co=IN\n",
       "\n",
       "\n",
       "• Programming language: C, C++, Java\n",
       "• Oracle PeopleSoft\n",
       "• Internet Of Things\n",
       "• Machine Learning\n",
       "• Database Management System\n",
       "• Computer Networks\n",
       "• Operating System worked on: Linux, Windows, Mac\n",
       "\n",
       "Non - Technical Skills\n",
       "\n",
       "• Honest and Hard-Working\n",
       "• Tolerant and Flexible to Different Situations\n",
       "• Polite and Calm\n",
       "• Team-Player</div>"
      ],
      "text/plain": [
       "<IPython.core.display.HTML object>"
      ]
     },
     "metadata": {},
     "output_type": "display_data"
    }
   ],
   "source": [
    "#Viz of What Was Tagged\n",
    "doc = nlp(test_text)\n",
    "displacy.render(doc, style=\"ent\",jupyter=True)"
   ]
  },
  {
   "cell_type": "code",
   "execution_count": 35,
   "metadata": {
    "ExecuteTime": {
     "end_time": "2019-03-21T12:52:15.691960Z",
     "start_time": "2019-03-21T12:52:15.450319Z"
    },
    "scrolled": false
   },
   "outputs": [
    {
     "data": {
      "text/html": [
       "<div class=\"entities\" style=\"line-height: 2.5\">\n",
       "<mark class=\"entity\" style=\"background: #ddd; padding: 0.45em 0.6em; margin: 0 0.25em; line-height: 1; border-radius: 0.35em; box-decoration-break: clone; -webkit-box-decoration-break: clone\">\n",
       "    Alok Khandai\n",
       "    <span style=\"font-size: 0.8em; font-weight: bold; line-height: 1; border-radius: 0.35em; text-transform: uppercase; vertical-align: middle; margin-left: 0.5rem\">Name</span>\n",
       "</mark>\n",
       "</br>\n",
       "<mark class=\"entity\" style=\"background: #ddd; padding: 0.45em 0.6em; margin: 0 0.25em; line-height: 1; border-radius: 0.35em; box-decoration-break: clone; -webkit-box-decoration-break: clone\">\n",
       "    Operational Analyst\n",
       "    <span style=\"font-size: 0.8em; font-weight: bold; line-height: 1; border-radius: 0.35em; text-transform: uppercase; vertical-align: middle; margin-left: 0.5rem\">Designation</span>\n",
       "</mark>\n",
       " (SQL DBA) Engineer - UNISYS</br></br>\n",
       "<mark class=\"entity\" style=\"background: #ddd; padding: 0.45em 0.6em; margin: 0 0.25em; line-height: 1; border-radius: 0.35em; box-decoration-break: clone; -webkit-box-decoration-break: clone\">\n",
       "    Bengaluru\n",
       "    <span style=\"font-size: 0.8em; font-weight: bold; line-height: 1; border-radius: 0.35em; text-transform: uppercase; vertical-align: middle; margin-left: 0.5rem\">Location</span>\n",
       "</mark>\n",
       ", Karnataka - Email me on Indeed: \n",
       "<mark class=\"entity\" style=\"background: #ddd; padding: 0.45em 0.6em; margin: 0 0.25em; line-height: 1; border-radius: 0.35em; box-decoration-break: clone; -webkit-box-decoration-break: clone\">\n",
       "    indeed.com/r/Alok-Khandai/5be849e443b8f467\n",
       "    <span style=\"font-size: 0.8em; font-weight: bold; line-height: 1; border-radius: 0.35em; text-transform: uppercase; vertical-align: middle; margin-left: 0.5rem\">Email Address</span>\n",
       "</mark>\n",
       "</br></br>❖ Having \n",
       "<mark class=\"entity\" style=\"background: #ddd; padding: 0.45em 0.6em; margin: 0 0.25em; line-height: 1; border-radius: 0.35em; box-decoration-break: clone; -webkit-box-decoration-break: clone\">\n",
       "    3.5 Years of IT experience\n",
       "    <span style=\"font-size: 0.8em; font-weight: bold; line-height: 1; border-radius: 0.35em; text-transform: uppercase; vertical-align: middle; margin-left: 0.5rem\">Years of Experience</span>\n",
       "</mark>\n",
       " in SQL Database Administration, System Analysis, Design,</br>Development & Support of MS SQL Servers in Production, Development environments &</br>Replication and Cluster Server Environments.</br>❖ Working Experience with relational database such as SQL.</br>❖ Experience in Installation, Configuration, Maintenance and Administration of SQL Server.</br>❖ Experience in upgrading SQL Server.</br>❖ Good experience with implementing DR solution, High Availability of database servers using</br>Database mirroring and replications and Log Shipping.</br>❖ Experience in implementing SQL Server security and Object permissions like maintaining</br>Database authentication modes, creation of users, configuring permissions and assigning roles</br>to users.</br>❖ Experience in creating Jobs, Alerts, SQL Mail Agent</br>❖ Experience in performing integrity checks. Methods include configuring the database</br>maintenance plan wizard and DBCC utilities</br>❖ Experience in using Performance Monitor, SQL Profiler and optimizing the queries, tracing long</br>running queries and deadlocks.</br>❖ Experience in applying patches and service packs to keep the database at current patch level.</br>❖ Ability to manage own work and multitask to meet tight deadlines without losing sight of</br>priorities..</br></br>Willing to relocate to: \n",
       "<mark class=\"entity\" style=\"background: #ddd; padding: 0.45em 0.6em; margin: 0 0.25em; line-height: 1; border-radius: 0.35em; box-decoration-break: clone; -webkit-box-decoration-break: clone\">\n",
       "    Bengaluru\n",
       "    <span style=\"font-size: 0.8em; font-weight: bold; line-height: 1; border-radius: 0.35em; text-transform: uppercase; vertical-align: middle; margin-left: 0.5rem\">Location</span>\n",
       "</mark>\n",
       ", Karnataka</br></br>WORK EXPERIENCE</br></br>\n",
       "<mark class=\"entity\" style=\"background: #ddd; padding: 0.45em 0.6em; margin: 0 0.25em; line-height: 1; border-radius: 0.35em; box-decoration-break: clone; -webkit-box-decoration-break: clone\">\n",
       "    Operational Analyst\n",
       "    <span style=\"font-size: 0.8em; font-weight: bold; line-height: 1; border-radius: 0.35em; text-transform: uppercase; vertical-align: middle; margin-left: 0.5rem\">Designation</span>\n",
       "</mark>\n",
       " (SQL DBA) Engineer</br></br>\n",
       "<mark class=\"entity\" style=\"background: #ddd; padding: 0.45em 0.6em; margin: 0 0.25em; line-height: 1; border-radius: 0.35em; box-decoration-break: clone; -webkit-box-decoration-break: clone\">\n",
       "    UNISYS\n",
       "    <span style=\"font-size: 0.8em; font-weight: bold; line-height: 1; border-radius: 0.35em; text-transform: uppercase; vertical-align: middle; margin-left: 0.5rem\">Companies worked at</span>\n",
       "</mark>\n",
       " -  \n",
       "<mark class=\"entity\" style=\"background: #ddd; padding: 0.45em 0.6em; margin: 0 0.25em; line-height: 1; border-radius: 0.35em; box-decoration-break: clone; -webkit-box-decoration-break: clone\">\n",
       "    Bengaluru\n",
       "    <span style=\"font-size: 0.8em; font-weight: bold; line-height: 1; border-radius: 0.35em; text-transform: uppercase; vertical-align: middle; margin-left: 0.5rem\">Location</span>\n",
       "</mark>\n",
       ", Karnataka -</br></br>July 2016 to Present</br></br>❖ Having 3.5 Years of IT experience in SQL Database Administration, System Analysis, Design,</br>Development & Support of MS SQL Servers in Production, Development environments &</br>Replication and Cluster Server Environments.</br>❖ Working Experience with relational database such as SQL.</br>❖ Experience in Installation, Configuration, Maintenance and Administration of SQL Server. </br>❖ Experience in upgrading SQL Server.</br>❖ Good experience with implementing DR solution, High Availability of database servers using</br>Database mirroring and replications and Log Shipping.</br>❖ Experience in implementing SQL Server security and Object permissions like maintaining</br>Database authentication modes, creation of users, configuring permissions and assigning roles</br>to users.</br></br>\n",
       "<mark class=\"entity\" style=\"background: #ddd; padding: 0.45em 0.6em; margin: 0 0.25em; line-height: 1; border-radius: 0.35em; box-decoration-break: clone; -webkit-box-decoration-break: clone\">\n",
       "    DBA Support Analyst\n",
       "    <span style=\"font-size: 0.8em; font-weight: bold; line-height: 1; border-radius: 0.35em; text-transform: uppercase; vertical-align: middle; margin-left: 0.5rem\">Designation</span>\n",
       "</mark>\n",
       "</br></br>\n",
       "<mark class=\"entity\" style=\"background: #ddd; padding: 0.45em 0.6em; margin: 0 0.25em; line-height: 1; border-radius: 0.35em; box-decoration-break: clone; -webkit-box-decoration-break: clone\">\n",
       "    Microsoft Corporation\n",
       "    <span style=\"font-size: 0.8em; font-weight: bold; line-height: 1; border-radius: 0.35em; text-transform: uppercase; vertical-align: middle; margin-left: 0.5rem\">Companies worked at</span>\n",
       "</mark>\n",
       " -  Redmond, WA -</br></br>https://www.indeed.com/r/Alok-Khandai/5be849e443b8f467?isid=rex-download&ikw=download-top&co=IN</br></br></br>\n",
       "<mark class=\"entity\" style=\"background: #ddd; padding: 0.45em 0.6em; margin: 0 0.25em; line-height: 1; border-radius: 0.35em; box-decoration-break: clone; -webkit-box-decoration-break: clone\">\n",
       "    July 2016 to Present\n",
       "    <span style=\"font-size: 0.8em; font-weight: bold; line-height: 1; border-radius: 0.35em; text-transform: uppercase; vertical-align: middle; margin-left: 0.5rem\">Years of Experience</span>\n",
       "</mark>\n",
       "</br></br>Client Description:</br>Microsoft Corporation is an American public multinational corporation headquartered in</br>Redmond, Washington, USA that develops, manufactures, licenses, and supports a wide range of</br>products and services predominantly related to computing through its various product divisions.</br></br>Environment:</br>Microsoft has E2E development and production environment of more than 25000 servers and</br>applications. We are responsible for pro-active monitoring of all the servers and their jobs using</br>monitoring tools to reduce critical business impact by alerting respective peer teams. Microsoft</br>Service Enterprise an ITSM tools are used for ticketing and SharePoint portal is used to store all</br>technical and process documentation.</br></br>Roles and Responsibilities:</br>• Responsible for Database support, troubleshooting, planning and migration. Resource planning</br>and coordination for application migrations with project managers, application and web app</br>teams. Project involved guidance and adherence to standardized procedures for planned data</br>center consolidation for worldwide centers using in-house corporate and third party applications</br>based on SQL 2000 in upgrade project to SQL 2005.</br>• Monitoring of database size and disk space in Production, Staging & Development environments</br>• Performed installation of SQL Enterprise 2005 64bit version on Windows 2003 servers on</br>Enterprise systems of clustered and standalone servers in enterprise Data Centers. Patch</br>applications.</br>• Failover cluster testing and resolution on HP servers as well as monitoring and backup reporting</br>setup with Microsoft Operations Manager and backup teams.</br>• Working in Microsoft production environment which includes applications and servers.</br>• Configured Transactional Replication and Log Shipping with SQL Server Management Studio as</br>well as basic account management and troubleshooting with connectivity, security and firewall</br>issues.</br>• Handling issues related to Server Availability, Performance.</br>• Performed Production support and on Call duties</br>• Conducted Performance Tuning using SQL Profiler and Windows Performance Monitor.</br>• Worked with various business groups while developing their applications, assisting in database</br>design, installing SQL Server clients, phasing from development to QA and to Production</br>environment.</br></br>Previous Project</br>❖ Project Title: Finance Support</br>❖ Client: Costco Wholesale Corporation (USA)</br>❖ Team size: 22</br>❖ Role: DBA Support Analyst</br>❖ Environment: Window 10</br></br>(SQL DBA Analyst) Engineer</br></br>\n",
       "<mark class=\"entity\" style=\"background: #ddd; padding: 0.45em 0.6em; margin: 0 0.25em; line-height: 1; border-radius: 0.35em; box-decoration-break: clone; -webkit-box-decoration-break: clone\">\n",
       "    HCL Technologies\n",
       "    <span style=\"font-size: 0.8em; font-weight: bold; line-height: 1; border-radius: 0.35em; text-transform: uppercase; vertical-align: middle; margin-left: 0.5rem\">Companies worked at</span>\n",
       "</mark>\n",
       " -  \n",
       "<mark class=\"entity\" style=\"background: #ddd; padding: 0.45em 0.6em; margin: 0 0.25em; line-height: 1; border-radius: 0.35em; box-decoration-break: clone; -webkit-box-decoration-break: clone\">\n",
       "    Bengaluru\n",
       "    <span style=\"font-size: 0.8em; font-weight: bold; line-height: 1; border-radius: 0.35em; text-transform: uppercase; vertical-align: middle; margin-left: 0.5rem\">Location</span>\n",
       "</mark>\n",
       ", Karnataka -</br></br>November 2014 to July 2016</br></br>〓 Performed server installation and configurations for SQL Server 2005 and SQL Server 2000.</br></br></br></br>〓 Performed installation of SQL Server Service Packs</br>〓 Upgraded databases from SQL Server 2000 to SQL Server 2005.</br>〓 Scheduled Full and Transactional log backups for the user created and system databases in</br>the production environment using the Database Maintenance Plan Wizard.</br>〓 Setup backup and restoration jobs for development and QA environments</br>〓 Created transactional replication for the reporting applications.</br>〓 Implemented disaster recovery solution at the remote site for the production databases using</br>Log Shipping.</br>〓 Used System monitor to find the bottlenecks in CPU, Disk I/O and memory devices and</br>improved the database server performance.</br>〓 Used SQL Server Profiler to monitor and record database activities of particular users and</br>applications.</br>〓 Used DBCC commands to troubleshoot issues related to database consistency</br>〓 Worked with various business groups while developing their applications, assisting in database</br>design, installing SQL Server clients, phasing from development to QA and to Production</br>environment</br></br>\n",
       "<mark class=\"entity\" style=\"background: #ddd; padding: 0.45em 0.6em; margin: 0 0.25em; line-height: 1; border-radius: 0.35em; box-decoration-break: clone; -webkit-box-decoration-break: clone\">\n",
       "    Microsoft Corporation\n",
       "    <span style=\"font-size: 0.8em; font-weight: bold; line-height: 1; border-radius: 0.35em; text-transform: uppercase; vertical-align: middle; margin-left: 0.5rem\">Companies worked at</span>\n",
       "</mark>\n",
       " -</br></br>November 2014 to July 2016</br></br>Client Description:</br></br>❖ Costco Wholesale Corporation operates an international chain of membership warehouses,</br>mainly under the \"Costco Wholesale\" name, that carry quality, brand name merchandise at</br>substantially lower prices than are typically found at conventional wholesale or retail sources. The</br>warehouses are designed to help small-to-medium-sized businesses reduce costs in purchasing</br>for resale and for everyday business use. Individuals may also purchase for their personal needs.</br></br>❖ Responsibilities:</br></br>➢ Performed server installation and configurations for SQL Server 2005 and SQL Server 2000.</br>➢ Performed installation of SQL Server Service Packs</br>➢ Upgraded databases from SQL Server 2000 to SQL Server 2005.</br>➢ Scheduled Full and Transactional log backups for the user created and system databases in</br>the production environment using the Database Maintenance Plan Wizard.</br>➢ Setup backup and restoration jobs for development and QA environments</br>➢ Created transactional replication for the reporting applications.</br>➢ Implemented disaster recovery solution at the remote site for the production databases using</br>Log Shipping.</br>➢ Used System monitor to find the bottlenecks in CPU, Disk I/O and memory devices and improved</br>the database server performance.</br>➢ Used SQL Server Profiler to monitor and record database activities of particular users and</br>applications.</br>➢ Used DBCC commands to troubleshoot issues related to database consistency</br>➢ Worked with various business groups while developing their applications, assisting in database</br>design, installing SQL Server clients, phasing from development to QA and to Production</br>environment</br></br></br></br>EDUCATION</br></br>\n",
       "<mark class=\"entity\" style=\"background: #ddd; padding: 0.45em 0.6em; margin: 0 0.25em; line-height: 1; border-radius: 0.35em; box-decoration-break: clone; -webkit-box-decoration-break: clone\">\n",
       "    B.Tech in Computer Science and Engineering\n",
       "    <span style=\"font-size: 0.8em; font-weight: bold; line-height: 1; border-radius: 0.35em; text-transform: uppercase; vertical-align: middle; margin-left: 0.5rem\">Degree</span>\n",
       "</mark>\n",
       " in CSE</br></br>\n",
       "<mark class=\"entity\" style=\"background: #ddd; padding: 0.45em 0.6em; margin: 0 0.25em; line-height: 1; border-radius: 0.35em; box-decoration-break: clone; -webkit-box-decoration-break: clone\">\n",
       "    Indira Gandhi Institute Of Technology\n",
       "    <span style=\"font-size: 0.8em; font-weight: bold; line-height: 1; border-radius: 0.35em; text-transform: uppercase; vertical-align: middle; margin-left: 0.5rem\">College Name</span>\n",
       "</mark>\n",
       "</br></br>\n",
       "<mark class=\"entity\" style=\"background: #ddd; padding: 0.45em 0.6em; margin: 0 0.25em; line-height: 1; border-radius: 0.35em; box-decoration-break: clone; -webkit-box-decoration-break: clone\">\n",
       "    2012\n",
       "    <span style=\"font-size: 0.8em; font-weight: bold; line-height: 1; border-radius: 0.35em; text-transform: uppercase; vertical-align: middle; margin-left: 0.5rem\">Graduation Year</span>\n",
       "</mark>\n",
       "</br></br>SKILLS</br></br>\n",
       "<mark class=\"entity\" style=\"background: #ddd; padding: 0.45em 0.6em; margin: 0 0.25em; line-height: 1; border-radius: 0.35em; box-decoration-break: clone; -webkit-box-decoration-break: clone\">\n",
       "    Database\n",
       "    <span style=\"font-size: 0.8em; font-weight: bold; line-height: 1; border-radius: 0.35em; text-transform: uppercase; vertical-align: middle; margin-left: 0.5rem\">Skills</span>\n",
       "</mark>\n",
       " (3 years), \n",
       "<mark class=\"entity\" style=\"background: #ddd; padding: 0.45em 0.6em; margin: 0 0.25em; line-height: 1; border-radius: 0.35em; box-decoration-break: clone; -webkit-box-decoration-break: clone\">\n",
       "    SQL\n",
       "    <span style=\"font-size: 0.8em; font-weight: bold; line-height: 1; border-radius: 0.35em; text-transform: uppercase; vertical-align: middle; margin-left: 0.5rem\">Skills</span>\n",
       "</mark>\n",
       " (3 years), Sql Dba\n",
       "\n",
       "ADDITIONAL INFORMATION\n",
       "\n",
       "TECHNICAL PROFICIENCY\n",
       "❖ Operating Environment: […] Windows95/98/XP/NT\n",
       "❖ Database Tool: SQL Management Studio (MSSQL), Business\n",
       "Development Studio, Visual studio 2005\n",
       "❖ Database Language: SQL, PL/SQL\n",
       "❖ Ticket Tracking Tool: Service Now\n",
       "❖ Reporting Tools: MS Reporting Services, SAS\n",
       "❖ Languages: C, C++, PL/SQL</div>"
      ],
      "text/plain": [
       "<IPython.core.display.HTML object>"
      ]
     },
     "metadata": {},
     "output_type": "display_data"
    }
   ],
   "source": [
    "#Viz of What Was Tagged\n",
    "doc = nlp(test_text2)\n",
    "displacy.render(doc, style=\"ent\",jupyter=True)"
   ]
  }
 ],
 "metadata": {
  "kernelspec": {
   "display_name": "Python 3",
   "language": "python",
   "name": "python3"
  },
  "language_info": {
   "codemirror_mode": {
    "name": "ipython",
    "version": 3
   },
   "file_extension": ".py",
   "mimetype": "text/x-python",
   "name": "python",
   "nbconvert_exporter": "python",
   "pygments_lexer": "ipython3",
   "version": "3.7.1"
  }
 },
 "nbformat": 4,
 "nbformat_minor": 2
}
