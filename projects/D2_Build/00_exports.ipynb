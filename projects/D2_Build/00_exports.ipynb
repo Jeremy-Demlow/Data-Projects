{
 "cells": [
  {
   "cell_type": "code",
   "execution_count": 1,
   "metadata": {
    "ExecuteTime": {
     "end_time": "2019-12-11T17:57:21.335905Z",
     "start_time": "2019-12-11T17:57:21.333799Z"
    }
   },
   "outputs": [],
   "source": [
    "#export \n",
    "TEST = 'test'"
   ]
  },
  {
   "cell_type": "markdown",
   "metadata": {},
   "source": [
    "# Export "
   ]
  },
  {
   "cell_type": "code",
   "execution_count": 20,
   "metadata": {
    "ExecuteTime": {
     "end_time": "2019-12-11T21:41:54.520674Z",
     "start_time": "2019-12-11T21:41:54.352667Z"
    }
   },
   "outputs": [
    {
     "name": "stdout",
     "output_type": "stream",
     "text": [
      "Converted 00_exports.ipynb to exp/nb_00.py\r\n"
     ]
    }
   ],
   "source": [
    "! python notebook2script.py 00_exports.ipynb"
   ]
  },
  {
   "cell_type": "code",
   "execution_count": 5,
   "metadata": {
    "ExecuteTime": {
     "end_time": "2019-12-11T21:32:20.641486Z",
     "start_time": "2019-12-11T21:32:20.638766Z"
    }
   },
   "outputs": [],
   "source": [
    "import json\n",
    "a = json.load(open('00_exports.ipynb'))"
   ]
  },
  {
   "cell_type": "code",
   "execution_count": 19,
   "metadata": {
    "ExecuteTime": {
     "end_time": "2019-12-11T21:36:21.545995Z",
     "start_time": "2019-12-11T21:36:21.537263Z"
    },
    "scrolled": true
   },
   "outputs": [
    {
     "data": {
      "text/plain": [
       "[{'cell_type': 'code',\n",
       "  'execution_count': 1,\n",
       "  'metadata': {'ExecuteTime': {'end_time': '2019-12-11T17:57:21.335905Z',\n",
       "    'start_time': '2019-12-11T17:57:21.333799Z'}},\n",
       "  'outputs': [],\n",
       "  'source': ['#export \\n', \"TEST = 'test'\"]},\n",
       " {'cell_type': 'markdown', 'metadata': {}, 'source': ['# Export ']},\n",
       " {'cell_type': 'code',\n",
       "  'execution_count': 4,\n",
       "  'metadata': {'ExecuteTime': {'end_time': '2019-12-11T17:58:26.046711Z',\n",
       "    'start_time': '2019-12-11T17:58:25.880973Z'}},\n",
       "  'outputs': [{'name': 'stdout',\n",
       "    'output_type': 'stream',\n",
       "    'text': ['Converted 00_exports.ipynb to exp/nb_00.py\\r\\n']}],\n",
       "  'source': ['! python notebook2script.py 00_exports.ipynb']},\n",
       " {'cell_type': 'code',\n",
       "  'execution_count': None,\n",
       "  'metadata': {},\n",
       "  'outputs': [],\n",
       "  'source': ['import json\\n', \"a = json.load(open('00_exports.ipynb'))\"]}]"
      ]
     },
     "execution_count": 19,
     "metadata": {},
     "output_type": "execute_result"
    }
   ],
   "source": [
    "a['cells']"
   ]
  },
  {
   "cell_type": "code",
   "execution_count": null,
   "metadata": {},
   "outputs": [],
   "source": []
  }
 ],
 "metadata": {
  "kernelspec": {
   "display_name": "Python 3",
   "language": "python",
   "name": "python3"
  },
  "language_info": {
   "codemirror_mode": {
    "name": "ipython",
    "version": 3
   },
   "file_extension": ".py",
   "mimetype": "text/x-python",
   "name": "python",
   "nbconvert_exporter": "python",
   "pygments_lexer": "ipython3",
   "version": "3.7.5"
  },
  "toc": {
   "base_numbering": 1,
   "nav_menu": {},
   "number_sections": true,
   "sideBar": true,
   "skip_h1_title": false,
   "title_cell": "Table of Contents",
   "title_sidebar": "Contents",
   "toc_cell": false,
   "toc_position": {},
   "toc_section_display": true,
   "toc_window_display": false
  }
 },
 "nbformat": 4,
 "nbformat_minor": 2
}
