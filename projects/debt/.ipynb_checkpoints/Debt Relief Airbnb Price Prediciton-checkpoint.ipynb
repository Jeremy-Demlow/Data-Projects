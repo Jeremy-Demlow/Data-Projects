{
 "cells": [
  {
   "cell_type": "markdown",
   "metadata": {},
   "source": [
    "## Data Science Challenge"
   ]
  },
  {
   "cell_type": "markdown",
   "metadata": {},
   "source": [
    "Data Challenge\n",
    "Attached you will find the file listings.csv which provides data on around 50,000 AirBnB listings\n",
    "in New York City.  Given only this data, you want to create a model to predict how much you\n",
    "can charge for new listings while keeping vacancy down.   \n",
    "Please put together a brief analysis of the dataset and show how you would go about creating a\n",
    "model to predict a listing price, while taking market demand into account.\n",
    "\n",
    "\n",
    "**Goal For Me**\n",
    "\n",
    "This is to show you a glimpse into how I would attack a problem and how I would model something like this. I already know that I am going to be skipping many parts of the analysis I would do if I had a lot of time or this was a model that was going to go into production. "
   ]
  },
  {
   "cell_type": "markdown",
   "metadata": {},
   "source": [
    "## Data Loading"
   ]
  },
  {
   "cell_type": "code",
   "execution_count": 406,
   "metadata": {
    "ExecuteTime": {
     "end_time": "2019-12-13T02:03:38.921069Z",
     "start_time": "2019-12-13T02:03:38.917306Z"
    }
   },
   "outputs": [],
   "source": [
    "from pathlib import Path\n",
    "import multiprocessing\n",
    "import pandas as pd \n",
    "import matplotlib.pyplot as plt\n",
    "import matplotlib.lines as lines\n",
    "import numpy as np\n",
    "from pandas_summary import DataFrameSummary\n",
    "import seaborn as sns\n",
    "from rfpimp import *\n",
    "from sklearn.ensemble import RandomForestRegressor\n",
    "from sklearn.preprocessing import LabelEncoder, StandardScaler\n",
    "from pandas.api.types import is_string_dtype, is_numeric_dtype\n",
    "from sklearn.metrics import mean_squared_error\n",
    "from sklearn_pandas import DataFrameMapper\n",
    "from sklearn import metrics\n",
    "import scikitplot as skplt\n",
    "import itertools\n",
    "from xgboost import XGBRegressor\n",
    "#Functions used outside of normal libraries\n",
    "from util_functions import *"
   ]
  },
  {
   "cell_type": "code",
   "execution_count": 15,
   "metadata": {
    "ExecuteTime": {
     "end_time": "2019-12-12T20:45:20.270867Z",
     "start_time": "2019-12-12T20:45:20.268809Z"
    }
   },
   "outputs": [],
   "source": [
    "path = Path('./data/')\n",
    "\n",
    "df_raw = pd.read_csv(f'{path}/listings.csv', low_memory=False)"
   ]
  },
  {
   "cell_type": "code",
   "execution_count": 19,
   "metadata": {
    "ExecuteTime": {
     "end_time": "2019-12-12T20:45:29.807925Z",
     "start_time": "2019-12-12T20:45:29.796970Z"
    }
   },
   "outputs": [
    {
     "data": {
      "text/plain": [
       "(48864, 15)"
      ]
     },
     "execution_count": 19,
     "metadata": {},
     "output_type": "execute_result"
    }
   ],
   "source": [
    "df_raw.shape"
   ]
  },
  {
   "cell_type": "markdown",
   "metadata": {},
   "source": [
    "## Sniffing The Data"
   ]
  },
  {
   "cell_type": "code",
   "execution_count": 20,
   "metadata": {
    "ExecuteTime": {
     "end_time": "2019-12-12T20:45:30.143721Z",
     "start_time": "2019-12-12T20:45:30.127436Z"
    },
    "scrolled": true
   },
   "outputs": [
    {
     "data": {
      "text/html": [
       "<div>\n",
       "<style scoped>\n",
       "    .dataframe tbody tr th:only-of-type {\n",
       "        vertical-align: middle;\n",
       "    }\n",
       "\n",
       "    .dataframe tbody tr th {\n",
       "        vertical-align: top;\n",
       "    }\n",
       "\n",
       "    .dataframe thead th {\n",
       "        text-align: right;\n",
       "    }\n",
       "</style>\n",
       "<table border=\"1\" class=\"dataframe\">\n",
       "  <thead>\n",
       "    <tr style=\"text-align: right;\">\n",
       "      <th></th>\n",
       "      <th>id</th>\n",
       "      <th>name</th>\n",
       "      <th>host_id</th>\n",
       "      <th>host_name</th>\n",
       "      <th>neighbourhood_group</th>\n",
       "      <th>neighbourhood</th>\n",
       "      <th>latitude</th>\n",
       "      <th>longitude</th>\n",
       "      <th>room_type</th>\n",
       "      <th>minimum_nights</th>\n",
       "      <th>calculated_host_listings_count</th>\n",
       "      <th>availability_365</th>\n",
       "      <th>number_of_reviews</th>\n",
       "      <th>reviews_per_month</th>\n",
       "      <th>price</th>\n",
       "    </tr>\n",
       "  </thead>\n",
       "  <tbody>\n",
       "    <tr>\n",
       "      <th>0</th>\n",
       "      <td>2595</td>\n",
       "      <td>Skylit Midtown Castle</td>\n",
       "      <td>2845</td>\n",
       "      <td>Jennifer</td>\n",
       "      <td>Manhattan</td>\n",
       "      <td>Midtown</td>\n",
       "      <td>40.75362</td>\n",
       "      <td>-73.98377</td>\n",
       "      <td>Entire home/apt</td>\n",
       "      <td>1</td>\n",
       "      <td>2</td>\n",
       "      <td>288</td>\n",
       "      <td>46</td>\n",
       "      <td>0.39</td>\n",
       "      <td>225</td>\n",
       "    </tr>\n",
       "    <tr>\n",
       "      <th>1</th>\n",
       "      <td>3647</td>\n",
       "      <td>THE VILLAGE OF HARLEM....NEW YORK !</td>\n",
       "      <td>4632</td>\n",
       "      <td>Elisabeth</td>\n",
       "      <td>Manhattan</td>\n",
       "      <td>Harlem</td>\n",
       "      <td>40.80902</td>\n",
       "      <td>-73.94190</td>\n",
       "      <td>Private room</td>\n",
       "      <td>3</td>\n",
       "      <td>1</td>\n",
       "      <td>365</td>\n",
       "      <td>0</td>\n",
       "      <td>NaN</td>\n",
       "      <td>150</td>\n",
       "    </tr>\n",
       "    <tr>\n",
       "      <th>2</th>\n",
       "      <td>3831</td>\n",
       "      <td>Cozy Entire Floor of Brownstone</td>\n",
       "      <td>4869</td>\n",
       "      <td>LisaRoxanne</td>\n",
       "      <td>Brooklyn</td>\n",
       "      <td>Clinton Hill</td>\n",
       "      <td>40.68514</td>\n",
       "      <td>-73.95976</td>\n",
       "      <td>Entire home/apt</td>\n",
       "      <td>1</td>\n",
       "      <td>1</td>\n",
       "      <td>212</td>\n",
       "      <td>274</td>\n",
       "      <td>4.64</td>\n",
       "      <td>89</td>\n",
       "    </tr>\n",
       "    <tr>\n",
       "      <th>3</th>\n",
       "      <td>5022</td>\n",
       "      <td>Entire Apt: Spacious Studio/Loft by central park</td>\n",
       "      <td>7192</td>\n",
       "      <td>Laura</td>\n",
       "      <td>Manhattan</td>\n",
       "      <td>East Harlem</td>\n",
       "      <td>40.79851</td>\n",
       "      <td>-73.94399</td>\n",
       "      <td>Entire home/apt</td>\n",
       "      <td>10</td>\n",
       "      <td>1</td>\n",
       "      <td>0</td>\n",
       "      <td>9</td>\n",
       "      <td>0.10</td>\n",
       "      <td>80</td>\n",
       "    </tr>\n",
       "    <tr>\n",
       "      <th>4</th>\n",
       "      <td>5099</td>\n",
       "      <td>Large Cozy 1 BR Apartment In Midtown East</td>\n",
       "      <td>7322</td>\n",
       "      <td>Chris</td>\n",
       "      <td>Manhattan</td>\n",
       "      <td>Murray Hill</td>\n",
       "      <td>40.74767</td>\n",
       "      <td>-73.97500</td>\n",
       "      <td>Entire home/apt</td>\n",
       "      <td>3</td>\n",
       "      <td>1</td>\n",
       "      <td>127</td>\n",
       "      <td>75</td>\n",
       "      <td>0.60</td>\n",
       "      <td>200</td>\n",
       "    </tr>\n",
       "  </tbody>\n",
       "</table>\n",
       "</div>"
      ],
      "text/plain": [
       "     id                                              name  host_id  \\\n",
       "0  2595                             Skylit Midtown Castle     2845   \n",
       "1  3647               THE VILLAGE OF HARLEM....NEW YORK !     4632   \n",
       "2  3831                   Cozy Entire Floor of Brownstone     4869   \n",
       "3  5022  Entire Apt: Spacious Studio/Loft by central park     7192   \n",
       "4  5099         Large Cozy 1 BR Apartment In Midtown East     7322   \n",
       "\n",
       "     host_name neighbourhood_group neighbourhood  latitude  longitude  \\\n",
       "0     Jennifer           Manhattan       Midtown  40.75362  -73.98377   \n",
       "1    Elisabeth           Manhattan        Harlem  40.80902  -73.94190   \n",
       "2  LisaRoxanne            Brooklyn  Clinton Hill  40.68514  -73.95976   \n",
       "3        Laura           Manhattan   East Harlem  40.79851  -73.94399   \n",
       "4        Chris           Manhattan   Murray Hill  40.74767  -73.97500   \n",
       "\n",
       "         room_type  minimum_nights  calculated_host_listings_count  \\\n",
       "0  Entire home/apt               1                               2   \n",
       "1     Private room               3                               1   \n",
       "2  Entire home/apt               1                               1   \n",
       "3  Entire home/apt              10                               1   \n",
       "4  Entire home/apt               3                               1   \n",
       "\n",
       "   availability_365  number_of_reviews  reviews_per_month  price  \n",
       "0               288                 46               0.39    225  \n",
       "1               365                  0                NaN    150  \n",
       "2               212                274               4.64     89  \n",
       "3                 0                  9               0.10     80  \n",
       "4               127                 75               0.60    200  "
      ]
     },
     "metadata": {},
     "output_type": "display_data"
    }
   ],
   "source": [
    "display_all(df_raw.head())"
   ]
  },
  {
   "cell_type": "code",
   "execution_count": 21,
   "metadata": {
    "ExecuteTime": {
     "end_time": "2019-12-12T20:45:30.313737Z",
     "start_time": "2019-12-12T20:45:30.304019Z"
    }
   },
   "outputs": [
    {
     "data": {
      "text/html": [
       "<div>\n",
       "<style scoped>\n",
       "    .dataframe tbody tr th:only-of-type {\n",
       "        vertical-align: middle;\n",
       "    }\n",
       "\n",
       "    .dataframe tbody tr th {\n",
       "        vertical-align: top;\n",
       "    }\n",
       "\n",
       "    .dataframe thead th {\n",
       "        text-align: right;\n",
       "    }\n",
       "</style>\n",
       "<table border=\"1\" class=\"dataframe\">\n",
       "  <thead>\n",
       "    <tr style=\"text-align: right;\">\n",
       "      <th></th>\n",
       "      <th>0</th>\n",
       "      <th>1</th>\n",
       "      <th>2</th>\n",
       "      <th>3</th>\n",
       "      <th>4</th>\n",
       "    </tr>\n",
       "  </thead>\n",
       "  <tbody>\n",
       "    <tr>\n",
       "      <th>id</th>\n",
       "      <td>2595</td>\n",
       "      <td>3647</td>\n",
       "      <td>3831</td>\n",
       "      <td>5022</td>\n",
       "      <td>5099</td>\n",
       "    </tr>\n",
       "    <tr>\n",
       "      <th>name</th>\n",
       "      <td>Skylit Midtown Castle</td>\n",
       "      <td>THE VILLAGE OF HARLEM....NEW YORK !</td>\n",
       "      <td>Cozy Entire Floor of Brownstone</td>\n",
       "      <td>Entire Apt: Spacious Studio/Loft by central park</td>\n",
       "      <td>Large Cozy 1 BR Apartment In Midtown East</td>\n",
       "    </tr>\n",
       "    <tr>\n",
       "      <th>host_id</th>\n",
       "      <td>2845</td>\n",
       "      <td>4632</td>\n",
       "      <td>4869</td>\n",
       "      <td>7192</td>\n",
       "      <td>7322</td>\n",
       "    </tr>\n",
       "    <tr>\n",
       "      <th>host_name</th>\n",
       "      <td>Jennifer</td>\n",
       "      <td>Elisabeth</td>\n",
       "      <td>LisaRoxanne</td>\n",
       "      <td>Laura</td>\n",
       "      <td>Chris</td>\n",
       "    </tr>\n",
       "    <tr>\n",
       "      <th>neighbourhood_group</th>\n",
       "      <td>Manhattan</td>\n",
       "      <td>Manhattan</td>\n",
       "      <td>Brooklyn</td>\n",
       "      <td>Manhattan</td>\n",
       "      <td>Manhattan</td>\n",
       "    </tr>\n",
       "    <tr>\n",
       "      <th>neighbourhood</th>\n",
       "      <td>Midtown</td>\n",
       "      <td>Harlem</td>\n",
       "      <td>Clinton Hill</td>\n",
       "      <td>East Harlem</td>\n",
       "      <td>Murray Hill</td>\n",
       "    </tr>\n",
       "    <tr>\n",
       "      <th>latitude</th>\n",
       "      <td>40.7536</td>\n",
       "      <td>40.809</td>\n",
       "      <td>40.6851</td>\n",
       "      <td>40.7985</td>\n",
       "      <td>40.7477</td>\n",
       "    </tr>\n",
       "    <tr>\n",
       "      <th>longitude</th>\n",
       "      <td>-73.9838</td>\n",
       "      <td>-73.9419</td>\n",
       "      <td>-73.9598</td>\n",
       "      <td>-73.944</td>\n",
       "      <td>-73.975</td>\n",
       "    </tr>\n",
       "    <tr>\n",
       "      <th>room_type</th>\n",
       "      <td>Entire home/apt</td>\n",
       "      <td>Private room</td>\n",
       "      <td>Entire home/apt</td>\n",
       "      <td>Entire home/apt</td>\n",
       "      <td>Entire home/apt</td>\n",
       "    </tr>\n",
       "    <tr>\n",
       "      <th>minimum_nights</th>\n",
       "      <td>1</td>\n",
       "      <td>3</td>\n",
       "      <td>1</td>\n",
       "      <td>10</td>\n",
       "      <td>3</td>\n",
       "    </tr>\n",
       "    <tr>\n",
       "      <th>calculated_host_listings_count</th>\n",
       "      <td>2</td>\n",
       "      <td>1</td>\n",
       "      <td>1</td>\n",
       "      <td>1</td>\n",
       "      <td>1</td>\n",
       "    </tr>\n",
       "    <tr>\n",
       "      <th>availability_365</th>\n",
       "      <td>288</td>\n",
       "      <td>365</td>\n",
       "      <td>212</td>\n",
       "      <td>0</td>\n",
       "      <td>127</td>\n",
       "    </tr>\n",
       "    <tr>\n",
       "      <th>number_of_reviews</th>\n",
       "      <td>46</td>\n",
       "      <td>0</td>\n",
       "      <td>274</td>\n",
       "      <td>9</td>\n",
       "      <td>75</td>\n",
       "    </tr>\n",
       "    <tr>\n",
       "      <th>reviews_per_month</th>\n",
       "      <td>0.39</td>\n",
       "      <td>NaN</td>\n",
       "      <td>4.64</td>\n",
       "      <td>0.1</td>\n",
       "      <td>0.6</td>\n",
       "    </tr>\n",
       "    <tr>\n",
       "      <th>price</th>\n",
       "      <td>225</td>\n",
       "      <td>150</td>\n",
       "      <td>89</td>\n",
       "      <td>80</td>\n",
       "      <td>200</td>\n",
       "    </tr>\n",
       "  </tbody>\n",
       "</table>\n",
       "</div>"
      ],
      "text/plain": [
       "                                                    0  \\\n",
       "id                                               2595   \n",
       "name                            Skylit Midtown Castle   \n",
       "host_id                                          2845   \n",
       "host_name                                    Jennifer   \n",
       "neighbourhood_group                         Manhattan   \n",
       "neighbourhood                                 Midtown   \n",
       "latitude                                      40.7536   \n",
       "longitude                                    -73.9838   \n",
       "room_type                             Entire home/apt   \n",
       "minimum_nights                                      1   \n",
       "calculated_host_listings_count                      2   \n",
       "availability_365                                  288   \n",
       "number_of_reviews                                  46   \n",
       "reviews_per_month                                0.39   \n",
       "price                                             225   \n",
       "\n",
       "                                                                  1  \\\n",
       "id                                                             3647   \n",
       "name                            THE VILLAGE OF HARLEM....NEW YORK !   \n",
       "host_id                                                        4632   \n",
       "host_name                                                 Elisabeth   \n",
       "neighbourhood_group                                       Manhattan   \n",
       "neighbourhood                                                Harlem   \n",
       "latitude                                                     40.809   \n",
       "longitude                                                  -73.9419   \n",
       "room_type                                              Private room   \n",
       "minimum_nights                                                    3   \n",
       "calculated_host_listings_count                                    1   \n",
       "availability_365                                                365   \n",
       "number_of_reviews                                                 0   \n",
       "reviews_per_month                                               NaN   \n",
       "price                                                           150   \n",
       "\n",
       "                                                              2  \\\n",
       "id                                                         3831   \n",
       "name                            Cozy Entire Floor of Brownstone   \n",
       "host_id                                                    4869   \n",
       "host_name                                           LisaRoxanne   \n",
       "neighbourhood_group                                    Brooklyn   \n",
       "neighbourhood                                      Clinton Hill   \n",
       "latitude                                                40.6851   \n",
       "longitude                                              -73.9598   \n",
       "room_type                                       Entire home/apt   \n",
       "minimum_nights                                                1   \n",
       "calculated_host_listings_count                                1   \n",
       "availability_365                                            212   \n",
       "number_of_reviews                                           274   \n",
       "reviews_per_month                                          4.64   \n",
       "price                                                        89   \n",
       "\n",
       "                                                                               3  \\\n",
       "id                                                                          5022   \n",
       "name                            Entire Apt: Spacious Studio/Loft by central park   \n",
       "host_id                                                                     7192   \n",
       "host_name                                                                  Laura   \n",
       "neighbourhood_group                                                    Manhattan   \n",
       "neighbourhood                                                        East Harlem   \n",
       "latitude                                                                 40.7985   \n",
       "longitude                                                                -73.944   \n",
       "room_type                                                        Entire home/apt   \n",
       "minimum_nights                                                                10   \n",
       "calculated_host_listings_count                                                 1   \n",
       "availability_365                                                               0   \n",
       "number_of_reviews                                                              9   \n",
       "reviews_per_month                                                            0.1   \n",
       "price                                                                         80   \n",
       "\n",
       "                                                                        4  \n",
       "id                                                                   5099  \n",
       "name                            Large Cozy 1 BR Apartment In Midtown East  \n",
       "host_id                                                              7322  \n",
       "host_name                                                           Chris  \n",
       "neighbourhood_group                                             Manhattan  \n",
       "neighbourhood                                                 Murray Hill  \n",
       "latitude                                                          40.7477  \n",
       "longitude                                                         -73.975  \n",
       "room_type                                                 Entire home/apt  \n",
       "minimum_nights                                                          3  \n",
       "calculated_host_listings_count                                          1  \n",
       "availability_365                                                      127  \n",
       "number_of_reviews                                                      75  \n",
       "reviews_per_month                                                     0.6  \n",
       "price                                                                 200  "
      ]
     },
     "metadata": {},
     "output_type": "display_data"
    }
   ],
   "source": [
    "display_all(df_raw.head().T)"
   ]
  },
  {
   "cell_type": "code",
   "execution_count": 22,
   "metadata": {
    "ExecuteTime": {
     "end_time": "2019-12-12T20:45:30.580219Z",
     "start_time": "2019-12-12T20:45:30.478356Z"
    }
   },
   "outputs": [
    {
     "data": {
      "text/html": [
       "<div>\n",
       "<style scoped>\n",
       "    .dataframe tbody tr th:only-of-type {\n",
       "        vertical-align: middle;\n",
       "    }\n",
       "\n",
       "    .dataframe tbody tr th {\n",
       "        vertical-align: top;\n",
       "    }\n",
       "\n",
       "    .dataframe thead th {\n",
       "        text-align: right;\n",
       "    }\n",
       "</style>\n",
       "<table border=\"1\" class=\"dataframe\">\n",
       "  <thead>\n",
       "    <tr style=\"text-align: right;\">\n",
       "      <th></th>\n",
       "      <th>id</th>\n",
       "      <th>name</th>\n",
       "      <th>host_id</th>\n",
       "      <th>host_name</th>\n",
       "      <th>neighbourhood_group</th>\n",
       "      <th>neighbourhood</th>\n",
       "      <th>latitude</th>\n",
       "      <th>longitude</th>\n",
       "      <th>room_type</th>\n",
       "      <th>minimum_nights</th>\n",
       "      <th>calculated_host_listings_count</th>\n",
       "      <th>availability_365</th>\n",
       "      <th>number_of_reviews</th>\n",
       "      <th>reviews_per_month</th>\n",
       "      <th>price</th>\n",
       "    </tr>\n",
       "  </thead>\n",
       "  <tbody>\n",
       "    <tr>\n",
       "      <th>count</th>\n",
       "      <td>48864</td>\n",
       "      <td>NaN</td>\n",
       "      <td>48864</td>\n",
       "      <td>NaN</td>\n",
       "      <td>NaN</td>\n",
       "      <td>NaN</td>\n",
       "      <td>48864</td>\n",
       "      <td>48864</td>\n",
       "      <td>NaN</td>\n",
       "      <td>48864</td>\n",
       "      <td>48864</td>\n",
       "      <td>48864</td>\n",
       "      <td>48864</td>\n",
       "      <td>38733</td>\n",
       "      <td>48864</td>\n",
       "    </tr>\n",
       "    <tr>\n",
       "      <th>mean</th>\n",
       "      <td>1.94085e+07</td>\n",
       "      <td>NaN</td>\n",
       "      <td>6.94316e+07</td>\n",
       "      <td>NaN</td>\n",
       "      <td>NaN</td>\n",
       "      <td>NaN</td>\n",
       "      <td>40.7287</td>\n",
       "      <td>-73.9519</td>\n",
       "      <td>NaN</td>\n",
       "      <td>7.09312</td>\n",
       "      <td>7.43828</td>\n",
       "      <td>112.484</td>\n",
       "      <td>23.3922</td>\n",
       "      <td>1.36569</td>\n",
       "      <td>151.453</td>\n",
       "    </tr>\n",
       "    <tr>\n",
       "      <th>std</th>\n",
       "      <td>1.12429e+07</td>\n",
       "      <td>NaN</td>\n",
       "      <td>8.05822e+07</td>\n",
       "      <td>NaN</td>\n",
       "      <td>NaN</td>\n",
       "      <td>NaN</td>\n",
       "      <td>0.0547943</td>\n",
       "      <td>0.0464399</td>\n",
       "      <td>NaN</td>\n",
       "      <td>20.2642</td>\n",
       "      <td>34.9491</td>\n",
       "      <td>132.374</td>\n",
       "      <td>44.9397</td>\n",
       "      <td>1.69289</td>\n",
       "      <td>236.586</td>\n",
       "    </tr>\n",
       "    <tr>\n",
       "      <th>min</th>\n",
       "      <td>2595</td>\n",
       "      <td>NaN</td>\n",
       "      <td>2438</td>\n",
       "      <td>NaN</td>\n",
       "      <td>NaN</td>\n",
       "      <td>NaN</td>\n",
       "      <td>40.4998</td>\n",
       "      <td>-74.2444</td>\n",
       "      <td>NaN</td>\n",
       "      <td>1</td>\n",
       "      <td>1</td>\n",
       "      <td>0</td>\n",
       "      <td>0</td>\n",
       "      <td>0.01</td>\n",
       "      <td>0</td>\n",
       "    </tr>\n",
       "    <tr>\n",
       "      <th>25%</th>\n",
       "      <td>9.57764e+06</td>\n",
       "      <td>NaN</td>\n",
       "      <td>8.04859e+06</td>\n",
       "      <td>NaN</td>\n",
       "      <td>NaN</td>\n",
       "      <td>NaN</td>\n",
       "      <td>40.6898</td>\n",
       "      <td>-73.983</td>\n",
       "      <td>NaN</td>\n",
       "      <td>1</td>\n",
       "      <td>1</td>\n",
       "      <td>0</td>\n",
       "      <td>1</td>\n",
       "      <td>0.19</td>\n",
       "      <td>69</td>\n",
       "    </tr>\n",
       "    <tr>\n",
       "      <th>50%</th>\n",
       "      <td>1.99484e+07</td>\n",
       "      <td>NaN</td>\n",
       "      <td>3.16865e+07</td>\n",
       "      <td>NaN</td>\n",
       "      <td>NaN</td>\n",
       "      <td>NaN</td>\n",
       "      <td>40.7229</td>\n",
       "      <td>-73.9555</td>\n",
       "      <td>NaN</td>\n",
       "      <td>2</td>\n",
       "      <td>1</td>\n",
       "      <td>41</td>\n",
       "      <td>5</td>\n",
       "      <td>0.71</td>\n",
       "      <td>105</td>\n",
       "    </tr>\n",
       "    <tr>\n",
       "      <th>75%</th>\n",
       "      <td>2.97401e+07</td>\n",
       "      <td>NaN</td>\n",
       "      <td>1.09655e+08</td>\n",
       "      <td>NaN</td>\n",
       "      <td>NaN</td>\n",
       "      <td>NaN</td>\n",
       "      <td>40.763</td>\n",
       "      <td>-73.9356</td>\n",
       "      <td>NaN</td>\n",
       "      <td>5</td>\n",
       "      <td>2</td>\n",
       "      <td>232</td>\n",
       "      <td>24</td>\n",
       "      <td>2</td>\n",
       "      <td>175</td>\n",
       "    </tr>\n",
       "    <tr>\n",
       "      <th>max</th>\n",
       "      <td>3.74991e+07</td>\n",
       "      <td>NaN</td>\n",
       "      <td>2.83024e+08</td>\n",
       "      <td>NaN</td>\n",
       "      <td>NaN</td>\n",
       "      <td>NaN</td>\n",
       "      <td>40.9124</td>\n",
       "      <td>-73.713</td>\n",
       "      <td>NaN</td>\n",
       "      <td>1250</td>\n",
       "      <td>343</td>\n",
       "      <td>365</td>\n",
       "      <td>639</td>\n",
       "      <td>66.61</td>\n",
       "      <td>10000</td>\n",
       "    </tr>\n",
       "    <tr>\n",
       "      <th>counts</th>\n",
       "      <td>48864</td>\n",
       "      <td>48848</td>\n",
       "      <td>48864</td>\n",
       "      <td>48846</td>\n",
       "      <td>48864</td>\n",
       "      <td>48864</td>\n",
       "      <td>48864</td>\n",
       "      <td>48864</td>\n",
       "      <td>48864</td>\n",
       "      <td>48864</td>\n",
       "      <td>48864</td>\n",
       "      <td>48864</td>\n",
       "      <td>48864</td>\n",
       "      <td>38733</td>\n",
       "      <td>48864</td>\n",
       "    </tr>\n",
       "    <tr>\n",
       "      <th>uniques</th>\n",
       "      <td>48864</td>\n",
       "      <td>47894</td>\n",
       "      <td>37384</td>\n",
       "      <td>11407</td>\n",
       "      <td>5</td>\n",
       "      <td>222</td>\n",
       "      <td>19103</td>\n",
       "      <td>14816</td>\n",
       "      <td>3</td>\n",
       "      <td>113</td>\n",
       "      <td>46</td>\n",
       "      <td>366</td>\n",
       "      <td>392</td>\n",
       "      <td>952</td>\n",
       "      <td>667</td>\n",
       "    </tr>\n",
       "    <tr>\n",
       "      <th>missing</th>\n",
       "      <td>0</td>\n",
       "      <td>16</td>\n",
       "      <td>0</td>\n",
       "      <td>18</td>\n",
       "      <td>0</td>\n",
       "      <td>0</td>\n",
       "      <td>0</td>\n",
       "      <td>0</td>\n",
       "      <td>0</td>\n",
       "      <td>0</td>\n",
       "      <td>0</td>\n",
       "      <td>0</td>\n",
       "      <td>0</td>\n",
       "      <td>10131</td>\n",
       "      <td>0</td>\n",
       "    </tr>\n",
       "    <tr>\n",
       "      <th>missing_perc</th>\n",
       "      <td>0%</td>\n",
       "      <td>0.03%</td>\n",
       "      <td>0%</td>\n",
       "      <td>0.04%</td>\n",
       "      <td>0%</td>\n",
       "      <td>0%</td>\n",
       "      <td>0%</td>\n",
       "      <td>0%</td>\n",
       "      <td>0%</td>\n",
       "      <td>0%</td>\n",
       "      <td>0%</td>\n",
       "      <td>0%</td>\n",
       "      <td>0%</td>\n",
       "      <td>20.73%</td>\n",
       "      <td>0%</td>\n",
       "    </tr>\n",
       "    <tr>\n",
       "      <th>types</th>\n",
       "      <td>numeric</td>\n",
       "      <td>categorical</td>\n",
       "      <td>numeric</td>\n",
       "      <td>categorical</td>\n",
       "      <td>categorical</td>\n",
       "      <td>categorical</td>\n",
       "      <td>numeric</td>\n",
       "      <td>numeric</td>\n",
       "      <td>categorical</td>\n",
       "      <td>numeric</td>\n",
       "      <td>numeric</td>\n",
       "      <td>numeric</td>\n",
       "      <td>numeric</td>\n",
       "      <td>numeric</td>\n",
       "      <td>numeric</td>\n",
       "    </tr>\n",
       "  </tbody>\n",
       "</table>\n",
       "</div>"
      ],
      "text/plain": [
       "                       id         name      host_id    host_name  \\\n",
       "count               48864          NaN        48864          NaN   \n",
       "mean          1.94085e+07          NaN  6.94316e+07          NaN   \n",
       "std           1.12429e+07          NaN  8.05822e+07          NaN   \n",
       "min                  2595          NaN         2438          NaN   \n",
       "25%           9.57764e+06          NaN  8.04859e+06          NaN   \n",
       "50%           1.99484e+07          NaN  3.16865e+07          NaN   \n",
       "75%           2.97401e+07          NaN  1.09655e+08          NaN   \n",
       "max           3.74991e+07          NaN  2.83024e+08          NaN   \n",
       "counts              48864        48848        48864        48846   \n",
       "uniques             48864        47894        37384        11407   \n",
       "missing                 0           16            0           18   \n",
       "missing_perc           0%        0.03%           0%        0.04%   \n",
       "types             numeric  categorical      numeric  categorical   \n",
       "\n",
       "             neighbourhood_group neighbourhood   latitude  longitude  \\\n",
       "count                        NaN           NaN      48864      48864   \n",
       "mean                         NaN           NaN    40.7287   -73.9519   \n",
       "std                          NaN           NaN  0.0547943  0.0464399   \n",
       "min                          NaN           NaN    40.4998   -74.2444   \n",
       "25%                          NaN           NaN    40.6898    -73.983   \n",
       "50%                          NaN           NaN    40.7229   -73.9555   \n",
       "75%                          NaN           NaN     40.763   -73.9356   \n",
       "max                          NaN           NaN    40.9124    -73.713   \n",
       "counts                     48864         48864      48864      48864   \n",
       "uniques                        5           222      19103      14816   \n",
       "missing                        0             0          0          0   \n",
       "missing_perc                  0%            0%         0%         0%   \n",
       "types                categorical   categorical    numeric    numeric   \n",
       "\n",
       "                room_type minimum_nights calculated_host_listings_count  \\\n",
       "count                 NaN          48864                          48864   \n",
       "mean                  NaN        7.09312                        7.43828   \n",
       "std                   NaN        20.2642                        34.9491   \n",
       "min                   NaN              1                              1   \n",
       "25%                   NaN              1                              1   \n",
       "50%                   NaN              2                              1   \n",
       "75%                   NaN              5                              2   \n",
       "max                   NaN           1250                            343   \n",
       "counts              48864          48864                          48864   \n",
       "uniques                 3            113                             46   \n",
       "missing                 0              0                              0   \n",
       "missing_perc           0%             0%                             0%   \n",
       "types         categorical        numeric                        numeric   \n",
       "\n",
       "             availability_365 number_of_reviews reviews_per_month    price  \n",
       "count                   48864             48864             38733    48864  \n",
       "mean                  112.484           23.3922           1.36569  151.453  \n",
       "std                   132.374           44.9397           1.69289  236.586  \n",
       "min                         0                 0              0.01        0  \n",
       "25%                         0                 1              0.19       69  \n",
       "50%                        41                 5              0.71      105  \n",
       "75%                       232                24                 2      175  \n",
       "max                       365               639             66.61    10000  \n",
       "counts                  48864             48864             38733    48864  \n",
       "uniques                   366               392               952      667  \n",
       "missing                     0                 0             10131        0  \n",
       "missing_perc               0%                0%            20.73%       0%  \n",
       "types                 numeric           numeric           numeric  numeric  "
      ]
     },
     "metadata": {},
     "output_type": "display_data"
    }
   ],
   "source": [
    "display_all(DataFrameSummary(df_raw).summary())"
   ]
  },
  {
   "cell_type": "code",
   "execution_count": 23,
   "metadata": {
    "ExecuteTime": {
     "end_time": "2019-12-12T20:45:30.712002Z",
     "start_time": "2019-12-12T20:45:30.678285Z"
    },
    "scrolled": true
   },
   "outputs": [
    {
     "data": {
      "text/html": [
       "<div>\n",
       "<style scoped>\n",
       "    .dataframe tbody tr th:only-of-type {\n",
       "        vertical-align: middle;\n",
       "    }\n",
       "\n",
       "    .dataframe tbody tr th {\n",
       "        vertical-align: top;\n",
       "    }\n",
       "\n",
       "    .dataframe thead th {\n",
       "        text-align: right;\n",
       "    }\n",
       "</style>\n",
       "<table border=\"1\" class=\"dataframe\">\n",
       "  <thead>\n",
       "    <tr style=\"text-align: right;\">\n",
       "      <th></th>\n",
       "      <th>id</th>\n",
       "      <th>name</th>\n",
       "      <th>host_id</th>\n",
       "      <th>host_name</th>\n",
       "      <th>neighbourhood_group</th>\n",
       "      <th>neighbourhood</th>\n",
       "      <th>latitude</th>\n",
       "      <th>longitude</th>\n",
       "      <th>room_type</th>\n",
       "      <th>minimum_nights</th>\n",
       "      <th>calculated_host_listings_count</th>\n",
       "      <th>availability_365</th>\n",
       "      <th>number_of_reviews</th>\n",
       "      <th>reviews_per_month</th>\n",
       "      <th>price</th>\n",
       "    </tr>\n",
       "  </thead>\n",
       "  <tbody>\n",
       "    <tr>\n",
       "      <th>Total</th>\n",
       "      <td>0</td>\n",
       "      <td>16</td>\n",
       "      <td>0</td>\n",
       "      <td>18</td>\n",
       "      <td>0</td>\n",
       "      <td>0</td>\n",
       "      <td>0</td>\n",
       "      <td>0</td>\n",
       "      <td>0</td>\n",
       "      <td>0</td>\n",
       "      <td>0</td>\n",
       "      <td>0</td>\n",
       "      <td>0</td>\n",
       "      <td>10131</td>\n",
       "      <td>0</td>\n",
       "    </tr>\n",
       "    <tr>\n",
       "      <th>Percent</th>\n",
       "      <td>0</td>\n",
       "      <td>0.0327439</td>\n",
       "      <td>0</td>\n",
       "      <td>0.0368369</td>\n",
       "      <td>0</td>\n",
       "      <td>0</td>\n",
       "      <td>0</td>\n",
       "      <td>0</td>\n",
       "      <td>0</td>\n",
       "      <td>0</td>\n",
       "      <td>0</td>\n",
       "      <td>0</td>\n",
       "      <td>0</td>\n",
       "      <td>20.7331</td>\n",
       "      <td>0</td>\n",
       "    </tr>\n",
       "    <tr>\n",
       "      <th>Types</th>\n",
       "      <td>int64</td>\n",
       "      <td>object</td>\n",
       "      <td>int64</td>\n",
       "      <td>object</td>\n",
       "      <td>object</td>\n",
       "      <td>object</td>\n",
       "      <td>float64</td>\n",
       "      <td>float64</td>\n",
       "      <td>object</td>\n",
       "      <td>int64</td>\n",
       "      <td>int64</td>\n",
       "      <td>int64</td>\n",
       "      <td>int64</td>\n",
       "      <td>float64</td>\n",
       "      <td>int64</td>\n",
       "    </tr>\n",
       "  </tbody>\n",
       "</table>\n",
       "</div>"
      ],
      "text/plain": [
       "            id       name host_id  host_name neighbourhood_group  \\\n",
       "Total        0         16       0         18                   0   \n",
       "Percent      0  0.0327439       0  0.0368369                   0   \n",
       "Types    int64     object   int64     object              object   \n",
       "\n",
       "        neighbourhood latitude longitude room_type minimum_nights  \\\n",
       "Total               0        0         0         0              0   \n",
       "Percent             0        0         0         0              0   \n",
       "Types          object  float64   float64    object          int64   \n",
       "\n",
       "        calculated_host_listings_count availability_365 number_of_reviews  \\\n",
       "Total                                0                0                 0   \n",
       "Percent                              0                0                 0   \n",
       "Types                            int64            int64             int64   \n",
       "\n",
       "        reviews_per_month  price  \n",
       "Total               10131      0  \n",
       "Percent           20.7331      0  \n",
       "Types             float64  int64  "
      ]
     },
     "metadata": {},
     "output_type": "display_data"
    }
   ],
   "source": [
    "#Only Missing Data Information\n",
    "display_all(missing_data(df_raw))"
   ]
  },
  {
   "cell_type": "code",
   "execution_count": 24,
   "metadata": {
    "ExecuteTime": {
     "end_time": "2019-12-12T20:45:30.913531Z",
     "start_time": "2019-12-12T20:45:30.876645Z"
    }
   },
   "outputs": [
    {
     "data": {
      "text/plain": [
       "(0, 15)"
      ]
     },
     "execution_count": 24,
     "metadata": {},
     "output_type": "execute_result"
    }
   ],
   "source": [
    "#Duplicate rows \n",
    "df_raw[df_raw.duplicated(keep=False)].shape"
   ]
  },
  {
   "cell_type": "code",
   "execution_count": 25,
   "metadata": {
    "ExecuteTime": {
     "end_time": "2019-12-12T20:45:33.536956Z",
     "start_time": "2019-12-12T20:45:33.478928Z"
    }
   },
   "outputs": [],
   "source": [
    "#Lets look into what is the most popular value of each \n",
    "features = df_raw.columns.values[1:15]\n",
    "unique_max_train = [] \n",
    "for feature in features: \n",
    "    values = df_raw[feature].value_counts()\n",
    "    unique_max_train.append([feature, values.max(), values.idxmax()])"
   ]
  },
  {
   "cell_type": "code",
   "execution_count": 26,
   "metadata": {
    "ExecuteTime": {
     "end_time": "2019-12-12T20:45:33.666437Z",
     "start_time": "2019-12-12T20:45:33.654683Z"
    }
   },
   "outputs": [
    {
     "data": {
      "text/html": [
       "<div>\n",
       "<style scoped>\n",
       "    .dataframe tbody tr th:only-of-type {\n",
       "        vertical-align: middle;\n",
       "    }\n",
       "\n",
       "    .dataframe tbody tr th {\n",
       "        vertical-align: top;\n",
       "    }\n",
       "\n",
       "    .dataframe thead th {\n",
       "        text-align: right;\n",
       "    }\n",
       "</style>\n",
       "<table border=\"1\" class=\"dataframe\">\n",
       "  <thead>\n",
       "    <tr style=\"text-align: right;\">\n",
       "      <th></th>\n",
       "      <th>9</th>\n",
       "      <th>7</th>\n",
       "      <th>3</th>\n",
       "      <th>10</th>\n",
       "      <th>8</th>\n",
       "      <th>11</th>\n",
       "      <th>4</th>\n",
       "      <th>13</th>\n",
       "      <th>12</th>\n",
       "      <th>2</th>\n",
       "      <th>1</th>\n",
       "      <th>0</th>\n",
       "      <th>5</th>\n",
       "      <th>6</th>\n",
       "    </tr>\n",
       "  </thead>\n",
       "  <tbody>\n",
       "    <tr>\n",
       "      <th>Feature</th>\n",
       "      <td>calculated_host_listings_count</td>\n",
       "      <td>room_type</td>\n",
       "      <td>neighbourhood_group</td>\n",
       "      <td>availability_365</td>\n",
       "      <td>minimum_nights</td>\n",
       "      <td>number_of_reviews</td>\n",
       "      <td>neighbourhood</td>\n",
       "      <td>price</td>\n",
       "      <td>reviews_per_month</td>\n",
       "      <td>host_name</td>\n",
       "      <td>host_id</td>\n",
       "      <td>name</td>\n",
       "      <td>latitude</td>\n",
       "      <td>longitude</td>\n",
       "    </tr>\n",
       "    <tr>\n",
       "      <th>Max Duplicates</th>\n",
       "      <td>32203</td>\n",
       "      <td>25296</td>\n",
       "      <td>21456</td>\n",
       "      <td>17605</td>\n",
       "      <td>12701</td>\n",
       "      <td>10131</td>\n",
       "      <td>3915</td>\n",
       "      <td>2019</td>\n",
       "      <td>965</td>\n",
       "      <td>430</td>\n",
       "      <td>343</td>\n",
       "      <td>19</td>\n",
       "      <td>19</td>\n",
       "      <td>18</td>\n",
       "    </tr>\n",
       "    <tr>\n",
       "      <th>Value</th>\n",
       "      <td>1</td>\n",
       "      <td>Entire home/apt</td>\n",
       "      <td>Manhattan</td>\n",
       "      <td>0</td>\n",
       "      <td>1</td>\n",
       "      <td>0</td>\n",
       "      <td>Williamsburg</td>\n",
       "      <td>100</td>\n",
       "      <td>0.02</td>\n",
       "      <td>Michael</td>\n",
       "      <td>219517861</td>\n",
       "      <td>Home away from home</td>\n",
       "      <td>40.7181</td>\n",
       "      <td>-73.9568</td>\n",
       "    </tr>\n",
       "  </tbody>\n",
       "</table>\n",
       "</div>"
      ],
      "text/plain": [
       "                                            9                7   \\\n",
       "Feature         calculated_host_listings_count        room_type   \n",
       "Max Duplicates                           32203            25296   \n",
       "Value                                        1  Entire home/apt   \n",
       "\n",
       "                                 3                 10              8   \\\n",
       "Feature         neighbourhood_group  availability_365  minimum_nights   \n",
       "Max Duplicates                21456             17605           12701   \n",
       "Value                     Manhattan                 0               1   \n",
       "\n",
       "                               11             4      13                 12  \\\n",
       "Feature         number_of_reviews  neighbourhood  price  reviews_per_month   \n",
       "Max Duplicates              10131           3915   2019                965   \n",
       "Value                           0   Williamsburg    100               0.02   \n",
       "\n",
       "                       2          1                    0         5          6   \n",
       "Feature         host_name    host_id                 name  latitude  longitude  \n",
       "Max Duplicates        430        343                   19        19         18  \n",
       "Value             Michael  219517861  Home away from home   40.7181   -73.9568  "
      ]
     },
     "execution_count": 26,
     "metadata": {},
     "output_type": "execute_result"
    }
   ],
   "source": [
    "np.transpose((pd.DataFrame(unique_max_train, columns = ['Feature', 'Max Duplicates', 'Value'])).\\\n",
    "            sort_values(by = 'Max Duplicates', ascending=False)).head(14)"
   ]
  },
  {
   "cell_type": "code",
   "execution_count": 27,
   "metadata": {
    "ExecuteTime": {
     "end_time": "2019-12-12T20:45:33.885377Z",
     "start_time": "2019-12-12T20:45:33.866758Z"
    }
   },
   "outputs": [
    {
     "name": "stdout",
     "output_type": "stream",
     "text": [
      "Number of Features: 15\n",
      "Feature Types:\n"
     ]
    },
    {
     "data": {
      "text/plain": [
       "int64      7\n",
       "object     5\n",
       "float64    3\n",
       "dtype: int64"
      ]
     },
     "execution_count": 27,
     "metadata": {},
     "output_type": "execute_result"
    }
   ],
   "source": [
    "cols = [c for c in df_raw.columns];\n",
    "print('Number of Features: {}'.format(len(cols)))\n",
    "print('Feature Types:')\n",
    "df_raw[cols].dtypes.value_counts()"
   ]
  },
  {
   "cell_type": "code",
   "execution_count": 28,
   "metadata": {
    "ExecuteTime": {
     "end_time": "2019-12-12T20:45:34.024495Z",
     "start_time": "2019-12-12T20:45:34.014809Z"
    },
    "scrolled": true
   },
   "outputs": [
    {
     "data": {
      "text/plain": [
       "id                                  int64\n",
       "name                               object\n",
       "host_id                             int64\n",
       "host_name                          object\n",
       "neighbourhood_group                object\n",
       "neighbourhood                      object\n",
       "latitude                          float64\n",
       "longitude                         float64\n",
       "room_type                          object\n",
       "minimum_nights                      int64\n",
       "calculated_host_listings_count      int64\n",
       "availability_365                    int64\n",
       "number_of_reviews                   int64\n",
       "reviews_per_month                 float64\n",
       "price                               int64\n",
       "dtype: object"
      ]
     },
     "execution_count": 28,
     "metadata": {},
     "output_type": "execute_result"
    }
   ],
   "source": [
    "df_raw.dtypes"
   ]
  },
  {
   "cell_type": "code",
   "execution_count": 49,
   "metadata": {
    "ExecuteTime": {
     "end_time": "2019-12-12T21:04:52.277509Z",
     "start_time": "2019-12-12T21:04:51.823637Z"
    },
    "scrolled": true
   },
   "outputs": [
    {
     "data": {
      "image/png": "[encoded data removed]",
      "text/plain": [
       "<Figure size 720x360 with 4 Axes>"
      ]
     },
     "metadata": {
      "needs_background": "light"
     },
     "output_type": "display_data"
    }
   ],
   "source": [
    "fig, axes = plt.subplots(2,2,figsize=(10,5)) # 1 row, 2 columns\n",
    "axes[0,0].hist(df_raw.number_of_reviews, color=bookcolors['blue'])\n",
    "axes[0,0].set_ylabel(\"Listings\")\n",
    "axes[0,0].set_xlabel(\"Reviews\")\n",
    "\n",
    "axes[0,1].hist(df_raw.availability_365, color=bookcolors['blue'])\n",
    "axes[0,1].set_ylabel(\"Count\")\n",
    "axes[0,1].set_xlabel(\"Availiabity\")\n",
    "plt.tight_layout()\n",
    "\n",
    "axes[1,0].hist(df_raw.calculated_host_listings_count, color=bookcolors['blue'])\n",
    "axes[1,0].set_ylabel(\"Listings\")\n",
    "axes[1,0].set_xlabel(\"Host Listing Count\")\n",
    "plt.tight_layout()\n",
    "\n",
    "axes[1,1].hist(df_raw.reviews_per_month, color=bookcolors['blue'])\n",
    "axes[1,1].set_ylabel(\"Listings\")\n",
    "axes[1,1].set_xlabel(\"Reviews a Month\")\n",
    "plt.tight_layout()\n",
    "plt.show()\n",
    "\n",
    "plt.show()"
   ]
  },
  {
   "cell_type": "markdown",
   "metadata": {},
   "source": [
    "In my experience data sets tend to be a little wrong and I am not sure if the data is actually in New York City. \n",
    "A quick check at gps-coordinates.org, gives a rough outline for New York City of latitude, longitude 40.55, -74.1 on the lower left and 40.94, -73.67 on the upper right. "
   ]
  },
  {
   "cell_type": "code",
   "execution_count": 56,
   "metadata": {
    "ExecuteTime": {
     "end_time": "2019-12-12T21:24:56.007530Z",
     "start_time": "2019-12-12T21:24:55.999832Z"
    }
   },
   "outputs": [
    {
     "data": {
      "text/plain": [
       "(48721, 15)"
      ]
     },
     "execution_count": 56,
     "metadata": {},
     "output_type": "execute_result"
    }
   ],
   "source": [
    "df_raw[(df_raw['latitude']>40.55) & (df_raw['latitude']<40.94) &\n",
    "       (df_raw['longitude']>-74.1) & (df_raw['longitude']<-73.67)].shape"
   ]
  },
  {
   "cell_type": "code",
   "execution_count": 57,
   "metadata": {
    "ExecuteTime": {
     "end_time": "2019-12-12T21:24:56.670414Z",
     "start_time": "2019-12-12T21:24:56.661479Z"
    },
    "scrolled": true
   },
   "outputs": [
    {
     "data": {
      "text/plain": [
       "(48864, 15)"
      ]
     },
     "execution_count": 57,
     "metadata": {},
     "output_type": "execute_result"
    }
   ],
   "source": [
    "df_raw.shape"
   ]
  },
  {
   "cell_type": "markdown",
   "metadata": {},
   "source": [
    "There doesn't seem to be much issue here, but time will tell when we inject the popular places of New York to live and calculate the distance from the listing to the location.\n",
    "\n",
    "**Note:** A feature that could be used in this app would be a feature that would reduce listing to the location by distance to places they want to travel, or how far transit is from a certain location.\n"
   ]
  },
  {
   "cell_type": "code",
   "execution_count": 51,
   "metadata": {
    "ExecuteTime": {
     "end_time": "2019-12-12T21:06:43.207542Z",
     "start_time": "2019-12-12T21:06:43.203208Z"
    }
   },
   "outputs": [
    {
     "name": "stdout",
     "output_type": "stream",
     "text": [
      "0\n"
     ]
    }
   ],
   "source": [
    "print(len(df_raw[(df_raw.longitude==0.0) & (df_raw.latitude==0.0)]))"
   ]
  },
  {
   "cell_type": "markdown",
   "metadata": {},
   "source": [
    "## Quick Baseline Model (Numeric Only)"
   ]
  },
  {
   "cell_type": "code",
   "execution_count": 29,
   "metadata": {
    "ExecuteTime": {
     "end_time": "2019-12-12T20:45:34.910049Z",
     "start_time": "2019-12-12T20:45:34.906550Z"
    }
   },
   "outputs": [],
   "source": [
    "#Numeric only \n",
    "df_num = df_raw[['host_id', 'latitude', 'longitude','minimum_nights',\n",
    "          'calculated_host_listings_count','availability_365',\n",
    "          'number_of_reviews','reviews_per_month','price']]"
   ]
  },
  {
   "cell_type": "code",
   "execution_count": 31,
   "metadata": {
    "ExecuteTime": {
     "end_time": "2019-12-12T20:45:37.263466Z",
     "start_time": "2019-12-12T20:45:37.243904Z"
    }
   },
   "outputs": [],
   "source": [
    "#Fixing missing numeric and imputing with median\n",
    "na_dict = {}\n",
    "for n,c in df_num.items(): \n",
    "    if pd.isnull(c).sum():\n",
    "        filler = na_dict[n] if n in na_dict else c.median()\n",
    "        df_num[n] = c.fillna(filler).copy()"
   ]
  },
  {
   "cell_type": "code",
   "execution_count": 32,
   "metadata": {
    "ExecuteTime": {
     "end_time": "2019-12-12T20:45:37.933841Z",
     "start_time": "2019-12-12T20:45:37.920806Z"
    },
    "scrolled": true
   },
   "outputs": [
    {
     "name": "stdout",
     "output_type": "stream",
     "text": [
      "host_id                           False\n",
      "latitude                          False\n",
      "longitude                         False\n",
      "minimum_nights                    False\n",
      "calculated_host_listings_count    False\n",
      "availability_365                  False\n",
      "number_of_reviews                 False\n",
      "reviews_per_month                 False\n",
      "price                             False\n",
      "dtype: bool\n"
     ]
    }
   ],
   "source": [
    "print(df_num.isnull().any())"
   ]
  },
  {
   "cell_type": "code",
   "execution_count": 63,
   "metadata": {
    "ExecuteTime": {
     "end_time": "2019-12-12T21:30:07.595315Z",
     "start_time": "2019-12-12T21:30:07.590729Z"
    }
   },
   "outputs": [],
   "source": [
    "X_train = df_num.drop('price', axis=1)\n",
    "y_train = np.log(df_num['price']+1e-3)"
   ]
  },
  {
   "cell_type": "code",
   "execution_count": 64,
   "metadata": {
    "ExecuteTime": {
     "end_time": "2019-12-12T21:30:11.343948Z",
     "start_time": "2019-12-12T21:30:08.133053Z"
    }
   },
   "outputs": [
    {
     "name": "stdout",
     "output_type": "stream",
     "text": [
      "0.9153\n",
      "OOB score 0.3852\n"
     ]
    }
   ],
   "source": [
    "from sklearn.ensemble import RandomForestRegressor\n",
    "#baseline\n",
    "\n",
    "rf = RandomForestRegressor(n_estimators=100, n_jobs=-1, oob_score=True)   \n",
    "rf.fit(X_train, y_train)\n",
    "r2 = rf.score(X_train, y_train)\n",
    "print(f\"{r2:.4f}\")\n",
    "oob_r2 = rf.oob_score_\n",
    "print(f\"OOB score {oob_r2:.4f}\")"
   ]
  },
  {
   "cell_type": "markdown",
   "metadata": {},
   "source": [
    "- Here is what we learned there is predictive power in this data set, but it has a very good chance of over fitting and this will be something that is dealt with during the modeling process. As you can see OOB is beyond terrible and there are countless reasons why this is the case. "
   ]
  },
  {
   "cell_type": "code",
   "execution_count": 69,
   "metadata": {
    "ExecuteTime": {
     "end_time": "2019-12-12T21:32:43.636211Z",
     "start_time": "2019-12-12T21:32:24.433469Z"
    },
    "scrolled": true
   },
   "outputs": [
    {
     "name": "stdout",
     "output_type": "stream",
     "text": [
      "Validation MAE trials: $77 $76 $76 $79 $80 $75 $77\n",
      "Average validation MAE $77\n",
      "$77 average error; 50.89% error\n"
     ]
    }
   ],
   "source": [
    "from sklearn.model_selection import train_test_split\n",
    "from sklearn.metrics import mean_absolute_error\n",
    "import numpy as np\n",
    "\n",
    "X, y = df_num.drop('price', axis=1), df_num['price']\n",
    "\n",
    "errors = []\n",
    "oob_scores = np.array([])\n",
    "print(f\"Validation MAE trials:\", end='')\n",
    "for i in range(7):\n",
    "    X_train, X_test, y_train, y_test = \\\n",
    "        train_test_split(X, y, test_size=0.20)\n",
    "    rf = RandomForestRegressor(n_estimators=100, n_jobs=-1, oob_score=True)\n",
    "    rf.fit(X_train, y_train)\n",
    "    y_predicted = rf.predict(X_test)\n",
    "    e = mean_absolute_error(y_test, y_predicted)\n",
    "    print(f\" ${e:.0f}\", end='')\n",
    "    errors.append(e)\n",
    "print()\n",
    "avg_mae = np.mean(errors)\n",
    "print(f\"Average validation MAE ${avg_mae:.0f}\")\n",
    "print(f\"${e:.0f} average error; {e*100.0/y.mean():.2f}% error\")"
   ]
  },
  {
   "cell_type": "code",
   "execution_count": 147,
   "metadata": {
    "ExecuteTime": {
     "end_time": "2019-12-12T20:17:14.003619Z",
     "start_time": "2019-12-12T20:17:10.415758Z"
    }
   },
   "outputs": [
    {
     "data": {
      "text/plain": [
       "<matplotlib.axes._subplots.AxesSubplot at 0x7f4d1f5a2790>"
      ]
     },
     "execution_count": 147,
     "metadata": {},
     "output_type": "execute_result"
    },
    {
     "data": {
      "image/png": "[encoded data removed]",
      "text/plain": [
       "<Figure size 864x504 with 1 Axes>"
      ]
     },
     "metadata": {
      "needs_background": "light"
     },
     "output_type": "display_data"
    }
   ],
   "source": [
    "X_train, X_test, y_train, y_test =  train_test_split(X, y, test_size=0.20)\n",
    "rf = RandomForestRegressor(n_estimators=100, n_jobs=-1)\n",
    "rf.fit(X_train, y_train)\n",
    "\n",
    "def plot_fi(fi,std=True, feature_importance_type=''):\n",
    "    if std:\n",
    "        ax = fi.plot('cols', 'imp', 'barh', figsize=(12,7), legend=False, xerr='std')\n",
    "    else:\n",
    "        ax = fi.plot('cols', 'imp', 'barh', figsize=(12,7), legend=False)\n",
    "    \n",
    "    ax.set_xlabel(f\"{feature_importance_type} Feature Importance\")\n",
    "    return ax\n",
    "\n",
    "y_test = y_test.copy()\n",
    "y_test = pd.DataFrame(y_test)\n",
    "fi_permutation = importances(rf, X_test, y_test)\n",
    "fi_permutation['Importance'] = fi_permutation[\"Importance\"]/fi_permutation[\"Importance\"].sum()\n",
    "fi_permutation = (fi_permutation\n",
    "                  .reset_index()\n",
    "                  .rename({'Feature':'cols', 'Importance':'imp'},axis=1))\n",
    "plot_fi(fi_permutation[:30], False, 'Permutation')"
   ]
  },
  {
   "cell_type": "code",
   "execution_count": 37,
   "metadata": {
    "ExecuteTime": {
     "end_time": "2019-12-12T20:47:19.402879Z",
     "start_time": "2019-12-12T20:47:19.397454Z"
    }
   },
   "outputs": [
    {
     "data": {
      "text/plain": [
       "[0.06371820114324012]"
      ]
     },
     "execution_count": 37,
     "metadata": {},
     "output_type": "execute_result"
    }
   ],
   "source": [
    "test"
   ]
  },
  {
   "cell_type": "code",
   "execution_count": 131,
   "metadata": {
    "ExecuteTime": {
     "end_time": "2019-12-12T19:03:36.650628Z",
     "start_time": "2019-12-12T19:03:32.974807Z"
    }
   },
   "outputs": [
    {
     "name": "stdout",
     "output_type": "stream",
     "text": [
      "0.8704\n",
      "OOB score 0.0613\n"
     ]
    }
   ],
   "source": [
    "print(f\"OOB score {oob_r2:.4f}\")"
   ]
  },
  {
   "cell_type": "markdown",
   "metadata": {},
   "source": [
    "Just modeling the numeric data we now have a solid baseline of attack to improve out model. This is typically how I like to approach problems so I am giving you a nice little look into the way I like to experiment with problems. This is what I am going to try and beat from a modeling stand point. We can see that the location and availability \n",
    "\n",
    "**Note**: I haven't looked into the data or did any EDA because any looking into the data will typically lead to bias in the thought process. There will be an EDA section if there is time for it. \n",
    "\n",
    "- Some issues with the data set there are going to be some major outliers with inside of the data set for price. We know that the median is 105.0 meaning that with our current model the majority of our predictions are being over valued. If we are trying to build a product for Airbnb we don't want to build a product that is going to lead to over estimations of rent prices. \n",
    "\n",
    "TODO:\n",
    "\n",
    "- Remove outliers and weigh the options of this later on.\n",
    "    \n",
    "      -  Scale the the numeric variables to reduce the issue of outliers. \n",
    "    \n",
    "- Explore Categorical Variables\n",
    "\n",
    "- Feature Engineering a Few Features\n",
    "\n",
    "- Explore Data Injection For the NYC area\n",
    "    \n",
    "      - The idea here is to get information about the location of these rental listings. We have lat and long so we will be able to take advantage of the number one rule of real estate **LOCATION!!** \n",
    "      \n",
    "- Modeling Techniques \n",
    "\n",
    "    - Random Forest \n",
    "    \n",
    "    - Xgboost \n",
    "    \n",
    "    - Deep Learning NN "
   ]
  },
  {
   "cell_type": "markdown",
   "metadata": {},
   "source": [
    "So let's take a quick look at price to see the distribution of the the independent variable of interest ``price``"
   ]
  },
  {
   "cell_type": "code",
   "execution_count": 71,
   "metadata": {
    "ExecuteTime": {
     "end_time": "2019-12-12T21:34:04.916800Z",
     "start_time": "2019-12-12T21:34:04.330212Z"
    }
   },
   "outputs": [
    {
     "data": {
      "text/plain": [
       "Text(0.5, 1.0, 'Distribution of Target Variable')"
      ]
     },
     "execution_count": 71,
     "metadata": {},
     "output_type": "execute_result"
    },
    {
     "data": {
      "image/png": "[encoded data removed]",
      "text/plain": [
       "<Figure size 432x288 with 1 Axes>"
      ]
     },
     "metadata": {
      "needs_background": "light"
     },
     "output_type": "display_data"
    }
   ],
   "source": [
    "#Distribution of Target Variable\n",
    "sns.violinplot(df_num['price'])\n",
    "plt.title('Distribution of Target Variable')"
   ]
  },
  {
   "cell_type": "code",
   "execution_count": 70,
   "metadata": {
    "ExecuteTime": {
     "end_time": "2019-12-12T15:23:31.056723Z",
     "start_time": "2019-12-12T15:23:31.047647Z"
    }
   },
   "outputs": [
    {
     "data": {
      "text/plain": [
       "(0, 105.0, 10000)"
      ]
     },
     "execution_count": 70,
     "metadata": {},
     "output_type": "execute_result"
    }
   ],
   "source": [
    "df_num.price.min(), df_num.price.median(), df_num.price.max() "
   ]
  },
  {
   "cell_type": "code",
   "execution_count": 80,
   "metadata": {
    "ExecuteTime": {
     "end_time": "2019-12-12T21:42:12.524234Z",
     "start_time": "2019-12-12T21:42:12.510873Z"
    }
   },
   "outputs": [
    {
     "name": "stdout",
     "output_type": "stream",
     "text": [
      "30.0 791.8500000000131\n"
     ]
    }
   ],
   "source": [
    "upper, lower = np.percentile(df_num.price, [1,99]) # find middle 98% of prices\n",
    "print(upper, lower)"
   ]
  },
  {
   "cell_type": "code",
   "execution_count": 81,
   "metadata": {
    "ExecuteTime": {
     "end_time": "2019-12-12T21:42:14.917319Z",
     "start_time": "2019-12-12T21:42:14.772657Z"
    }
   },
   "outputs": [
    {
     "data": {
      "image/png": "[encoded data removed]",
      "text/plain": [
       "<Figure size 432x288 with 1 Axes>"
      ]
     },
     "metadata": {
      "needs_background": "light"
     },
     "output_type": "display_data"
    }
   ],
   "source": [
    "clipped = np.clip(df_num.price, upper, lower)\n",
    "fig,ax = plt.subplots()\n",
    "ax.set_xlabel('Prices in middle 98% range')\n",
    "ax.set_ylabel('Num of Listings at this price')\n",
    "ax.hist(clipped, bins=45, color=bookcolors['blue'])\n",
    "plt.show()"
   ]
  },
  {
   "cell_type": "code",
   "execution_count": 85,
   "metadata": {
    "ExecuteTime": {
     "end_time": "2019-12-12T22:02:57.182981Z",
     "start_time": "2019-12-12T22:02:57.174748Z"
    }
   },
   "outputs": [
    {
     "data": {
      "text/plain": [
       "1173"
      ]
     },
     "execution_count": 85,
     "metadata": {},
     "output_type": "execute_result"
    }
   ],
   "source": [
    "#Excising the \n",
    "df_num.shape[0] - df_num[(df_raw.price > 30) & (df_num.price < 791)].shape[0] "
   ]
  },
  {
   "cell_type": "code",
   "execution_count": 88,
   "metadata": {
    "ExecuteTime": {
     "end_time": "2019-12-12T22:03:42.895913Z",
     "start_time": "2019-12-12T22:03:42.893169Z"
    }
   },
   "outputs": [
    {
     "data": {
      "text/plain": [
       "(48864, 9)"
      ]
     },
     "execution_count": 88,
     "metadata": {},
     "output_type": "execute_result"
    }
   ],
   "source": [
    "df_num.shape"
   ]
  },
  {
   "cell_type": "code",
   "execution_count": 89,
   "metadata": {
    "ExecuteTime": {
     "end_time": "2019-12-12T22:08:39.350665Z",
     "start_time": "2019-12-12T22:08:39.345051Z"
    }
   },
   "outputs": [],
   "source": [
    "#Let's create a clean data set. \n",
    "df_clean = df_num[(df_num.price > 30) & (df_num.price < 791)]"
   ]
  },
  {
   "cell_type": "code",
   "execution_count": 90,
   "metadata": {
    "ExecuteTime": {
     "end_time": "2019-12-12T22:08:39.561079Z",
     "start_time": "2019-12-12T22:08:39.553623Z"
    }
   },
   "outputs": [
    {
     "data": {
      "text/plain": [
       "(47691, 9)"
      ]
     },
     "execution_count": 90,
     "metadata": {},
     "output_type": "execute_result"
    }
   ],
   "source": [
    "df_clean.shape"
   ]
  },
  {
   "cell_type": "markdown",
   "metadata": {},
   "source": [
    "I feel as though removing this subset is appropriate because of the idea that this is going to be used for customer and the mass majority of users will not be looking for very cheap housing or extremely expensive housing either. "
   ]
  },
  {
   "cell_type": "markdown",
   "metadata": {},
   "source": [
    "## Brining in new features + Categorical Feature"
   ]
  },
  {
   "cell_type": "code",
   "execution_count": 26,
   "metadata": {
    "ExecuteTime": {
     "end_time": "2019-12-12T23:01:46.871545Z",
     "start_time": "2019-12-12T23:01:46.761327Z"
    }
   },
   "outputs": [],
   "source": [
    "#Let's create a clean data set. \n",
    "path = Path('./data/')\n",
    "df_raw = pd.read_csv(f'{path}/listings.csv', low_memory=False)\n",
    "df_clean = df_raw[(df_raw.price > 30) & (df_raw.price < 791)]\n",
    "df = df_clean.copy()"
   ]
  },
  {
   "cell_type": "code",
   "execution_count": 140,
   "metadata": {
    "ExecuteTime": {
     "end_time": "2019-12-13T00:41:28.543689Z",
     "start_time": "2019-12-13T00:41:28.516804Z"
    }
   },
   "outputs": [
    {
     "data": {
      "text/plain": [
       "(11234, 5, 220)"
      ]
     },
     "execution_count": 140,
     "metadata": {},
     "output_type": "execute_result"
    }
   ],
   "source": [
    "pd.value_counts(df.host_name).shape[0], pd.value_counts(df.neighbourhood_group).shape[0], pd.value_counts(df.neighbourhood).shape[0]"
   ]
  },
  {
   "cell_type": "code",
   "execution_count": 139,
   "metadata": {
    "ExecuteTime": {
     "end_time": "2019-12-13T00:41:07.097197Z",
     "start_time": "2019-12-13T00:41:07.070845Z"
    }
   },
   "outputs": [
    {
     "data": {
      "text/plain": [
       "5"
      ]
     },
     "execution_count": 139,
     "metadata": {},
     "output_type": "execute_result"
    }
   ],
   "source": [
    "pd.value_counts(df.neighbourhood_group).shape[0]"
   ]
  },
  {
   "cell_type": "code",
   "execution_count": 27,
   "metadata": {
    "ExecuteTime": {
     "end_time": "2019-12-12T23:01:47.147853Z",
     "start_time": "2019-12-12T23:01:47.131303Z"
    },
    "scrolled": false
   },
   "outputs": [
    {
     "data": {
      "text/html": [
       "<div>\n",
       "<style scoped>\n",
       "    .dataframe tbody tr th:only-of-type {\n",
       "        vertical-align: middle;\n",
       "    }\n",
       "\n",
       "    .dataframe tbody tr th {\n",
       "        vertical-align: top;\n",
       "    }\n",
       "\n",
       "    .dataframe thead th {\n",
       "        text-align: right;\n",
       "    }\n",
       "</style>\n",
       "<table border=\"1\" class=\"dataframe\">\n",
       "  <thead>\n",
       "    <tr style=\"text-align: right;\">\n",
       "      <th></th>\n",
       "      <th>id</th>\n",
       "      <th>name</th>\n",
       "      <th>host_id</th>\n",
       "      <th>host_name</th>\n",
       "      <th>neighbourhood_group</th>\n",
       "      <th>neighbourhood</th>\n",
       "      <th>latitude</th>\n",
       "      <th>longitude</th>\n",
       "      <th>room_type</th>\n",
       "      <th>minimum_nights</th>\n",
       "      <th>calculated_host_listings_count</th>\n",
       "      <th>availability_365</th>\n",
       "      <th>number_of_reviews</th>\n",
       "      <th>reviews_per_month</th>\n",
       "      <th>price</th>\n",
       "    </tr>\n",
       "  </thead>\n",
       "  <tbody>\n",
       "    <tr>\n",
       "      <th>0</th>\n",
       "      <td>2595</td>\n",
       "      <td>Skylit Midtown Castle</td>\n",
       "      <td>2845</td>\n",
       "      <td>Jennifer</td>\n",
       "      <td>Manhattan</td>\n",
       "      <td>Midtown</td>\n",
       "      <td>40.75362</td>\n",
       "      <td>-73.98377</td>\n",
       "      <td>Entire home/apt</td>\n",
       "      <td>1</td>\n",
       "      <td>2</td>\n",
       "      <td>288</td>\n",
       "      <td>46</td>\n",
       "      <td>0.39</td>\n",
       "      <td>225</td>\n",
       "    </tr>\n",
       "    <tr>\n",
       "      <th>1</th>\n",
       "      <td>3647</td>\n",
       "      <td>THE VILLAGE OF HARLEM....NEW YORK !</td>\n",
       "      <td>4632</td>\n",
       "      <td>Elisabeth</td>\n",
       "      <td>Manhattan</td>\n",
       "      <td>Harlem</td>\n",
       "      <td>40.80902</td>\n",
       "      <td>-73.94190</td>\n",
       "      <td>Private room</td>\n",
       "      <td>3</td>\n",
       "      <td>1</td>\n",
       "      <td>365</td>\n",
       "      <td>0</td>\n",
       "      <td>NaN</td>\n",
       "      <td>150</td>\n",
       "    </tr>\n",
       "    <tr>\n",
       "      <th>2</th>\n",
       "      <td>3831</td>\n",
       "      <td>Cozy Entire Floor of Brownstone</td>\n",
       "      <td>4869</td>\n",
       "      <td>LisaRoxanne</td>\n",
       "      <td>Brooklyn</td>\n",
       "      <td>Clinton Hill</td>\n",
       "      <td>40.68514</td>\n",
       "      <td>-73.95976</td>\n",
       "      <td>Entire home/apt</td>\n",
       "      <td>1</td>\n",
       "      <td>1</td>\n",
       "      <td>212</td>\n",
       "      <td>274</td>\n",
       "      <td>4.64</td>\n",
       "      <td>89</td>\n",
       "    </tr>\n",
       "    <tr>\n",
       "      <th>3</th>\n",
       "      <td>5022</td>\n",
       "      <td>Entire Apt: Spacious Studio/Loft by central park</td>\n",
       "      <td>7192</td>\n",
       "      <td>Laura</td>\n",
       "      <td>Manhattan</td>\n",
       "      <td>East Harlem</td>\n",
       "      <td>40.79851</td>\n",
       "      <td>-73.94399</td>\n",
       "      <td>Entire home/apt</td>\n",
       "      <td>10</td>\n",
       "      <td>1</td>\n",
       "      <td>0</td>\n",
       "      <td>9</td>\n",
       "      <td>0.10</td>\n",
       "      <td>80</td>\n",
       "    </tr>\n",
       "    <tr>\n",
       "      <th>4</th>\n",
       "      <td>5099</td>\n",
       "      <td>Large Cozy 1 BR Apartment In Midtown East</td>\n",
       "      <td>7322</td>\n",
       "      <td>Chris</td>\n",
       "      <td>Manhattan</td>\n",
       "      <td>Murray Hill</td>\n",
       "      <td>40.74767</td>\n",
       "      <td>-73.97500</td>\n",
       "      <td>Entire home/apt</td>\n",
       "      <td>3</td>\n",
       "      <td>1</td>\n",
       "      <td>127</td>\n",
       "      <td>75</td>\n",
       "      <td>0.60</td>\n",
       "      <td>200</td>\n",
       "    </tr>\n",
       "  </tbody>\n",
       "</table>\n",
       "</div>"
      ],
      "text/plain": [
       "     id                                              name  host_id  \\\n",
       "0  2595                             Skylit Midtown Castle     2845   \n",
       "1  3647               THE VILLAGE OF HARLEM....NEW YORK !     4632   \n",
       "2  3831                   Cozy Entire Floor of Brownstone     4869   \n",
       "3  5022  Entire Apt: Spacious Studio/Loft by central park     7192   \n",
       "4  5099         Large Cozy 1 BR Apartment In Midtown East     7322   \n",
       "\n",
       "     host_name neighbourhood_group neighbourhood  latitude  longitude  \\\n",
       "0     Jennifer           Manhattan       Midtown  40.75362  -73.98377   \n",
       "1    Elisabeth           Manhattan        Harlem  40.80902  -73.94190   \n",
       "2  LisaRoxanne            Brooklyn  Clinton Hill  40.68514  -73.95976   \n",
       "3        Laura           Manhattan   East Harlem  40.79851  -73.94399   \n",
       "4        Chris           Manhattan   Murray Hill  40.74767  -73.97500   \n",
       "\n",
       "         room_type  minimum_nights  calculated_host_listings_count  \\\n",
       "0  Entire home/apt               1                               2   \n",
       "1     Private room               3                               1   \n",
       "2  Entire home/apt               1                               1   \n",
       "3  Entire home/apt              10                               1   \n",
       "4  Entire home/apt               3                               1   \n",
       "\n",
       "   availability_365  number_of_reviews  reviews_per_month  price  \n",
       "0               288                 46               0.39    225  \n",
       "1               365                  0                NaN    150  \n",
       "2               212                274               4.64     89  \n",
       "3                 0                  9               0.10     80  \n",
       "4               127                 75               0.60    200  "
      ]
     },
     "execution_count": 27,
     "metadata": {},
     "output_type": "execute_result"
    }
   ],
   "source": [
    "df.head()"
   ]
  },
  {
   "cell_type": "code",
   "execution_count": 62,
   "metadata": {
    "ExecuteTime": {
     "end_time": "2019-12-12T23:16:28.936045Z",
     "start_time": "2019-12-12T23:16:28.929535Z"
    }
   },
   "outputs": [],
   "source": [
    "df.name.fillna('testing', inplace=True)"
   ]
  },
  {
   "cell_type": "markdown",
   "metadata": {},
   "source": [
    "#### Clean Name Field"
   ]
  },
  {
   "cell_type": "code",
   "execution_count": null,
   "metadata": {
    "ExecuteTime": {
     "end_time": "2019-12-12T23:23:06.273192Z",
     "start_time": "2019-12-12T23:22:54.551641Z"
    }
   },
   "outputs": [],
   "source": [
    "#Quick Preprocess of Name \n",
    "import spacy\n",
    "from spacy.lang.en.examples import sentences \n",
    "nlp = spacy.load('en_core_web_md', parser=False, entity=False)\n",
    "df['name'] = df['name'].apply(lambda x:str(x).lower())\n",
    "df['clean_name'] = df.name.apply(lambda text:\" \".join(token.lemma_ for token in nlp(text) if not token.is_stop))\n",
    "\n",
    "def preprocess(data):\n",
    "    punct = \"/-'?!.,#$%\\'()*+-/:;<=>@[\\\\]^_`{|}~`\"\n",
    "    def clean_special_chars(text, punct):\n",
    "        for p in punct:\n",
    "            text = text.replace(p, '')\n",
    "        return text\n",
    "\n",
    "    data = data.astype(str).apply(lambda x: clean_special_chars(x, punct))\n",
    "    return data\n",
    "\n",
    "df['name'] = preprocess(df['clean_name'])\n",
    "df.drop('clean_name', axis=1, inplace=True)"
   ]
  },
  {
   "cell_type": "code",
   "execution_count": 137,
   "metadata": {
    "ExecuteTime": {
     "end_time": "2019-12-13T00:38:34.889363Z",
     "start_time": "2019-12-13T00:38:34.858352Z"
    },
    "scrolled": true
   },
   "outputs": [
    {
     "data": {
      "text/plain": [
       "45929"
      ]
     },
     "execution_count": 137,
     "metadata": {},
     "output_type": "execute_result"
    }
   ],
   "source": [
    "#Nothing being repeated very much, but will attempt to make something out of this column later\n",
    "pd.value_counts(df.name).shape[0]"
   ]
  },
  {
   "cell_type": "markdown",
   "metadata": {},
   "source": [
    "#### Create Distance Measurement "
   ]
  },
  {
   "cell_type": "markdown",
   "metadata": {},
   "source": [
    "In my experience it's much better to synthesize a new feature and we will be able to create a surrogate for *Manahttan Distance*. This is going to allow use to understand the number of blocks one must walk to reach a neighborhood."
   ]
  },
  {
   "cell_type": "code",
   "execution_count": 87,
   "metadata": {
    "ExecuteTime": {
     "end_time": "2019-12-13T00:16:25.875544Z",
     "start_time": "2019-12-13T00:16:25.870362Z"
    }
   },
   "outputs": [],
   "source": [
    "popular_places = {\n",
    "    \"hells\" : [40.7622, -73.9924],\n",
    "    \"astoria\" : [40.7796684, -73.9215888],\n",
    "    \"Evillage\" : [40.723163774, -73.984829394],\n",
    "    \"Wvillage\" : [40.73578, -74.00357],\n",
    "    \"LowerEast\" : [40.715033, -73.9842724],\n",
    "    \"UpperEast\" : [40.768163594, -73.959329496],\n",
    "    \"ParkSlope\" : [40.672404, -73.977063],\n",
    "    \"Prospect Park\" : [40.93704, -74.17431],\n",
    "    \"Crown Heights\" : [40.657830702, -73.940162906],\n",
    "    \"financial\" : [40.703830518, -74.005666644],\n",
    "    \"brooklynheights\" : [40.7022621909, -73.9871760513],\n",
    "    \"gowanus\" : [40.673, -73.997]\n",
    "}"
   ]
  },
  {
   "cell_type": "code",
   "execution_count": 88,
   "metadata": {
    "ExecuteTime": {
     "end_time": "2019-12-13T00:16:28.466824Z",
     "start_time": "2019-12-13T00:16:28.422046Z"
    }
   },
   "outputs": [],
   "source": [
    "import utils\n",
    "import sys\n",
    "for hood,loc in popular_places.items():\n",
    "    # compute manhattan distance\n",
    "    df[hood] = np.abs(df.latitude - loc[0]) + np.abs(df.longitude - loc[1])"
   ]
  },
  {
   "cell_type": "code",
   "execution_count": 89,
   "metadata": {
    "ExecuteTime": {
     "end_time": "2019-12-13T00:16:31.109858Z",
     "start_time": "2019-12-13T00:16:31.095467Z"
    },
    "scrolled": false
   },
   "outputs": [
    {
     "data": {
      "text/html": [
       "<div>\n",
       "<style scoped>\n",
       "    .dataframe tbody tr th:only-of-type {\n",
       "        vertical-align: middle;\n",
       "    }\n",
       "\n",
       "    .dataframe tbody tr th {\n",
       "        vertical-align: top;\n",
       "    }\n",
       "\n",
       "    .dataframe thead th {\n",
       "        text-align: right;\n",
       "    }\n",
       "</style>\n",
       "<table border=\"1\" class=\"dataframe\">\n",
       "  <thead>\n",
       "    <tr style=\"text-align: right;\">\n",
       "      <th></th>\n",
       "      <th>id</th>\n",
       "      <th>name</th>\n",
       "      <th>host_id</th>\n",
       "      <th>host_name</th>\n",
       "      <th>neighbourhood_group</th>\n",
       "      <th>neighbourhood</th>\n",
       "      <th>latitude</th>\n",
       "      <th>longitude</th>\n",
       "      <th>room_type</th>\n",
       "      <th>minimum_nights</th>\n",
       "      <th>calculated_host_listings_count</th>\n",
       "      <th>availability_365</th>\n",
       "      <th>number_of_reviews</th>\n",
       "      <th>reviews_per_month</th>\n",
       "      <th>price</th>\n",
       "      <th>hells</th>\n",
       "      <th>astoria</th>\n",
       "      <th>Evillage</th>\n",
       "      <th>Wvillage</th>\n",
       "      <th>LowerEast</th>\n",
       "      <th>UpperEast</th>\n",
       "      <th>ParkSlope</th>\n",
       "      <th>Prospect Park</th>\n",
       "      <th>Crown Heights</th>\n",
       "      <th>financial</th>\n",
       "      <th>brooklynheights</th>\n",
       "      <th>gowanus</th>\n",
       "    </tr>\n",
       "  </thead>\n",
       "  <tbody>\n",
       "    <tr>\n",
       "      <th>0</th>\n",
       "      <td>2595</td>\n",
       "      <td>skylit midtown castle</td>\n",
       "      <td>2845</td>\n",
       "      <td>Jennifer</td>\n",
       "      <td>Manhattan</td>\n",
       "      <td>Midtown</td>\n",
       "      <td>40.75362</td>\n",
       "      <td>-73.98377</td>\n",
       "      <td>Entire home/apt</td>\n",
       "      <td>1</td>\n",
       "      <td>2</td>\n",
       "      <td>288</td>\n",
       "      <td>46</td>\n",
       "      <td>0.39</td>\n",
       "      <td>225</td>\n",
       "      <td>0.01721</td>\n",
       "      <td>0.088230</td>\n",
       "      <td>0.031516</td>\n",
       "      <td>0.03764</td>\n",
       "      <td>0.039089</td>\n",
       "      <td>0.038984</td>\n",
       "      <td>0.087923</td>\n",
       "      <td>0.37396</td>\n",
       "      <td>0.139396</td>\n",
       "      <td>0.071686</td>\n",
       "      <td>0.054764</td>\n",
       "      <td>0.09385</td>\n",
       "    </tr>\n",
       "    <tr>\n",
       "      <th>1</th>\n",
       "      <td>3647</td>\n",
       "      <td>village harlem  new york</td>\n",
       "      <td>4632</td>\n",
       "      <td>Elisabeth</td>\n",
       "      <td>Manhattan</td>\n",
       "      <td>Harlem</td>\n",
       "      <td>40.80902</td>\n",
       "      <td>-73.94190</td>\n",
       "      <td>Private room</td>\n",
       "      <td>3</td>\n",
       "      <td>1</td>\n",
       "      <td>365</td>\n",
       "      <td>0</td>\n",
       "      <td>NaN</td>\n",
       "      <td>150</td>\n",
       "      <td>0.09732</td>\n",
       "      <td>0.049663</td>\n",
       "      <td>0.128786</td>\n",
       "      <td>0.13491</td>\n",
       "      <td>0.136359</td>\n",
       "      <td>0.058286</td>\n",
       "      <td>0.171779</td>\n",
       "      <td>0.36043</td>\n",
       "      <td>0.152926</td>\n",
       "      <td>0.168956</td>\n",
       "      <td>0.152034</td>\n",
       "      <td>0.19112</td>\n",
       "    </tr>\n",
       "    <tr>\n",
       "      <th>2</th>\n",
       "      <td>3831</td>\n",
       "      <td>cozy entire floor brownstone</td>\n",
       "      <td>4869</td>\n",
       "      <td>LisaRoxanne</td>\n",
       "      <td>Brooklyn</td>\n",
       "      <td>Clinton Hill</td>\n",
       "      <td>40.68514</td>\n",
       "      <td>-73.95976</td>\n",
       "      <td>Entire home/apt</td>\n",
       "      <td>1</td>\n",
       "      <td>1</td>\n",
       "      <td>212</td>\n",
       "      <td>274</td>\n",
       "      <td>4.64</td>\n",
       "      <td>89</td>\n",
       "      <td>0.10970</td>\n",
       "      <td>0.132700</td>\n",
       "      <td>0.063093</td>\n",
       "      <td>0.09445</td>\n",
       "      <td>0.054405</td>\n",
       "      <td>0.083454</td>\n",
       "      <td>0.030039</td>\n",
       "      <td>0.46645</td>\n",
       "      <td>0.046906</td>\n",
       "      <td>0.064597</td>\n",
       "      <td>0.044538</td>\n",
       "      <td>0.04938</td>\n",
       "    </tr>\n",
       "    <tr>\n",
       "      <th>3</th>\n",
       "      <td>5022</td>\n",
       "      <td>entire apt  spacious studio  loft central park</td>\n",
       "      <td>7192</td>\n",
       "      <td>Laura</td>\n",
       "      <td>Manhattan</td>\n",
       "      <td>East Harlem</td>\n",
       "      <td>40.79851</td>\n",
       "      <td>-73.94399</td>\n",
       "      <td>Entire home/apt</td>\n",
       "      <td>10</td>\n",
       "      <td>1</td>\n",
       "      <td>0</td>\n",
       "      <td>9</td>\n",
       "      <td>0.10</td>\n",
       "      <td>80</td>\n",
       "      <td>0.08472</td>\n",
       "      <td>0.041243</td>\n",
       "      <td>0.116186</td>\n",
       "      <td>0.12231</td>\n",
       "      <td>0.123759</td>\n",
       "      <td>0.045686</td>\n",
       "      <td>0.159179</td>\n",
       "      <td>0.36885</td>\n",
       "      <td>0.144506</td>\n",
       "      <td>0.156356</td>\n",
       "      <td>0.139434</td>\n",
       "      <td>0.17852</td>\n",
       "    </tr>\n",
       "    <tr>\n",
       "      <th>4</th>\n",
       "      <td>5099</td>\n",
       "      <td>large cozy 1 br apartment midtown east</td>\n",
       "      <td>7322</td>\n",
       "      <td>Chris</td>\n",
       "      <td>Manhattan</td>\n",
       "      <td>Murray Hill</td>\n",
       "      <td>40.74767</td>\n",
       "      <td>-73.97500</td>\n",
       "      <td>Entire home/apt</td>\n",
       "      <td>3</td>\n",
       "      <td>1</td>\n",
       "      <td>127</td>\n",
       "      <td>75</td>\n",
       "      <td>0.60</td>\n",
       "      <td>200</td>\n",
       "      <td>0.03193</td>\n",
       "      <td>0.085410</td>\n",
       "      <td>0.034336</td>\n",
       "      <td>0.04046</td>\n",
       "      <td>0.041909</td>\n",
       "      <td>0.036164</td>\n",
       "      <td>0.077329</td>\n",
       "      <td>0.38868</td>\n",
       "      <td>0.124676</td>\n",
       "      <td>0.074506</td>\n",
       "      <td>0.057584</td>\n",
       "      <td>0.09667</td>\n",
       "    </tr>\n",
       "  </tbody>\n",
       "</table>\n",
       "</div>"
      ],
      "text/plain": [
       "     id                                            name  host_id    host_name  \\\n",
       "0  2595                           skylit midtown castle     2845     Jennifer   \n",
       "1  3647                       village harlem  new york      4632    Elisabeth   \n",
       "2  3831                    cozy entire floor brownstone     4869  LisaRoxanne   \n",
       "3  5022  entire apt  spacious studio  loft central park     7192        Laura   \n",
       "4  5099          large cozy 1 br apartment midtown east     7322        Chris   \n",
       "\n",
       "  neighbourhood_group neighbourhood  latitude  longitude        room_type  \\\n",
       "0           Manhattan       Midtown  40.75362  -73.98377  Entire home/apt   \n",
       "1           Manhattan        Harlem  40.80902  -73.94190     Private room   \n",
       "2            Brooklyn  Clinton Hill  40.68514  -73.95976  Entire home/apt   \n",
       "3           Manhattan   East Harlem  40.79851  -73.94399  Entire home/apt   \n",
       "4           Manhattan   Murray Hill  40.74767  -73.97500  Entire home/apt   \n",
       "\n",
       "   minimum_nights  calculated_host_listings_count  availability_365  \\\n",
       "0               1                               2               288   \n",
       "1               3                               1               365   \n",
       "2               1                               1               212   \n",
       "3              10                               1                 0   \n",
       "4               3                               1               127   \n",
       "\n",
       "   number_of_reviews  reviews_per_month  price    hells   astoria  Evillage  \\\n",
       "0                 46               0.39    225  0.01721  0.088230  0.031516   \n",
       "1                  0                NaN    150  0.09732  0.049663  0.128786   \n",
       "2                274               4.64     89  0.10970  0.132700  0.063093   \n",
       "3                  9               0.10     80  0.08472  0.041243  0.116186   \n",
       "4                 75               0.60    200  0.03193  0.085410  0.034336   \n",
       "\n",
       "   Wvillage  LowerEast  UpperEast  ParkSlope  Prospect Park  Crown Heights  \\\n",
       "0   0.03764   0.039089   0.038984   0.087923        0.37396       0.139396   \n",
       "1   0.13491   0.136359   0.058286   0.171779        0.36043       0.152926   \n",
       "2   0.09445   0.054405   0.083454   0.030039        0.46645       0.046906   \n",
       "3   0.12231   0.123759   0.045686   0.159179        0.36885       0.144506   \n",
       "4   0.04046   0.041909   0.036164   0.077329        0.38868       0.124676   \n",
       "\n",
       "   financial  brooklynheights  gowanus  \n",
       "0   0.071686         0.054764  0.09385  \n",
       "1   0.168956         0.152034  0.19112  \n",
       "2   0.064597         0.044538  0.04938  \n",
       "3   0.156356         0.139434  0.17852  \n",
       "4   0.074506         0.057584  0.09667  "
      ]
     },
     "metadata": {},
     "output_type": "display_data"
    }
   ],
   "source": [
    "display_all(df.head())"
   ]
  },
  {
   "cell_type": "markdown",
   "metadata": {},
   "source": [
    "#### Does Host_id and Host_Name Differ?"
   ]
  },
  {
   "cell_type": "code",
   "execution_count": 158,
   "metadata": {
    "ExecuteTime": {
     "end_time": "2019-12-13T01:03:08.837609Z",
     "start_time": "2019-12-13T01:03:08.831496Z"
    }
   },
   "outputs": [],
   "source": [
    "group = df.groupby('host_id')"
   ]
  },
  {
   "cell_type": "code",
   "execution_count": 159,
   "metadata": {
    "ExecuteTime": {
     "end_time": "2019-12-13T01:03:12.679577Z",
     "start_time": "2019-12-13T01:03:08.995809Z"
    }
   },
   "outputs": [],
   "source": [
    "df2 = group.apply(lambda x: x['host_name'].unique())"
   ]
  },
  {
   "cell_type": "code",
   "execution_count": 160,
   "metadata": {
    "ExecuteTime": {
     "end_time": "2019-12-13T01:03:17.517226Z",
     "start_time": "2019-12-13T01:03:12.680816Z"
    },
    "scrolled": false
   },
   "outputs": [
    {
     "data": {
      "text/html": [
       "<div>\n",
       "<style scoped>\n",
       "    .dataframe tbody tr th:only-of-type {\n",
       "        vertical-align: middle;\n",
       "    }\n",
       "\n",
       "    .dataframe tbody tr th {\n",
       "        vertical-align: top;\n",
       "    }\n",
       "\n",
       "    .dataframe thead th {\n",
       "        text-align: right;\n",
       "    }\n",
       "</style>\n",
       "<table border=\"1\" class=\"dataframe\">\n",
       "  <thead>\n",
       "    <tr style=\"text-align: right;\">\n",
       "      <th></th>\n",
       "      <th>0</th>\n",
       "    </tr>\n",
       "    <tr>\n",
       "      <th>host_id</th>\n",
       "      <th></th>\n",
       "    </tr>\n",
       "  </thead>\n",
       "  <tbody>\n",
       "    <tr>\n",
       "      <th>2438</th>\n",
       "      <td>Tasos</td>\n",
       "    </tr>\n",
       "    <tr>\n",
       "      <th>2571</th>\n",
       "      <td>Teedo</td>\n",
       "    </tr>\n",
       "  </tbody>\n",
       "</table>\n",
       "</div>"
      ],
      "text/plain": [
       "             0\n",
       "host_id       \n",
       "2438     Tasos\n",
       "2571     Teedo"
      ]
     },
     "execution_count": 160,
     "metadata": {},
     "output_type": "execute_result"
    }
   ],
   "source": [
    "df2 = df2.apply(pd.Series); df2.head(2)"
   ]
  },
  {
   "cell_type": "markdown",
   "metadata": {},
   "source": [
    "As you can see here that there is only one level meaning that host_id and host_name are a one to one relationship"
   ]
  },
  {
   "cell_type": "code",
   "execution_count": 165,
   "metadata": {
    "ExecuteTime": {
     "end_time": "2019-12-13T01:14:11.701613Z",
     "start_time": "2019-12-13T01:14:11.691246Z"
    }
   },
   "outputs": [],
   "source": [
    "#Frequency encode for host_id \n",
    "host_count = df['host_id'].value_counts()\n",
    "df['host_count'] = df['host_id'].map(host_count)"
   ]
  },
  {
   "cell_type": "code",
   "execution_count": 168,
   "metadata": {
    "ExecuteTime": {
     "end_time": "2019-12-13T01:15:29.647090Z",
     "start_time": "2019-12-13T01:15:29.484205Z"
    }
   },
   "outputs": [
    {
     "data": {
      "text/plain": [
       "(47691, 28)"
      ]
     },
     "execution_count": 168,
     "metadata": {},
     "output_type": "execute_result"
    }
   ],
   "source": [
    "#Save File \n",
    "import os \n",
    "import pickle\n",
    "os.makedirs('tmp', exist_ok=True)\n",
    "df.to_pickle('tmp/clean_df')\n",
    "df = pd.read_pickle('tmp/clean_df')\n",
    "df.shape"
   ]
  },
  {
   "cell_type": "markdown",
   "metadata": {},
   "source": [
    "#### Text Feature? "
   ]
  },
  {
   "cell_type": "markdown",
   "metadata": {},
   "source": [
    "With not much time I am going to try to make a quick feature on the top words. If I struggle to use it quickly I will abandon for now. If you would like to chat about what I was thinking please let me know. "
   ]
  },
  {
   "cell_type": "code",
   "execution_count": 95,
   "metadata": {
    "ExecuteTime": {
     "end_time": "2019-12-13T00:24:24.653153Z",
     "start_time": "2019-12-13T00:24:24.641784Z"
    }
   },
   "outputs": [],
   "source": [
    "names=[]\n",
    "for name in df.name:\n",
    "    names.append(name) "
   ]
  },
  {
   "cell_type": "code",
   "execution_count": 101,
   "metadata": {
    "ExecuteTime": {
     "end_time": "2019-12-13T00:25:36.306578Z",
     "start_time": "2019-12-13T00:25:36.304104Z"
    }
   },
   "outputs": [],
   "source": [
    "def split_name(name):\n",
    "    splitter=str(name).split()\n",
    "    return splitter"
   ]
  },
  {
   "cell_type": "code",
   "execution_count": 102,
   "metadata": {
    "ExecuteTime": {
     "end_time": "2019-12-13T00:25:36.491732Z",
     "start_time": "2019-12-13T00:25:36.447440Z"
    }
   },
   "outputs": [],
   "source": [
    "#initializing empty list where we are going to have words counted\n",
    "Counter_Names=[]\n",
    "#getting name string from our list and using split function, later appending to list above\n",
    "for x in names:\n",
    "    for word in split_name(x):\n",
    "        Counter_Names.append(word)"
   ]
  },
  {
   "cell_type": "code",
   "execution_count": 104,
   "metadata": {
    "ExecuteTime": {
     "end_time": "2019-12-13T00:26:03.154164Z",
     "start_time": "2019-12-13T00:26:03.133450Z"
    }
   },
   "outputs": [],
   "source": [
    "from collections import Counter\n",
    "\n",
    "top_25=Counter(Counter_Names).most_common()\n",
    "top_25=top_25[0:25]"
   ]
  },
  {
   "cell_type": "code",
   "execution_count": 111,
   "metadata": {
    "ExecuteTime": {
     "end_time": "2019-12-13T00:27:39.470356Z",
     "start_time": "2019-12-13T00:27:39.468327Z"
    }
   },
   "outputs": [],
   "source": [
    "topwords = []\n",
    "for x, y in top_25:\n",
    "    topwords.append(x)"
   ]
  },
  {
   "cell_type": "code",
   "execution_count": 133,
   "metadata": {
    "ExecuteTime": {
     "end_time": "2019-12-13T00:35:54.802640Z",
     "start_time": "2019-12-13T00:35:54.799649Z"
    },
    "scrolled": true
   },
   "outputs": [
    {
     "data": {
      "text/plain": [
       "['room',\n",
       " 'bedroom',\n",
       " 'private',\n",
       " 'apartment',\n",
       " 'cozy',\n",
       " 'apt',\n",
       " 'brooklyn',\n",
       " 'studio',\n",
       " 'spacious',\n",
       " '1',\n",
       " 'manhattan',\n",
       " '2',\n",
       " 'park',\n",
       " 'east',\n",
       " 'sunny',\n",
       " '&',\n",
       " 'williamsburg',\n",
       " 'beautiful',\n",
       " 'near',\n",
       " 'village',\n",
       " 'nyc',\n",
       " 'bed',\n",
       " 'w',\n",
       " 'large',\n",
       " 'heart']"
      ]
     },
     "execution_count": 133,
     "metadata": {},
     "output_type": "execute_result"
    }
   ],
   "source": [
    "topwords"
   ]
  },
  {
   "cell_type": "code",
   "execution_count": 141,
   "metadata": {
    "ExecuteTime": {
     "end_time": "2019-12-13T00:46:36.964966Z",
     "start_time": "2019-12-13T00:46:36.963046Z"
    }
   },
   "outputs": [],
   "source": [
    "pattern = '|'.join([f'(?i){x}' for x in topwords])"
   ]
  },
  {
   "cell_type": "code",
   "execution_count": null,
   "metadata": {},
   "outputs": [],
   "source": [
    "z = df[:10]"
   ]
  },
  {
   "cell_type": "code",
   "execution_count": 143,
   "metadata": {
    "ExecuteTime": {
     "end_time": "2019-12-13T00:47:01.617179Z",
     "start_time": "2019-12-13T00:47:01.603713Z"
    },
    "scrolled": true
   },
   "outputs": [
    {
     "data": {
      "text/plain": [
       "0     True\n",
       "1     True\n",
       "2     True\n",
       "3     True\n",
       "4     True\n",
       "5    False\n",
       "6     True\n",
       "7     True\n",
       "8     True\n",
       "9     True\n",
       "Name: name, dtype: bool"
      ]
     },
     "execution_count": 143,
     "metadata": {},
     "output_type": "execute_result"
    }
   ],
   "source": [
    "z.name.str.contains(pattern)"
   ]
  },
  {
   "cell_type": "markdown",
   "metadata": {},
   "source": [
    "This isn't what I wanted what I was going to explore, which would take more work than I have time for is if the string has one of the top words create a new col. "
   ]
  },
  {
   "cell_type": "markdown",
   "metadata": {},
   "source": [
    "## Model Random Forest"
   ]
  },
  {
   "cell_type": "code",
   "execution_count": 207,
   "metadata": {
    "ExecuteTime": {
     "end_time": "2019-12-13T01:41:12.241479Z",
     "start_time": "2019-12-13T01:41:12.225711Z"
    }
   },
   "outputs": [
    {
     "data": {
      "text/plain": [
       "(47691, 28)"
      ]
     },
     "execution_count": 207,
     "metadata": {},
     "output_type": "execute_result"
    }
   ],
   "source": [
    "df = pd.read_pickle('tmp/clean_df')\n",
    "df.shape"
   ]
  },
  {
   "cell_type": "code",
   "execution_count": 208,
   "metadata": {
    "ExecuteTime": {
     "end_time": "2019-12-13T01:41:12.387656Z",
     "start_time": "2019-12-13T01:41:12.384358Z"
    }
   },
   "outputs": [],
   "source": [
    "#First Level of Drops\n",
    "to_drop = ['id', 'name', 'host_name']"
   ]
  },
  {
   "cell_type": "code",
   "execution_count": 209,
   "metadata": {
    "ExecuteTime": {
     "end_time": "2019-12-13T01:41:12.585054Z",
     "start_time": "2019-12-13T01:41:12.579286Z"
    },
    "scrolled": true
   },
   "outputs": [
    {
     "data": {
      "text/plain": [
       "Index(['id', 'name', 'host_id', 'host_name', 'neighbourhood_group',\n",
       "       'neighbourhood', 'latitude', 'longitude', 'room_type', 'minimum_nights',\n",
       "       'calculated_host_listings_count', 'availability_365',\n",
       "       'number_of_reviews', 'reviews_per_month', 'price', 'hells', 'astoria',\n",
       "       'Evillage', 'Wvillage', 'LowerEast', 'UpperEast', 'ParkSlope',\n",
       "       'Prospect Park', 'Crown Heights', 'financial', 'brooklynheights',\n",
       "       'gowanus', 'host_count'],\n",
       "      dtype='object')"
      ]
     },
     "execution_count": 209,
     "metadata": {},
     "output_type": "execute_result"
    }
   ],
   "source": [
    "df.columns"
   ]
  },
  {
   "cell_type": "code",
   "execution_count": 210,
   "metadata": {
    "ExecuteTime": {
     "end_time": "2019-12-13T01:41:12.771760Z",
     "start_time": "2019-12-13T01:41:12.762878Z"
    }
   },
   "outputs": [],
   "source": [
    "df.drop(to_drop, axis=1, inplace=True)"
   ]
  },
  {
   "cell_type": "markdown",
   "metadata": {},
   "source": [
    "Using Id typically leads to data leakage and since I don't actually know the origin of this column I will be dropping this here. \n",
    "\n",
    "Name will have to many categorical levels to have any use for the model and will be mostly noise so this will be removed. \n",
    "\n",
    "Host_Name is a numeric feature of the host name seen above."
   ]
  },
  {
   "cell_type": "markdown",
   "metadata": {},
   "source": [
    "**Model** \n",
    "\n",
    "Moving quickly I would typically spend some more time on looking at the data and wouldn't typically do a random split of the data, but at this point in time I am not in a place to be able to do anything else other than this because of the time constraint. There are some features that label encoding would most likely end up creating a data leakage and not being able to properly vet this would not be okay to present as a finding. \n",
    "\n",
    "I will look at the distribution of my two data sets that are being model just to make sure that this is at the very least similar. "
   ]
  },
  {
   "cell_type": "code",
   "execution_count": 231,
   "metadata": {
    "ExecuteTime": {
     "end_time": "2019-12-13T01:58:43.816771Z",
     "start_time": "2019-12-13T01:58:43.806212Z"
    }
   },
   "outputs": [
    {
     "data": {
      "text/plain": [
       "((38152, 25), (9539, 25))"
      ]
     },
     "execution_count": 231,
     "metadata": {},
     "output_type": "execute_result"
    }
   ],
   "source": [
    "from sklearn.model_selection import train_test_split\n",
    "train, valid = train_test_split(df, test_size=0.2, random_state=21)\n",
    "train.shape, valid.shape"
   ]
  },
  {
   "cell_type": "code",
   "execution_count": 232,
   "metadata": {
    "ExecuteTime": {
     "end_time": "2019-12-13T01:58:44.013524Z",
     "start_time": "2019-12-13T01:58:43.999110Z"
    }
   },
   "outputs": [],
   "source": [
    "train_cats(train)"
   ]
  },
  {
   "cell_type": "code",
   "execution_count": 233,
   "metadata": {
    "ExecuteTime": {
     "end_time": "2019-12-13T01:58:44.502892Z",
     "start_time": "2019-12-13T01:58:44.194760Z"
    }
   },
   "outputs": [
    {
     "data": {
      "text/plain": [
       "((38152, 25), (38152,))"
      ]
     },
     "execution_count": 233,
     "metadata": {},
     "output_type": "execute_result"
    }
   ],
   "source": [
    "X_train, y_train, nas, mapper = split_data(train, 'price', do_scale=True)\n",
    "X_train.shape, y_train.shape"
   ]
  },
  {
   "cell_type": "code",
   "execution_count": 234,
   "metadata": {
    "ExecuteTime": {
     "end_time": "2019-12-13T01:58:44.510525Z",
     "start_time": "2019-12-13T01:58:44.504713Z"
    }
   },
   "outputs": [],
   "source": [
    "apply_cats(valid, train)"
   ]
  },
  {
   "cell_type": "code",
   "execution_count": 235,
   "metadata": {
    "ExecuteTime": {
     "end_time": "2019-12-13T01:58:44.668540Z",
     "start_time": "2019-12-13T01:58:44.581097Z"
    }
   },
   "outputs": [
    {
     "data": {
      "text/plain": [
       "((9539, 25), (9539,))"
      ]
     },
     "execution_count": 235,
     "metadata": {},
     "output_type": "execute_result"
    }
   ],
   "source": [
    "X_valid, y_valid, _, _ = split_data(valid,'price', na_dict=nas, mapper=mapper, do_scale=True)\n",
    "X_valid.shape, y_valid.shape"
   ]
  },
  {
   "cell_type": "code",
   "execution_count": 236,
   "metadata": {
    "ExecuteTime": {
     "end_time": "2019-12-13T01:58:45.218338Z",
     "start_time": "2019-12-13T01:58:45.210359Z"
    }
   },
   "outputs": [],
   "source": [
    "y_valid = np.log(y_valid + 1e-3)\n",
    "y_train = np.log(y_train + 1e-3)"
   ]
  },
  {
   "cell_type": "markdown",
   "metadata": {},
   "source": [
    "#### Let's Check Valid and Train Dist"
   ]
  },
  {
   "cell_type": "code",
   "execution_count": 216,
   "metadata": {
    "ExecuteTime": {
     "end_time": "2019-12-13T01:41:17.060266Z",
     "start_time": "2019-12-13T01:41:16.584001Z"
    }
   },
   "outputs": [
    {
     "data": {
      "image/png": "[encoded data removed]",
      "text/plain": [
       "<Figure size 1152x432 with 1 Axes>"
      ]
     },
     "metadata": {
      "needs_background": "light"
     },
     "output_type": "display_data"
    }
   ],
   "source": [
    "#Now that we know there are some odd distrubtions let's look and see if our test and train are similar\n",
    "plt.figure(figsize=(16,6))\n",
    "features = X_train.columns.values[0:24]\n",
    "plt.title(\"Distribution of mean values per row in the train and valid set\")\n",
    "sns.distplot(X_train[features].mean(axis=1),color=bookcolors['blue'], kde=True,bins=120, label='train')\n",
    "sns.distplot(X_valid[features].mean(axis=1),color=bookcolors['orange'], kde=True,bins=120, label='valid')\n",
    "plt.legend()\n",
    "plt.show()"
   ]
  },
  {
   "cell_type": "code",
   "execution_count": 217,
   "metadata": {
    "ExecuteTime": {
     "end_time": "2019-12-13T01:41:17.603555Z",
     "start_time": "2019-12-13T01:41:17.166073Z"
    },
    "scrolled": false
   },
   "outputs": [
    {
     "data": {
      "image/png": "[encoded data removed]",
      "text/plain": [
       "<Figure size 1152x432 with 1 Axes>"
      ]
     },
     "metadata": {
      "needs_background": "light"
     },
     "output_type": "display_data"
    }
   ],
   "source": [
    "plt.figure(figsize=(16,6))\n",
    "plt.title(\"Distribution of mean values per column in the train and valid set\")\n",
    "sns.distplot(X_train[features].mean(axis=0),color=\"#fdae61\",kde=True,bins=120, label='train')\n",
    "sns.distplot(X_valid[features].mean(axis=0),color=\"#4575b4\", kde=True,bins=120, label='valid')\n",
    "plt.legend()\n",
    "plt.show()"
   ]
  },
  {
   "cell_type": "code",
   "execution_count": 218,
   "metadata": {
    "ExecuteTime": {
     "end_time": "2019-12-13T01:41:18.640360Z",
     "start_time": "2019-12-13T01:41:17.773547Z"
    }
   },
   "outputs": [
    {
     "data": {
      "image/png": "[encoded data removed]",
      "text/plain": [
       "<Figure size 1152x432 with 1 Axes>"
      ]
     },
     "metadata": {
      "needs_background": "light"
     },
     "output_type": "display_data"
    }
   ],
   "source": [
    "plt.figure(figsize=(16,6))\n",
    "plt.title(\"Distribution of std values per row in the train and test set\")\n",
    "sns.distplot(X_train[features].std(axis=1),color=\"#fdae61\", kde=True,bins=120, label='train')\n",
    "sns.distplot(X_valid[features].std(axis=1),color=\"#4575b4\", kde=True,bins=120, label='valid')\n",
    "plt.legend();plt.show()"
   ]
  },
  {
   "cell_type": "code",
   "execution_count": 219,
   "metadata": {
    "ExecuteTime": {
     "end_time": "2019-12-13T01:41:19.129588Z",
     "start_time": "2019-12-13T01:41:18.641318Z"
    },
    "scrolled": true
   },
   "outputs": [
    {
     "data": {
      "image/png": "[encoded data removed]",
      "text/plain": [
       "<Figure size 1152x432 with 1 Axes>"
      ]
     },
     "metadata": {
      "needs_background": "light"
     },
     "output_type": "display_data"
    }
   ],
   "source": [
    "plt.figure(figsize=(16,6))\n",
    "plt.title(\"Distribution of std values per row in the train and test set\")\n",
    "sns.distplot(X_train[features].std(axis=0),color=\"#fdae61\", kde=True,bins=120, label='train')\n",
    "sns.distplot(X_valid[features].std(axis=0),color=\"#4575b4\", kde=True,bins=120, label='valid')\n",
    "plt.legend();plt.show()"
   ]
  },
  {
   "cell_type": "markdown",
   "metadata": {},
   "source": [
    "This distribution is looking good some things that we might want to tweak, but over all it's not to bad. "
   ]
  },
  {
   "cell_type": "markdown",
   "metadata": {},
   "source": [
    "#### Model 1"
   ]
  },
  {
   "cell_type": "code",
   "execution_count": 238,
   "metadata": {
    "ExecuteTime": {
     "end_time": "2019-12-13T01:58:58.763799Z",
     "start_time": "2019-12-13T01:58:58.753928Z"
    }
   },
   "outputs": [],
   "source": [
    "from sklearn.metrics import mean_absolute_error\n",
    "\n",
    "def print_score(model):\n",
    "    res = [mean_absolute_error(m.predict(X_train), y_train), mean_absolute_error(m.predict(X_valid), y_valid),\n",
    "           round(m.score(X_train, y_train),5), round(m.score(X_valid, y_valid),5)]\n",
    "    n = rfnnodes(m)\n",
    "    h = np.median(rfmaxdepths(m))\n",
    "    if hasattr(m, 'oob_score_'): res.append(m.oob_score_)\n",
    "    print(res)\n",
    "    print(f\"Model using {n:,d} tree nodes with {h} median tree height\")"
   ]
  },
  {
   "cell_type": "code",
   "execution_count": 263,
   "metadata": {
    "ExecuteTime": {
     "end_time": "2019-12-13T02:22:39.756697Z",
     "start_time": "2019-12-13T02:21:00.084086Z"
    }
   },
   "outputs": [
    {
     "name": "stdout",
     "output_type": "stream",
     "text": [
      "CPU times: user 1min 31s, sys: 16.1 ms, total: 1min 31s\n",
      "Wall time: 1min 31s\n",
      "[0.10461837044839022, 0.2845266760694984, 0.95051, 0.65163, 0.6376410188535884]\n",
      "Model using 8,389,500 tree nodes with 44.0 median tree height\n"
     ]
    }
   ],
   "source": [
    "m = RandomForestRegressor(n_estimators=200, max_features='auto', min_samples_leaf=1, oob_score=True)\n",
    "%time m.fit(X_train, y_train)\n",
    "print_score(m)"
   ]
  },
  {
   "cell_type": "code",
   "execution_count": 264,
   "metadata": {
    "ExecuteTime": {
     "end_time": "2019-12-13T02:22:40.758207Z",
     "start_time": "2019-12-13T02:22:39.758675Z"
    },
    "scrolled": false
   },
   "outputs": [
    {
     "data": {
      "image/png": "[encoded data removed]",
      "text/plain": [
       "<Figure size 432x288 with 1 Axes>"
      ]
     },
     "metadata": {
      "needs_background": "light"
     },
     "output_type": "display_data"
    }
   ],
   "source": [
    "preds = np.stack([t.predict(X_valid) for t in m.estimators_])\n",
    "plt.plot([metrics.r2_score(y_valid, np.mean(preds[:i+1], axis = 0)) for i in range (200)]);"
   ]
  },
  {
   "cell_type": "markdown",
   "metadata": {},
   "source": [
    "#### Hypertune"
   ]
  },
  {
   "cell_type": "code",
   "execution_count": 247,
   "metadata": {
    "ExecuteTime": {
     "end_time": "2019-12-13T02:04:40.520260Z",
     "start_time": "2019-12-13T02:04:40.512537Z"
    }
   },
   "outputs": [],
   "source": [
    "def test_valid(X, y, X_valid, y_valid, n_estimators=200,\n",
    "               max_features='auto', min_samples_leaf=1):\n",
    "    X_valid = X_valid.reindex(columns=X.columns)\n",
    "    rf = RandomForestRegressor(n_estimators=n_estimators, n_jobs=-1,\n",
    "                               oob_score=True, max_features=max_features, \n",
    "                               min_samples_leaf=min_samples_leaf)\n",
    "    rf.fit(X, y)\n",
    "    n = rfnnodes(rf)\n",
    "    h = np.median(rfmaxdepths(rf))\n",
    "    y_pred = rf.predict(X_valid)\n",
    "    mae_valid = mean_absolute_error(np.exp(y_valid), np.exp(y_pred))\n",
    "    rmsle_valid = np.sqrt(mean_squared_error(y_valid, y_pred))\n",
    "    r2_score_valid = rf.score(X_valid, y_valid)\n",
    "    print(f\"OOB R^2 {rf.oob_score_:.5f} using {n:,d} tree nodes {h} median tree height\")\n",
    "    print(f\"Validation R^2 {r2_score_valid:.5f}, RMSLE {rmsle_valid:.5f}, MAE ${mae_valid:.0f}\")\n",
    "    return rf, r2_score_valid, rmsle_valid, mae_valid"
   ]
  },
  {
   "cell_type": "code",
   "execution_count": 255,
   "metadata": {
    "ExecuteTime": {
     "end_time": "2019-12-13T02:09:42.860742Z",
     "start_time": "2019-12-13T02:08:59.970799Z"
    }
   },
   "outputs": [
    {
     "name": "stdout",
     "output_type": "stream",
     "text": [
      "n_estimators=150, max_features=0.1, min_samples_leaf=1\n",
      "OOB R^2 0.61156 using 6,830,668 tree nodes 43.0 median tree height\n",
      "Validation R^2 0.62779, RMSLE 0.38968, MAE $43\n",
      "n_estimators=150, max_features=0.3, min_samples_leaf=1\n",
      "OOB R^2 0.63820 using 6,527,340 tree nodes 43.0 median tree height\n",
      "Validation R^2 0.65528, RMSLE 0.37501, MAE $42\n",
      "n_estimators=150, max_features=0.5, min_samples_leaf=1\n",
      "OOB R^2 0.63950 using 6,419,530 tree nodes 43.0 median tree height\n",
      "Validation R^2 0.65528, RMSLE 0.37501, MAE $42\n",
      "n_estimators=150, max_features=0.7, min_samples_leaf=1\n",
      "OOB R^2 0.63893 using 6,353,816 tree nodes 43.0 median tree height\n",
      "Validation R^2 0.65583, RMSLE 0.37471, MAE $42\n",
      "n_estimators=150, max_features=0.9, min_samples_leaf=1\n",
      "OOB R^2 0.63653 using 6,312,500 tree nodes 44.0 median tree height\n",
      "Validation R^2 0.65234, RMSLE 0.37661, MAE $42\n"
     ]
    }
   ],
   "source": [
    "ntrees = 150\n",
    "minleaf = 1\n",
    "for maxf in np.arange(.1,1,.2):\n",
    "    print(f\"n_estimators={ntrees}, max_features={maxf:.1f}, min_samples_leaf={minleaf}\")\n",
    "    test_valid(X_train, y_train, X_valid, y_valid,\n",
    "               n_estimators=ntrees, max_features=maxf, min_samples_leaf=minleaf)"
   ]
  },
  {
   "cell_type": "code",
   "execution_count": 256,
   "metadata": {
    "ExecuteTime": {
     "end_time": "2019-12-13T02:10:29.418333Z",
     "start_time": "2019-12-13T02:10:02.292407Z"
    }
   },
   "outputs": [
    {
     "name": "stdout",
     "output_type": "stream",
     "text": [
      "n_estimators=150, max_features=0.5, min_samples_leaf=2\n",
      "OOB R^2 0.63917 using 3,131,568 tree nodes 40.0 median tree height\n",
      "Validation R^2 0.65627, RMSLE 0.37447, MAE $42\n",
      "n_estimators=150, max_features=0.5, min_samples_leaf=3\n",
      "OOB R^2 0.64154 using 2,006,132 tree nodes 37.0 median tree height\n",
      "Validation R^2 0.65634, RMSLE 0.37444, MAE $42\n",
      "n_estimators=150, max_features=0.5, min_samples_leaf=4\n",
      "OOB R^2 0.64044 using 1,472,774 tree nodes 34.0 median tree height\n",
      "Validation R^2 0.65636, RMSLE 0.37442, MAE $42\n",
      "n_estimators=150, max_features=0.5, min_samples_leaf=5\n",
      "OOB R^2 0.64184 using 1,162,126 tree nodes 32.0 median tree height\n",
      "Validation R^2 0.65591, RMSLE 0.37467, MAE $42\n",
      "n_estimators=150, max_features=0.5, min_samples_leaf=6\n",
      "OOB R^2 0.64137 using 961,088 tree nodes 31.0 median tree height\n",
      "Validation R^2 0.65532, RMSLE 0.37499, MAE $42\n"
     ]
    }
   ],
   "source": [
    "maxf = .5\n",
    "for minleaf in range(2,7):\n",
    "    print(f\"n_estimators={ntrees}, max_features={maxf}, min_samples_leaf={minleaf}\")\n",
    "    test_valid(X_train, y_train, X_valid, y_valid,\n",
    "               n_estimators=ntrees, max_features=maxf, min_samples_leaf=minleaf)"
   ]
  },
  {
   "cell_type": "code",
   "execution_count": 258,
   "metadata": {
    "ExecuteTime": {
     "end_time": "2019-12-13T02:14:17.158727Z",
     "start_time": "2019-12-13T02:13:51.303917Z"
    },
    "scrolled": true
   },
   "outputs": [
    {
     "name": "stdout",
     "output_type": "stream",
     "text": [
      "n_estimators=50, max_features=0.5, min_samples_leaf=4\n",
      "OOB R^2 0.63269 using 490,668 tree nodes 34.0 median tree height\n",
      "Validation R^2 0.65311, RMSLE 0.37619, MAE $42\n",
      "n_estimators=100, max_features=0.5, min_samples_leaf=4\n",
      "OOB R^2 0.63894 using 981,508 tree nodes 35.0 median tree height\n",
      "Validation R^2 0.65533, RMSLE 0.37498, MAE $42\n",
      "n_estimators=150, max_features=0.5, min_samples_leaf=4\n",
      "OOB R^2 0.64128 using 1,472,278 tree nodes 34.0 median tree height\n",
      "Validation R^2 0.65577, RMSLE 0.37475, MAE $42\n",
      "n_estimators=200, max_features=0.5, min_samples_leaf=4\n",
      "OOB R^2 0.64276 using 1,963,448 tree nodes 35.0 median tree height\n",
      "Validation R^2 0.65649, RMSLE 0.37435, MAE $42\n",
      "n_estimators=250, max_features=0.5, min_samples_leaf=4\n",
      "OOB R^2 0.64297 using 2,454,130 tree nodes 34.0 median tree height\n",
      "Validation R^2 0.65682, RMSLE 0.37417, MAE $42\n"
     ]
    }
   ],
   "source": [
    "minleaf=4\n",
    "for i, trees in enumerate((50, 100, 150, 200, 250)):\n",
    "    print(f\"n_estimators={trees}, max_features={maxf}, min_samples_leaf={minleaf}\")\n",
    "    test_valid(X_train, y_train, X_valid, y_valid,\n",
    "               n_estimators=trees, max_features=maxf, min_samples_leaf=minleaf)"
   ]
  },
  {
   "cell_type": "markdown",
   "metadata": {},
   "source": [
    "#### Tuned Model"
   ]
  },
  {
   "cell_type": "code",
   "execution_count": 265,
   "metadata": {
    "ExecuteTime": {
     "end_time": "2019-12-13T02:23:12.877428Z",
     "start_time": "2019-12-13T02:22:40.759212Z"
    }
   },
   "outputs": [
    {
     "name": "stdout",
     "output_type": "stream",
     "text": [
      "CPU times: user 29.2 s, sys: 28 µs, total: 29.2 s\n",
      "Wall time: 29.2 s\n",
      "[0.17368990483740437, 0.28324775055689155, 0.85472, 0.65593, 0.6423506089743197]\n",
      "Model using 1,472,730 tree nodes with 34.0 median tree height\n"
     ]
    }
   ],
   "source": [
    "m = RandomForestRegressor(n_estimators=150, max_features=0.5, min_samples_leaf=4, oob_score=True)\n",
    "%time m.fit(X_train, y_train)\n",
    "print_score(m)"
   ]
  },
  {
   "cell_type": "code",
   "execution_count": 267,
   "metadata": {
    "ExecuteTime": {
     "end_time": "2019-12-13T02:23:38.782668Z",
     "start_time": "2019-12-13T02:23:38.313827Z"
    }
   },
   "outputs": [
    {
     "data": {
      "image/png": "[encoded data removed]",
      "text/plain": [
       "<Figure size 432x288 with 1 Axes>"
      ]
     },
     "metadata": {
      "needs_background": "light"
     },
     "output_type": "display_data"
    }
   ],
   "source": [
    "preds = np.stack([t.predict(X_valid) for t in m.estimators_])\n",
    "plt.plot([metrics.r2_score(y_valid, np.mean(preds[:i+1], axis = 0)) for i in range (160)]);"
   ]
  },
  {
   "cell_type": "markdown",
   "metadata": {},
   "source": [
    "Looking at the metrics we are seeing that our OOB is up and the over fitting has decreased, which is a great thing. We still are seeing a huge increase in metric movement and this might mean the RDF algo might not be the best choice here, but let's first reduce features."
   ]
  },
  {
   "cell_type": "code",
   "execution_count": 269,
   "metadata": {
    "ExecuteTime": {
     "end_time": "2019-12-13T02:25:33.708551Z",
     "start_time": "2019-12-13T02:25:30.731181Z"
    },
    "scrolled": false
   },
   "outputs": [
    {
     "data": {
      "text/plain": [
       "<matplotlib.axes._subplots.AxesSubplot at 0x7f767b37fe50>"
      ]
     },
     "execution_count": 269,
     "metadata": {},
     "output_type": "execute_result"
    },
    {
     "data": {
      "image/png": "[encoded data removed]",
      "text/plain": [
       "<Figure size 864x504 with 1 Axes>"
      ]
     },
     "metadata": {
      "needs_background": "light"
     },
     "output_type": "display_data"
    }
   ],
   "source": [
    "y_valid = y_valid.copy()\n",
    "y_valid = pd.DataFrame(y_valid)\n",
    "fi_permutation = importances(m, X_valid, y_valid)\n",
    "fi_permutation['Importance'] = fi_permutation[\"Importance\"]/fi_permutation[\"Importance\"].sum()\n",
    "fi_permutation = (fi_permutation\n",
    "                  .reset_index()\n",
    "                  .rename({'Feature':'cols', 'Importance':'imp'},axis=1))\n",
    "plot_fi(fi_permutation[:30], False, 'Permutation')"
   ]
  },
  {
   "cell_type": "code",
   "execution_count": 275,
   "metadata": {
    "ExecuteTime": {
     "end_time": "2019-12-13T02:27:04.219190Z",
     "start_time": "2019-12-13T02:27:04.216740Z"
    }
   },
   "outputs": [],
   "source": [
    "def get_oob(df):\n",
    "    m = RandomForestRegressor(n_estimators=150, max_features=0.5, min_samples_leaf=4, oob_score=True)\n",
    "    x = X_train\n",
    "    m.fit(x, y_train)\n",
    "    return m.oob_score_"
   ]
  },
  {
   "cell_type": "code",
   "execution_count": 276,
   "metadata": {
    "ExecuteTime": {
     "end_time": "2019-12-13T02:27:33.141324Z",
     "start_time": "2019-12-13T02:27:04.885487Z"
    }
   },
   "outputs": [
    {
     "data": {
      "text/plain": [
       "0.6417663423512994"
      ]
     },
     "execution_count": 276,
     "metadata": {},
     "output_type": "execute_result"
    }
   ],
   "source": [
    "get_oob(X_train)"
   ]
  },
  {
   "cell_type": "code",
   "execution_count": 281,
   "metadata": {
    "ExecuteTime": {
     "end_time": "2019-12-13T02:28:56.639859Z",
     "start_time": "2019-12-13T02:28:56.633794Z"
    }
   },
   "outputs": [],
   "source": [
    "#Before going into Feature reduction these are already in with distance features\n",
    "to_drop = [['latitude','longitude']]"
   ]
  },
  {
   "cell_type": "code",
   "execution_count": 282,
   "metadata": {
    "ExecuteTime": {
     "end_time": "2019-12-13T02:29:25.801838Z",
     "start_time": "2019-12-13T02:28:57.450492Z"
    }
   },
   "outputs": [
    {
     "name": "stdout",
     "output_type": "stream",
     "text": [
      "['latitude', 'longitude'] 0.6408806784638815\n"
     ]
    }
   ],
   "source": [
    "for c in (to_drop):\n",
    "    print(c, get_oob(X_train.drop(c, axis= 1)))"
   ]
  },
  {
   "cell_type": "code",
   "execution_count": 284,
   "metadata": {
    "ExecuteTime": {
     "end_time": "2019-12-13T02:30:19.641413Z",
     "start_time": "2019-12-13T02:30:19.635387Z"
    }
   },
   "outputs": [],
   "source": [
    "to_drop = ['latitude','longitude']\n",
    "X_valid.drop(to_drop, axis=1, inplace=True)\n",
    "X_train.drop(to_drop, axis=1, inplace=True)"
   ]
  },
  {
   "cell_type": "code",
   "execution_count": 285,
   "metadata": {
    "ExecuteTime": {
     "end_time": "2019-12-13T02:31:00.373119Z",
     "start_time": "2019-12-13T02:30:32.418163Z"
    }
   },
   "outputs": [
    {
     "name": "stdout",
     "output_type": "stream",
     "text": [
      "CPU times: user 25.3 s, sys: 6 µs, total: 25.3 s\n",
      "Wall time: 25.3 s\n",
      "[0.17621027536142453, 0.2832151415723904, 0.85104, 0.65656, 0.6407809592676832]\n",
      "Model using 1,471,436 tree nodes with 34.0 median tree height\n"
     ]
    }
   ],
   "source": [
    "m = RandomForestRegressor(n_estimators=150, max_features=0.5, min_samples_leaf=4, oob_score=True)\n",
    "%time m.fit(X_train, y_train)\n",
    "print_score(m)"
   ]
  },
  {
   "cell_type": "code",
   "execution_count": 286,
   "metadata": {
    "ExecuteTime": {
     "end_time": "2019-12-13T02:31:03.228838Z",
     "start_time": "2019-12-13T02:31:00.374178Z"
    },
    "scrolled": false
   },
   "outputs": [
    {
     "data": {
      "text/plain": [
       "<matplotlib.axes._subplots.AxesSubplot at 0x7f767d654790>"
      ]
     },
     "execution_count": 286,
     "metadata": {},
     "output_type": "execute_result"
    },
    {
     "data": {
      "image/png": "[encoded data removed]",
      "text/plain": [
       "<Figure size 864x504 with 1 Axes>"
      ]
     },
     "metadata": {
      "needs_background": "light"
     },
     "output_type": "display_data"
    }
   ],
   "source": [
    "y_valid = y_valid.copy()\n",
    "y_valid = pd.DataFrame(y_valid)\n",
    "fi_permutation = importances(m, X_valid, y_valid)\n",
    "fi_permutation['Importance'] = fi_permutation[\"Importance\"]/fi_permutation[\"Importance\"].sum()\n",
    "fi_permutation = (fi_permutation\n",
    "                  .reset_index()\n",
    "                  .rename({'Feature':'cols', 'Importance':'imp'},axis=1))\n",
    "plot_fi(fi_permutation[:30], False, 'Permutation')"
   ]
  },
  {
   "cell_type": "code",
   "execution_count": 288,
   "metadata": {
    "ExecuteTime": {
     "end_time": "2019-12-13T02:31:42.085737Z",
     "start_time": "2019-12-13T02:31:41.826525Z"
    },
    "scrolled": true
   },
   "outputs": [
    {
     "data": {
      "image/png": "[encoded data removed]",
      "text/plain": [
       "<Figure size 1152x720 with 1 Axes>"
      ]
     },
     "metadata": {
      "needs_background": "light"
     },
     "output_type": "display_data"
    }
   ],
   "source": [
    "from scipy.cluster import hierarchy as hc\n",
    "import scipy\n",
    "\n",
    "#using the corelation spearman rank correlation\n",
    "corr = np.round(scipy.stats.spearmanr(X_train).correlation, 4)\n",
    "corr_condensed = hc.distance.squareform(1-corr)\n",
    "z = hc.linkage(corr_condensed, method='average')\n",
    "fig = plt.figure(figsize=(16,10))\n",
    "dendrogram = hc.dendrogram(z, labels=X_train.columns, orientation='left', leaf_font_size=16)\n",
    "plt.show()"
   ]
  },
  {
   "cell_type": "markdown",
   "metadata": {},
   "source": [
    "We see some highly correlated features so this next section will be useful. "
   ]
  },
  {
   "cell_type": "markdown",
   "metadata": {},
   "source": [
    "#### Reduce/Drop Irrelevant Features"
   ]
  },
  {
   "cell_type": "code",
   "execution_count": 295,
   "metadata": {
    "ExecuteTime": {
     "end_time": "2019-12-13T02:39:49.070470Z",
     "start_time": "2019-12-13T02:39:49.064412Z"
    }
   },
   "outputs": [],
   "source": [
    "def select_features(X, y, X_valid, y_valid, drop=0.10):\n",
    "    min_rmsle = 99999\n",
    "    X_valid = X_valid.reindex(columns=X.columns)\n",
    "    rf, _, rmsle, _ = test_valid(X_train, y_train, X_valid, y_valid,\n",
    "                                n_estimators=150, max_features=0.5, \n",
    "                                min_samples_leaf=4)\n",
    "    I = importances(rf, X_valid, y_valid)\n",
    "    features = list(I.index)\n",
    "    keep = best_features = features\n",
    "    n = int(.9/drop)\n",
    "    for i in range(1,n+1):\n",
    "        X2 = X[keep]\n",
    "        X_valid2 = X_valid[keep]\n",
    "        print(f\"\\nNum features = {len(keep)}\")\n",
    "        rf2, _, rmsle, _ = test_valid(X2, y, X_valid2, y_valid,\n",
    "                                     max_features=.3, min_samples_leaf=2)\n",
    "        if rmsle < min_rmsle:\n",
    "            min_rmsle = rmsle\n",
    "            best_features = keep\n",
    "        I2 = importances(rf2, X_valid2, y_valid) # recompute since collinear\n",
    "        features = list(I2.index)\n",
    "        keep = features[0:int(len(features)*(1-drop))]\n",
    "\n",
    "    return min_rmsle, best_features"
   ]
  },
  {
   "cell_type": "code",
   "execution_count": 296,
   "metadata": {
    "ExecuteTime": {
     "end_time": "2019-12-13T02:41:11.454630Z",
     "start_time": "2019-12-13T02:39:54.440008Z"
    },
    "scrolled": true
   },
   "outputs": [
    {
     "name": "stdout",
     "output_type": "stream",
     "text": [
      "OOB R^2 0.64003 using 1,472,324 tree nodes 34.0 median tree height\n",
      "Validation R^2 0.65490, RMSLE 0.37522, MAE $42\n",
      "\n",
      "Num features = 23\n",
      "OOB R^2 0.64017 using 4,180,724 tree nodes 39.0 median tree height\n",
      "Validation R^2 0.65405, RMSLE 0.37568, MAE $42\n",
      "\n",
      "Num features = 20\n",
      "OOB R^2 0.64005 using 4,178,988 tree nodes 39.0 median tree height\n",
      "Validation R^2 0.65676, RMSLE 0.37420, MAE $42\n",
      "\n",
      "Num features = 18\n",
      "OOB R^2 0.64089 using 4,178,000 tree nodes 38.0 median tree height\n",
      "Validation R^2 0.65609, RMSLE 0.37457, MAE $42\n",
      "\n",
      "Num features = 16\n",
      "OOB R^2 0.64125 using 4,176,790 tree nodes 38.0 median tree height\n",
      "Validation R^2 0.65460, RMSLE 0.37538, MAE $42\n",
      "\n",
      "Num features = 14\n",
      "OOB R^2 0.63930 using 4,177,246 tree nodes 39.0 median tree height\n",
      "Validation R^2 0.65318, RMSLE 0.37615, MAE $42\n",
      "\n",
      "Num features = 12\n",
      "OOB R^2 0.63205 using 4,179,860 tree nodes 38.0 median tree height\n",
      "Validation R^2 0.64513, RMSLE 0.38049, MAE $43\n",
      "\n",
      "Num features = 10\n",
      "OOB R^2 0.61874 using 4,177,184 tree nodes 38.0 median tree height\n",
      "Validation R^2 0.63256, RMSLE 0.38717, MAE $43\n",
      "\n",
      "Num features = 9\n",
      "OOB R^2 0.61767 using 4,105,368 tree nodes 38.0 median tree height\n",
      "Validation R^2 0.63211, RMSLE 0.38741, MAE $43\n",
      "\n",
      "Num features = 8\n",
      "OOB R^2 0.61830 using 4,075,966 tree nodes 38.0 median tree height\n",
      "Validation R^2 0.63388, RMSLE 0.38648, MAE $43\n",
      "20 features is best:\n",
      "['room_type', 'availability_365', 'hells', 'minimum_nights', 'Wvillage', 'Evillage', 'LowerEast', 'Prospect Park', 'UpperEast', 'Crown Heights', 'number_of_reviews', 'host_id', 'calculated_host_listings_count', 'host_count', 'reviews_per_month', 'reviews_per_month_na', 'brooklynheights', 'ParkSlope', 'neighbourhood', 'astoria']\n"
     ]
    }
   ],
   "source": [
    "min_mae, best_features = select_features(X_train, y_train, X_valid, y_valid, drop=0.10)\n",
    "print(f\"{len(best_features)} features is best:\")\n",
    "print(best_features)"
   ]
  },
  {
   "cell_type": "code",
   "execution_count": 421,
   "metadata": {
    "ExecuteTime": {
     "end_time": "2019-12-13T02:44:43.939049Z",
     "start_time": "2019-12-13T02:44:43.923971Z"
    }
   },
   "outputs": [
    {
     "data": {
      "text/plain": [
       "((38152, 20), (9539, 20))"
      ]
     },
     "execution_count": 421,
     "metadata": {},
     "output_type": "execute_result"
    }
   ],
   "source": [
    "X_train = X_train[best_features]\n",
    "X_valid = X_valid[best_features]\n",
    "X_train.shape, X_valid.shape"
   ]
  },
  {
   "cell_type": "code",
   "execution_count": 422,
   "metadata": {
    "ExecuteTime": {
     "end_time": "2019-12-13T02:46:33.146788Z",
     "start_time": "2019-12-13T02:46:28.720189Z"
    }
   },
   "outputs": [
    {
     "name": "stdout",
     "output_type": "stream",
     "text": [
      "OOB R^2 0.64036 using 1,471,230 tree nodes 33.0 median tree height\n",
      "Validation R^2 0.65533, RMSLE 0.37498, MAE $42\n"
     ]
    }
   ],
   "source": [
    "m, r2_score_best, rmsle_best, mae_best =  test_valid(X_train, y_train, X_valid, y_valid,\n",
    "                                                    n_estimators=150, max_features=0.5, \n",
    "                                                    min_samples_leaf=4)"
   ]
  },
  {
   "cell_type": "code",
   "execution_count": 424,
   "metadata": {
    "ExecuteTime": {
     "end_time": "2019-12-13T02:53:13.377126Z",
     "start_time": "2019-12-13T02:53:13.270004Z"
    },
    "scrolled": true
   },
   "outputs": [
    {
     "name": "stdout",
     "output_type": "stream",
     "text": [
      "Average validation MAE $42\n",
      "$42 average error; 37.25% error\n"
     ]
    }
   ],
   "source": [
    "y_predicted = m.predict(X_valid)\n",
    "e = mean_absolute_error(np.exp(y_valid), np.exp(y_predicted))\n",
    "print(f\"Average validation MAE ${e:.0f}\")\n",
    "print(f\"${e:.0f} average error; {e*100.0/np.exp(y_valid.mean()):.2f}% error\")"
   ]
  },
  {
   "cell_type": "code",
   "execution_count": 425,
   "metadata": {
    "ExecuteTime": {
     "end_time": "2019-12-13T03:04:26.408359Z",
     "start_time": "2019-12-13T03:04:22.572483Z"
    }
   },
   "outputs": [
    {
     "data": {
      "text/plain": [
       "<matplotlib.axes._subplots.AxesSubplot at 0x7f7681ebd310>"
      ]
     },
     "execution_count": 425,
     "metadata": {},
     "output_type": "execute_result"
    },
    {
     "data": {
      "image/png": "[encoded data removed]",
      "text/plain": [
       "<Figure size 864x504 with 1 Axes>"
      ]
     },
     "metadata": {
      "needs_background": "light"
     },
     "output_type": "display_data"
    }
   ],
   "source": [
    "y_valid = y_valid.copy()\n",
    "y_valid = pd.DataFrame(y_valid)\n",
    "fi_permutation = importances(m, X_valid, y_valid)\n",
    "fi_permutation['Importance'] = fi_permutation[\"Importance\"]/fi_permutation[\"Importance\"].sum()\n",
    "fi_permutation = (fi_permutation\n",
    "                  .reset_index()\n",
    "                  .rename({'Feature':'cols', 'Importance':'imp'},axis=1))\n",
    "plot_fi(fi_permutation[:20], False, 'Permutation')"
   ]
  },
  {
   "cell_type": "markdown",
   "metadata": {
    "ExecuteTime": {
     "end_time": "2019-12-13T02:51:53.919790Z",
     "start_time": "2019-12-13T02:51:53.913858Z"
    },
    "variables": {
     "f'{(((37.28-50.89)/(1-50.89))*100):.2f}%'": "27.28%"
    }
   },
   "source": [
    "Alright this is a huge improvement from the start of this process.\n",
    "\n",
    "This is a {{f'{(((37.28-50.89)/(1-50.89))*100):.2f}%'}} relative accuracy bump from what we had above."
   ]
  },
  {
   "cell_type": "code",
   "execution_count": 429,
   "metadata": {},
   "outputs": [
    {
     "data": {
      "text/plain": [
       "array([ 63.18595228, 131.78602258,  59.65715911, 113.67916506,\n",
       "        89.82738886,  57.97158906, 135.27912633, 105.07688035,\n",
       "        56.65135766,  40.11787135])"
      ]
     },
     "execution_count": 429,
     "metadata": {},
     "output_type": "execute_result"
    }
   ],
   "source": [
    "np.exp(y_valid_pred[:10])"
   ]
  },
  {
   "cell_type": "code",
   "execution_count": 427,
   "metadata": {
    "ExecuteTime": {
     "end_time": "2019-12-13T03:19:14.800475Z",
     "start_time": "2019-12-13T03:19:14.498222Z"
    }
   },
   "outputs": [],
   "source": [
    "y_valid_pred = m.predict(X_valid)"
   ]
  },
  {
   "cell_type": "code",
   "execution_count": 426,
   "metadata": {
    "ExecuteTime": {
     "end_time": "2019-12-13T03:19:14.800475Z",
     "start_time": "2019-12-13T03:19:14.498222Z"
    }
   },
   "outputs": [
    {
     "name": "stdout",
     "output_type": "stream",
     "text": [
      "Model underpredicts by $12, 0.00101 log(dollars)\n"
     ]
    }
   ],
   "source": [
    "underprediction = np.mean(y_valid.values-y_valid_pred)\n",
    "dollars = np.mean(np.exp(y_valid.values)-np.exp(y_valid_pred))\n",
    "print(f\"Model underpredicts by ${dollars:.0f}, {underprediction:.5f} log(dollars)\")"
   ]
  },
  {
   "cell_type": "markdown",
   "metadata": {},
   "source": [
    "#### Let's Try and Adjust for Location and Room Type"
   ]
  },
  {
   "cell_type": "code",
   "execution_count": 369,
   "metadata": {
    "ExecuteTime": {
     "end_time": "2019-12-13T03:19:43.822308Z",
     "start_time": "2019-12-13T03:19:43.808681Z"
    }
   },
   "outputs": [],
   "source": [
    "P = df.groupby(['neighbourhood_group','room_type']).mean()\n",
    "P = P.reset_index().sort_values('room_type')[['neighbourhood_group','room_type','price']]"
   ]
  },
  {
   "cell_type": "code",
   "execution_count": 370,
   "metadata": {
    "ExecuteTime": {
     "end_time": "2019-12-13T03:19:44.856160Z",
     "start_time": "2019-12-13T03:19:44.844866Z"
    }
   },
   "outputs": [],
   "source": [
    "Manhattan = P.query(\"neighbourhood_group=='Manhattan'\").sort_values('room_type')\n",
    "Brooklyn = P.query(\"neighbourhood_group=='Brooklyn'\").sort_values('room_type')\n",
    "Queens = P.query(\"neighbourhood_group=='Queens'\").sort_values('room_type')\n",
    "Bronx = P.query(\"neighbourhood_group=='Bronx'\").sort_values('room_type')\n",
    "Staten_Island = P.query(\"neighbourhood_group=='Staten Island'\").sort_values('room_type')"
   ]
  },
  {
   "cell_type": "code",
   "execution_count": 371,
   "metadata": {
    "ExecuteTime": {
     "end_time": "2019-12-13T03:19:45.554313Z",
     "start_time": "2019-12-13T03:19:45.404833Z"
    }
   },
   "outputs": [
    {
     "data": {
      "text/plain": [
       "<matplotlib.legend.Legend at 0x7f767b1002d0>"
      ]
     },
     "execution_count": 371,
     "metadata": {},
     "output_type": "execute_result"
    },
    {
     "data": {
      "image/png": "[encoded data removed]",
      "text/plain": [
       "<Figure size 720x360 with 1 Axes>"
      ]
     },
     "metadata": {
      "needs_background": "light"
     },
     "output_type": "display_data"
    }
   ],
   "source": [
    "fig,ax = plt.subplots(figsize=(10,5))\n",
    "ax.plot(Manhattan['room_type'], Manhattan['price'], \"o-\", label=\"Manhattan\",\n",
    "        markersize=3, linewidth=1,\n",
    "        c=bookcolors['blue'])\n",
    "ax.plot(Brooklyn['room_type'], Brooklyn['price'], \"o-\", label=\"Brooklyn\",\n",
    "        markersize=3, linewidth=1,\n",
    "        c=bookcolors['orange'])\n",
    "ax.plot(Queens['room_type'], Queens['price'], \"o-\", label=\"Queens\",\n",
    "        markersize=3, linewidth=1,\n",
    "        c=bookcolors['crimson'])\n",
    "ax.plot(Bronx['room_type'], Bronx['price'], \"o-\", label=\"Bronx\",\n",
    "        markersize=3, linewidth=1,\n",
    "        c=bookcolors['purple'])\n",
    "ax.plot(Staten_Island['room_type'], Staten_Island['price'], \"o-\", label=\"Staten Island\",\n",
    "        markersize=3, linewidth=1,\n",
    "        c=bookcolors['babyblue'])\n",
    "ax.set_xlabel(\"Room Type\")\n",
    "ax.set_ylabel(\"Rent Price in ($US)\")\n",
    "plt.legend(loc=\"center right\", fontsize=\"small\", labelspacing=0)"
   ]
  },
  {
   "cell_type": "code",
   "execution_count": 372,
   "metadata": {
    "ExecuteTime": {
     "end_time": "2019-12-13T03:20:49.444037Z",
     "start_time": "2019-12-13T03:20:49.331847Z"
    }
   },
   "outputs": [
    {
     "name": "stdout",
     "output_type": "stream",
     "text": [
      "Adjusted-model validation R^2 0.65500, RMSLE 0.37516, MAE 42\n"
     ]
    }
   ],
   "source": [
    "y_valid_pred = m.predict(X_valid) + underprediction\n",
    "mae_best = mean_absolute_error(np.exp(y_valid), np.exp(y_valid_pred))\n",
    "rmsle_best = np.sqrt( mean_squared_error(y_valid, y_valid_pred) )\n",
    "r2_score_best = r2_score(y_valid, y_valid_pred)\n",
    "print(f\"Adjusted-model validation R^2 {r2_score_best:.5f}, RMSLE {rmsle_best:.5f}, MAE {mae_best:.0f}\")"
   ]
  },
  {
   "cell_type": "markdown",
   "metadata": {},
   "source": [
    "Interesting there was no improvement here. Being off by 12 dollars doesn't seem to be to bad and there are things that still can be done, but that is for when I am working for you guys full time and bringing in new methods of a attack. \n",
    "\n",
    "Things that I would like to bring in is using the embeddings from a NN to replace the categorical features to see if there is an improvement. Further investigation into the confidence of my predictions and look at where we are getting the predictions over and under estimated.\n",
    "\n",
    "Quickly before I model on I wanted to see want a decision tree would do against this data set because this will allow me to know if the boosting model is going to be performing well or will lead to unstable results. This isn't a full proof check, but is a good sanity check. "
   ]
  },
  {
   "cell_type": "code",
   "execution_count": 446,
   "metadata": {},
   "outputs": [
    {
     "name": "stdout",
     "output_type": "stream",
     "text": [
      "Training Acc: 1.0\n",
      "Validation Acc: 0.32347\n"
     ]
    }
   ],
   "source": [
    "#Sanity Check\n",
    "m = RandomForestRegressor(n_estimators=1, bootstrap=False, n_jobs=-1)\n",
    "m.fit(X_train, y_train)\n",
    "print(\"Training Acc:\", round(m.score(X_train, y_train),5)),\n",
    "print(\"Validation Acc:\", round(m.score(X_valid, y_valid), 5))"
   ]
  },
  {
   "cell_type": "code",
   "execution_count": 448,
   "metadata": {},
   "outputs": [
    {
     "name": "stdout",
     "output_type": "stream",
     "text": [
      "Training R2: 0.53821\n",
      "Validation R2: 0.54634\n"
     ]
    }
   ],
   "source": [
    "m = RandomForestRegressor(n_estimators=1, max_depth=3, bootstrap=False, n_jobs=-1)\n",
    "m.fit(X_train, y_train)\n",
    "print(\"Training R2:\", round(m.score(X_train, y_train),5)),\n",
    "print(\"Validation R2:\", round(m.score(X_valid, y_valid), 5))"
   ]
  },
  {
   "cell_type": "markdown",
   "metadata": {},
   "source": [
    "This is a tad bit concerning as the model seems to over fit badly with no regularization so this could lead to an under-performing model below and with limit time I am not going to be able to vet it enough, but wanted to show the boosting method here. "
   ]
  },
  {
   "cell_type": "markdown",
   "metadata": {},
   "source": [
    "## Xgboost Model "
   ]
  },
  {
   "cell_type": "markdown",
   "metadata": {},
   "source": [
    "**NOTE:** Will not be going into DL here to be able to compare the Tree-Based methods, but we can chat about this over an interview if you like what you see here. "
   ]
  },
  {
   "cell_type": "code",
   "execution_count": 373,
   "metadata": {
    "ExecuteTime": {
     "end_time": "2019-12-13T03:25:49.238160Z",
     "start_time": "2019-12-13T03:25:49.235917Z"
    }
   },
   "outputs": [],
   "source": [
    "import xgboost as xgb"
   ]
  },
  {
   "cell_type": "code",
   "execution_count": 374,
   "metadata": {
    "ExecuteTime": {
     "end_time": "2019-12-13T03:26:09.497893Z",
     "start_time": "2019-12-13T03:26:09.200794Z"
    }
   },
   "outputs": [],
   "source": [
    "#Redoing what was done above\n",
    "df = pd.read_pickle('tmp/clean_df')\n",
    "df.shape\n",
    "\n",
    "#First Level of Drops\n",
    "to_drop = ['id', 'name', 'host_name']\n",
    "\n",
    "df.drop(to_drop, axis=1, inplace=True)\n",
    "\n",
    "from sklearn.model_selection import train_test_split\n",
    "train, valid = train_test_split(df, test_size=0.2, random_state=21)\n",
    "# train.shape, valid.shape\n",
    "\n",
    "train_cats(train)\n",
    "\n",
    "X_train, y_train, nas, mapper = split_data(train, 'price', do_scale=True)\n",
    "X_train.shape, y_train.shape\n",
    "\n",
    "apply_cats(valid, train)\n",
    "\n",
    "X_valid, y_valid, _, _ = split_data(valid,'price', na_dict=nas, mapper=mapper, do_scale=True)\n",
    "X_valid.shape, y_valid.shape\n",
    "\n",
    "y_valid = np.log(y_valid + 1e-3)\n",
    "y_train = np.log(y_train + 1e-3)"
   ]
  },
  {
   "cell_type": "markdown",
   "metadata": {},
   "source": [
    "#### Hypertune"
   ]
  },
  {
   "cell_type": "code",
   "execution_count": 376,
   "metadata": {
    "ExecuteTime": {
     "end_time": "2019-12-13T03:28:54.519002Z",
     "start_time": "2019-12-13T03:28:54.516702Z"
    }
   },
   "outputs": [],
   "source": [
    "import warnings\n",
    "warnings.filterwarnings('ignore')\n",
    "from sklearn.model_selection import RandomizedSearchCV, GridSearchCV\n",
    "from sklearn.model_selection import StratifiedKFold"
   ]
  },
  {
   "cell_type": "code",
   "execution_count": 377,
   "metadata": {
    "ExecuteTime": {
     "end_time": "2019-12-13T03:28:55.985809Z",
     "start_time": "2019-12-13T03:28:55.982272Z"
    }
   },
   "outputs": [],
   "source": [
    "def timer(start_time=None):\n",
    "    if not start_time:\n",
    "        start_time = datetime.now()\n",
    "        return start_time\n",
    "    elif start_time:\n",
    "        thour, temp_sec = divmod((datetime.now() - start_time).total_seconds(), 3600)\n",
    "        tmin, tsec = divmod(temp_sec, 60)\n",
    "        print('\\n Time taken: %i hours %i minutes and %s seconds.' % (thour, tmin, round(tsec, 2)))"
   ]
  },
  {
   "cell_type": "code",
   "execution_count": 383,
   "metadata": {
    "ExecuteTime": {
     "end_time": "2019-12-13T03:35:24.224364Z",
     "start_time": "2019-12-13T03:35:24.220839Z"
    }
   },
   "outputs": [],
   "source": [
    "params = {\n",
    "        'min_child_weight': [1, 2, 5, 10],\n",
    "        'gamma': [0.5, 1, 2, 5],\n",
    "        'subsample': [0.6, 0.8, 1.0],\n",
    "        'colsample_bytree': [0.6, 0.8, 1.0],\n",
    "        'colsample_bylevel':[0.5, 0.6, 0.9],\n",
    "        'learning_rate':[0.1, 0.4, .01, 0.2],\n",
    "        'scale_pos_weight':[1, 0.8, 0.6, 0.3],\n",
    "        'max_depth': [3, 4, 5, 6, 10]\n",
    "        }"
   ]
  },
  {
   "cell_type": "code",
   "execution_count": 384,
   "metadata": {
    "ExecuteTime": {
     "end_time": "2019-12-13T03:35:25.001356Z",
     "start_time": "2019-12-13T03:35:24.993841Z"
    }
   },
   "outputs": [],
   "source": [
    "model = XGBRegressor(n_estimators=1000, silent=True, early_stopping_rounds = 150, n_jobs=-1)"
   ]
  },
  {
   "cell_type": "code",
   "execution_count": 437,
   "metadata": {
    "ExecuteTime": {
     "end_time": "2019-12-13T03:37:18.554793Z",
     "start_time": "2019-12-13T03:37:18.546352Z"
    }
   },
   "outputs": [],
   "source": [
    "folds = 3\n",
    "param_comb = 50\n",
    "\n",
    "random_search = RandomizedSearchCV(model, param_distributions=params, n_iter=param_comb,\n",
    "                                   scoring='r2', n_jobs=-1,verbose=3)"
   ]
  },
  {
   "cell_type": "code",
   "execution_count": 438,
   "metadata": {
    "ExecuteTime": {
     "end_time": "2019-12-13T03:47:02.542063Z",
     "start_time": "2019-12-13T03:37:19.065118Z"
    },
    "scrolled": true
   },
   "outputs": [
    {
     "name": "stdout",
     "output_type": "stream",
     "text": [
      "Fitting 3 folds for each of 50 candidates, totalling 150 fits\n"
     ]
    },
    {
     "name": "stderr",
     "output_type": "stream",
     "text": [
      "[Parallel(n_jobs=-1)]: Using backend LokyBackend with 12 concurrent workers.\n",
      "[Parallel(n_jobs=-1)]: Done   8 tasks      | elapsed:    5.7s\n",
      "[Parallel(n_jobs=-1)]: Done 104 tasks      | elapsed:   35.0s\n",
      "[Parallel(n_jobs=-1)]: Done 150 out of 150 | elapsed:   51.9s finished\n"
     ]
    },
    {
     "name": "stdout",
     "output_type": "stream",
     "text": [
      "[08:12:50] WARNING: /workspace/src/objective/regression_obj.cu:152: reg:linear is now deprecated in favor of reg:squarederror.\n"
     ]
    },
    {
     "data": {
      "text/plain": [
       "RandomizedSearchCV(cv='warn', error_score='raise-deprecating',\n",
       "                   estimator=XGBRegressor(base_score=0.5, booster='gbtree',\n",
       "                                          colsample_bylevel=0.5,\n",
       "                                          colsample_bynode=1,\n",
       "                                          colsample_bytree=1.0, gamma=0.5,\n",
       "                                          importance_type='gain',\n",
       "                                          learning_rate=0.01, max_delta_step=0,\n",
       "                                          max_depth=10, min_child_weight=1,\n",
       "                                          missing=None, n_estimators=100,\n",
       "                                          n_jobs=1, nthread=None,\n",
       "                                          objective='reg:line...\n",
       "                   param_distributions={'base_score': [0.5, 0.8],\n",
       "                                        'colsample_bylevel': [0.5, 0.6, 0.9],\n",
       "                                        'colsample_bytree': [0.6, 0.8, 1.0],\n",
       "                                        'gamma': [0.5, 1, 2, 5],\n",
       "                                        'learning_rate': [0.1, 0.4, 0.01, 0.2],\n",
       "                                        'max_depth': [3, 4, 5, 6, 10],\n",
       "                                        'min_child_weight': [1, 2, 5, 10],\n",
       "                                        'scale_pos_weight': [1, 0.8, 0.6, 0.3],\n",
       "                                        'subsample': [0.6, 0.8, 1.0]},\n",
       "                   pre_dispatch='2*n_jobs', random_state=None, refit=True,\n",
       "                   return_train_score=False, scoring='r2', verbose=3)"
      ]
     },
     "execution_count": 438,
     "metadata": {},
     "output_type": "execute_result"
    }
   ],
   "source": [
    "random_search.fit(X_train, y_train)"
   ]
  },
  {
   "cell_type": "code",
   "execution_count": 439,
   "metadata": {
    "ExecuteTime": {
     "end_time": "2019-12-13T03:47:55.321366Z",
     "start_time": "2019-12-13T03:47:55.315349Z"
    }
   },
   "outputs": [
    {
     "name": "stdout",
     "output_type": "stream",
     "text": [
      "\n",
      " All results:\n",
      "\n",
      " Best estimator:\n",
      "XGBRegressor(base_score=0.5, booster='gbtree', colsample_bylevel=0.9,\n",
      "             colsample_bynode=1, colsample_bytree=0.6, gamma=0.5,\n",
      "             importance_type='gain', learning_rate=0.1, max_delta_step=0,\n",
      "             max_depth=10, min_child_weight=5, missing=None, n_estimators=100,\n",
      "             n_jobs=1, nthread=None, objective='reg:linear', random_state=0,\n",
      "             reg_alpha=0, reg_lambda=1, scale_pos_weight=0.3, seed=None,\n",
      "             silent=None, subsample=0.6, verbosity=1)\n",
      "\n",
      " Best normalized gini score for 3-fold search with 50 parameter combinations:\n",
      "\n",
      " Best hyperparameters:\n",
      "{'subsample': 0.6, 'scale_pos_weight': 0.3, 'min_child_weight': 5, 'max_depth': 10, 'learning_rate': 0.1, 'gamma': 0.5, 'colsample_bytree': 0.6, 'colsample_bylevel': 0.9, 'base_score': 0.5}\n"
     ]
    }
   ],
   "source": [
    "print('\\n All results:')\n",
    "# print(random_search.cv_results_)\n",
    "print('\\n Best estimator:')\n",
    "print(random_search.best_estimator_)\n",
    "print('\\n Best normalized gini score for %d-fold search with %d parameter combinations:' % (folds, param_comb))\n",
    "#print(random_search.best_score)\n",
    "print('\\n Best hyperparameters:')\n",
    "print(random_search.best_params_)"
   ]
  },
  {
   "cell_type": "markdown",
   "metadata": {},
   "source": [
    "#### Modeling"
   ]
  },
  {
   "cell_type": "code",
   "execution_count": 449,
   "metadata": {
    "ExecuteTime": {
     "end_time": "2019-12-13T03:53:47.987958Z",
     "start_time": "2019-12-13T03:53:41.471663Z"
    },
    "scrolled": true
   },
   "outputs": [
    {
     "name": "stdout",
     "output_type": "stream",
     "text": [
      "[09:09:24] WARNING: /workspace/src/objective/regression_obj.cu:152: reg:linear is now deprecated in favor of reg:squarederror.\n",
      "[0]\tvalidation_0-rmse:4.2207\tvalidation_1-rmse:4.23186\n",
      "Multiple eval metrics have been passed: 'validation_1-rmse' will be used for early stopping.\n",
      "\n",
      "Will train until validation_1-rmse hasn't improved in 150 rounds.\n",
      "[1]\tvalidation_0-rmse:4.17894\tvalidation_1-rmse:4.19\n",
      "[2]\tvalidation_0-rmse:4.1377\tvalidation_1-rmse:4.1487\n",
      "[3]\tvalidation_0-rmse:4.09673\tvalidation_1-rmse:4.10767\n",
      "[4]\tvalidation_0-rmse:4.05624\tvalidation_1-rmse:4.0671\n",
      "[5]\tvalidation_0-rmse:4.01614\tvalidation_1-rmse:4.02693\n",
      "[6]\tvalidation_0-rmse:3.97645\tvalidation_1-rmse:3.98716\n",
      "[7]\tvalidation_0-rmse:3.93715\tvalidation_1-rmse:3.94776\n",
      "[8]\tvalidation_0-rmse:3.89826\tvalidation_1-rmse:3.90881\n",
      "[9]\tvalidation_0-rmse:3.85972\tvalidation_1-rmse:3.87025\n",
      "[10]\tvalidation_0-rmse:3.82164\tvalidation_1-rmse:3.83205\n",
      "[11]\tvalidation_0-rmse:3.78386\tvalidation_1-rmse:3.79423\n",
      "[12]\tvalidation_0-rmse:3.74652\tvalidation_1-rmse:3.75678\n",
      "[13]\tvalidation_0-rmse:3.70952\tvalidation_1-rmse:3.71973\n",
      "[14]\tvalidation_0-rmse:3.67294\tvalidation_1-rmse:3.68312\n",
      "[15]\tvalidation_0-rmse:3.63672\tvalidation_1-rmse:3.64682\n",
      "[16]\tvalidation_0-rmse:3.60086\tvalidation_1-rmse:3.61089\n",
      "[17]\tvalidation_0-rmse:3.56533\tvalidation_1-rmse:3.57531\n",
      "[18]\tvalidation_0-rmse:3.53014\tvalidation_1-rmse:3.54003\n",
      "[19]\tvalidation_0-rmse:3.49538\tvalidation_1-rmse:3.50521\n",
      "[20]\tvalidation_0-rmse:3.46097\tvalidation_1-rmse:3.47072\n",
      "[21]\tvalidation_0-rmse:3.42686\tvalidation_1-rmse:3.43657\n",
      "[22]\tvalidation_0-rmse:3.3931\tvalidation_1-rmse:3.40275\n",
      "[23]\tvalidation_0-rmse:3.35969\tvalidation_1-rmse:3.36926\n",
      "[24]\tvalidation_0-rmse:3.32661\tvalidation_1-rmse:3.33612\n",
      "[25]\tvalidation_0-rmse:3.29392\tvalidation_1-rmse:3.30337\n",
      "[26]\tvalidation_0-rmse:3.26152\tvalidation_1-rmse:3.27092\n",
      "[27]\tvalidation_0-rmse:3.22943\tvalidation_1-rmse:3.23878\n",
      "[28]\tvalidation_0-rmse:3.1977\tvalidation_1-rmse:3.20697\n",
      "[29]\tvalidation_0-rmse:3.16627\tvalidation_1-rmse:3.17549\n",
      "[30]\tvalidation_0-rmse:3.13518\tvalidation_1-rmse:3.14434\n",
      "[31]\tvalidation_0-rmse:3.10437\tvalidation_1-rmse:3.11348\n",
      "[32]\tvalidation_0-rmse:3.07387\tvalidation_1-rmse:3.08293\n",
      "[33]\tvalidation_0-rmse:3.0437\tvalidation_1-rmse:3.05267\n",
      "[34]\tvalidation_0-rmse:3.01383\tvalidation_1-rmse:3.02276\n",
      "[35]\tvalidation_0-rmse:2.98428\tvalidation_1-rmse:2.99315\n",
      "[36]\tvalidation_0-rmse:2.95505\tvalidation_1-rmse:2.96388\n",
      "[37]\tvalidation_0-rmse:2.92609\tvalidation_1-rmse:2.93488\n",
      "[38]\tvalidation_0-rmse:2.89742\tvalidation_1-rmse:2.90615\n",
      "[39]\tvalidation_0-rmse:2.86904\tvalidation_1-rmse:2.87771\n",
      "[40]\tvalidation_0-rmse:2.84092\tvalidation_1-rmse:2.84956\n",
      "[41]\tvalidation_0-rmse:2.81319\tvalidation_1-rmse:2.82179\n",
      "[42]\tvalidation_0-rmse:2.78567\tvalidation_1-rmse:2.79421\n",
      "[43]\tvalidation_0-rmse:2.75848\tvalidation_1-rmse:2.76698\n",
      "[44]\tvalidation_0-rmse:2.73153\tvalidation_1-rmse:2.74\n",
      "[45]\tvalidation_0-rmse:2.70484\tvalidation_1-rmse:2.71326\n",
      "[46]\tvalidation_0-rmse:2.67841\tvalidation_1-rmse:2.68678\n",
      "[47]\tvalidation_0-rmse:2.65227\tvalidation_1-rmse:2.6606\n",
      "[48]\tvalidation_0-rmse:2.62639\tvalidation_1-rmse:2.63467\n",
      "[49]\tvalidation_0-rmse:2.6008\tvalidation_1-rmse:2.60902\n",
      "[50]\tvalidation_0-rmse:2.57544\tvalidation_1-rmse:2.58363\n",
      "[51]\tvalidation_0-rmse:2.55035\tvalidation_1-rmse:2.55849\n",
      "[52]\tvalidation_0-rmse:2.5255\tvalidation_1-rmse:2.53359\n",
      "[53]\tvalidation_0-rmse:2.50092\tvalidation_1-rmse:2.50899\n",
      "[54]\tvalidation_0-rmse:2.4766\tvalidation_1-rmse:2.4846\n",
      "[55]\tvalidation_0-rmse:2.45253\tvalidation_1-rmse:2.46049\n",
      "[56]\tvalidation_0-rmse:2.42868\tvalidation_1-rmse:2.43663\n",
      "[57]\tvalidation_0-rmse:2.40508\tvalidation_1-rmse:2.41299\n",
      "[58]\tvalidation_0-rmse:2.38171\tvalidation_1-rmse:2.38959\n",
      "[59]\tvalidation_0-rmse:2.35863\tvalidation_1-rmse:2.36647\n",
      "[60]\tvalidation_0-rmse:2.33578\tvalidation_1-rmse:2.34359\n",
      "[61]\tvalidation_0-rmse:2.31314\tvalidation_1-rmse:2.32089\n",
      "[62]\tvalidation_0-rmse:2.29072\tvalidation_1-rmse:2.29846\n",
      "[63]\tvalidation_0-rmse:2.26858\tvalidation_1-rmse:2.27627\n",
      "[64]\tvalidation_0-rmse:2.24661\tvalidation_1-rmse:2.25428\n",
      "[65]\tvalidation_0-rmse:2.22489\tvalidation_1-rmse:2.2325\n",
      "[66]\tvalidation_0-rmse:2.20338\tvalidation_1-rmse:2.21097\n",
      "[67]\tvalidation_0-rmse:2.18209\tvalidation_1-rmse:2.18965\n",
      "[68]\tvalidation_0-rmse:2.16105\tvalidation_1-rmse:2.16857\n",
      "[69]\tvalidation_0-rmse:2.14021\tvalidation_1-rmse:2.1477\n",
      "[70]\tvalidation_0-rmse:2.11958\tvalidation_1-rmse:2.12704\n",
      "[71]\tvalidation_0-rmse:2.09913\tvalidation_1-rmse:2.10658\n",
      "[72]\tvalidation_0-rmse:2.07894\tvalidation_1-rmse:2.08634\n",
      "[73]\tvalidation_0-rmse:2.05893\tvalidation_1-rmse:2.06631\n",
      "[74]\tvalidation_0-rmse:2.03912\tvalidation_1-rmse:2.04646\n",
      "[75]\tvalidation_0-rmse:2.01954\tvalidation_1-rmse:2.02686\n",
      "[76]\tvalidation_0-rmse:2.00014\tvalidation_1-rmse:2.00743\n",
      "[77]\tvalidation_0-rmse:1.98094\tvalidation_1-rmse:1.98819\n",
      "[78]\tvalidation_0-rmse:1.96195\tvalidation_1-rmse:1.96917\n",
      "[79]\tvalidation_0-rmse:1.94314\tvalidation_1-rmse:1.95035\n",
      "[80]\tvalidation_0-rmse:1.92454\tvalidation_1-rmse:1.93173\n",
      "[81]\tvalidation_0-rmse:1.90613\tvalidation_1-rmse:1.91329\n",
      "[82]\tvalidation_0-rmse:1.88789\tvalidation_1-rmse:1.89502\n",
      "[83]\tvalidation_0-rmse:1.86986\tvalidation_1-rmse:1.87699\n",
      "[84]\tvalidation_0-rmse:1.85202\tvalidation_1-rmse:1.85912\n",
      "[85]\tvalidation_0-rmse:1.83439\tvalidation_1-rmse:1.84146\n",
      "[86]\tvalidation_0-rmse:1.81692\tvalidation_1-rmse:1.82397\n",
      "[87]\tvalidation_0-rmse:1.79962\tvalidation_1-rmse:1.80664\n",
      "[88]\tvalidation_0-rmse:1.78252\tvalidation_1-rmse:1.78952\n",
      "[89]\tvalidation_0-rmse:1.7656\tvalidation_1-rmse:1.77258\n",
      "[90]\tvalidation_0-rmse:1.74883\tvalidation_1-rmse:1.75578\n",
      "[91]\tvalidation_0-rmse:1.73225\tvalidation_1-rmse:1.73918\n",
      "[92]\tvalidation_0-rmse:1.71587\tvalidation_1-rmse:1.72279\n",
      "[93]\tvalidation_0-rmse:1.69967\tvalidation_1-rmse:1.70658\n",
      "[94]\tvalidation_0-rmse:1.68361\tvalidation_1-rmse:1.69049\n",
      "[95]\tvalidation_0-rmse:1.66772\tvalidation_1-rmse:1.6746\n",
      "[96]\tvalidation_0-rmse:1.65198\tvalidation_1-rmse:1.65883\n",
      "[97]\tvalidation_0-rmse:1.63641\tvalidation_1-rmse:1.64324\n",
      "[98]\tvalidation_0-rmse:1.621\tvalidation_1-rmse:1.6278\n",
      "[99]\tvalidation_0-rmse:1.60576\tvalidation_1-rmse:1.61255\n",
      "CPU times: user 5.67 s, sys: 28.2 ms, total: 5.7 s\n",
      "Wall time: 5.66 s\n"
     ]
    },
    {
     "data": {
      "text/plain": [
       "XGBRegressor(base_score=0.5, booster='gbtree', colsample_bylevel=0.5,\n",
       "             colsample_bynode=1, colsample_bytree=1.0, gamma=0.5,\n",
       "             importance_type='gain', learning_rate=0.01, max_delta_step=0,\n",
       "             max_depth=10, min_child_weight=1, missing=None, n_estimators=100,\n",
       "             n_jobs=1, nthread=None, objective='reg:linear', random_state=0,\n",
       "             reg_alpha=0, reg_lambda=1, scale_pos_weight=1, seed=None,\n",
       "             silent=None, subsample=0.8, verbosity=1)"
      ]
     },
     "execution_count": 449,
     "metadata": {},
     "output_type": "execute_result"
    }
   ],
   "source": [
    "model = xgb.XGBRegressor(subsample= 0.8, min_child_weight= 1, max_depth= 10,\n",
    "                         learning_rate= 0.01, gamma= 0.5, colsample_bytree= 1.0,\n",
    "                         colsample_bylevel= 0.5)\n",
    "\n",
    "eval_set  = [(X_train,y_train), (X_valid,y_valid)]\n",
    "%time model.fit(X_train, y_train, eval_set= eval_set, eval_metric ='rmse', early_stopping_rounds = 150)"
   ]
  },
  {
   "cell_type": "code",
   "execution_count": 450,
   "metadata": {},
   "outputs": [],
   "source": [
    "y_valid_pred = model.predict(X_valid)"
   ]
  },
  {
   "cell_type": "code",
   "execution_count": 455,
   "metadata": {
    "scrolled": true
   },
   "outputs": [
    {
     "data": {
      "text/plain": [
       "array([18.116695, 29.870285, 16.051016, 27.64386 , 20.55803 , 17.228846,\n",
       "       29.152287, 26.199553, 15.989456, 14.164724], dtype=float32)"
      ]
     },
     "execution_count": 455,
     "metadata": {},
     "output_type": "execute_result"
    }
   ],
   "source": [
    "np.exp(y_valid_pred[:10])"
   ]
  },
  {
   "cell_type": "code",
   "execution_count": 456,
   "metadata": {},
   "outputs": [
    {
     "data": {
      "text/plain": [
       "array([[ 70.001],\n",
       "       [ 85.001],\n",
       "       [ 75.001],\n",
       "       [175.001],\n",
       "       [ 80.001],\n",
       "       [ 55.001],\n",
       "       [149.001],\n",
       "       [ 90.001],\n",
       "       [ 59.001],\n",
       "       [ 37.001]])"
      ]
     },
     "execution_count": 456,
     "metadata": {},
     "output_type": "execute_result"
    }
   ],
   "source": [
    "np.exp(y_valid[:10].values)"
   ]
  },
  {
   "cell_type": "code",
   "execution_count": 457,
   "metadata": {},
   "outputs": [
    {
     "name": "stdout",
     "output_type": "stream",
     "text": [
      "Model underpredicts by $115, 1.55057 log(dollars)\n"
     ]
    }
   ],
   "source": [
    "underprediction = np.mean(y_valid.values-y_valid_pred)\n",
    "dollars = np.mean(np.exp(y_valid.values)-np.exp(y_valid_pred))\n",
    "print(f\"Model underpredicts by ${dollars:.0f}, {underprediction:.5f} log(dollars)\")"
   ]
  },
  {
   "cell_type": "markdown",
   "metadata": {},
   "source": [
    "This is all the time I have for this I have to go into work and catch a flight. I was hoping that this would lead to some better success, but it didn't. I am sure with some tweaks I would be able to find a way to make boosting work better for this problem set. "
   ]
  },
  {
   "cell_type": "markdown",
   "metadata": {},
   "source": [
    "## Questions:"
   ]
  },
  {
   "cell_type": "markdown",
   "metadata": {},
   "source": [
    "**1. Please describe the central limit theorem and provide an example.**\n",
    "    \n",
    "    In statistics, the central limit theorem states that if the data is independently sampled from any distribution and the sample size is larger than 30, then the sample mean will always be normally distributed. This is used when sampling the whole population is not possible and only care about the mean and the variance for the statistical analysis. \n",
    "\n",
    "**1. Describe a classification algorithm that you have previously put into production and why it\n",
    "was chosen.**\n",
    "\n",
    "    \n",
    "    My last model that was put into production is the model that I am most proud of because it was the first time that I was able to productionalize a deep learning model. This model was chosen because of the complicity of text data. This model of choice was pre-trained LM on the Wiki-101 word corpus and then put into the AWD-LSTM model architecture to classify text verbatim. The reason this was chosen because traditional  BOW and TF-IDF didn't have much success when keywords weren't used. The deep learning model is able to take advantage of the context of a sentence because sentence-piece tokenization was used. It was great to be able to use this model, but we did keep the traditional models in production because of keywords like \"apple pay\" lead to excellent prediction accuracy. The reason we choose to use multiple models in this project was because traditional models have a place in production and would outperform the NN when key words were available. \n",
    "\n",
    "**1. Describe the difference between bagging and boosting methods, and when to use one or\n",
    "the other.**\n",
    "    \n",
    "    Bagging is an ensemble that draws samples with replacement. Each of the classifiers selects a number of samples for the dataset and trains a classifier and then repeats this process over and over again. Typically bagging is going to out perform when the classifier is sensitive to noise (variation) in the training set. Boosting incrementally builds upon a model that is first learned on the entire data set and then begins to use the weakly learned classifiers to build a stronger classifier. \n",
    "    \n",
    "    The main difference between the modeling types is that boosting builds new models to help outperform where the last model failed and weighs the data to help edge cases be determined. Also, boosting will do an averaging of each learner, but will then weight each learner based on performance. The last thing to mentions is that boosting will attempt to reduce bias in the modeling process, but this is the key to over-fitting problem boosting can have.\n",
    "\n",
    "**1. Describe 2 regularization techniques for a random forest model**\n",
    "\n",
    "    Below are two strong regularization techniques that you had seen above in the analysis used. \n",
    "\n",
    "    **min_samples_leaf**\n",
    "\n",
    "    Another way to reduce over-fitting is to grow our trees less deeply. We do this by specifying (with min_samples_leaf) that we require some minimum number of rows in every leaf node. Two benefit are less decision rules for each leaf node, and a simpler models should generalize better.\n",
    "\n",
    "    **max_features** \n",
    "\n",
    "    Less correlated trees are the better. If every tree used the same one to start the split at then we would miss the interaction between variables. Variation of the tree at every single split point we take random samples of columns. We are not longer looking at every single option, but rather a subset of the columns. \n",
    "\n",
    "    Are there more yes, but in my practice so far these are the features that lead to the most success in tunning for RDF"
   ]
  }
 ],
 "metadata": {
  "kernelspec": {
   "display_name": "Python 3",
   "language": "python",
   "name": "python3"
  },
  "language_info": {
   "codemirror_mode": {
    "name": "ipython",
    "version": 3
   },
   "file_extension": ".py",
   "mimetype": "text/x-python",
   "name": "python",
   "nbconvert_exporter": "python",
   "pygments_lexer": "ipython3",
   "version": "3.7.5"
  },
  "toc": {
   "base_numbering": 1,
   "nav_menu": {},
   "number_sections": true,
   "sideBar": true,
   "skip_h1_title": false,
   "title_cell": "Table of Contents",
   "title_sidebar": "Contents",
   "toc_cell": false,
   "toc_position": {},
   "toc_section_display": true,
   "toc_window_display": false
  }
 },
 "nbformat": 4,
 "nbformat_minor": 2
}
